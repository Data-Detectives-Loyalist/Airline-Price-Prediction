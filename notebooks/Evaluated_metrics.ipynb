{
 "cells": [
  {
   "cell_type": "code",
   "execution_count": 1,
   "id": "d668b362-2799-4098-aea9-a7f98cc906e1",
   "metadata": {},
   "outputs": [],
   "source": [
    "import pandas as pd\n",
    "import numpy as np\n",
    "from sklearn.preprocessing import LabelEncoder\n",
    "from sklearn.tree import DecisionTreeRegressor\n",
    "from sklearn.model_selection import train_test_split, cross_val_score\n",
    "from sklearn.ensemble import RandomForestRegressor\n",
    "from sklearn.metrics import mean_squared_error, r2_score\n",
    "import matplotlib.pyplot as plt\n",
    "import seaborn as sns\n",
    "from scipy import stats"
   ]
  },
  {
   "cell_type": "code",
   "execution_count": 2,
   "id": "bdb8b376-0d69-4863-821f-79f6cf90b5f5",
   "metadata": {},
   "outputs": [],
   "source": [
    "# Load the dataset\n",
    "df = pd.read_csv('AirlineData.csv')\n"
   ]
  },
  {
   "cell_type": "code",
   "execution_count": 3,
   "id": "0e3db053-ed28-4147-baa8-54183214ffd0",
   "metadata": {},
   "outputs": [
    {
     "data": {
      "text/html": [
       "<div>\n",
       "<style scoped>\n",
       "    .dataframe tbody tr th:only-of-type {\n",
       "        vertical-align: middle;\n",
       "    }\n",
       "\n",
       "    .dataframe tbody tr th {\n",
       "        vertical-align: top;\n",
       "    }\n",
       "\n",
       "    .dataframe thead th {\n",
       "        text-align: right;\n",
       "    }\n",
       "</style>\n",
       "<table border=\"1\" class=\"dataframe\">\n",
       "  <thead>\n",
       "    <tr style=\"text-align: right;\">\n",
       "      <th></th>\n",
       "      <th>Airline</th>\n",
       "      <th>Source</th>\n",
       "      <th>Destination</th>\n",
       "      <th>Number of Stops</th>\n",
       "      <th>Class</th>\n",
       "      <th>Date</th>\n",
       "      <th>Total_Stopover_Time</th>\n",
       "      <th>price in CAD</th>\n",
       "      <th>days_left</th>\n",
       "      <th>Departure_24hr</th>\n",
       "      <th>Arrival_24hr</th>\n",
       "      <th>Arrival_Day_Offset</th>\n",
       "    </tr>\n",
       "  </thead>\n",
       "  <tbody>\n",
       "    <tr>\n",
       "      <th>0</th>\n",
       "      <td>Etihad Airways</td>\n",
       "      <td>Toronto Pearson Intl</td>\n",
       "      <td>Bengaluru Intl</td>\n",
       "      <td>1</td>\n",
       "      <td>Economy Class</td>\n",
       "      <td>2024-06-02</td>\n",
       "      <td>130</td>\n",
       "      <td>2340.0</td>\n",
       "      <td>1</td>\n",
       "      <td>22:10</td>\n",
       "      <td>03:05</td>\n",
       "      <td>2</td>\n",
       "    </tr>\n",
       "    <tr>\n",
       "      <th>1</th>\n",
       "      <td>Delta</td>\n",
       "      <td>Toronto Pearson Intl</td>\n",
       "      <td>Bengaluru Intl</td>\n",
       "      <td>1</td>\n",
       "      <td>Economy Class</td>\n",
       "      <td>2024-06-02</td>\n",
       "      <td>1335</td>\n",
       "      <td>1347.0</td>\n",
       "      <td>1</td>\n",
       "      <td>22:40</td>\n",
       "      <td>23:15</td>\n",
       "      <td>2</td>\n",
       "    </tr>\n",
       "    <tr>\n",
       "      <th>2</th>\n",
       "      <td>Multiple Airlines</td>\n",
       "      <td>Toronto Pearson Intl</td>\n",
       "      <td>Bengaluru Intl</td>\n",
       "      <td>2</td>\n",
       "      <td>Economy Class</td>\n",
       "      <td>2024-06-02</td>\n",
       "      <td>420</td>\n",
       "      <td>1934.0</td>\n",
       "      <td>1</td>\n",
       "      <td>21:20</td>\n",
       "      <td>07:45</td>\n",
       "      <td>2</td>\n",
       "    </tr>\n",
       "    <tr>\n",
       "      <th>3</th>\n",
       "      <td>Multiple Airlines</td>\n",
       "      <td>Toronto Pearson Intl</td>\n",
       "      <td>Bengaluru Intl</td>\n",
       "      <td>2</td>\n",
       "      <td>Economy Class</td>\n",
       "      <td>2024-06-02</td>\n",
       "      <td>380</td>\n",
       "      <td>2291.0</td>\n",
       "      <td>1</td>\n",
       "      <td>21:20</td>\n",
       "      <td>06:50</td>\n",
       "      <td>2</td>\n",
       "    </tr>\n",
       "    <tr>\n",
       "      <th>4</th>\n",
       "      <td>Multiple Airlines</td>\n",
       "      <td>Toronto Pearson Intl</td>\n",
       "      <td>Bengaluru Intl</td>\n",
       "      <td>2</td>\n",
       "      <td>Economy Class</td>\n",
       "      <td>2024-06-02</td>\n",
       "      <td>175</td>\n",
       "      <td>2661.0</td>\n",
       "      <td>1</td>\n",
       "      <td>23:40</td>\n",
       "      <td>06:25</td>\n",
       "      <td>2</td>\n",
       "    </tr>\n",
       "  </tbody>\n",
       "</table>\n",
       "</div>"
      ],
      "text/plain": [
       "             Airline                Source     Destination  Number of Stops  \\\n",
       "0     Etihad Airways  Toronto Pearson Intl  Bengaluru Intl                1   \n",
       "1              Delta  Toronto Pearson Intl  Bengaluru Intl                1   \n",
       "2  Multiple Airlines  Toronto Pearson Intl  Bengaluru Intl                2   \n",
       "3  Multiple Airlines  Toronto Pearson Intl  Bengaluru Intl                2   \n",
       "4  Multiple Airlines  Toronto Pearson Intl  Bengaluru Intl                2   \n",
       "\n",
       "           Class        Date  Total_Stopover_Time  price in CAD  days_left  \\\n",
       "0  Economy Class  2024-06-02                  130        2340.0          1   \n",
       "1  Economy Class  2024-06-02                 1335        1347.0          1   \n",
       "2  Economy Class  2024-06-02                  420        1934.0          1   \n",
       "3  Economy Class  2024-06-02                  380        2291.0          1   \n",
       "4  Economy Class  2024-06-02                  175        2661.0          1   \n",
       "\n",
       "  Departure_24hr Arrival_24hr  Arrival_Day_Offset  \n",
       "0          22:10        03:05                   2  \n",
       "1          22:40        23:15                   2  \n",
       "2          21:20        07:45                   2  \n",
       "3          21:20        06:50                   2  \n",
       "4          23:40        06:25                   2  "
      ]
     },
     "execution_count": 3,
     "metadata": {},
     "output_type": "execute_result"
    }
   ],
   "source": [
    "df.head()"
   ]
  },
  {
   "cell_type": "code",
   "execution_count": 4,
   "id": "05e04929-6ee0-41c9-b4f4-478efec67e71",
   "metadata": {},
   "outputs": [
    {
     "data": {
      "text/html": [
       "<div>\n",
       "<style scoped>\n",
       "    .dataframe tbody tr th:only-of-type {\n",
       "        vertical-align: middle;\n",
       "    }\n",
       "\n",
       "    .dataframe tbody tr th {\n",
       "        vertical-align: top;\n",
       "    }\n",
       "\n",
       "    .dataframe thead th {\n",
       "        text-align: right;\n",
       "    }\n",
       "</style>\n",
       "<table border=\"1\" class=\"dataframe\">\n",
       "  <thead>\n",
       "    <tr style=\"text-align: right;\">\n",
       "      <th></th>\n",
       "      <th>Number of Stops</th>\n",
       "      <th>Total_Stopover_Time</th>\n",
       "      <th>price in CAD</th>\n",
       "      <th>days_left</th>\n",
       "      <th>Arrival_Day_Offset</th>\n",
       "    </tr>\n",
       "  </thead>\n",
       "  <tbody>\n",
       "    <tr>\n",
       "      <th>count</th>\n",
       "      <td>384663.000000</td>\n",
       "      <td>384663.000000</td>\n",
       "      <td>384663.000000</td>\n",
       "      <td>384663.000000</td>\n",
       "      <td>384663.000000</td>\n",
       "    </tr>\n",
       "    <tr>\n",
       "      <th>mean</th>\n",
       "      <td>1.752069</td>\n",
       "      <td>427.273003</td>\n",
       "      <td>3289.519104</td>\n",
       "      <td>26.192459</td>\n",
       "      <td>1.257030</td>\n",
       "    </tr>\n",
       "    <tr>\n",
       "      <th>std</th>\n",
       "      <td>0.593852</td>\n",
       "      <td>228.622875</td>\n",
       "      <td>2107.279540</td>\n",
       "      <td>14.491024</td>\n",
       "      <td>0.713665</td>\n",
       "    </tr>\n",
       "    <tr>\n",
       "      <th>min</th>\n",
       "      <td>0.000000</td>\n",
       "      <td>0.000000</td>\n",
       "      <td>261.000000</td>\n",
       "      <td>1.000000</td>\n",
       "      <td>0.000000</td>\n",
       "    </tr>\n",
       "    <tr>\n",
       "      <th>25%</th>\n",
       "      <td>1.000000</td>\n",
       "      <td>256.000000</td>\n",
       "      <td>1875.000000</td>\n",
       "      <td>13.000000</td>\n",
       "      <td>1.000000</td>\n",
       "    </tr>\n",
       "    <tr>\n",
       "      <th>50%</th>\n",
       "      <td>2.000000</td>\n",
       "      <td>395.000000</td>\n",
       "      <td>2742.000000</td>\n",
       "      <td>26.000000</td>\n",
       "      <td>1.000000</td>\n",
       "    </tr>\n",
       "    <tr>\n",
       "      <th>75%</th>\n",
       "      <td>2.000000</td>\n",
       "      <td>575.000000</td>\n",
       "      <td>4547.000000</td>\n",
       "      <td>39.000000</td>\n",
       "      <td>2.000000</td>\n",
       "    </tr>\n",
       "    <tr>\n",
       "      <th>max</th>\n",
       "      <td>3.000000</td>\n",
       "      <td>5455.000000</td>\n",
       "      <td>26418.000000</td>\n",
       "      <td>53.000000</td>\n",
       "      <td>5.000000</td>\n",
       "    </tr>\n",
       "  </tbody>\n",
       "</table>\n",
       "</div>"
      ],
      "text/plain": [
       "       Number of Stops  Total_Stopover_Time   price in CAD      days_left  \\\n",
       "count    384663.000000        384663.000000  384663.000000  384663.000000   \n",
       "mean          1.752069           427.273003    3289.519104      26.192459   \n",
       "std           0.593852           228.622875    2107.279540      14.491024   \n",
       "min           0.000000             0.000000     261.000000       1.000000   \n",
       "25%           1.000000           256.000000    1875.000000      13.000000   \n",
       "50%           2.000000           395.000000    2742.000000      26.000000   \n",
       "75%           2.000000           575.000000    4547.000000      39.000000   \n",
       "max           3.000000          5455.000000   26418.000000      53.000000   \n",
       "\n",
       "       Arrival_Day_Offset  \n",
       "count       384663.000000  \n",
       "mean             1.257030  \n",
       "std              0.713665  \n",
       "min              0.000000  \n",
       "25%              1.000000  \n",
       "50%              1.000000  \n",
       "75%              2.000000  \n",
       "max              5.000000  "
      ]
     },
     "execution_count": 4,
     "metadata": {},
     "output_type": "execute_result"
    }
   ],
   "source": [
    "df.describe()"
   ]
  },
  {
   "cell_type": "code",
   "execution_count": 5,
   "id": "d04b513f-f813-42df-8f81-bff41ff89409",
   "metadata": {},
   "outputs": [
    {
     "data": {
      "text/plain": [
       "Airline                 object\n",
       "Source                  object\n",
       "Destination             object\n",
       "Number of Stops          int64\n",
       "Class                   object\n",
       "Date                    object\n",
       "Total_Stopover_Time      int64\n",
       "price in CAD           float64\n",
       "days_left                int64\n",
       "Departure_24hr          object\n",
       "Arrival_24hr            object\n",
       "Arrival_Day_Offset       int64\n",
       "dtype: object"
      ]
     },
     "execution_count": 5,
     "metadata": {},
     "output_type": "execute_result"
    }
   ],
   "source": [
    "df.dtypes"
   ]
  },
  {
   "cell_type": "code",
   "execution_count": 6,
   "id": "a74c8f1e-1c71-4792-a0db-8838272a076f",
   "metadata": {},
   "outputs": [
    {
     "data": {
      "text/plain": [
       "Airline                0\n",
       "Source                 0\n",
       "Destination            0\n",
       "Number of Stops        0\n",
       "Class                  0\n",
       "Date                   0\n",
       "Total_Stopover_Time    0\n",
       "price in CAD           0\n",
       "days_left              0\n",
       "Departure_24hr         0\n",
       "Arrival_24hr           0\n",
       "Arrival_Day_Offset     0\n",
       "dtype: int64"
      ]
     },
     "execution_count": 6,
     "metadata": {},
     "output_type": "execute_result"
    }
   ],
   "source": [
    "# Check for missing values\n",
    "df.isnull().sum()"
   ]
  },
  {
   "cell_type": "code",
   "execution_count": 7,
   "id": "949466cb-d2da-49d3-afae-3ab7bd88a787",
   "metadata": {},
   "outputs": [],
   "source": [
    "# Convert Date to datetime\n",
    "df['Date'] = pd.to_datetime(df['Date'])"
   ]
  },
  {
   "cell_type": "code",
   "execution_count": 8,
   "id": "ece2e303-fd3e-4395-8b97-0d037ec443eb",
   "metadata": {},
   "outputs": [],
   "source": [
    "# Create time-based features\n",
    "df['Month'] = df['Date'].dt.month\n",
    "df['Day_of_Week'] = df['Date'].dt.dayofweek\n",
    "\n",
    "# Convert Departure_24hr and Arrival_24hr to minutes since midnight\n",
    "def time_to_minutes(time_str):\n",
    "    hours, minutes = map(int, time_str.split(':'))\n",
    "    return hours * 60 + minutes\n",
    "\n",
    "df['Departure_Minutes'] = df['Departure_24hr'].apply(time_to_minutes)\n",
    "df['Arrival_Minutes'] = df['Arrival_24hr'].apply(time_to_minutes)\n",
    "\n",
    "# Encode categorical variables\n",
    "le = LabelEncoder()\n",
    "categorical_columns = ['Airline', 'Source', 'Destination', 'Class']\n",
    "for col in categorical_columns:\n",
    "    df[col + '_Encoded'] = le.fit_transform(df[col])\n",
    "\n",
    "# Drop original categorical columns and date column\n",
    "df = df.drop(columns=['Airline', 'Source', 'Destination', 'Class', 'Date', 'Departure_24hr', 'Arrival_24hr'])"
   ]
  },
  {
   "cell_type": "code",
   "execution_count": 9,
   "id": "b2bdad5a-72e6-420a-864e-87b214396fb4",
   "metadata": {},
   "outputs": [],
   "source": [
    "# Split the data into features (X) and target (y)\n",
    "X = df.drop('price in CAD', axis=1)\n",
    "y = df['price in CAD']"
   ]
  },
  {
   "cell_type": "code",
   "execution_count": 10,
   "id": "03ec82e7-9c2f-4e2a-aef0-3954eddb6f47",
   "metadata": {},
   "outputs": [],
   "source": [
    "# Split the data into training and testing sets\n",
    "X_train, X_test, y_train, y_test = train_test_split(X, y, test_size=0.2, random_state=42)"
   ]
  },
  {
   "cell_type": "code",
   "execution_count": 17,
   "id": "9b63ef04-3ec0-4c45-9021-322c08fde215",
   "metadata": {},
   "outputs": [
    {
     "data": {
      "text/html": [
       "<style>#sk-container-id-3 {color: black;background-color: white;}#sk-container-id-3 pre{padding: 0;}#sk-container-id-3 div.sk-toggleable {background-color: white;}#sk-container-id-3 label.sk-toggleable__label {cursor: pointer;display: block;width: 100%;margin-bottom: 0;padding: 0.3em;box-sizing: border-box;text-align: center;}#sk-container-id-3 label.sk-toggleable__label-arrow:before {content: \"▸\";float: left;margin-right: 0.25em;color: #696969;}#sk-container-id-3 label.sk-toggleable__label-arrow:hover:before {color: black;}#sk-container-id-3 div.sk-estimator:hover label.sk-toggleable__label-arrow:before {color: black;}#sk-container-id-3 div.sk-toggleable__content {max-height: 0;max-width: 0;overflow: hidden;text-align: left;background-color: #f0f8ff;}#sk-container-id-3 div.sk-toggleable__content pre {margin: 0.2em;color: black;border-radius: 0.25em;background-color: #f0f8ff;}#sk-container-id-3 input.sk-toggleable__control:checked~div.sk-toggleable__content {max-height: 200px;max-width: 100%;overflow: auto;}#sk-container-id-3 input.sk-toggleable__control:checked~label.sk-toggleable__label-arrow:before {content: \"▾\";}#sk-container-id-3 div.sk-estimator input.sk-toggleable__control:checked~label.sk-toggleable__label {background-color: #d4ebff;}#sk-container-id-3 div.sk-label input.sk-toggleable__control:checked~label.sk-toggleable__label {background-color: #d4ebff;}#sk-container-id-3 input.sk-hidden--visually {border: 0;clip: rect(1px 1px 1px 1px);clip: rect(1px, 1px, 1px, 1px);height: 1px;margin: -1px;overflow: hidden;padding: 0;position: absolute;width: 1px;}#sk-container-id-3 div.sk-estimator {font-family: monospace;background-color: #f0f8ff;border: 1px dotted black;border-radius: 0.25em;box-sizing: border-box;margin-bottom: 0.5em;}#sk-container-id-3 div.sk-estimator:hover {background-color: #d4ebff;}#sk-container-id-3 div.sk-parallel-item::after {content: \"\";width: 100%;border-bottom: 1px solid gray;flex-grow: 1;}#sk-container-id-3 div.sk-label:hover label.sk-toggleable__label {background-color: #d4ebff;}#sk-container-id-3 div.sk-serial::before {content: \"\";position: absolute;border-left: 1px solid gray;box-sizing: border-box;top: 0;bottom: 0;left: 50%;z-index: 0;}#sk-container-id-3 div.sk-serial {display: flex;flex-direction: column;align-items: center;background-color: white;padding-right: 0.2em;padding-left: 0.2em;position: relative;}#sk-container-id-3 div.sk-item {position: relative;z-index: 1;}#sk-container-id-3 div.sk-parallel {display: flex;align-items: stretch;justify-content: center;background-color: white;position: relative;}#sk-container-id-3 div.sk-item::before, #sk-container-id-3 div.sk-parallel-item::before {content: \"\";position: absolute;border-left: 1px solid gray;box-sizing: border-box;top: 0;bottom: 0;left: 50%;z-index: -1;}#sk-container-id-3 div.sk-parallel-item {display: flex;flex-direction: column;z-index: 1;position: relative;background-color: white;}#sk-container-id-3 div.sk-parallel-item:first-child::after {align-self: flex-end;width: 50%;}#sk-container-id-3 div.sk-parallel-item:last-child::after {align-self: flex-start;width: 50%;}#sk-container-id-3 div.sk-parallel-item:only-child::after {width: 0;}#sk-container-id-3 div.sk-dashed-wrapped {border: 1px dashed gray;margin: 0 0.4em 0.5em 0.4em;box-sizing: border-box;padding-bottom: 0.4em;background-color: white;}#sk-container-id-3 div.sk-label label {font-family: monospace;font-weight: bold;display: inline-block;line-height: 1.2em;}#sk-container-id-3 div.sk-label-container {text-align: center;}#sk-container-id-3 div.sk-container {/* jupyter's `normalize.less` sets `[hidden] { display: none; }` but bootstrap.min.css set `[hidden] { display: none !important; }` so we also need the `!important` here to be able to override the default hidden behavior on the sphinx rendered scikit-learn.org. See: https://github.com/scikit-learn/scikit-learn/issues/21755 */display: inline-block !important;position: relative;}#sk-container-id-3 div.sk-text-repr-fallback {display: none;}</style><div id=\"sk-container-id-3\" class=\"sk-top-container\"><div class=\"sk-text-repr-fallback\"><pre>RandomForestRegressor(random_state=42)</pre><b>In a Jupyter environment, please rerun this cell to show the HTML representation or trust the notebook. <br />On GitHub, the HTML representation is unable to render, please try loading this page with nbviewer.org.</b></div><div class=\"sk-container\" hidden><div class=\"sk-item\"><div class=\"sk-estimator sk-toggleable\"><input class=\"sk-toggleable__control sk-hidden--visually\" id=\"sk-estimator-id-3\" type=\"checkbox\" checked><label for=\"sk-estimator-id-3\" class=\"sk-toggleable__label sk-toggleable__label-arrow\">RandomForestRegressor</label><div class=\"sk-toggleable__content\"><pre>RandomForestRegressor(random_state=42)</pre></div></div></div></div></div>"
      ],
      "text/plain": [
       "RandomForestRegressor(random_state=42)"
      ]
     },
     "execution_count": 17,
     "metadata": {},
     "output_type": "execute_result"
    }
   ],
   "source": [
    "# Train the Random Forest Regressor model\n",
    "rf_model = RandomForestRegressor(random_state=42)\n",
    "rf_model.fit(X_train, y_train)"
   ]
  },
  {
   "cell_type": "code",
   "execution_count": 12,
   "id": "2142bcb7-5ba6-4eaf-abbd-bf5f0b3119b9",
   "metadata": {},
   "outputs": [
    {
     "data": {
      "text/html": [
       "<style>#sk-container-id-2 {color: black;background-color: white;}#sk-container-id-2 pre{padding: 0;}#sk-container-id-2 div.sk-toggleable {background-color: white;}#sk-container-id-2 label.sk-toggleable__label {cursor: pointer;display: block;width: 100%;margin-bottom: 0;padding: 0.3em;box-sizing: border-box;text-align: center;}#sk-container-id-2 label.sk-toggleable__label-arrow:before {content: \"▸\";float: left;margin-right: 0.25em;color: #696969;}#sk-container-id-2 label.sk-toggleable__label-arrow:hover:before {color: black;}#sk-container-id-2 div.sk-estimator:hover label.sk-toggleable__label-arrow:before {color: black;}#sk-container-id-2 div.sk-toggleable__content {max-height: 0;max-width: 0;overflow: hidden;text-align: left;background-color: #f0f8ff;}#sk-container-id-2 div.sk-toggleable__content pre {margin: 0.2em;color: black;border-radius: 0.25em;background-color: #f0f8ff;}#sk-container-id-2 input.sk-toggleable__control:checked~div.sk-toggleable__content {max-height: 200px;max-width: 100%;overflow: auto;}#sk-container-id-2 input.sk-toggleable__control:checked~label.sk-toggleable__label-arrow:before {content: \"▾\";}#sk-container-id-2 div.sk-estimator input.sk-toggleable__control:checked~label.sk-toggleable__label {background-color: #d4ebff;}#sk-container-id-2 div.sk-label input.sk-toggleable__control:checked~label.sk-toggleable__label {background-color: #d4ebff;}#sk-container-id-2 input.sk-hidden--visually {border: 0;clip: rect(1px 1px 1px 1px);clip: rect(1px, 1px, 1px, 1px);height: 1px;margin: -1px;overflow: hidden;padding: 0;position: absolute;width: 1px;}#sk-container-id-2 div.sk-estimator {font-family: monospace;background-color: #f0f8ff;border: 1px dotted black;border-radius: 0.25em;box-sizing: border-box;margin-bottom: 0.5em;}#sk-container-id-2 div.sk-estimator:hover {background-color: #d4ebff;}#sk-container-id-2 div.sk-parallel-item::after {content: \"\";width: 100%;border-bottom: 1px solid gray;flex-grow: 1;}#sk-container-id-2 div.sk-label:hover label.sk-toggleable__label {background-color: #d4ebff;}#sk-container-id-2 div.sk-serial::before {content: \"\";position: absolute;border-left: 1px solid gray;box-sizing: border-box;top: 0;bottom: 0;left: 50%;z-index: 0;}#sk-container-id-2 div.sk-serial {display: flex;flex-direction: column;align-items: center;background-color: white;padding-right: 0.2em;padding-left: 0.2em;position: relative;}#sk-container-id-2 div.sk-item {position: relative;z-index: 1;}#sk-container-id-2 div.sk-parallel {display: flex;align-items: stretch;justify-content: center;background-color: white;position: relative;}#sk-container-id-2 div.sk-item::before, #sk-container-id-2 div.sk-parallel-item::before {content: \"\";position: absolute;border-left: 1px solid gray;box-sizing: border-box;top: 0;bottom: 0;left: 50%;z-index: -1;}#sk-container-id-2 div.sk-parallel-item {display: flex;flex-direction: column;z-index: 1;position: relative;background-color: white;}#sk-container-id-2 div.sk-parallel-item:first-child::after {align-self: flex-end;width: 50%;}#sk-container-id-2 div.sk-parallel-item:last-child::after {align-self: flex-start;width: 50%;}#sk-container-id-2 div.sk-parallel-item:only-child::after {width: 0;}#sk-container-id-2 div.sk-dashed-wrapped {border: 1px dashed gray;margin: 0 0.4em 0.5em 0.4em;box-sizing: border-box;padding-bottom: 0.4em;background-color: white;}#sk-container-id-2 div.sk-label label {font-family: monospace;font-weight: bold;display: inline-block;line-height: 1.2em;}#sk-container-id-2 div.sk-label-container {text-align: center;}#sk-container-id-2 div.sk-container {/* jupyter's `normalize.less` sets `[hidden] { display: none; }` but bootstrap.min.css set `[hidden] { display: none !important; }` so we also need the `!important` here to be able to override the default hidden behavior on the sphinx rendered scikit-learn.org. See: https://github.com/scikit-learn/scikit-learn/issues/21755 */display: inline-block !important;position: relative;}#sk-container-id-2 div.sk-text-repr-fallback {display: none;}</style><div id=\"sk-container-id-2\" class=\"sk-top-container\"><div class=\"sk-text-repr-fallback\"><pre>DecisionTreeRegressor(random_state=42)</pre><b>In a Jupyter environment, please rerun this cell to show the HTML representation or trust the notebook. <br />On GitHub, the HTML representation is unable to render, please try loading this page with nbviewer.org.</b></div><div class=\"sk-container\" hidden><div class=\"sk-item\"><div class=\"sk-estimator sk-toggleable\"><input class=\"sk-toggleable__control sk-hidden--visually\" id=\"sk-estimator-id-2\" type=\"checkbox\" checked><label for=\"sk-estimator-id-2\" class=\"sk-toggleable__label sk-toggleable__label-arrow\">DecisionTreeRegressor</label><div class=\"sk-toggleable__content\"><pre>DecisionTreeRegressor(random_state=42)</pre></div></div></div></div></div>"
      ],
      "text/plain": [
       "DecisionTreeRegressor(random_state=42)"
      ]
     },
     "execution_count": 12,
     "metadata": {},
     "output_type": "execute_result"
    }
   ],
   "source": [
    "# Train the Decision Tree Regressor model\n",
    "dt_model = DecisionTreeRegressor(random_state=42)\n",
    "dt_model.fit(X_train, y_train)"
   ]
  },
  {
   "cell_type": "code",
   "execution_count": 13,
   "id": "9f57f58a-e420-4621-9b3a-fdbd551b42be",
   "metadata": {},
   "outputs": [],
   "source": [
    "# Make predictions on the test set\n",
    "rf_predictions = rf_model.predict(X_test)\n",
    "dt_predictions = dt_model.predict(X_test)"
   ]
  },
  {
   "cell_type": "code",
   "execution_count": 14,
   "id": "14f4c3dc-90cf-4feb-8ec6-3de7c134ade4",
   "metadata": {},
   "outputs": [],
   "source": [
    "# Evaluate the models\n",
    "rf_mse = mean_squared_error(y_test, rf_predictions)\n",
    "rf_r2 = r2_score(y_test, rf_predictions)\n",
    "dt_mse = mean_squared_error(y_test, dt_predictions)\n",
    "dt_r2 = r2_score(y_test, dt_predictions)"
   ]
  },
  {
   "cell_type": "code",
   "execution_count": 15,
   "id": "47960976-4a79-4beb-a638-d1e7c9bb56dc",
   "metadata": {},
   "outputs": [
    {
     "name": "stdout",
     "output_type": "stream",
     "text": [
      "Random Forest Regressor:\n",
      "MSE: 425759.69096070534\n",
      "R2 Score: 0.9040874389243316\n",
      "\n",
      "Decision Tree Regressor:\n",
      "MSE: 600894.1441741311\n",
      "R2 Score: 0.8646342114419847\n"
     ]
    }
   ],
   "source": [
    "# Print the evaluation metrics\n",
    "print('Random Forest Regressor:')\n",
    "print('MSE:', rf_mse)\n",
    "print('R2 Score:', rf_r2)\n",
    "print('\\nDecision Tree Regressor:')\n",
    "print('MSE:', dt_mse)\n",
    "print('R2 Score:', dt_r2)"
   ]
  },
  {
   "cell_type": "code",
   "execution_count": null,
   "id": "bf020b68-4248-44f5-bce5-9730b5786955",
   "metadata": {},
   "outputs": [],
   "source": [
    "#Based on these results, we can conclude that the Random Forest Regressor performs better than the Decision Tree Regressor for this dataset. The Random Forest model has a lower Mean Squared Error (MSE) and a higher R-squared (R2) score, indicating better predictive performance and a better fit to the data."
   ]
  },
  {
   "cell_type": "code",
   "execution_count": 35,
   "id": "b4ecd125-18d2-4f83-b272-72f02afe50a5",
   "metadata": {},
   "outputs": [
    {
     "data": {
      "image/png": "[encoded data removed]",
      "text/plain": [
       "<Figure size 1000x600 with 1 Axes>"
      ]
     },
     "metadata": {},
     "output_type": "display_data"
    },
    {
     "name": "stdout",
     "output_type": "stream",
     "text": [
      "This bar plot compares the Mean Squared Error (MSE) and R2 Score for both the Random Forest and Decision Tree models. As we can see, the Random Forest model (in blue) outperforms the Decision Tree model (in green) on both metrics. It has a lower MSE and a higher R2 Score, confirming our earlier conclusion that the Random Forest model is more accurate for this dataset.\n"
     ]
    }
   ],
   "source": [
    "# Create a bar plot to compare MSE and R2 scores\n",
    "metrics = ['MSE', 'R2 Score']\n",
    "rf_scores = [rf_mse, rf_r2]\n",
    "dt_scores = [dt_mse, dt_r2]\n",
    "\n",
    "plt.figure(figsize=(10, 6))\n",
    "x = range(len(metrics))\n",
    "width = 0.35\n",
    "\n",
    "plt.bar([i - width/2 for i in x], rf_scores, width, label='Random Forest', color='blue')\n",
    "plt.bar([i + width/2 for i in x], dt_scores, width, label='Decision Tree', color='red')\n",
    "\n",
    "plt.xlabel('Metrics')\n",
    "plt.ylabel('Scores')\n",
    "plt.title('Comparison of Random Forest and Decision Tree Performance')\n",
    "plt.xticks(x, metrics)\n",
    "plt.legend()\n",
    "plt.tight_layout()\n",
    "plt.show()\n",
    "print('This bar plot compares the Mean Squared Error (MSE) and R2 Score for both the Random Forest and Decision Tree models. As we can see, the Random Forest model (in blue) outperforms the Decision Tree model (in green) on both metrics. It has a lower MSE and a higher R2 Score, confirming our earlier conclusion that the Random Forest model is more accurate for this dataset.')\n"
   ]
  },
  {
   "cell_type": "code",
   "execution_count": null,
   "id": "abd43ab6-ce39-4d2e-9b8f-65c6f07be5bc",
   "metadata": {},
   "outputs": [],
   "source": []
  }
 ],
 "metadata": {
  "kernelspec": {
   "display_name": "Python 3 (ipykernel)",
   "language": "python",
   "name": "python3"
  },
  "language_info": {
   "codemirror_mode": {
    "name": "ipython",
    "version": 3
   },
   "file_extension": ".py",
   "mimetype": "text/x-python",
   "name": "python",
   "nbconvert_exporter": "python",
   "pygments_lexer": "ipython3",
   "version": "3.11.7"
  }
 },
 "nbformat": 4,
 "nbformat_minor": 5
}
