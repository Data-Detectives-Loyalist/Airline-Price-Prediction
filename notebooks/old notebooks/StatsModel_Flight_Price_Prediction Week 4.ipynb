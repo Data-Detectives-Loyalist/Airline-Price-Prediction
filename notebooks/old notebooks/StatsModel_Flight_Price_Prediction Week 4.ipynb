{
 "cells": [
  {
   "cell_type": "code",
   "execution_count": 181,
   "metadata": {
    "id": "z7ykHjcuZ1om"
   },
   "outputs": [],
   "source": [
    "import pandas as pd\n",
    "import numpy as np\n",
    "import matplotlib.pyplot as plt\n",
    "import seaborn as sns\n",
    "%matplotlib inline\n",
    "from sklearn.preprocessing import OneHotEncoder\n",
    "from sklearn.preprocessing import LabelEncoder"
   ]
  },
  {
   "cell_type": "code",
   "execution_count": 182,
   "metadata": {
    "id": "xQ491w8jZ9kb"
   },
   "outputs": [],
   "source": [
    "df = pd.read_csv(\"/content/flightPrice.csv\")"
   ]
  },
  {
   "cell_type": "code",
   "execution_count": 183,
   "metadata": {
    "colab": {
     "base_uri": "https://localhost:8080/",
     "height": 617
    },
    "id": "6lAswA5vaaBA",
    "outputId": "4f6dff86-dc9a-4ba2-c28e-5cf17a936d36"
   },
   "outputs": [
    {
     "data": {
      "application/vnd.google.colaboratory.intrinsic+json": {
       "type": "dataframe",
       "variable_name": "df"
      },
      "text/html": [
       "\n",
       "  <div id=\"df-59e9fbfe-1ed6-453a-b4fb-222aaac1d68a\" class=\"colab-df-container\">\n",
       "    <div>\n",
       "<style scoped>\n",
       "    .dataframe tbody tr th:only-of-type {\n",
       "        vertical-align: middle;\n",
       "    }\n",
       "\n",
       "    .dataframe tbody tr th {\n",
       "        vertical-align: top;\n",
       "    }\n",
       "\n",
       "    .dataframe thead th {\n",
       "        text-align: right;\n",
       "    }\n",
       "</style>\n",
       "<table border=\"1\" class=\"dataframe\">\n",
       "  <thead>\n",
       "    <tr style=\"text-align: right;\">\n",
       "      <th></th>\n",
       "      <th>Date_of_journey</th>\n",
       "      <th>Journey_day</th>\n",
       "      <th>Airline</th>\n",
       "      <th>Flight_code</th>\n",
       "      <th>Class</th>\n",
       "      <th>Source</th>\n",
       "      <th>Departure</th>\n",
       "      <th>Total_stops</th>\n",
       "      <th>Arrival</th>\n",
       "      <th>Destination</th>\n",
       "      <th>Duration_in_hours</th>\n",
       "      <th>Days_left</th>\n",
       "      <th>Fare</th>\n",
       "    </tr>\n",
       "  </thead>\n",
       "  <tbody>\n",
       "    <tr>\n",
       "      <th>0</th>\n",
       "      <td>2023-01-16</td>\n",
       "      <td>Monday</td>\n",
       "      <td>SpiceJet</td>\n",
       "      <td>SG-8169</td>\n",
       "      <td>Economy</td>\n",
       "      <td>Delhi</td>\n",
       "      <td>After 6 PM</td>\n",
       "      <td>non-stop</td>\n",
       "      <td>After 6 PM</td>\n",
       "      <td>Mumbai</td>\n",
       "      <td>2.0833</td>\n",
       "      <td>1</td>\n",
       "      <td>5335</td>\n",
       "    </tr>\n",
       "    <tr>\n",
       "      <th>1</th>\n",
       "      <td>2023-01-16</td>\n",
       "      <td>Monday</td>\n",
       "      <td>Indigo</td>\n",
       "      <td>6E-2519</td>\n",
       "      <td>Economy</td>\n",
       "      <td>Delhi</td>\n",
       "      <td>After 6 PM</td>\n",
       "      <td>non-stop</td>\n",
       "      <td>Before 6 AM</td>\n",
       "      <td>Mumbai</td>\n",
       "      <td>2.3333</td>\n",
       "      <td>1</td>\n",
       "      <td>5899</td>\n",
       "    </tr>\n",
       "    <tr>\n",
       "      <th>2</th>\n",
       "      <td>2023-01-16</td>\n",
       "      <td>Monday</td>\n",
       "      <td>GO FIRST</td>\n",
       "      <td>G8-354</td>\n",
       "      <td>Economy</td>\n",
       "      <td>Delhi</td>\n",
       "      <td>After 6 PM</td>\n",
       "      <td>non-stop</td>\n",
       "      <td>Before 6 AM</td>\n",
       "      <td>Mumbai</td>\n",
       "      <td>2.1667</td>\n",
       "      <td>1</td>\n",
       "      <td>5801</td>\n",
       "    </tr>\n",
       "    <tr>\n",
       "      <th>3</th>\n",
       "      <td>2023-01-16</td>\n",
       "      <td>Monday</td>\n",
       "      <td>SpiceJet</td>\n",
       "      <td>SG-8709</td>\n",
       "      <td>Economy</td>\n",
       "      <td>Delhi</td>\n",
       "      <td>After 6 PM</td>\n",
       "      <td>non-stop</td>\n",
       "      <td>After 6 PM</td>\n",
       "      <td>Mumbai</td>\n",
       "      <td>2.0833</td>\n",
       "      <td>1</td>\n",
       "      <td>5794</td>\n",
       "    </tr>\n",
       "    <tr>\n",
       "      <th>4</th>\n",
       "      <td>2023-01-16</td>\n",
       "      <td>Monday</td>\n",
       "      <td>Air India</td>\n",
       "      <td>AI-805</td>\n",
       "      <td>Economy</td>\n",
       "      <td>Delhi</td>\n",
       "      <td>After 6 PM</td>\n",
       "      <td>non-stop</td>\n",
       "      <td>After 6 PM</td>\n",
       "      <td>Mumbai</td>\n",
       "      <td>2.1667</td>\n",
       "      <td>1</td>\n",
       "      <td>5955</td>\n",
       "    </tr>\n",
       "    <tr>\n",
       "      <th>...</th>\n",
       "      <td>...</td>\n",
       "      <td>...</td>\n",
       "      <td>...</td>\n",
       "      <td>...</td>\n",
       "      <td>...</td>\n",
       "      <td>...</td>\n",
       "      <td>...</td>\n",
       "      <td>...</td>\n",
       "      <td>...</td>\n",
       "      <td>...</td>\n",
       "      <td>...</td>\n",
       "      <td>...</td>\n",
       "      <td>...</td>\n",
       "    </tr>\n",
       "    <tr>\n",
       "      <th>452083</th>\n",
       "      <td>2023-03-06</td>\n",
       "      <td>Monday</td>\n",
       "      <td>Vistara</td>\n",
       "      <td>UK-926</td>\n",
       "      <td>Business</td>\n",
       "      <td>Ahmedabad</td>\n",
       "      <td>6 AM - 12 PM</td>\n",
       "      <td>1-stop</td>\n",
       "      <td>After 6 PM</td>\n",
       "      <td>Chennai</td>\n",
       "      <td>13.0833</td>\n",
       "      <td>50</td>\n",
       "      <td>65028</td>\n",
       "    </tr>\n",
       "    <tr>\n",
       "      <th>452084</th>\n",
       "      <td>2023-03-06</td>\n",
       "      <td>Monday</td>\n",
       "      <td>Vistara</td>\n",
       "      <td>UK-918</td>\n",
       "      <td>Business</td>\n",
       "      <td>Ahmedabad</td>\n",
       "      <td>Before 6 AM</td>\n",
       "      <td>1-stop</td>\n",
       "      <td>12 PM - 6 PM</td>\n",
       "      <td>Chennai</td>\n",
       "      <td>11.2500</td>\n",
       "      <td>50</td>\n",
       "      <td>69254</td>\n",
       "    </tr>\n",
       "    <tr>\n",
       "      <th>452085</th>\n",
       "      <td>2023-03-06</td>\n",
       "      <td>Monday</td>\n",
       "      <td>Vistara</td>\n",
       "      <td>UK-918</td>\n",
       "      <td>Business</td>\n",
       "      <td>Ahmedabad</td>\n",
       "      <td>Before 6 AM</td>\n",
       "      <td>1-stop</td>\n",
       "      <td>12 PM - 6 PM</td>\n",
       "      <td>Chennai</td>\n",
       "      <td>11.2500</td>\n",
       "      <td>50</td>\n",
       "      <td>69254</td>\n",
       "    </tr>\n",
       "    <tr>\n",
       "      <th>452086</th>\n",
       "      <td>2023-03-06</td>\n",
       "      <td>Monday</td>\n",
       "      <td>Vistara</td>\n",
       "      <td>UK-946</td>\n",
       "      <td>Business</td>\n",
       "      <td>Ahmedabad</td>\n",
       "      <td>6 AM - 12 PM</td>\n",
       "      <td>1-stop</td>\n",
       "      <td>After 6 PM</td>\n",
       "      <td>Chennai</td>\n",
       "      <td>11.1667</td>\n",
       "      <td>50</td>\n",
       "      <td>72980</td>\n",
       "    </tr>\n",
       "    <tr>\n",
       "      <th>452087</th>\n",
       "      <td>2023-03-06</td>\n",
       "      <td>Monday</td>\n",
       "      <td>Vistara</td>\n",
       "      <td>UK-946</td>\n",
       "      <td>Business</td>\n",
       "      <td>Ahmedabad</td>\n",
       "      <td>6 AM - 12 PM</td>\n",
       "      <td>1-stop</td>\n",
       "      <td>After 6 PM</td>\n",
       "      <td>Chennai</td>\n",
       "      <td>11.1667</td>\n",
       "      <td>50</td>\n",
       "      <td>72980</td>\n",
       "    </tr>\n",
       "  </tbody>\n",
       "</table>\n",
       "<p>452088 rows × 13 columns</p>\n",
       "</div>\n",
       "    <div class=\"colab-df-buttons\">\n",
       "\n",
       "  <div class=\"colab-df-container\">\n",
       "    <button class=\"colab-df-convert\" onclick=\"convertToInteractive('df-59e9fbfe-1ed6-453a-b4fb-222aaac1d68a')\"\n",
       "            title=\"Convert this dataframe to an interactive table.\"\n",
       "            style=\"display:none;\">\n",
       "\n",
       "  <svg xmlns=\"http://www.w3.org/2000/svg\" height=\"24px\" viewBox=\"0 -960 960 960\">\n",
       "    <path d=\"M120-120v-720h720v720H120Zm60-500h600v-160H180v160Zm220 220h160v-160H400v160Zm0 220h160v-160H400v160ZM180-400h160v-160H180v160Zm440 0h160v-160H620v160ZM180-180h160v-160H180v160Zm440 0h160v-160H620v160Z\"/>\n",
       "  </svg>\n",
       "    </button>\n",
       "\n",
       "  <style>\n",
       "    .colab-df-container {\n",
       "      display:flex;\n",
       "      gap: 12px;\n",
       "    }\n",
       "\n",
       "    .colab-df-convert {\n",
       "      background-color: #E8F0FE;\n",
       "      border: none;\n",
       "      border-radius: 50%;\n",
       "      cursor: pointer;\n",
       "      display: none;\n",
       "      fill: #1967D2;\n",
       "      height: 32px;\n",
       "      padding: 0 0 0 0;\n",
       "      width: 32px;\n",
       "    }\n",
       "\n",
       "    .colab-df-convert:hover {\n",
       "      background-color: #E2EBFA;\n",
       "      box-shadow: 0px 1px 2px rgba(60, 64, 67, 0.3), 0px 1px 3px 1px rgba(60, 64, 67, 0.15);\n",
       "      fill: #174EA6;\n",
       "    }\n",
       "\n",
       "    .colab-df-buttons div {\n",
       "      margin-bottom: 4px;\n",
       "    }\n",
       "\n",
       "    [theme=dark] .colab-df-convert {\n",
       "      background-color: #3B4455;\n",
       "      fill: #D2E3FC;\n",
       "    }\n",
       "\n",
       "    [theme=dark] .colab-df-convert:hover {\n",
       "      background-color: #434B5C;\n",
       "      box-shadow: 0px 1px 3px 1px rgba(0, 0, 0, 0.15);\n",
       "      filter: drop-shadow(0px 1px 2px rgba(0, 0, 0, 0.3));\n",
       "      fill: #FFFFFF;\n",
       "    }\n",
       "  </style>\n",
       "\n",
       "    <script>\n",
       "      const buttonEl =\n",
       "        document.querySelector('#df-59e9fbfe-1ed6-453a-b4fb-222aaac1d68a button.colab-df-convert');\n",
       "      buttonEl.style.display =\n",
       "        google.colab.kernel.accessAllowed ? 'block' : 'none';\n",
       "\n",
       "      async function convertToInteractive(key) {\n",
       "        const element = document.querySelector('#df-59e9fbfe-1ed6-453a-b4fb-222aaac1d68a');\n",
       "        const dataTable =\n",
       "          await google.colab.kernel.invokeFunction('convertToInteractive',\n",
       "                                                    [key], {});\n",
       "        if (!dataTable) return;\n",
       "\n",
       "        const docLinkHtml = 'Like what you see? Visit the ' +\n",
       "          '<a target=\"_blank\" href=https://colab.research.google.com/notebooks/data_table.ipynb>data table notebook</a>'\n",
       "          + ' to learn more about interactive tables.';\n",
       "        element.innerHTML = '';\n",
       "        dataTable['output_type'] = 'display_data';\n",
       "        await google.colab.output.renderOutput(dataTable, element);\n",
       "        const docLink = document.createElement('div');\n",
       "        docLink.innerHTML = docLinkHtml;\n",
       "        element.appendChild(docLink);\n",
       "      }\n",
       "    </script>\n",
       "  </div>\n",
       "\n",
       "\n",
       "<div id=\"df-77695854-5859-4a48-b194-c768dfee5684\">\n",
       "  <button class=\"colab-df-quickchart\" onclick=\"quickchart('df-77695854-5859-4a48-b194-c768dfee5684')\"\n",
       "            title=\"Suggest charts\"\n",
       "            style=\"display:none;\">\n",
       "\n",
       "<svg xmlns=\"http://www.w3.org/2000/svg\" height=\"24px\"viewBox=\"0 0 24 24\"\n",
       "     width=\"24px\">\n",
       "    <g>\n",
       "        <path d=\"M19 3H5c-1.1 0-2 .9-2 2v14c0 1.1.9 2 2 2h14c1.1 0 2-.9 2-2V5c0-1.1-.9-2-2-2zM9 17H7v-7h2v7zm4 0h-2V7h2v10zm4 0h-2v-4h2v4z\"/>\n",
       "    </g>\n",
       "</svg>\n",
       "  </button>\n",
       "\n",
       "<style>\n",
       "  .colab-df-quickchart {\n",
       "      --bg-color: #E8F0FE;\n",
       "      --fill-color: #1967D2;\n",
       "      --hover-bg-color: #E2EBFA;\n",
       "      --hover-fill-color: #174EA6;\n",
       "      --disabled-fill-color: #AAA;\n",
       "      --disabled-bg-color: #DDD;\n",
       "  }\n",
       "\n",
       "  [theme=dark] .colab-df-quickchart {\n",
       "      --bg-color: #3B4455;\n",
       "      --fill-color: #D2E3FC;\n",
       "      --hover-bg-color: #434B5C;\n",
       "      --hover-fill-color: #FFFFFF;\n",
       "      --disabled-bg-color: #3B4455;\n",
       "      --disabled-fill-color: #666;\n",
       "  }\n",
       "\n",
       "  .colab-df-quickchart {\n",
       "    background-color: var(--bg-color);\n",
       "    border: none;\n",
       "    border-radius: 50%;\n",
       "    cursor: pointer;\n",
       "    display: none;\n",
       "    fill: var(--fill-color);\n",
       "    height: 32px;\n",
       "    padding: 0;\n",
       "    width: 32px;\n",
       "  }\n",
       "\n",
       "  .colab-df-quickchart:hover {\n",
       "    background-color: var(--hover-bg-color);\n",
       "    box-shadow: 0 1px 2px rgba(60, 64, 67, 0.3), 0 1px 3px 1px rgba(60, 64, 67, 0.15);\n",
       "    fill: var(--button-hover-fill-color);\n",
       "  }\n",
       "\n",
       "  .colab-df-quickchart-complete:disabled,\n",
       "  .colab-df-quickchart-complete:disabled:hover {\n",
       "    background-color: var(--disabled-bg-color);\n",
       "    fill: var(--disabled-fill-color);\n",
       "    box-shadow: none;\n",
       "  }\n",
       "\n",
       "  .colab-df-spinner {\n",
       "    border: 2px solid var(--fill-color);\n",
       "    border-color: transparent;\n",
       "    border-bottom-color: var(--fill-color);\n",
       "    animation:\n",
       "      spin 1s steps(1) infinite;\n",
       "  }\n",
       "\n",
       "  @keyframes spin {\n",
       "    0% {\n",
       "      border-color: transparent;\n",
       "      border-bottom-color: var(--fill-color);\n",
       "      border-left-color: var(--fill-color);\n",
       "    }\n",
       "    20% {\n",
       "      border-color: transparent;\n",
       "      border-left-color: var(--fill-color);\n",
       "      border-top-color: var(--fill-color);\n",
       "    }\n",
       "    30% {\n",
       "      border-color: transparent;\n",
       "      border-left-color: var(--fill-color);\n",
       "      border-top-color: var(--fill-color);\n",
       "      border-right-color: var(--fill-color);\n",
       "    }\n",
       "    40% {\n",
       "      border-color: transparent;\n",
       "      border-right-color: var(--fill-color);\n",
       "      border-top-color: var(--fill-color);\n",
       "    }\n",
       "    60% {\n",
       "      border-color: transparent;\n",
       "      border-right-color: var(--fill-color);\n",
       "    }\n",
       "    80% {\n",
       "      border-color: transparent;\n",
       "      border-right-color: var(--fill-color);\n",
       "      border-bottom-color: var(--fill-color);\n",
       "    }\n",
       "    90% {\n",
       "      border-color: transparent;\n",
       "      border-bottom-color: var(--fill-color);\n",
       "    }\n",
       "  }\n",
       "</style>\n",
       "\n",
       "  <script>\n",
       "    async function quickchart(key) {\n",
       "      const quickchartButtonEl =\n",
       "        document.querySelector('#' + key + ' button');\n",
       "      quickchartButtonEl.disabled = true;  // To prevent multiple clicks.\n",
       "      quickchartButtonEl.classList.add('colab-df-spinner');\n",
       "      try {\n",
       "        const charts = await google.colab.kernel.invokeFunction(\n",
       "            'suggestCharts', [key], {});\n",
       "      } catch (error) {\n",
       "        console.error('Error during call to suggestCharts:', error);\n",
       "      }\n",
       "      quickchartButtonEl.classList.remove('colab-df-spinner');\n",
       "      quickchartButtonEl.classList.add('colab-df-quickchart-complete');\n",
       "    }\n",
       "    (() => {\n",
       "      let quickchartButtonEl =\n",
       "        document.querySelector('#df-77695854-5859-4a48-b194-c768dfee5684 button');\n",
       "      quickchartButtonEl.style.display =\n",
       "        google.colab.kernel.accessAllowed ? 'block' : 'none';\n",
       "    })();\n",
       "  </script>\n",
       "</div>\n",
       "\n",
       "  <div id=\"id_adcc674f-d0da-4b74-ba98-c3df40adc2bd\">\n",
       "    <style>\n",
       "      .colab-df-generate {\n",
       "        background-color: #E8F0FE;\n",
       "        border: none;\n",
       "        border-radius: 50%;\n",
       "        cursor: pointer;\n",
       "        display: none;\n",
       "        fill: #1967D2;\n",
       "        height: 32px;\n",
       "        padding: 0 0 0 0;\n",
       "        width: 32px;\n",
       "      }\n",
       "\n",
       "      .colab-df-generate:hover {\n",
       "        background-color: #E2EBFA;\n",
       "        box-shadow: 0px 1px 2px rgba(60, 64, 67, 0.3), 0px 1px 3px 1px rgba(60, 64, 67, 0.15);\n",
       "        fill: #174EA6;\n",
       "      }\n",
       "\n",
       "      [theme=dark] .colab-df-generate {\n",
       "        background-color: #3B4455;\n",
       "        fill: #D2E3FC;\n",
       "      }\n",
       "\n",
       "      [theme=dark] .colab-df-generate:hover {\n",
       "        background-color: #434B5C;\n",
       "        box-shadow: 0px 1px 3px 1px rgba(0, 0, 0, 0.15);\n",
       "        filter: drop-shadow(0px 1px 2px rgba(0, 0, 0, 0.3));\n",
       "        fill: #FFFFFF;\n",
       "      }\n",
       "    </style>\n",
       "    <button class=\"colab-df-generate\" onclick=\"generateWithVariable('df')\"\n",
       "            title=\"Generate code using this dataframe.\"\n",
       "            style=\"display:none;\">\n",
       "\n",
       "  <svg xmlns=\"http://www.w3.org/2000/svg\" height=\"24px\"viewBox=\"0 0 24 24\"\n",
       "       width=\"24px\">\n",
       "    <path d=\"M7,19H8.4L18.45,9,17,7.55,7,17.6ZM5,21V16.75L18.45,3.32a2,2,0,0,1,2.83,0l1.4,1.43a1.91,1.91,0,0,1,.58,1.4,1.91,1.91,0,0,1-.58,1.4L9.25,21ZM18.45,9,17,7.55Zm-12,3A5.31,5.31,0,0,0,4.9,8.1,5.31,5.31,0,0,0,1,6.5,5.31,5.31,0,0,0,4.9,4.9,5.31,5.31,0,0,0,6.5,1,5.31,5.31,0,0,0,8.1,4.9,5.31,5.31,0,0,0,12,6.5,5.46,5.46,0,0,0,6.5,12Z\"/>\n",
       "  </svg>\n",
       "    </button>\n",
       "    <script>\n",
       "      (() => {\n",
       "      const buttonEl =\n",
       "        document.querySelector('#id_adcc674f-d0da-4b74-ba98-c3df40adc2bd button.colab-df-generate');\n",
       "      buttonEl.style.display =\n",
       "        google.colab.kernel.accessAllowed ? 'block' : 'none';\n",
       "\n",
       "      buttonEl.onclick = () => {\n",
       "        google.colab.notebook.generateWithVariable('df');\n",
       "      }\n",
       "      })();\n",
       "    </script>\n",
       "  </div>\n",
       "\n",
       "    </div>\n",
       "  </div>\n"
      ],
      "text/plain": [
       "       Date_of_journey Journey_day    Airline Flight_code     Class  \\\n",
       "0           2023-01-16      Monday   SpiceJet     SG-8169   Economy   \n",
       "1           2023-01-16      Monday     Indigo     6E-2519   Economy   \n",
       "2           2023-01-16      Monday   GO FIRST      G8-354   Economy   \n",
       "3           2023-01-16      Monday   SpiceJet     SG-8709   Economy   \n",
       "4           2023-01-16      Monday  Air India      AI-805   Economy   \n",
       "...                ...         ...        ...         ...       ...   \n",
       "452083      2023-03-06      Monday    Vistara      UK-926  Business   \n",
       "452084      2023-03-06      Monday    Vistara      UK-918  Business   \n",
       "452085      2023-03-06      Monday    Vistara      UK-918  Business   \n",
       "452086      2023-03-06      Monday    Vistara      UK-946  Business   \n",
       "452087      2023-03-06      Monday    Vistara      UK-946  Business   \n",
       "\n",
       "           Source     Departure Total_stops       Arrival Destination  \\\n",
       "0           Delhi    After 6 PM    non-stop    After 6 PM      Mumbai   \n",
       "1           Delhi    After 6 PM    non-stop   Before 6 AM      Mumbai   \n",
       "2           Delhi    After 6 PM    non-stop   Before 6 AM      Mumbai   \n",
       "3           Delhi    After 6 PM    non-stop    After 6 PM      Mumbai   \n",
       "4           Delhi    After 6 PM    non-stop    After 6 PM      Mumbai   \n",
       "...           ...           ...         ...           ...         ...   \n",
       "452083  Ahmedabad  6 AM - 12 PM      1-stop    After 6 PM     Chennai   \n",
       "452084  Ahmedabad   Before 6 AM      1-stop  12 PM - 6 PM     Chennai   \n",
       "452085  Ahmedabad   Before 6 AM      1-stop  12 PM - 6 PM     Chennai   \n",
       "452086  Ahmedabad  6 AM - 12 PM      1-stop    After 6 PM     Chennai   \n",
       "452087  Ahmedabad  6 AM - 12 PM      1-stop    After 6 PM     Chennai   \n",
       "\n",
       "        Duration_in_hours  Days_left   Fare  \n",
       "0                  2.0833          1   5335  \n",
       "1                  2.3333          1   5899  \n",
       "2                  2.1667          1   5801  \n",
       "3                  2.0833          1   5794  \n",
       "4                  2.1667          1   5955  \n",
       "...                   ...        ...    ...  \n",
       "452083            13.0833         50  65028  \n",
       "452084            11.2500         50  69254  \n",
       "452085            11.2500         50  69254  \n",
       "452086            11.1667         50  72980  \n",
       "452087            11.1667         50  72980  \n",
       "\n",
       "[452088 rows x 13 columns]"
      ]
     },
     "execution_count": 183,
     "metadata": {},
     "output_type": "execute_result"
    }
   ],
   "source": [
    "df"
   ]
  },
  {
   "cell_type": "code",
   "execution_count": 184,
   "metadata": {
    "colab": {
     "base_uri": "https://localhost:8080/"
    },
    "id": "FunU-y2pacC1",
    "outputId": "94aaa31b-aa5b-40fb-ff94-0d5782f422c2"
   },
   "outputs": [
    {
     "data": {
      "text/plain": [
       "Date_of_journey      0\n",
       "Journey_day          0\n",
       "Airline              0\n",
       "Flight_code          0\n",
       "Class                0\n",
       "Source               0\n",
       "Departure            0\n",
       "Total_stops          0\n",
       "Arrival              0\n",
       "Destination          0\n",
       "Duration_in_hours    0\n",
       "Days_left            0\n",
       "Fare                 0\n",
       "dtype: int64"
      ]
     },
     "execution_count": 184,
     "metadata": {},
     "output_type": "execute_result"
    }
   ],
   "source": [
    "df.isnull().sum()"
   ]
  },
  {
   "cell_type": "code",
   "execution_count": 185,
   "metadata": {
    "id": "hBnU_0sWad0_"
   },
   "outputs": [],
   "source": [
    "df['Date_of_journey'] = pd.to_datetime(df['Date_of_journey'], format='%Y-%m-%d')\n",
    "df[\"Day\"] = df[\"Date_of_journey\"].dt.day\n",
    "df[\"Month\"] = df[\"Date_of_journey\"].dt.month\n",
    "df[\"Year\"] = df[\"Date_of_journey\"].dt.year\n",
    "df.drop(columns=[\"Date_of_journey\"], inplace=True)"
   ]
  },
  {
   "cell_type": "code",
   "execution_count": 186,
   "metadata": {
    "id": "NJztkwPMbIJB"
   },
   "outputs": [],
   "source": [
    "encoder = OneHotEncoder(drop='first', sparse_output=False)"
   ]
  },
  {
   "cell_type": "code",
   "execution_count": 187,
   "metadata": {
    "id": "lrakRlrrbJnt"
   },
   "outputs": [],
   "source": [
    "columns_to_encode = ['Class', 'Source','Airline','Journey_day','Destination']"
   ]
  },
  {
   "cell_type": "code",
   "execution_count": 188,
   "metadata": {
    "id": "XpA2xn63bLC2"
   },
   "outputs": [],
   "source": [
    "one_hot_encoded_data = encoder.fit_transform(df[columns_to_encode])"
   ]
  },
  {
   "cell_type": "code",
   "execution_count": 189,
   "metadata": {
    "id": "c_DzcxLwbMlj"
   },
   "outputs": [],
   "source": [
    "one_hot_encoded_df = pd.DataFrame(one_hot_encoded_data, columns=encoder.get_feature_names_out(columns_to_encode))\n",
    "\n",
    "one_hot_encoded_df.index = df.index\n",
    "\n",
    "df.drop(columns=columns_to_encode, inplace=True)\n",
    "\n",
    "df = pd.concat([df, one_hot_encoded_df], axis=1)\n"
   ]
  },
  {
   "cell_type": "code",
   "execution_count": 190,
   "metadata": {
    "id": "KxccQjcPbN5a"
   },
   "outputs": [],
   "source": [
    "label_encoder = LabelEncoder()\n",
    "df[\"Total_stops_encoded\"] = label_encoder.fit_transform(df[\"Total_stops\"])\n",
    "\n",
    "df[\"Total_stops\"] = df[\"Total_stops_encoded\"]"
   ]
  },
  {
   "cell_type": "code",
   "execution_count": 191,
   "metadata": {
    "id": "L6dBZr7ebPbB"
   },
   "outputs": [],
   "source": [
    "df.drop(columns=[\"Flight_code\"], inplace=True)"
   ]
  },
  {
   "cell_type": "code",
   "execution_count": 192,
   "metadata": {
    "colab": {
     "base_uri": "https://localhost:8080/"
    },
    "id": "XYu76BgXbRF6",
    "outputId": "1b89abf4-2485-4062-c1ea-8ebc704fa0b0"
   },
   "outputs": [
    {
     "data": {
      "text/plain": [
       "array(['After 6 PM', 'Before 6 AM', '12 PM - 6 PM', '6 AM - 12 PM'],\n",
       "      dtype=object)"
      ]
     },
     "execution_count": 192,
     "metadata": {},
     "output_type": "execute_result"
    }
   ],
   "source": [
    "df[\"Departure\"].unique()"
   ]
  },
  {
   "cell_type": "code",
   "execution_count": 193,
   "metadata": {
    "colab": {
     "base_uri": "https://localhost:8080/"
    },
    "id": "1bt4_leUbSeN",
    "outputId": "91475792-bce3-4d25-94f3-5454934ff8d0"
   },
   "outputs": [
    {
     "data": {
      "text/plain": [
       "array(['After 6 PM', 'Before 6 AM', '6 AM - 12 PM', '12 PM - 6 PM'],\n",
       "      dtype=object)"
      ]
     },
     "execution_count": 193,
     "metadata": {},
     "output_type": "execute_result"
    }
   ],
   "source": [
    "df[\"Arrival\"].unique()"
   ]
  },
  {
   "cell_type": "code",
   "execution_count": 194,
   "metadata": {
    "id": "802vmovibUN_"
   },
   "outputs": [],
   "source": [
    "Time_Slots = ['After 6 PM', 'Before 6 AM', '12 PM - 6 PM', '6 AM - 12 PM']"
   ]
  },
  {
   "cell_type": "code",
   "execution_count": 195,
   "metadata": {
    "id": "7xRND4ZubViI"
   },
   "outputs": [],
   "source": [
    "encoder = OneHotEncoder(categories=[Time_Slots,Time_Slots], drop='first', sparse_output=False)"
   ]
  },
  {
   "cell_type": "code",
   "execution_count": 196,
   "metadata": {
    "id": "m2Q7OagXbWwZ"
   },
   "outputs": [],
   "source": [
    "one_hot_encoded_data = encoder.fit_transform(df[['Arrival', 'Departure']])\n",
    "\n",
    "feature_names = encoder.get_feature_names_out(['Arrival', 'Departure'])"
   ]
  },
  {
   "cell_type": "code",
   "execution_count": 197,
   "metadata": {
    "id": "IKqgp4SybX4w"
   },
   "outputs": [],
   "source": [
    "one_hot_encoded_df = pd.DataFrame(one_hot_encoded_data, columns=feature_names)\n",
    "one_hot_encoded_df.index = df.index"
   ]
  },
  {
   "cell_type": "code",
   "execution_count": 198,
   "metadata": {
    "id": "rigGMKKFbZRa"
   },
   "outputs": [],
   "source": [
    "df.drop(columns=['Arrival', 'Departure'], inplace=True)"
   ]
  },
  {
   "cell_type": "code",
   "execution_count": 199,
   "metadata": {
    "id": "_FURf3BEbak5"
   },
   "outputs": [],
   "source": [
    "df = pd.concat([df, one_hot_encoded_df], axis=1)"
   ]
  },
  {
   "cell_type": "code",
   "execution_count": 200,
   "metadata": {
    "colab": {
     "base_uri": "https://localhost:8080/"
    },
    "id": "Ex6GJvyybb3Q",
    "outputId": "e1c98b52-c9c5-4700-8b32-3f6928fbea34"
   },
   "outputs": [
    {
     "name": "stdout",
     "output_type": "stream",
     "text": [
      "<class 'pandas.core.frame.DataFrame'>\n",
      "RangeIndex: 452088 entries, 0 to 452087\n",
      "Data columns (total 43 columns):\n",
      " #   Column                  Non-Null Count   Dtype  \n",
      "---  ------                  --------------   -----  \n",
      " 0   Total_stops             452088 non-null  int64  \n",
      " 1   Duration_in_hours       452088 non-null  float64\n",
      " 2   Days_left               452088 non-null  int64  \n",
      " 3   Fare                    452088 non-null  int64  \n",
      " 4   Day                     452088 non-null  int32  \n",
      " 5   Month                   452088 non-null  int32  \n",
      " 6   Year                    452088 non-null  int32  \n",
      " 7   Class_Economy           452088 non-null  float64\n",
      " 8   Class_First             452088 non-null  float64\n",
      " 9   Class_Premium Economy   452088 non-null  float64\n",
      " 10  Source_Bangalore        452088 non-null  float64\n",
      " 11  Source_Chennai          452088 non-null  float64\n",
      " 12  Source_Delhi            452088 non-null  float64\n",
      " 13  Source_Hyderabad        452088 non-null  float64\n",
      " 14  Source_Kolkata          452088 non-null  float64\n",
      " 15  Source_Mumbai           452088 non-null  float64\n",
      " 16  Airline_AirAsia         452088 non-null  float64\n",
      " 17  Airline_AkasaAir        452088 non-null  float64\n",
      " 18  Airline_AllianceAir     452088 non-null  float64\n",
      " 19  Airline_GO FIRST        452088 non-null  float64\n",
      " 20  Airline_Indigo          452088 non-null  float64\n",
      " 21  Airline_SpiceJet        452088 non-null  float64\n",
      " 22  Airline_StarAir         452088 non-null  float64\n",
      " 23  Airline_Vistara         452088 non-null  float64\n",
      " 24  Journey_day_Monday      452088 non-null  float64\n",
      " 25  Journey_day_Saturday    452088 non-null  float64\n",
      " 26  Journey_day_Sunday      452088 non-null  float64\n",
      " 27  Journey_day_Thursday    452088 non-null  float64\n",
      " 28  Journey_day_Tuesday     452088 non-null  float64\n",
      " 29  Journey_day_Wednesday   452088 non-null  float64\n",
      " 30  Destination_Bangalore   452088 non-null  float64\n",
      " 31  Destination_Chennai     452088 non-null  float64\n",
      " 32  Destination_Delhi       452088 non-null  float64\n",
      " 33  Destination_Hyderabad   452088 non-null  float64\n",
      " 34  Destination_Kolkata     452088 non-null  float64\n",
      " 35  Destination_Mumbai      452088 non-null  float64\n",
      " 36  Total_stops_encoded     452088 non-null  int64  \n",
      " 37  Arrival_Before 6 AM     452088 non-null  float64\n",
      " 38  Arrival_12 PM - 6 PM    452088 non-null  float64\n",
      " 39  Arrival_6 AM - 12 PM    452088 non-null  float64\n",
      " 40  Departure_Before 6 AM   452088 non-null  float64\n",
      " 41  Departure_12 PM - 6 PM  452088 non-null  float64\n",
      " 42  Departure_6 AM - 12 PM  452088 non-null  float64\n",
      "dtypes: float64(36), int32(3), int64(4)\n",
      "memory usage: 143.1 MB\n"
     ]
    }
   ],
   "source": [
    "df.info()"
   ]
  },
  {
   "cell_type": "code",
   "execution_count": 201,
   "metadata": {
    "id": "FTOJMBagbdIK"
   },
   "outputs": [],
   "source": [
    "import statsmodels.api as sm\n",
    "from statsmodels.stats.outliers_influence import variance_inflation_factor"
   ]
  },
  {
   "cell_type": "code",
   "execution_count": 202,
   "metadata": {
    "id": "XL9EVCrubgzc"
   },
   "outputs": [],
   "source": [
    "y = df['Fare']\n",
    "X = df.drop(columns=['Fare'])"
   ]
  },
  {
   "cell_type": "code",
   "execution_count": 203,
   "metadata": {
    "id": "GVOu1KXObiby"
   },
   "outputs": [],
   "source": [
    "X = sm.add_constant(X)"
   ]
  },
  {
   "cell_type": "code",
   "execution_count": 204,
   "metadata": {
    "id": "wZ6ibFHrbjt2"
   },
   "outputs": [],
   "source": [
    "model = sm.OLS(y, X).fit()"
   ]
  },
  {
   "cell_type": "code",
   "execution_count": 205,
   "metadata": {
    "colab": {
     "base_uri": "https://localhost:8080/"
    },
    "id": "UA-y_zlpbk-E",
    "outputId": "b754f151-ed61-4ab9-8b3a-688abbcb4465"
   },
   "outputs": [
    {
     "name": "stdout",
     "output_type": "stream",
     "text": [
      "                            OLS Regression Results                            \n",
      "==============================================================================\n",
      "Dep. Variable:                   Fare   R-squared:                       0.850\n",
      "Model:                            OLS   Adj. R-squared:                  0.850\n",
      "Method:                 Least Squares   F-statistic:                 6.385e+04\n",
      "Date:                Wed, 22 May 2024   Prob (F-statistic):               0.00\n",
      "Time:                        19:54:37   Log-Likelihood:            -4.6974e+06\n",
      "No. Observations:              452088   AIC:                         9.395e+06\n",
      "Df Residuals:                  452047   BIC:                         9.395e+06\n",
      "Df Model:                          40                                         \n",
      "Covariance Type:            nonrobust                                         \n",
      "==========================================================================================\n",
      "                             coef    std err          t      P>|t|      [0.025      0.975]\n",
      "------------------------------------------------------------------------------------------\n",
      "Total_stops            -1661.0606      9.986   -166.333      0.000   -1680.633   -1641.488\n",
      "Duration_in_hours         68.9319      1.975     34.900      0.000      65.061      72.803\n",
      "Days_left              -1053.8873     16.922    -62.280      0.000   -1087.054   -1020.721\n",
      "Day                      932.5345     17.121     54.469      0.000     898.979     966.090\n",
      "Month                   2.717e+04    508.011     53.489      0.000    2.62e+04    2.82e+04\n",
      "Year                       4.9310      0.377     13.097      0.000       4.193       5.669\n",
      "Class_Economy          -3.965e+04     30.163  -1314.646      0.000   -3.97e+04   -3.96e+04\n",
      "Class_First             1.805e+04    658.106     27.430      0.000    1.68e+04    1.93e+04\n",
      "Class_Premium Economy  -3.679e+04     39.124   -940.269      0.000   -3.69e+04   -3.67e+04\n",
      "Source_Bangalore         831.7001     48.241     17.241      0.000     737.150     926.250\n",
      "Source_Chennai           770.3576     50.985     15.109      0.000     670.428     870.287\n",
      "Source_Delhi           -1200.6166     47.367    -25.347      0.000   -1293.454   -1107.780\n",
      "Source_Hyderabad        -210.3223     50.597     -4.157      0.000    -309.491    -111.154\n",
      "Source_Kolkata          4220.5285     50.745     83.171      0.000    4121.069    4319.988\n",
      "Source_Mumbai           1098.7692     47.470     23.147      0.000    1005.730    1191.808\n",
      "Airline_AirAsia        -1503.2467     69.626    -21.590      0.000   -1639.711   -1366.782\n",
      "Airline_AkasaAir         792.7544    173.176      4.578      0.000     453.335    1132.173\n",
      "Airline_AllianceAir      881.4545    399.640      2.206      0.027      98.171    1664.738\n",
      "Airline_GO FIRST         291.9297     81.797      3.569      0.000     131.610     452.250\n",
      "Airline_Indigo            79.0845     45.042      1.756      0.079      -9.197     167.366\n",
      "Airline_SpiceJet        -197.8752    106.623     -1.856      0.063    -406.853      11.103\n",
      "Airline_StarAir         4984.8934   1001.318      4.978      0.000    3022.340    6947.447\n",
      "Airline_Vistara         4048.7357     30.494    132.770      0.000    3988.968    4108.504\n",
      "Journey_day_Monday        43.5150     42.956      1.013      0.311     -40.676     127.706\n",
      "Journey_day_Saturday     109.8899     44.353      2.478      0.013      22.960     196.820\n",
      "Journey_day_Sunday       563.7660     44.519     12.663      0.000     476.509     651.023\n",
      "Journey_day_Thursday    -337.3919     44.046     -7.660      0.000    -423.721    -251.063\n",
      "Journey_day_Tuesday     -333.8940     44.790     -7.455      0.000    -421.681    -246.107\n",
      "Journey_day_Wednesday     23.6959     44.255      0.535      0.592     -63.043     110.435\n",
      "Destination_Bangalore   1977.5339     48.350     40.900      0.000    1882.769    2072.299\n",
      "Destination_Chennai     2559.9141     50.449     50.742      0.000    2461.035    2658.793\n",
      "Destination_Delhi          3.3814     48.214      0.070      0.944     -91.116      97.879\n",
      "Destination_Hyderabad    809.8314     49.567     16.338      0.000     712.682     906.981\n",
      "Destination_Kolkata     4769.1190     50.907     93.683      0.000    4669.343    4868.895\n",
      "Destination_Mumbai      2439.3835     47.304     51.568      0.000    2346.669    2532.098\n",
      "Total_stops_encoded    -1661.0606      9.986   -166.333      0.000   -1680.633   -1641.488\n",
      "Arrival_Before 6 AM    -1728.4749     50.110    -34.494      0.000   -1826.689   -1630.261\n",
      "Arrival_12 PM - 6 PM      59.3435     31.002      1.914      0.056      -1.419     120.106\n",
      "Arrival_6 AM - 12 PM   -1893.0021     29.588    -63.979      0.000   -1950.993   -1835.011\n",
      "Departure_Before 6 AM   -369.4529     58.063     -6.363      0.000    -483.255    -255.651\n",
      "Departure_12 PM - 6 PM   210.1227     33.101      6.348      0.000     145.246     274.999\n",
      "Departure_6 AM - 12 PM   246.0959     29.932      8.222      0.000     187.429     304.762\n",
      "==============================================================================\n",
      "Omnibus:                   120605.513   Durbin-Watson:                   0.315\n",
      "Prob(Omnibus):                  0.000   Jarque-Bera (JB):           918319.792\n",
      "Skew:                           1.079   Prob(JB):                         0.00\n",
      "Kurtosis:                       9.641   Cond. No.                     1.86e+18\n",
      "==============================================================================\n",
      "\n",
      "Notes:\n",
      "[1] Standard Errors assume that the covariance matrix of the errors is correctly specified.\n",
      "[2] The smallest eigenvalue is 5.38e-25. This might indicate that there are\n",
      "strong multicollinearity problems or that the design matrix is singular.\n"
     ]
    }
   ],
   "source": [
    "print(model.summary())"
   ]
  },
  {
   "cell_type": "code",
   "execution_count": 206,
   "metadata": {
    "colab": {
     "base_uri": "https://localhost:8080/"
    },
    "id": "7KlRthACboBs",
    "outputId": "fed580c6-7e94-42bf-95f2-704f17c84e48"
   },
   "outputs": [
    {
     "name": "stderr",
     "output_type": "stream",
     "text": [
      "/usr/local/lib/python3.10/dist-packages/statsmodels/stats/outliers_influence.py:197: RuntimeWarning: divide by zero encountered in scalar divide\n",
      "  vif = 1. / (1. - r_squared_i)\n"
     ]
    },
    {
     "name": "stdout",
     "output_type": "stream",
     "text": [
      "                   Feature          VIF\n",
      "0              Total_stops          inf\n",
      "1        Duration_in_hours     1.570360\n",
      "2                Days_left   426.854725\n",
      "3                      Day   176.346354\n",
      "4                    Month   745.900733\n",
      "5                     Year  4228.517933\n",
      "6            Class_Economy     1.635916\n",
      "7              Class_First     1.005208\n",
      "8    Class_Premium Economy     1.511946\n",
      "9         Source_Bangalore     2.306218\n",
      "10          Source_Chennai     2.072468\n",
      "11            Source_Delhi     2.454650\n",
      "12        Source_Hyderabad     2.045468\n",
      "13          Source_Kolkata     2.023243\n",
      "14           Source_Mumbai     2.409069\n",
      "15         Airline_AirAsia     1.189139\n",
      "16        Airline_AkasaAir     1.072930\n",
      "17     Airline_AllianceAir     1.011099\n",
      "18        Airline_GO FIRST     1.135770\n",
      "19          Airline_Indigo     1.835800\n",
      "20        Airline_SpiceJet     1.060705\n",
      "21         Airline_StarAir     1.002113\n",
      "22         Airline_Vistara     1.693526\n",
      "23      Journey_day_Monday     1.805282\n",
      "24    Journey_day_Saturday     1.708611\n",
      "25      Journey_day_Sunday     1.712987\n",
      "26    Journey_day_Thursday     1.722659\n",
      "27     Journey_day_Tuesday     1.763111\n",
      "28   Journey_day_Wednesday     1.727589\n",
      "29   Destination_Bangalore     2.290396\n",
      "30     Destination_Chennai     2.062110\n",
      "31       Destination_Delhi     2.412535\n",
      "32   Destination_Hyderabad     2.134565\n",
      "33     Destination_Kolkata     2.000942\n",
      "34      Destination_Mumbai     2.444540\n",
      "35     Total_stops_encoded          inf\n",
      "36     Arrival_Before 6 AM     1.160752\n",
      "37    Arrival_12 PM - 6 PM     1.218973\n",
      "38    Arrival_6 AM - 12 PM     1.241788\n",
      "39   Departure_Before 6 AM     1.204366\n",
      "40  Departure_12 PM - 6 PM     1.521414\n",
      "41  Departure_6 AM - 12 PM     1.578744\n"
     ]
    }
   ],
   "source": [
    "vif_data = pd.DataFrame()\n",
    "vif_data[\"Feature\"] = X.columns\n",
    "vif_data[\"VIF\"] = [variance_inflation_factor(X.values, i) for i in range(X.shape[1])]\n",
    "\n",
    "print(vif_data)"
   ]
  },
  {
   "cell_type": "code",
   "execution_count": 207,
   "metadata": {
    "id": "2hiR9_Mobyfg"
   },
   "outputs": [],
   "source": [
    "# Extract p-values\n",
    "p_values = model.pvalues"
   ]
  },
  {
   "cell_type": "code",
   "execution_count": 208,
   "metadata": {
    "id": "5Dd5yzQTbyU3"
   },
   "outputs": [],
   "source": [
    "threshold = 0.05"
   ]
  },
  {
   "cell_type": "code",
   "execution_count": 209,
   "metadata": {
    "id": "9XwjbO81bx9I"
   },
   "outputs": [],
   "source": [
    "features_above_threshold = p_values[p_values > threshold]"
   ]
  },
  {
   "cell_type": "code",
   "execution_count": 210,
   "metadata": {
    "colab": {
     "base_uri": "https://localhost:8080/"
    },
    "id": "7TZurU_LbulG",
    "outputId": "c5fb5a39-5e26-43db-96e4-df0d3294a0cd"
   },
   "outputs": [
    {
     "name": "stdout",
     "output_type": "stream",
     "text": [
      "Features with p-value greater than 0.05:\n",
      "Airline_Indigo           0.079127\n",
      "Airline_SpiceJet         0.063478\n",
      "Journey_day_Monday       0.311049\n",
      "Journey_day_Wednesday    0.592350\n",
      "Destination_Delhi        0.944088\n",
      "Arrival_12 PM - 6 PM     0.055597\n",
      "dtype: float64\n"
     ]
    }
   ],
   "source": [
    "print(\"Features with p-value greater than 0.05:\")\n",
    "print(features_above_threshold)"
   ]
  },
  {
   "cell_type": "code",
   "execution_count": 211,
   "metadata": {
    "id": "pWp27StWdGna"
   },
   "outputs": [],
   "source": [
    "# Drop the 'Destination_Delhi' column as it has the highest value of p\n",
    "X = X.drop(columns=['Destination_Delhi'])"
   ]
  },
  {
   "cell_type": "markdown",
   "metadata": {
    "id": "HAq1GMWUeQbE"
   },
   "source": [
    "So we have dropped the column with the highest p value and now we will fil this on OLS to see what changes we got."
   ]
  },
  {
   "cell_type": "code",
   "execution_count": 212,
   "metadata": {
    "id": "6kNt_VzydJwo"
   },
   "outputs": [],
   "source": [
    "# Add a constant term to the feature matrix\n",
    "X = sm.add_constant(X)\n",
    "model = sm.OLS(y, X).fit()"
   ]
  },
  {
   "cell_type": "code",
   "execution_count": 213,
   "metadata": {
    "colab": {
     "base_uri": "https://localhost:8080/"
    },
    "id": "ZKKG2HIEed_Q",
    "outputId": "0a60863e-8df3-4c01-b238-4fb6168430f4"
   },
   "outputs": [
    {
     "name": "stdout",
     "output_type": "stream",
     "text": [
      "                            OLS Regression Results                            \n",
      "==============================================================================\n",
      "Dep. Variable:                   Fare   R-squared:                       0.850\n",
      "Model:                            OLS   Adj. R-squared:                  0.850\n",
      "Method:                 Least Squares   F-statistic:                 6.549e+04\n",
      "Date:                Wed, 22 May 2024   Prob (F-statistic):               0.00\n",
      "Time:                        19:59:17   Log-Likelihood:            -4.6974e+06\n",
      "No. Observations:              452088   AIC:                         9.395e+06\n",
      "Df Residuals:                  452048   BIC:                         9.395e+06\n",
      "Df Model:                          39                                         \n",
      "Covariance Type:            nonrobust                                         \n",
      "==========================================================================================\n",
      "                             coef    std err          t      P>|t|      [0.025      0.975]\n",
      "------------------------------------------------------------------------------------------\n",
      "Total_stops            -1661.0393      9.982   -166.408      0.000   -1680.603   -1641.475\n",
      "Duration_in_hours         68.9214      1.970     34.994      0.000      65.061      72.782\n",
      "Days_left              -1053.8999     16.921    -62.284      0.000   -1087.064   -1020.736\n",
      "Day                      932.5462     17.120     54.472      0.000     898.992     966.100\n",
      "Month                   2.717e+04    507.986     53.493      0.000    2.62e+04    2.82e+04\n",
      "Year                       4.9320      0.376     13.109      0.000       4.195       5.669\n",
      "Class_Economy          -3.965e+04     30.159  -1314.791      0.000   -3.97e+04   -3.96e+04\n",
      "Class_First             1.805e+04    658.088     27.431      0.000    1.68e+04    1.93e+04\n",
      "Class_Premium Economy  -3.679e+04     39.120   -940.361      0.000   -3.69e+04   -3.67e+04\n",
      "Source_Bangalore         831.5436     48.189     17.256      0.000     737.095     925.992\n",
      "Source_Chennai           770.1630     50.910     15.128      0.000     670.382     869.944\n",
      "Source_Delhi           -1201.1476     46.758    -25.689      0.000   -1292.791   -1109.504\n",
      "Source_Hyderabad        -210.5626     50.481     -4.171      0.000    -309.504    -111.622\n",
      "Source_Kolkata          4220.3345     50.670     83.291      0.000    4121.023    4319.646\n",
      "Source_Mumbai           1098.4994     47.314     23.217      0.000    1005.766    1191.233\n",
      "Airline_AirAsia        -1503.0576     69.573    -21.604      0.000   -1639.419   -1366.696\n",
      "Airline_AkasaAir         792.2770    173.042      4.579      0.000     453.121    1131.433\n",
      "Airline_AllianceAir      881.1244    399.612      2.205      0.027      97.897    1664.352\n",
      "Airline_GO FIRST         292.0876     81.766      3.572      0.000     131.829     452.347\n",
      "Airline_Indigo            78.9067     44.971      1.755      0.079      -9.235     167.048\n",
      "Airline_SpiceJet        -197.7223    106.601     -1.855      0.064    -406.657      11.212\n",
      "Airline_StarAir         4984.4418   1001.297      4.978      0.000    3021.931    6946.952\n",
      "Airline_Vistara         4048.6573     30.474    132.857      0.000    3988.929    4108.385\n",
      "Journey_day_Monday        43.5185     42.955      1.013      0.311     -40.673     127.710\n",
      "Journey_day_Saturday     109.8809     44.353      2.477      0.013      22.951     196.810\n",
      "Journey_day_Sunday       563.7751     44.519     12.664      0.000     476.519     651.031\n",
      "Journey_day_Thursday    -337.4135     44.045     -7.661      0.000    -423.740    -251.087\n",
      "Journey_day_Tuesday     -333.8952     44.790     -7.455      0.000    -421.682    -246.108\n",
      "Journey_day_Wednesday     23.7007     44.255      0.536      0.592     -63.038     110.440\n",
      "Destination_Bangalore   1975.4547     38.195     51.721      0.000    1900.595    2050.315\n",
      "Destination_Chennai     2557.8488     40.963     62.443      0.000    2477.563    2638.135\n",
      "Destination_Hyderabad    807.7383     39.575     20.411      0.000     730.173     885.303\n",
      "Destination_Kolkata     4767.0439     41.426    115.075      0.000    4685.851    4848.237\n",
      "Destination_Mumbai      2437.2634     36.384     66.987      0.000    2365.952    2508.575\n",
      "Total_stops_encoded    -1661.0393      9.982   -166.408      0.000   -1680.603   -1641.475\n",
      "Arrival_Before 6 AM    -1728.2014     49.958    -34.593      0.000   -1826.118   -1630.285\n",
      "Arrival_12 PM - 6 PM      59.4363     30.974      1.919      0.055      -1.271     120.144\n",
      "Arrival_6 AM - 12 PM   -1893.0104     29.587    -63.980      0.000   -1951.001   -1835.020\n",
      "Departure_Before 6 AM   -369.2811     58.011     -6.366      0.000    -482.981    -255.581\n",
      "Departure_12 PM - 6 PM   210.1182     33.101      6.348      0.000     145.242     274.994\n",
      "Departure_6 AM - 12 PM   246.0857     29.932      8.221      0.000     187.420     304.751\n",
      "==============================================================================\n",
      "Omnibus:                   120602.834   Durbin-Watson:                   0.315\n",
      "Prob(Omnibus):                  0.000   Jarque-Bera (JB):           918307.334\n",
      "Skew:                           1.079   Prob(JB):                         0.00\n",
      "Kurtosis:                       9.641   Cond. No.                     1.83e+18\n",
      "==============================================================================\n",
      "\n",
      "Notes:\n",
      "[1] Standard Errors assume that the covariance matrix of the errors is correctly specified.\n",
      "[2] The smallest eigenvalue is 5.53e-25. This might indicate that there are\n",
      "strong multicollinearity problems or that the design matrix is singular.\n"
     ]
    }
   ],
   "source": [
    "print(model.summary())"
   ]
  },
  {
   "cell_type": "markdown",
   "metadata": {
    "id": "xBLgZPAJiGGR"
   },
   "source": [
    "We didnt see any changes lets try droppping another values with highest p now"
   ]
  },
  {
   "cell_type": "code",
   "execution_count": 214,
   "metadata": {
    "colab": {
     "base_uri": "https://localhost:8080/"
    },
    "id": "VLE2HFfHi6oY",
    "outputId": "73364936-cd37-4686-95c2-36027cd3ba17"
   },
   "outputs": [
    {
     "name": "stdout",
     "output_type": "stream",
     "text": [
      "Features with p-value greater than 0.05:\n",
      "Airline_Indigo           0.079326\n",
      "Airline_SpiceJet         0.063627\n",
      "Journey_day_Monday       0.311009\n",
      "Journey_day_Wednesday    0.592274\n",
      "Arrival_12 PM - 6 PM     0.054994\n",
      "dtype: float64\n"
     ]
    }
   ],
   "source": [
    "def extract_features_above_threshold(model, threshold=0.05):\n",
    "    \"\"\"\n",
    "    Extract features with p-values greater than a specified threshold from the model.\n",
    "\n",
    "    Args:\n",
    "    - model: Fitted statsmodels regression model.\n",
    "    - threshold (float): Threshold for p-values. Default is 0.05.\n",
    "\n",
    "    Returns:\n",
    "    - features_above_threshold: Series containing features with p-values greater than the threshold.\n",
    "    \"\"\"\n",
    "    # Extract p-values\n",
    "    p_values = model.pvalues\n",
    "\n",
    "    # Filter features with p-values greater than the threshold\n",
    "    features_above_threshold = p_values[p_values > threshold]\n",
    "\n",
    "    return features_above_threshold\n",
    "\n",
    "# Usage example\n",
    "features_above_threshold = extract_features_above_threshold(model)\n",
    "print(\"Features with p-value greater than 0.05:\")\n",
    "print(features_above_threshold)\n"
   ]
  },
  {
   "cell_type": "code",
   "execution_count": 215,
   "metadata": {
    "id": "atbRQiwJjCrM"
   },
   "outputs": [],
   "source": [
    "# Drop the 'Journey_day_Wednesday' column as it has the highest value of p\n",
    "X = X.drop(columns=['Journey_day_Wednesday'])"
   ]
  },
  {
   "cell_type": "code",
   "execution_count": 216,
   "metadata": {
    "id": "z7-h879wjyR9"
   },
   "outputs": [],
   "source": [
    "X = sm.add_constant(X)\n",
    "model = sm.OLS(y, X).fit()"
   ]
  },
  {
   "cell_type": "code",
   "execution_count": 217,
   "metadata": {
    "colab": {
     "base_uri": "https://localhost:8080/"
    },
    "id": "bvbisy81j3Km",
    "outputId": "e7f2ec23-6e1e-4cce-c52a-0276b5edd873"
   },
   "outputs": [
    {
     "name": "stdout",
     "output_type": "stream",
     "text": [
      "                            OLS Regression Results                            \n",
      "==============================================================================\n",
      "Dep. Variable:                   Fare   R-squared:                       0.850\n",
      "Model:                            OLS   Adj. R-squared:                  0.850\n",
      "Method:                 Least Squares   F-statistic:                 6.721e+04\n",
      "Date:                Wed, 22 May 2024   Prob (F-statistic):               0.00\n",
      "Time:                        19:59:38   Log-Likelihood:            -4.6974e+06\n",
      "No. Observations:              452088   AIC:                         9.395e+06\n",
      "Df Residuals:                  452049   BIC:                         9.395e+06\n",
      "Df Model:                          38                                         \n",
      "Covariance Type:            nonrobust                                         \n",
      "==========================================================================================\n",
      "                             coef    std err          t      P>|t|      [0.025      0.975]\n",
      "------------------------------------------------------------------------------------------\n",
      "Total_stops            -1661.0361      9.982   -166.408      0.000   -1680.600   -1641.472\n",
      "Duration_in_hours         68.9226      1.970     34.994      0.000      65.062      72.783\n",
      "Days_left              -1053.8709     16.921    -62.283      0.000   -1087.035   -1020.707\n",
      "Day                      932.4346     17.118     54.470      0.000     898.883     965.986\n",
      "Month                   2.717e+04    507.977     53.491      0.000    2.62e+04    2.82e+04\n",
      "Year                       4.9397      0.376     13.139      0.000       4.203       5.677\n",
      "Class_Economy          -3.965e+04     30.159  -1314.799      0.000   -3.97e+04   -3.96e+04\n",
      "Class_First             1.805e+04    658.087     27.431      0.000    1.68e+04    1.93e+04\n",
      "Class_Premium Economy  -3.679e+04     39.120   -940.370      0.000   -3.69e+04   -3.67e+04\n",
      "Source_Bangalore         831.5662     48.189     17.256      0.000     737.118     926.015\n",
      "Source_Chennai           770.2262     50.909     15.129      0.000     670.445     870.007\n",
      "Source_Delhi           -1201.0868     46.757    -25.688      0.000   -1292.730   -1109.444\n",
      "Source_Hyderabad        -210.6010     50.481     -4.172      0.000    -309.542    -111.660\n",
      "Source_Kolkata          4220.4061     50.670     83.292      0.000    4121.095    4319.717\n",
      "Source_Mumbai           1098.5337     47.313     23.218      0.000    1005.801    1191.267\n",
      "Airline_AirAsia        -1503.0180     69.573    -21.603      0.000   -1639.380   -1366.656\n",
      "Airline_AkasaAir         792.0985    173.041      4.578      0.000     452.943    1131.254\n",
      "Airline_AllianceAir      880.9641    399.612      2.205      0.027      97.737    1664.191\n",
      "Airline_GO FIRST         291.9700     81.766      3.571      0.000     131.712     452.228\n",
      "Airline_Indigo            78.8577     44.971      1.754      0.080      -9.284     166.999\n",
      "Airline_SpiceJet        -197.9058    106.600     -1.857      0.063    -406.839      11.027\n",
      "Airline_StarAir         4985.7543   1001.293      4.979      0.000    3023.251    6948.257\n",
      "Airline_Vistara         4048.6089     30.474    132.856      0.000    3988.881    4108.337\n",
      "Journey_day_Monday        31.9361     37.114      0.860      0.390     -40.806     104.678\n",
      "Journey_day_Saturday      98.2242     38.644      2.542      0.011      22.483     173.966\n",
      "Journey_day_Sunday       552.1948     38.915     14.190      0.000     475.922     628.467\n",
      "Journey_day_Thursday    -349.2336     38.116     -9.162      0.000    -423.940    -274.528\n",
      "Journey_day_Tuesday     -345.3850     39.317     -8.785      0.000    -422.445    -268.325\n",
      "Destination_Bangalore   1975.5196     38.194     51.723      0.000    1900.660    2050.379\n",
      "Destination_Chennai     2557.8354     40.963     62.443      0.000    2477.549    2638.121\n",
      "Destination_Hyderabad    807.7638     39.574     20.411      0.000     730.199     885.329\n",
      "Destination_Kolkata     4767.0696     41.426    115.075      0.000    4685.877    4848.262\n",
      "Destination_Mumbai      2437.2673     36.384     66.987      0.000    2365.956    2508.579\n",
      "Total_stops_encoded    -1661.0361      9.982   -166.408      0.000   -1680.600   -1641.472\n",
      "Arrival_Before 6 AM    -1728.1980     49.958    -34.593      0.000   -1826.114   -1630.282\n",
      "Arrival_12 PM - 6 PM      59.4307     30.974      1.919      0.055      -1.277     120.138\n",
      "Arrival_6 AM - 12 PM   -1893.0309     29.587    -63.981      0.000   -1951.021   -1835.041\n",
      "Departure_Before 6 AM   -369.1776     58.011     -6.364      0.000    -482.877    -255.478\n",
      "Departure_12 PM - 6 PM   210.0422     33.100      6.346      0.000     145.167     274.918\n",
      "Departure_6 AM - 12 PM   246.1095     29.932      8.222      0.000     187.444     304.775\n",
      "==============================================================================\n",
      "Omnibus:                   120607.137   Durbin-Watson:                   0.315\n",
      "Prob(Omnibus):                  0.000   Jarque-Bera (JB):           918369.133\n",
      "Skew:                           1.079   Prob(JB):                         0.00\n",
      "Kurtosis:                       9.641   Cond. No.                     1.83e+18\n",
      "==============================================================================\n",
      "\n",
      "Notes:\n",
      "[1] Standard Errors assume that the covariance matrix of the errors is correctly specified.\n",
      "[2] The smallest eigenvalue is 5.53e-25. This might indicate that there are\n",
      "strong multicollinearity problems or that the design matrix is singular.\n"
     ]
    }
   ],
   "source": [
    "print(model.summary())"
   ]
  },
  {
   "cell_type": "markdown",
   "metadata": {
    "id": "egQ_YcWRkIyM"
   },
   "source": [
    "Still No Effect, Let's repeat this process till we see any changes or we have all values less than 0.05"
   ]
  },
  {
   "cell_type": "code",
   "execution_count": 218,
   "metadata": {
    "colab": {
     "base_uri": "https://localhost:8080/"
    },
    "id": "LsogVkC-j_vR",
    "outputId": "5628f2db-db3c-48ba-8da6-3713223362fb"
   },
   "outputs": [
    {
     "name": "stdout",
     "output_type": "stream",
     "text": [
      "Features with p-value greater than 0.05:\n",
      "Airline_Indigo          0.079512\n",
      "Airline_SpiceJet        0.063380\n",
      "Journey_day_Monday      0.389517\n",
      "Arrival_12 PM - 6 PM    0.055017\n",
      "dtype: float64\n"
     ]
    }
   ],
   "source": [
    " def extract_features_above_threshold(model, threshold=0.05):\n",
    "    \"\"\"\n",
    "    Extract features with p-values greater than a specified threshold from the model.\n",
    "\n",
    "    Args:\n",
    "    - model: Fitted statsmodels regression model.\n",
    "    - threshold (float): Threshold for p-values. Default is 0.05.\n",
    "\n",
    "    Returns:\n",
    "    - features_above_threshold: Series containing features with p-values greater than the threshold.\n",
    "    \"\"\"\n",
    "    # Extract p-values\n",
    "    p_values = model.pvalues\n",
    "\n",
    "    # Filter features with p-values greater than the threshold\n",
    "    features_above_threshold = p_values[p_values > threshold]\n",
    "\n",
    "    return features_above_threshold\n",
    "\n",
    "# Usage example\n",
    "features_above_threshold = extract_features_above_threshold(model)\n",
    "print(\"Features with p-value greater than 0.05:\")\n",
    "print(features_above_threshold)\n"
   ]
  },
  {
   "cell_type": "markdown",
   "metadata": {
    "id": "y2Q2d4hFk8cu"
   },
   "source": [
    "We see this time \"Journey_day_Monday\" has highest p value"
   ]
  },
  {
   "cell_type": "code",
   "execution_count": 219,
   "metadata": {
    "id": "h1cEyd_Gk6zz"
   },
   "outputs": [],
   "source": [
    "# Drop the 'Journey_day_Monday' column as it has the highest value of p\n",
    "X = X.drop(columns=['Journey_day_Monday'])"
   ]
  },
  {
   "cell_type": "code",
   "execution_count": 220,
   "metadata": {
    "id": "Kuad1wQnlOBG"
   },
   "outputs": [],
   "source": [
    "X = sm.add_constant(X)\n",
    "model = sm.OLS(y, X).fit()"
   ]
  },
  {
   "cell_type": "code",
   "execution_count": 221,
   "metadata": {
    "colab": {
     "base_uri": "https://localhost:8080/"
    },
    "id": "-Sx_rhOGlUPi",
    "outputId": "77348a39-c9bd-4fbc-da35-0d33c0fa01fb"
   },
   "outputs": [
    {
     "name": "stdout",
     "output_type": "stream",
     "text": [
      "                            OLS Regression Results                            \n",
      "==============================================================================\n",
      "Dep. Variable:                   Fare   R-squared:                       0.850\n",
      "Model:                            OLS   Adj. R-squared:                  0.850\n",
      "Method:                 Least Squares   F-statistic:                 6.903e+04\n",
      "Date:                Wed, 22 May 2024   Prob (F-statistic):               0.00\n",
      "Time:                        20:01:26   Log-Likelihood:            -4.6974e+06\n",
      "No. Observations:              452088   AIC:                         9.395e+06\n",
      "Df Residuals:                  452050   BIC:                         9.395e+06\n",
      "Df Model:                          37                                         \n",
      "Covariance Type:            nonrobust                                         \n",
      "==========================================================================================\n",
      "                             coef    std err          t      P>|t|      [0.025      0.975]\n",
      "------------------------------------------------------------------------------------------\n",
      "Total_stops            -1661.0287      9.982   -166.407      0.000   -1680.593   -1641.465\n",
      "Duration_in_hours         68.9197      1.970     34.993      0.000      65.060      72.780\n",
      "Days_left              -1054.3955     16.910    -62.354      0.000   -1087.538   -1021.253\n",
      "Day                      933.1798     17.097     54.583      0.000     899.671     966.689\n",
      "Month                   2.719e+04    507.593     53.565      0.000    2.62e+04    2.82e+04\n",
      "Year                       4.9311      0.376     13.121      0.000       4.194       5.668\n",
      "Class_Economy          -3.965e+04     30.159  -1314.810      0.000   -3.97e+04   -3.96e+04\n",
      "Class_First             1.805e+04    658.086     27.433      0.000    1.68e+04    1.93e+04\n",
      "Class_Premium Economy  -3.679e+04     39.120   -940.372      0.000   -3.69e+04   -3.67e+04\n",
      "Source_Bangalore         831.5001     48.189     17.255      0.000     737.052     925.949\n",
      "Source_Chennai           770.2244     50.909     15.129      0.000     670.444     870.005\n",
      "Source_Delhi           -1201.0011     46.757    -25.686      0.000   -1292.644   -1109.358\n",
      "Source_Hyderabad        -210.7415     50.481     -4.175      0.000    -309.682    -111.801\n",
      "Source_Kolkata          4220.4733     50.670     83.294      0.000    4121.162    4319.784\n",
      "Source_Mumbai           1098.6574     47.313     23.221      0.000    1005.925    1191.390\n",
      "Airline_AirAsia        -1502.9434     69.573    -21.602      0.000   -1639.305   -1366.582\n",
      "Airline_AkasaAir         792.1548    173.041      4.578      0.000     453.000    1131.310\n",
      "Airline_AllianceAir      881.2146    399.612      2.205      0.027      97.988    1664.441\n",
      "Airline_GO FIRST         292.1863     81.765      3.573      0.000     131.929     452.444\n",
      "Airline_Indigo            78.9144     44.971      1.755      0.079      -9.227     167.056\n",
      "Airline_SpiceJet        -197.8021    106.600     -1.856      0.064    -406.735      11.131\n",
      "Airline_StarAir         4984.6448   1001.292      4.978      0.000    3022.144    6947.146\n",
      "Airline_Vistara         4048.6580     30.474    132.858      0.000    3988.931    4108.386\n",
      "Journey_day_Saturday      86.4909     36.159      2.392      0.017      15.621     157.361\n",
      "Journey_day_Sunday       540.2611     36.360     14.859      0.000     468.996     611.526\n",
      "Journey_day_Thursday    -360.5203     35.788    -10.074      0.000    -430.664    -290.377\n",
      "Journey_day_Tuesday     -357.6830     36.628     -9.765      0.000    -429.472    -285.894\n",
      "Destination_Bangalore   1975.6176     38.194     51.726      0.000    1900.758    2050.477\n",
      "Destination_Chennai     2557.9174     40.963     62.445      0.000    2477.632    2638.203\n",
      "Destination_Hyderabad    807.9329     39.574     20.416      0.000     730.369     885.497\n",
      "Destination_Kolkata     4767.1655     41.425    115.078      0.000    4685.973    4848.358\n",
      "Destination_Mumbai      2437.4153     36.384     66.992      0.000    2366.104    2508.726\n",
      "Total_stops_encoded    -1661.0287      9.982   -166.407      0.000   -1680.593   -1641.465\n",
      "Arrival_Before 6 AM    -1728.1848     49.958    -34.593      0.000   -1826.101   -1630.269\n",
      "Arrival_12 PM - 6 PM      59.5734     30.973      1.923      0.054      -1.133     120.280\n",
      "Arrival_6 AM - 12 PM   -1893.0232     29.587    -63.981      0.000   -1951.013   -1835.033\n",
      "Departure_Before 6 AM   -369.4117     58.010     -6.368      0.000    -483.110    -255.713\n",
      "Departure_12 PM - 6 PM   210.0021     33.100      6.344      0.000     145.127     274.878\n",
      "Departure_6 AM - 12 PM   245.8235     29.930      8.213      0.000     187.161     304.486\n",
      "==============================================================================\n",
      "Omnibus:                   120614.020   Durbin-Watson:                   0.315\n",
      "Prob(Omnibus):                  0.000   Jarque-Bera (JB):           918497.376\n",
      "Skew:                           1.079   Prob(JB):                         0.00\n",
      "Kurtosis:                       9.641   Cond. No.                     1.73e+18\n",
      "==============================================================================\n",
      "\n",
      "Notes:\n",
      "[1] Standard Errors assume that the covariance matrix of the errors is correctly specified.\n",
      "[2] The smallest eigenvalue is 6.21e-25. This might indicate that there are\n",
      "strong multicollinearity problems or that the design matrix is singular.\n"
     ]
    }
   ],
   "source": [
    "print(model.summary())"
   ]
  },
  {
   "cell_type": "code",
   "execution_count": 222,
   "metadata": {
    "colab": {
     "base_uri": "https://localhost:8080/"
    },
    "id": "rddggczelWGe",
    "outputId": "5d3d167b-79fb-4dc8-c681-cc21ae2b93ec"
   },
   "outputs": [
    {
     "name": "stdout",
     "output_type": "stream",
     "text": [
      "Features with p-value greater than 0.05:\n",
      "Airline_Indigo          0.079295\n",
      "Airline_SpiceJet        0.063518\n",
      "Arrival_12 PM - 6 PM    0.054432\n",
      "dtype: float64\n"
     ]
    }
   ],
   "source": [
    " def extract_features_above_threshold(model, threshold=0.05):\n",
    "    \"\"\"\n",
    "    Extract features with p-values greater than a specified threshold from the model.\n",
    "\n",
    "    Args:\n",
    "    - model: Fitted statsmodels regression model.\n",
    "    - threshold (float): Threshold for p-values. Default is 0.05.\n",
    "\n",
    "    Returns:\n",
    "    - features_above_threshold: Series containing features with p-values greater than the threshold.\n",
    "    \"\"\"\n",
    "    # Extract p-values\n",
    "    p_values = model.pvalues\n",
    "\n",
    "    # Filter features with p-values greater than the threshold\n",
    "    features_above_threshold = p_values[p_values > threshold]\n",
    "\n",
    "    return features_above_threshold\n",
    "\n",
    "# Usage example\n",
    "features_above_threshold = extract_features_above_threshold(model)\n",
    "print(\"Features with p-value greater than 0.05:\")\n",
    "print(features_above_threshold)\n"
   ]
  },
  {
   "cell_type": "markdown",
   "metadata": {
    "id": "C-1S9d9vlqy_"
   },
   "source": [
    "Now drop \"Airline_Indigo\" as it has highest p value for the remaining values"
   ]
  },
  {
   "cell_type": "code",
   "execution_count": 223,
   "metadata": {
    "id": "yn3Vo7I8lnUS"
   },
   "outputs": [],
   "source": [
    "# Drop the 'Airline_Indigo' column as it has the highest value of p\n",
    "X = X.drop(columns=['Airline_Indigo'])"
   ]
  },
  {
   "cell_type": "code",
   "execution_count": 224,
   "metadata": {
    "id": "3c-aKqsUuD3Y"
   },
   "outputs": [],
   "source": [
    "X = sm.add_constant(X)\n",
    "model = sm.OLS(y, X).fit()"
   ]
  },
  {
   "cell_type": "code",
   "execution_count": 225,
   "metadata": {
    "colab": {
     "base_uri": "https://localhost:8080/"
    },
    "id": "GueRH9EXuHIK",
    "outputId": "d14c966f-dc1b-4344-dde3-cb96a6ff6ec7"
   },
   "outputs": [
    {
     "name": "stdout",
     "output_type": "stream",
     "text": [
      "                            OLS Regression Results                            \n",
      "==============================================================================\n",
      "Dep. Variable:                   Fare   R-squared:                       0.850\n",
      "Model:                            OLS   Adj. R-squared:                  0.850\n",
      "Method:                 Least Squares   F-statistic:                 7.094e+04\n",
      "Date:                Wed, 22 May 2024   Prob (F-statistic):               0.00\n",
      "Time:                        20:01:44   Log-Likelihood:            -4.6974e+06\n",
      "No. Observations:              452088   AIC:                         9.395e+06\n",
      "Df Residuals:                  452051   BIC:                         9.395e+06\n",
      "Df Model:                          36                                         \n",
      "Covariance Type:            nonrobust                                         \n",
      "==========================================================================================\n",
      "                             coef    std err          t      P>|t|      [0.025      0.975]\n",
      "------------------------------------------------------------------------------------------\n",
      "Total_stops            -1661.4239      9.979   -166.489      0.000   -1680.983   -1641.865\n",
      "Duration_in_hours         67.6413      1.830     36.966      0.000      64.055      71.228\n",
      "Days_left              -1054.6097     16.909    -62.368      0.000   -1087.751   -1021.468\n",
      "Day                      933.3872     17.096     54.596      0.000     899.879     966.895\n",
      "Month                   2.719e+04    507.583     53.577      0.000    2.62e+04    2.82e+04\n",
      "Year                       4.9419      0.376     13.151      0.000       4.205       5.678\n",
      "Class_Economy          -3.964e+04     28.714  -1380.398      0.000   -3.97e+04   -3.96e+04\n",
      "Class_First             1.803e+04    657.998     27.408      0.000    1.67e+04    1.93e+04\n",
      "Class_Premium Economy  -3.678e+04     38.578   -953.281      0.000   -3.69e+04   -3.67e+04\n",
      "Source_Bangalore         829.5064     48.175     17.218      0.000     735.084     923.929\n",
      "Source_Chennai           769.2306     50.906     15.111      0.000     669.456     869.005\n",
      "Source_Delhi           -1204.9322     46.704    -25.799      0.000   -1296.470   -1113.394\n",
      "Source_Hyderabad        -210.4996     50.480     -4.170      0.000    -309.440    -111.559\n",
      "Source_Kolkata          4222.6470     50.655     83.362      0.000    4123.365    4321.929\n",
      "Source_Mumbai           1093.4529     47.220     23.156      0.000    1000.903    1186.003\n",
      "Airline_AirAsia        -1539.7216     66.342    -23.209      0.000   -1669.749   -1409.694\n",
      "Airline_AkasaAir         750.2554    171.386      4.378      0.000     414.344    1086.167\n",
      "Airline_AllianceAir      838.0229    398.854      2.101      0.036      56.282    1619.764\n",
      "Airline_GO FIRST         257.0566     79.277      3.243      0.001     101.676     412.437\n",
      "Airline_SpiceJet        -227.5812    105.241     -2.162      0.031    -433.850     -21.312\n",
      "Airline_StarAir         4942.3280   1001.004      4.937      0.000    2980.392    6904.264\n",
      "Airline_Vistara         4027.3749     27.956    144.060      0.000    3972.582    4082.168\n",
      "Journey_day_Saturday      86.8337     36.158      2.401      0.016      15.964     157.703\n",
      "Journey_day_Sunday       540.6122     36.360     14.868      0.000     469.348     611.876\n",
      "Journey_day_Thursday    -360.5213     35.788    -10.074      0.000    -430.665    -290.378\n",
      "Journey_day_Tuesday     -358.0701     36.627     -9.776      0.000    -429.858    -286.282\n",
      "Destination_Bangalore   1976.8353     38.188     51.766      0.000    1901.988    2051.682\n",
      "Destination_Chennai     2560.0534     40.945     62.525      0.000    2479.803    2640.304\n",
      "Destination_Hyderabad    811.1502     39.532     20.519      0.000     733.670     888.631\n",
      "Destination_Kolkata     4772.6935     41.306    115.546      0.000    4691.736    4853.651\n",
      "Destination_Mumbai      2435.4145     36.366     66.970      0.000    2364.139    2506.691\n",
      "Total_stops_encoded    -1661.4239      9.979   -166.489      0.000   -1680.983   -1641.865\n",
      "Arrival_Before 6 AM    -1717.7006     49.600    -34.631      0.000   -1814.914   -1620.487\n",
      "Arrival_12 PM - 6 PM      63.0983     30.908      2.041      0.041       2.519     123.677\n",
      "Arrival_6 AM - 12 PM   -1892.9049     29.587    -63.977      0.000   -1950.895   -1834.915\n",
      "Departure_Before 6 AM   -362.2859     57.868     -6.261      0.000    -475.705    -248.866\n",
      "Departure_12 PM - 6 PM   210.4134     33.099      6.357      0.000     145.539     275.287\n",
      "Departure_6 AM - 12 PM   242.1601     29.857      8.111      0.000     183.641     300.679\n",
      "==============================================================================\n",
      "Omnibus:                   120698.037   Durbin-Watson:                   0.315\n",
      "Prob(Omnibus):                  0.000   Jarque-Bera (JB):           919979.874\n",
      "Skew:                           1.079   Prob(JB):                         0.00\n",
      "Kurtosis:                       9.647   Cond. No.                     1.67e+18\n",
      "==============================================================================\n",
      "\n",
      "Notes:\n",
      "[1] Standard Errors assume that the covariance matrix of the errors is correctly specified.\n",
      "[2] The smallest eigenvalue is 6.63e-25. This might indicate that there are\n",
      "strong multicollinearity problems or that the design matrix is singular.\n"
     ]
    }
   ],
   "source": [
    "print(model.summary())"
   ]
  },
  {
   "cell_type": "code",
   "execution_count": 229,
   "metadata": {
    "id": "KCyEk2Ya5lrK"
   },
   "outputs": [],
   "source": [
    "X = X.drop(columns=['Airline_SpiceJet'])\n",
    "X = X.drop(columns=['Arrival_12 PM - 6 PM'])"
   ]
  },
  {
   "cell_type": "code",
   "execution_count": 230,
   "metadata": {
    "id": "01FLM_7550Z_"
   },
   "outputs": [],
   "source": [
    "X = sm.add_constant(X)\n",
    "model = sm.OLS(y, X).fit()"
   ]
  },
  {
   "cell_type": "code",
   "execution_count": 232,
   "metadata": {
    "colab": {
     "base_uri": "https://localhost:8080/"
    },
    "id": "KsIJX6Ek546g",
    "outputId": "75aa84a4-44a7-4d27-a745-2694be81ca6e"
   },
   "outputs": [
    {
     "name": "stdout",
     "output_type": "stream",
     "text": [
      "                            OLS Regression Results                            \n",
      "==============================================================================\n",
      "Dep. Variable:                   Fare   R-squared:                       0.850\n",
      "Model:                            OLS   Adj. R-squared:                  0.850\n",
      "Method:                 Least Squares   F-statistic:                 7.512e+04\n",
      "Date:                Wed, 22 May 2024   Prob (F-statistic):               0.00\n",
      "Time:                        20:04:38   Log-Likelihood:            -4.6974e+06\n",
      "No. Observations:              452088   AIC:                         9.395e+06\n",
      "Df Residuals:                  452053   BIC:                         9.395e+06\n",
      "Df Model:                          34                                         \n",
      "Covariance Type:            nonrobust                                         \n",
      "==========================================================================================\n",
      "                             coef    std err          t      P>|t|      [0.025      0.975]\n",
      "------------------------------------------------------------------------------------------\n",
      "Total_stops            -1662.5697      9.972   -166.731      0.000   -1682.114   -1643.026\n",
      "Duration_in_hours         67.3166      1.826     36.859      0.000      63.737      70.896\n",
      "Days_left              -1054.7209     16.909    -62.375      0.000   -1087.863   -1021.579\n",
      "Day                      933.4877     17.096     54.602      0.000     899.980     966.996\n",
      "Month                    2.72e+04    507.586     53.583      0.000    2.62e+04    2.82e+04\n",
      "Year                       4.9513      0.376     13.178      0.000       4.215       5.688\n",
      "Class_Economy          -3.964e+04     28.623  -1384.954      0.000   -3.97e+04   -3.96e+04\n",
      "Class_First             1.802e+04    657.910     27.385      0.000    1.67e+04    1.93e+04\n",
      "Class_Premium Economy  -3.678e+04     38.561   -953.749      0.000   -3.69e+04   -3.67e+04\n",
      "Source_Bangalore         828.9550     48.162     17.212      0.000     734.560     923.350\n",
      "Source_Chennai           768.1633     50.897     15.092      0.000     668.406     867.920\n",
      "Source_Delhi           -1207.8325     46.694    -25.867      0.000   -1299.351   -1116.314\n",
      "Source_Hyderabad        -208.0324     50.451     -4.123      0.000    -306.915    -109.149\n",
      "Source_Kolkata          4221.3723     50.648     83.347      0.000    4122.103    4320.641\n",
      "Source_Mumbai           1091.7318     47.200     23.130      0.000     999.221    1184.243\n",
      "Airline_AirAsia        -1531.4157     66.247    -23.117      0.000   -1661.258   -1401.573\n",
      "Airline_AkasaAir         767.0708    171.295      4.478      0.000     431.338    1102.804\n",
      "Airline_AllianceAir      845.5545    398.842      2.120      0.034      63.837    1627.272\n",
      "Airline_GO FIRST         260.0002     79.106      3.287      0.001     104.954     415.046\n",
      "Airline_StarAir         4938.2997   1000.997      4.933      0.000    2976.377    6900.223\n",
      "Airline_Vistara         4033.1407     27.802    145.068      0.000    3978.650    4087.631\n",
      "Journey_day_Saturday      87.1856     36.158      2.411      0.016      16.317     158.054\n",
      "Journey_day_Sunday       541.0985     36.359     14.882      0.000     469.835     612.362\n",
      "Journey_day_Thursday    -360.5714     35.788    -10.075      0.000    -430.715    -290.427\n",
      "Journey_day_Tuesday     -357.3894     36.626     -9.758      0.000    -429.176    -285.603\n",
      "Destination_Bangalore   1974.1438     38.114     51.796      0.000    1899.442    2048.845\n",
      "Destination_Chennai     2556.6299     40.895     62.516      0.000    2476.476    2636.784\n",
      "Destination_Hyderabad    816.4452     39.484     20.678      0.000     739.057     893.833\n",
      "Destination_Kolkata     4767.8532     41.197    115.733      0.000    4687.108    4848.598\n",
      "Destination_Mumbai      2434.6935     36.346     66.986      0.000    2363.456    2505.931\n",
      "Total_stops_encoded    -1662.5697      9.972   -166.731      0.000   -1682.114   -1643.026\n",
      "Arrival_Before 6 AM    -1738.0803     48.447    -35.876      0.000   -1833.035   -1643.125\n",
      "Arrival_6 AM - 12 PM   -1913.6386     27.774    -68.900      0.000   -1968.075   -1859.202\n",
      "Departure_Before 6 AM   -355.6881     57.824     -6.151      0.000    -469.022    -242.354\n",
      "Departure_12 PM - 6 PM   205.7338     32.910      6.251      0.000     141.232     270.236\n",
      "Departure_6 AM - 12 PM   244.3389     29.849      8.186      0.000     185.837     302.841\n",
      "==============================================================================\n",
      "Omnibus:                   120695.717   Durbin-Watson:                   0.315\n",
      "Prob(Omnibus):                  0.000   Jarque-Bera (JB):           919749.398\n",
      "Skew:                           1.079   Prob(JB):                         0.00\n",
      "Kurtosis:                       9.646   Cond. No.                     1.61e+18\n",
      "==============================================================================\n",
      "\n",
      "Notes:\n",
      "[1] Standard Errors assume that the covariance matrix of the errors is correctly specified.\n",
      "[2] The smallest eigenvalue is 7.12e-25. This might indicate that there are\n",
      "strong multicollinearity problems or that the design matrix is singular.\n"
     ]
    }
   ],
   "source": [
    "print(model.summary())"
   ]
  },
  {
   "cell_type": "code",
   "execution_count": 234,
   "metadata": {
    "colab": {
     "base_uri": "https://localhost:8080/"
    },
    "id": "GGTKJJgx6KQO",
    "outputId": "e4fc4ded-5360-47f3-d5f0-85ec70f86af4"
   },
   "outputs": [
    {
     "name": "stderr",
     "output_type": "stream",
     "text": [
      "/usr/local/lib/python3.10/dist-packages/statsmodels/stats/outliers_influence.py:197: RuntimeWarning: divide by zero encountered in scalar divide\n",
      "  vif = 1. / (1. - r_squared_i)\n"
     ]
    },
    {
     "name": "stdout",
     "output_type": "stream",
     "text": [
      "                   Feature          VIF\n",
      "0              Total_stops          inf\n",
      "1        Duration_in_hours     1.342628\n",
      "2                Days_left   426.223334\n",
      "3                      Day   175.843188\n",
      "4                    Month   744.641102\n",
      "5                     Year  4210.917336\n",
      "6            Class_Economy     1.473128\n",
      "7              Class_First     1.004592\n",
      "8    Class_Premium Economy     1.468700\n",
      "9         Source_Bangalore     2.298631\n",
      "10          Source_Chennai     2.065289\n",
      "11            Source_Delhi     2.385373\n",
      "12        Source_Hyderabad     2.033664\n",
      "13          Source_Kolkata     2.015463\n",
      "14           Source_Mumbai     2.381759\n",
      "15         Airline_AirAsia     1.076514\n",
      "16        Airline_AkasaAir     1.049735\n",
      "17     Airline_AllianceAir     1.007045\n",
      "18        Airline_GO FIRST     1.062256\n",
      "19         Airline_StarAir     1.001454\n",
      "20         Airline_Vistara     1.407625\n",
      "21    Journey_day_Saturday     1.135548\n",
      "22      Journey_day_Sunday     1.142564\n",
      "23    Journey_day_Thursday     1.137259\n",
      "24     Journey_day_Tuesday     1.178969\n",
      "25   Destination_Bangalore     1.423199\n",
      "26     Destination_Chennai     1.355018\n",
      "27   Destination_Hyderabad     1.354484\n",
      "28     Destination_Kolkata     1.310417\n",
      "29      Destination_Mumbai     1.443177\n",
      "30     Total_stops_encoded          inf\n",
      "31     Arrival_Before 6 AM     1.084970\n",
      "32    Arrival_6 AM - 12 PM     1.094201\n",
      "33   Departure_Before 6 AM     1.194469\n",
      "34  Departure_12 PM - 6 PM     1.503876\n",
      "35  Departure_6 AM - 12 PM     1.569894\n",
      "Number of features with VIF greater than 10: 6\n",
      "                Feature          VIF\n",
      "0           Total_stops          inf\n",
      "2             Days_left   426.223334\n",
      "3                   Day   175.843188\n",
      "4                 Month   744.641102\n",
      "5                  Year  4210.917336\n",
      "30  Total_stops_encoded          inf\n"
     ]
    }
   ],
   "source": [
    "# Calculate VIF for each feature\n",
    "vif_data = pd.DataFrame()\n",
    "vif_data[\"Feature\"] = X.columns\n",
    "vif_data[\"VIF\"] = [variance_inflation_factor(X.values, i) for i in range(X.shape[1])]\n",
    "\n",
    "# Print the VIF values\n",
    "print(vif_data)\n",
    "\n",
    "# Check how many features have VIF values greater than 10\n",
    "high_vif_features = vif_data[vif_data[\"VIF\"] > 10]\n",
    "print(f\"Number of features with VIF greater than 10: {len(high_vif_features)}\")\n",
    "print(high_vif_features)"
   ]
  },
  {
   "cell_type": "code",
   "execution_count": null,
   "metadata": {
    "id": "ljCEQUn66rji"
   },
   "outputs": [],
   "source": []
  }
 ],
 "metadata": {
  "colab": {
   "provenance": []
  },
  "kernelspec": {
   "display_name": "Python 3 (ipykernel)",
   "language": "python",
   "name": "python3"
  },
  "language_info": {
   "codemirror_mode": {
    "name": "ipython",
    "version": 3
   },
   "file_extension": ".py",
   "mimetype": "text/x-python",
   "name": "python",
   "nbconvert_exporter": "python",
   "pygments_lexer": "ipython3",
   "version": "3.11.5"
  }
 },
 "nbformat": 4,
 "nbformat_minor": 1
}
