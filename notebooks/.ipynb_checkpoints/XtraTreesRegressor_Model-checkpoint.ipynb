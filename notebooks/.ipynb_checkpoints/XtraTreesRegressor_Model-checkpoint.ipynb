{
 "cells": [
  {
   "cell_type": "markdown",
   "id": "ff365773",
   "metadata": {},
   "source": [
    "# Load and Preprocess the Data"
   ]
  },
  {
   "cell_type": "code",
   "execution_count": 1,
   "id": "4960ad1d",
   "metadata": {},
   "outputs": [],
   "source": [
    "#Import libraries\n",
    "import pandas as pd\n",
    "from sklearn.model_selection import train_test_split\n",
    "from sklearn.preprocessing import StandardScaler, OneHotEncoder\n",
    "from sklearn.compose import ColumnTransformer\n",
    "from sklearn.pipeline import Pipeline\n",
    "from sklearn.impute import SimpleImputer"
   ]
  },
  {
   "cell_type": "code",
   "execution_count": 2,
   "id": "d8fb4572",
   "metadata": {},
   "outputs": [
    {
     "name": "stdout",
     "output_type": "stream",
     "text": [
      "Data loaded successfully.\n",
      "             Airline                Source     Destination  Number of Stops  \\\n",
      "0     Etihad Airways  Toronto Pearson Intl  Bengaluru Intl                1   \n",
      "1              Delta  Toronto Pearson Intl  Bengaluru Intl                1   \n",
      "2  Multiple Airlines  Toronto Pearson Intl  Bengaluru Intl                2   \n",
      "3  Multiple Airlines  Toronto Pearson Intl  Bengaluru Intl                2   \n",
      "4  Multiple Airlines  Toronto Pearson Intl  Bengaluru Intl                2   \n",
      "\n",
      "           Class        Date  Total_Stopover_Time  price in CAD  days_left  \\\n",
      "0  Economy Class  2024-06-02                  130        2340.0          1   \n",
      "1  Economy Class  2024-06-02                 1335        1347.0          1   \n",
      "2  Economy Class  2024-06-02                  420        1934.0          1   \n",
      "3  Economy Class  2024-06-02                  380        2291.0          1   \n",
      "4  Economy Class  2024-06-02                  175        2661.0          1   \n",
      "\n",
      "  Departure_24hr Arrival_24hr  Arrival_Day_Offset  \n",
      "0          22:10        03:05                   2  \n",
      "1          22:40        23:15                   2  \n",
      "2          21:20        07:45                   2  \n",
      "3          21:20        06:50                   2  \n",
      "4          23:40        06:25                   2  \n"
     ]
    }
   ],
   "source": [
    "# Load the data\n",
    "file_path = '../data/cleaned/AirlineData.csv'\n",
    "df = pd.read_csv(file_path)\n",
    "print(\"Data loaded successfully.\")\n",
    "print(df.head())"
   ]
  },
  {
   "cell_type": "code",
   "execution_count": 3,
   "id": "85b6149f",
   "metadata": {},
   "outputs": [],
   "source": [
    "# Handle missing values\n",
    "df.fillna(method='ffill', inplace=True)\n",
    "# Define features and target\n",
    "X = df.drop('price in CAD', axis=1)\n",
    "y = df['price in CAD']\n",
    "# Identify categorical and numerical columns\n",
    "categorical_cols = X.select_dtypes(include=['object']).columns\n",
    "numerical_cols = X.select_dtypes(include=['int64', 'float64']).columns\n",
    "# Preprocessing for numerical data\n",
    "numerical_transformer = Pipeline(steps=[\n",
    "    ('imputer', SimpleImputer(strategy='median')),\n",
    "    ('scaler', StandardScaler())\n",
    "])\n",
    "# Preprocessing for categorical data\n",
    "categorical_transformer = Pipeline(steps=[\n",
    "    ('imputer', SimpleImputer(strategy='constant', fill_value='missing')),\n",
    "    ('onehot', OneHotEncoder(handle_unknown='ignore'))\n",
    "])\n",
    "# Bundle preprocessing for numerical and categorical data\n",
    "preprocessor = ColumnTransformer(\n",
    "    transformers=[\n",
    "        ('num', numerical_transformer, numerical_cols),\n",
    "        ('cat', categorical_transformer, categorical_cols)\n",
    "    ])\n",
    "# Split the data\n",
    "X_train, X_test, y_train, y_test = train_test_split(X, y, test_size=0.1, random_state=42)"
   ]
  },
  {
   "cell_type": "markdown",
   "id": "a4953919",
   "metadata": {},
   "source": [
    "# Train the XtraTreesRegressor Model"
   ]
  },
  {
   "cell_type": "code",
   "execution_count": 4,
   "id": "25a13c4c",
   "metadata": {},
   "outputs": [],
   "source": [
    "from sklearn.ensemble import ExtraTreesRegressor\n",
    "from sklearn.metrics import mean_absolute_error, mean_squared_error, r2_score"
   ]
  },
  {
   "cell_type": "code",
   "execution_count": 5,
   "id": "27fa1477",
   "metadata": {},
   "outputs": [
    {
     "name": "stdout",
     "output_type": "stream",
     "text": [
      "Model training complete.\n"
     ]
    }
   ],
   "source": [
    "# Define the model\n",
    "model = ExtraTreesRegressor(n_estimators=10, random_state=42)\n",
    "# Create the pipeline\n",
    "clf = Pipeline(steps=[('preprocessor', preprocessor),\n",
    "                      ('model', model)\n",
    "                     ])\n",
    "# Train the model\n",
    "clf.fit(X_train, y_train)\n",
    "print(\"Model training complete.\")"
   ]
  },
  {
   "cell_type": "code",
   "execution_count": 6,
   "id": "5a5f9be5",
   "metadata": {},
   "outputs": [
    {
     "name": "stdout",
     "output_type": "stream",
     "text": [
      "Model evaluation complete.\n",
      "Mean Absolute Error (MAE):  228.3940247364208\n",
      "Mean Squared Error (MSE):  409006.4073156972\n",
      "Root Mean Squared Error (RMSE):  639.5360875788771\n",
      "R-squared (R2):  0.9058946588304023\n"
     ]
    },
    {
     "name": "stderr",
     "output_type": "stream",
     "text": [
      "C:\\Users\\tanik\\anaconda3\\Lib\\site-packages\\sklearn\\metrics\\_regression.py:483: FutureWarning: 'squared' is deprecated in version 1.4 and will be removed in 1.6. To calculate the root mean squared error, use the function'root_mean_squared_error'.\n",
      "  warnings.warn(\n"
     ]
    }
   ],
   "source": [
    "# Predict on the test data\n",
    "y_pred = clf.predict(X_test)\n",
    "# Calculate performance metrics\n",
    "mae = mean_absolute_error(y_test, y_pred)\n",
    "mse = mean_squared_error(y_test, y_pred)\n",
    "rmse = mean_squared_error(y_test, y_pred, squared=False)\n",
    "r2 = r2_score(y_test, y_pred)\n",
    "print(\"Model evaluation complete.\")\n",
    "print(\"Mean Absolute Error (MAE): \", mae)\n",
    "print(\"Mean Squared Error (MSE): \", mse)\n",
    "print(\"Root Mean Squared Error (RMSE): \", rmse)\n",
    "print(\"R-squared (R2): \", r2)"
   ]
  },
  {
   "cell_type": "code",
   "execution_count": null,
   "id": "4bcecb87",
   "metadata": {},
   "outputs": [],
   "source": []
  }
 ],
 "metadata": {
  "kernelspec": {
   "display_name": "Python 3 (ipykernel)",
   "language": "python",
   "name": "python3"
  },
  "language_info": {
   "codemirror_mode": {
    "name": "ipython",
    "version": 3
   },
   "file_extension": ".py",
   "mimetype": "text/x-python",
   "name": "python",
   "nbconvert_exporter": "python",
   "pygments_lexer": "ipython3",
   "version": "3.11.5"
  }
 },
 "nbformat": 4,
 "nbformat_minor": 5
}
