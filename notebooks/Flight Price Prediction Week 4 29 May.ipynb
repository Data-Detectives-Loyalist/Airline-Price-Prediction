{
  "nbformat": 4,
  "nbformat_minor": 0,
  "metadata": {
    "colab": {
      "provenance": []
    },
    "kernelspec": {
      "name": "python3",
      "display_name": "Python 3"
    },
    "language_info": {
      "name": "python"
    }
  },
  "cells": [
    {
      "cell_type": "code",
      "execution_count": null,
      "metadata": {
        "id": "z7ykHjcuZ1om"
      },
      "outputs": [],
      "source": [
        "import pandas as pd\n",
        "import numpy as np\n",
        "import matplotlib.pyplot as plt|\n",
        "import seaborn as sns\n",
        "%matplotlib inline\n",
        "from sklearn.preprocessing import OneHotEncoder\n",
        "from sklearn.preprocessing import LabelEncoder"
      ]
    },
    {
      "cell_type": "code",
      "source": [
        "df = pd.read_csv(\"/content/flightPrice.csv\")"
      ],
      "metadata": {
        "id": "xQ491w8jZ9kb"
      },
      "execution_count": null,
      "outputs": []
    },
    {
      "cell_type": "code",
      "source": [
        "df"
      ],
      "metadata": {
        "colab": {
          "base_uri": "https://localhost:8080/",
          "height": 617
        },
        "id": "6lAswA5vaaBA",
        "outputId": "c5dbb62a-2571-4edc-b7a3-4de4d8e5e1db"
      },
      "execution_count": null,
      "outputs": [
        {
          "output_type": "execute_result",
          "data": {
            "text/plain": [
              "       Date_of_journey Journey_day    Airline Flight_code     Class  \\\n",
              "0           2023-01-16      Monday   SpiceJet     SG-8169   Economy   \n",
              "1           2023-01-16      Monday     Indigo     6E-2519   Economy   \n",
              "2           2023-01-16      Monday   GO FIRST      G8-354   Economy   \n",
              "3           2023-01-16      Monday   SpiceJet     SG-8709   Economy   \n",
              "4           2023-01-16      Monday  Air India      AI-805   Economy   \n",
              "...                ...         ...        ...         ...       ...   \n",
              "452083      2023-03-06      Monday    Vistara      UK-926  Business   \n",
              "452084      2023-03-06      Monday    Vistara      UK-918  Business   \n",
              "452085      2023-03-06      Monday    Vistara      UK-918  Business   \n",
              "452086      2023-03-06      Monday    Vistara      UK-946  Business   \n",
              "452087      2023-03-06      Monday    Vistara      UK-946  Business   \n",
              "\n",
              "           Source     Departure Total_stops       Arrival Destination  \\\n",
              "0           Delhi    After 6 PM    non-stop    After 6 PM      Mumbai   \n",
              "1           Delhi    After 6 PM    non-stop   Before 6 AM      Mumbai   \n",
              "2           Delhi    After 6 PM    non-stop   Before 6 AM      Mumbai   \n",
              "3           Delhi    After 6 PM    non-stop    After 6 PM      Mumbai   \n",
              "4           Delhi    After 6 PM    non-stop    After 6 PM      Mumbai   \n",
              "...           ...           ...         ...           ...         ...   \n",
              "452083  Ahmedabad  6 AM - 12 PM      1-stop    After 6 PM     Chennai   \n",
              "452084  Ahmedabad   Before 6 AM      1-stop  12 PM - 6 PM     Chennai   \n",
              "452085  Ahmedabad   Before 6 AM      1-stop  12 PM - 6 PM     Chennai   \n",
              "452086  Ahmedabad  6 AM - 12 PM      1-stop    After 6 PM     Chennai   \n",
              "452087  Ahmedabad  6 AM - 12 PM      1-stop    After 6 PM     Chennai   \n",
              "\n",
              "        Duration_in_hours  Days_left   Fare  \n",
              "0                  2.0833          1   5335  \n",
              "1                  2.3333          1   5899  \n",
              "2                  2.1667          1   5801  \n",
              "3                  2.0833          1   5794  \n",
              "4                  2.1667          1   5955  \n",
              "...                   ...        ...    ...  \n",
              "452083            13.0833         50  65028  \n",
              "452084            11.2500         50  69254  \n",
              "452085            11.2500         50  69254  \n",
              "452086            11.1667         50  72980  \n",
              "452087            11.1667         50  72980  \n",
              "\n",
              "[452088 rows x 13 columns]"
            ],
            "text/html": [
              "\n",
              "  <div id=\"df-42c82cfd-36f0-4f31-a9f0-502d8893db61\" class=\"colab-df-container\">\n",
              "    <div>\n",
              "<style scoped>\n",
              "    .dataframe tbody tr th:only-of-type {\n",
              "        vertical-align: middle;\n",
              "    }\n",
              "\n",
              "    .dataframe tbody tr th {\n",
              "        vertical-align: top;\n",
              "    }\n",
              "\n",
              "    .dataframe thead th {\n",
              "        text-align: right;\n",
              "    }\n",
              "</style>\n",
              "<table border=\"1\" class=\"dataframe\">\n",
              "  <thead>\n",
              "    <tr style=\"text-align: right;\">\n",
              "      <th></th>\n",
              "      <th>Date_of_journey</th>\n",
              "      <th>Journey_day</th>\n",
              "      <th>Airline</th>\n",
              "      <th>Flight_code</th>\n",
              "      <th>Class</th>\n",
              "      <th>Source</th>\n",
              "      <th>Departure</th>\n",
              "      <th>Total_stops</th>\n",
              "      <th>Arrival</th>\n",
              "      <th>Destination</th>\n",
              "      <th>Duration_in_hours</th>\n",
              "      <th>Days_left</th>\n",
              "      <th>Fare</th>\n",
              "    </tr>\n",
              "  </thead>\n",
              "  <tbody>\n",
              "    <tr>\n",
              "      <th>0</th>\n",
              "      <td>2023-01-16</td>\n",
              "      <td>Monday</td>\n",
              "      <td>SpiceJet</td>\n",
              "      <td>SG-8169</td>\n",
              "      <td>Economy</td>\n",
              "      <td>Delhi</td>\n",
              "      <td>After 6 PM</td>\n",
              "      <td>non-stop</td>\n",
              "      <td>After 6 PM</td>\n",
              "      <td>Mumbai</td>\n",
              "      <td>2.0833</td>\n",
              "      <td>1</td>\n",
              "      <td>5335</td>\n",
              "    </tr>\n",
              "    <tr>\n",
              "      <th>1</th>\n",
              "      <td>2023-01-16</td>\n",
              "      <td>Monday</td>\n",
              "      <td>Indigo</td>\n",
              "      <td>6E-2519</td>\n",
              "      <td>Economy</td>\n",
              "      <td>Delhi</td>\n",
              "      <td>After 6 PM</td>\n",
              "      <td>non-stop</td>\n",
              "      <td>Before 6 AM</td>\n",
              "      <td>Mumbai</td>\n",
              "      <td>2.3333</td>\n",
              "      <td>1</td>\n",
              "      <td>5899</td>\n",
              "    </tr>\n",
              "    <tr>\n",
              "      <th>2</th>\n",
              "      <td>2023-01-16</td>\n",
              "      <td>Monday</td>\n",
              "      <td>GO FIRST</td>\n",
              "      <td>G8-354</td>\n",
              "      <td>Economy</td>\n",
              "      <td>Delhi</td>\n",
              "      <td>After 6 PM</td>\n",
              "      <td>non-stop</td>\n",
              "      <td>Before 6 AM</td>\n",
              "      <td>Mumbai</td>\n",
              "      <td>2.1667</td>\n",
              "      <td>1</td>\n",
              "      <td>5801</td>\n",
              "    </tr>\n",
              "    <tr>\n",
              "      <th>3</th>\n",
              "      <td>2023-01-16</td>\n",
              "      <td>Monday</td>\n",
              "      <td>SpiceJet</td>\n",
              "      <td>SG-8709</td>\n",
              "      <td>Economy</td>\n",
              "      <td>Delhi</td>\n",
              "      <td>After 6 PM</td>\n",
              "      <td>non-stop</td>\n",
              "      <td>After 6 PM</td>\n",
              "      <td>Mumbai</td>\n",
              "      <td>2.0833</td>\n",
              "      <td>1</td>\n",
              "      <td>5794</td>\n",
              "    </tr>\n",
              "    <tr>\n",
              "      <th>4</th>\n",
              "      <td>2023-01-16</td>\n",
              "      <td>Monday</td>\n",
              "      <td>Air India</td>\n",
              "      <td>AI-805</td>\n",
              "      <td>Economy</td>\n",
              "      <td>Delhi</td>\n",
              "      <td>After 6 PM</td>\n",
              "      <td>non-stop</td>\n",
              "      <td>After 6 PM</td>\n",
              "      <td>Mumbai</td>\n",
              "      <td>2.1667</td>\n",
              "      <td>1</td>\n",
              "      <td>5955</td>\n",
              "    </tr>\n",
              "    <tr>\n",
              "      <th>...</th>\n",
              "      <td>...</td>\n",
              "      <td>...</td>\n",
              "      <td>...</td>\n",
              "      <td>...</td>\n",
              "      <td>...</td>\n",
              "      <td>...</td>\n",
              "      <td>...</td>\n",
              "      <td>...</td>\n",
              "      <td>...</td>\n",
              "      <td>...</td>\n",
              "      <td>...</td>\n",
              "      <td>...</td>\n",
              "      <td>...</td>\n",
              "    </tr>\n",
              "    <tr>\n",
              "      <th>452083</th>\n",
              "      <td>2023-03-06</td>\n",
              "      <td>Monday</td>\n",
              "      <td>Vistara</td>\n",
              "      <td>UK-926</td>\n",
              "      <td>Business</td>\n",
              "      <td>Ahmedabad</td>\n",
              "      <td>6 AM - 12 PM</td>\n",
              "      <td>1-stop</td>\n",
              "      <td>After 6 PM</td>\n",
              "      <td>Chennai</td>\n",
              "      <td>13.0833</td>\n",
              "      <td>50</td>\n",
              "      <td>65028</td>\n",
              "    </tr>\n",
              "    <tr>\n",
              "      <th>452084</th>\n",
              "      <td>2023-03-06</td>\n",
              "      <td>Monday</td>\n",
              "      <td>Vistara</td>\n",
              "      <td>UK-918</td>\n",
              "      <td>Business</td>\n",
              "      <td>Ahmedabad</td>\n",
              "      <td>Before 6 AM</td>\n",
              "      <td>1-stop</td>\n",
              "      <td>12 PM - 6 PM</td>\n",
              "      <td>Chennai</td>\n",
              "      <td>11.2500</td>\n",
              "      <td>50</td>\n",
              "      <td>69254</td>\n",
              "    </tr>\n",
              "    <tr>\n",
              "      <th>452085</th>\n",
              "      <td>2023-03-06</td>\n",
              "      <td>Monday</td>\n",
              "      <td>Vistara</td>\n",
              "      <td>UK-918</td>\n",
              "      <td>Business</td>\n",
              "      <td>Ahmedabad</td>\n",
              "      <td>Before 6 AM</td>\n",
              "      <td>1-stop</td>\n",
              "      <td>12 PM - 6 PM</td>\n",
              "      <td>Chennai</td>\n",
              "      <td>11.2500</td>\n",
              "      <td>50</td>\n",
              "      <td>69254</td>\n",
              "    </tr>\n",
              "    <tr>\n",
              "      <th>452086</th>\n",
              "      <td>2023-03-06</td>\n",
              "      <td>Monday</td>\n",
              "      <td>Vistara</td>\n",
              "      <td>UK-946</td>\n",
              "      <td>Business</td>\n",
              "      <td>Ahmedabad</td>\n",
              "      <td>6 AM - 12 PM</td>\n",
              "      <td>1-stop</td>\n",
              "      <td>After 6 PM</td>\n",
              "      <td>Chennai</td>\n",
              "      <td>11.1667</td>\n",
              "      <td>50</td>\n",
              "      <td>72980</td>\n",
              "    </tr>\n",
              "    <tr>\n",
              "      <th>452087</th>\n",
              "      <td>2023-03-06</td>\n",
              "      <td>Monday</td>\n",
              "      <td>Vistara</td>\n",
              "      <td>UK-946</td>\n",
              "      <td>Business</td>\n",
              "      <td>Ahmedabad</td>\n",
              "      <td>6 AM - 12 PM</td>\n",
              "      <td>1-stop</td>\n",
              "      <td>After 6 PM</td>\n",
              "      <td>Chennai</td>\n",
              "      <td>11.1667</td>\n",
              "      <td>50</td>\n",
              "      <td>72980</td>\n",
              "    </tr>\n",
              "  </tbody>\n",
              "</table>\n",
              "<p>452088 rows × 13 columns</p>\n",
              "</div>\n",
              "    <div class=\"colab-df-buttons\">\n",
              "\n",
              "  <div class=\"colab-df-container\">\n",
              "    <button class=\"colab-df-convert\" onclick=\"convertToInteractive('df-42c82cfd-36f0-4f31-a9f0-502d8893db61')\"\n",
              "            title=\"Convert this dataframe to an interactive table.\"\n",
              "            style=\"display:none;\">\n",
              "\n",
              "  <svg xmlns=\"http://www.w3.org/2000/svg\" height=\"24px\" viewBox=\"0 -960 960 960\">\n",
              "    <path d=\"M120-120v-720h720v720H120Zm60-500h600v-160H180v160Zm220 220h160v-160H400v160Zm0 220h160v-160H400v160ZM180-400h160v-160H180v160Zm440 0h160v-160H620v160ZM180-180h160v-160H180v160Zm440 0h160v-160H620v160Z\"/>\n",
              "  </svg>\n",
              "    </button>\n",
              "\n",
              "  <style>\n",
              "    .colab-df-container {\n",
              "      display:flex;\n",
              "      gap: 12px;\n",
              "    }\n",
              "\n",
              "    .colab-df-convert {\n",
              "      background-color: #E8F0FE;\n",
              "      border: none;\n",
              "      border-radius: 50%;\n",
              "      cursor: pointer;\n",
              "      display: none;\n",
              "      fill: #1967D2;\n",
              "      height: 32px;\n",
              "      padding: 0 0 0 0;\n",
              "      width: 32px;\n",
              "    }\n",
              "\n",
              "    .colab-df-convert:hover {\n",
              "      background-color: #E2EBFA;\n",
              "      box-shadow: 0px 1px 2px rgba(60, 64, 67, 0.3), 0px 1px 3px 1px rgba(60, 64, 67, 0.15);\n",
              "      fill: #174EA6;\n",
              "    }\n",
              "\n",
              "    .colab-df-buttons div {\n",
              "      margin-bottom: 4px;\n",
              "    }\n",
              "\n",
              "    [theme=dark] .colab-df-convert {\n",
              "      background-color: #3B4455;\n",
              "      fill: #D2E3FC;\n",
              "    }\n",
              "\n",
              "    [theme=dark] .colab-df-convert:hover {\n",
              "      background-color: #434B5C;\n",
              "      box-shadow: 0px 1px 3px 1px rgba(0, 0, 0, 0.15);\n",
              "      filter: drop-shadow(0px 1px 2px rgba(0, 0, 0, 0.3));\n",
              "      fill: #FFFFFF;\n",
              "    }\n",
              "  </style>\n",
              "\n",
              "    <script>\n",
              "      const buttonEl =\n",
              "        document.querySelector('#df-42c82cfd-36f0-4f31-a9f0-502d8893db61 button.colab-df-convert');\n",
              "      buttonEl.style.display =\n",
              "        google.colab.kernel.accessAllowed ? 'block' : 'none';\n",
              "\n",
              "      async function convertToInteractive(key) {\n",
              "        const element = document.querySelector('#df-42c82cfd-36f0-4f31-a9f0-502d8893db61');\n",
              "        const dataTable =\n",
              "          await google.colab.kernel.invokeFunction('convertToInteractive',\n",
              "                                                    [key], {});\n",
              "        if (!dataTable) return;\n",
              "\n",
              "        const docLinkHtml = 'Like what you see? Visit the ' +\n",
              "          '<a target=\"_blank\" href=https://colab.research.google.com/notebooks/data_table.ipynb>data table notebook</a>'\n",
              "          + ' to learn more about interactive tables.';\n",
              "        element.innerHTML = '';\n",
              "        dataTable['output_type'] = 'display_data';\n",
              "        await google.colab.output.renderOutput(dataTable, element);\n",
              "        const docLink = document.createElement('div');\n",
              "        docLink.innerHTML = docLinkHtml;\n",
              "        element.appendChild(docLink);\n",
              "      }\n",
              "    </script>\n",
              "  </div>\n",
              "\n",
              "\n",
              "<div id=\"df-ef79a509-28f3-450c-b85d-5eed73d7ba77\">\n",
              "  <button class=\"colab-df-quickchart\" onclick=\"quickchart('df-ef79a509-28f3-450c-b85d-5eed73d7ba77')\"\n",
              "            title=\"Suggest charts\"\n",
              "            style=\"display:none;\">\n",
              "\n",
              "<svg xmlns=\"http://www.w3.org/2000/svg\" height=\"24px\"viewBox=\"0 0 24 24\"\n",
              "     width=\"24px\">\n",
              "    <g>\n",
              "        <path d=\"M19 3H5c-1.1 0-2 .9-2 2v14c0 1.1.9 2 2 2h14c1.1 0 2-.9 2-2V5c0-1.1-.9-2-2-2zM9 17H7v-7h2v7zm4 0h-2V7h2v10zm4 0h-2v-4h2v4z\"/>\n",
              "    </g>\n",
              "</svg>\n",
              "  </button>\n",
              "\n",
              "<style>\n",
              "  .colab-df-quickchart {\n",
              "      --bg-color: #E8F0FE;\n",
              "      --fill-color: #1967D2;\n",
              "      --hover-bg-color: #E2EBFA;\n",
              "      --hover-fill-color: #174EA6;\n",
              "      --disabled-fill-color: #AAA;\n",
              "      --disabled-bg-color: #DDD;\n",
              "  }\n",
              "\n",
              "  [theme=dark] .colab-df-quickchart {\n",
              "      --bg-color: #3B4455;\n",
              "      --fill-color: #D2E3FC;\n",
              "      --hover-bg-color: #434B5C;\n",
              "      --hover-fill-color: #FFFFFF;\n",
              "      --disabled-bg-color: #3B4455;\n",
              "      --disabled-fill-color: #666;\n",
              "  }\n",
              "\n",
              "  .colab-df-quickchart {\n",
              "    background-color: var(--bg-color);\n",
              "    border: none;\n",
              "    border-radius: 50%;\n",
              "    cursor: pointer;\n",
              "    display: none;\n",
              "    fill: var(--fill-color);\n",
              "    height: 32px;\n",
              "    padding: 0;\n",
              "    width: 32px;\n",
              "  }\n",
              "\n",
              "  .colab-df-quickchart:hover {\n",
              "    background-color: var(--hover-bg-color);\n",
              "    box-shadow: 0 1px 2px rgba(60, 64, 67, 0.3), 0 1px 3px 1px rgba(60, 64, 67, 0.15);\n",
              "    fill: var(--button-hover-fill-color);\n",
              "  }\n",
              "\n",
              "  .colab-df-quickchart-complete:disabled,\n",
              "  .colab-df-quickchart-complete:disabled:hover {\n",
              "    background-color: var(--disabled-bg-color);\n",
              "    fill: var(--disabled-fill-color);\n",
              "    box-shadow: none;\n",
              "  }\n",
              "\n",
              "  .colab-df-spinner {\n",
              "    border: 2px solid var(--fill-color);\n",
              "    border-color: transparent;\n",
              "    border-bottom-color: var(--fill-color);\n",
              "    animation:\n",
              "      spin 1s steps(1) infinite;\n",
              "  }\n",
              "\n",
              "  @keyframes spin {\n",
              "    0% {\n",
              "      border-color: transparent;\n",
              "      border-bottom-color: var(--fill-color);\n",
              "      border-left-color: var(--fill-color);\n",
              "    }\n",
              "    20% {\n",
              "      border-color: transparent;\n",
              "      border-left-color: var(--fill-color);\n",
              "      border-top-color: var(--fill-color);\n",
              "    }\n",
              "    30% {\n",
              "      border-color: transparent;\n",
              "      border-left-color: var(--fill-color);\n",
              "      border-top-color: var(--fill-color);\n",
              "      border-right-color: var(--fill-color);\n",
              "    }\n",
              "    40% {\n",
              "      border-color: transparent;\n",
              "      border-right-color: var(--fill-color);\n",
              "      border-top-color: var(--fill-color);\n",
              "    }\n",
              "    60% {\n",
              "      border-color: transparent;\n",
              "      border-right-color: var(--fill-color);\n",
              "    }\n",
              "    80% {\n",
              "      border-color: transparent;\n",
              "      border-right-color: var(--fill-color);\n",
              "      border-bottom-color: var(--fill-color);\n",
              "    }\n",
              "    90% {\n",
              "      border-color: transparent;\n",
              "      border-bottom-color: var(--fill-color);\n",
              "    }\n",
              "  }\n",
              "</style>\n",
              "\n",
              "  <script>\n",
              "    async function quickchart(key) {\n",
              "      const quickchartButtonEl =\n",
              "        document.querySelector('#' + key + ' button');\n",
              "      quickchartButtonEl.disabled = true;  // To prevent multiple clicks.\n",
              "      quickchartButtonEl.classList.add('colab-df-spinner');\n",
              "      try {\n",
              "        const charts = await google.colab.kernel.invokeFunction(\n",
              "            'suggestCharts', [key], {});\n",
              "      } catch (error) {\n",
              "        console.error('Error during call to suggestCharts:', error);\n",
              "      }\n",
              "      quickchartButtonEl.classList.remove('colab-df-spinner');\n",
              "      quickchartButtonEl.classList.add('colab-df-quickchart-complete');\n",
              "    }\n",
              "    (() => {\n",
              "      let quickchartButtonEl =\n",
              "        document.querySelector('#df-ef79a509-28f3-450c-b85d-5eed73d7ba77 button');\n",
              "      quickchartButtonEl.style.display =\n",
              "        google.colab.kernel.accessAllowed ? 'block' : 'none';\n",
              "    })();\n",
              "  </script>\n",
              "</div>\n",
              "\n",
              "  <div id=\"id_0efc03e1-5318-423a-984c-9f3ec6453d4c\">\n",
              "    <style>\n",
              "      .colab-df-generate {\n",
              "        background-color: #E8F0FE;\n",
              "        border: none;\n",
              "        border-radius: 50%;\n",
              "        cursor: pointer;\n",
              "        display: none;\n",
              "        fill: #1967D2;\n",
              "        height: 32px;\n",
              "        padding: 0 0 0 0;\n",
              "        width: 32px;\n",
              "      }\n",
              "\n",
              "      .colab-df-generate:hover {\n",
              "        background-color: #E2EBFA;\n",
              "        box-shadow: 0px 1px 2px rgba(60, 64, 67, 0.3), 0px 1px 3px 1px rgba(60, 64, 67, 0.15);\n",
              "        fill: #174EA6;\n",
              "      }\n",
              "\n",
              "      [theme=dark] .colab-df-generate {\n",
              "        background-color: #3B4455;\n",
              "        fill: #D2E3FC;\n",
              "      }\n",
              "\n",
              "      [theme=dark] .colab-df-generate:hover {\n",
              "        background-color: #434B5C;\n",
              "        box-shadow: 0px 1px 3px 1px rgba(0, 0, 0, 0.15);\n",
              "        filter: drop-shadow(0px 1px 2px rgba(0, 0, 0, 0.3));\n",
              "        fill: #FFFFFF;\n",
              "      }\n",
              "    </style>\n",
              "    <button class=\"colab-df-generate\" onclick=\"generateWithVariable('df')\"\n",
              "            title=\"Generate code using this dataframe.\"\n",
              "            style=\"display:none;\">\n",
              "\n",
              "  <svg xmlns=\"http://www.w3.org/2000/svg\" height=\"24px\"viewBox=\"0 0 24 24\"\n",
              "       width=\"24px\">\n",
              "    <path d=\"M7,19H8.4L18.45,9,17,7.55,7,17.6ZM5,21V16.75L18.45,3.32a2,2,0,0,1,2.83,0l1.4,1.43a1.91,1.91,0,0,1,.58,1.4,1.91,1.91,0,0,1-.58,1.4L9.25,21ZM18.45,9,17,7.55Zm-12,3A5.31,5.31,0,0,0,4.9,8.1,5.31,5.31,0,0,0,1,6.5,5.31,5.31,0,0,0,4.9,4.9,5.31,5.31,0,0,0,6.5,1,5.31,5.31,0,0,0,8.1,4.9,5.31,5.31,0,0,0,12,6.5,5.46,5.46,0,0,0,6.5,12Z\"/>\n",
              "  </svg>\n",
              "    </button>\n",
              "    <script>\n",
              "      (() => {\n",
              "      const buttonEl =\n",
              "        document.querySelector('#id_0efc03e1-5318-423a-984c-9f3ec6453d4c button.colab-df-generate');\n",
              "      buttonEl.style.display =\n",
              "        google.colab.kernel.accessAllowed ? 'block' : 'none';\n",
              "\n",
              "      buttonEl.onclick = () => {\n",
              "        google.colab.notebook.generateWithVariable('df');\n",
              "      }\n",
              "      })();\n",
              "    </script>\n",
              "  </div>\n",
              "\n",
              "    </div>\n",
              "  </div>\n"
            ],
            "application/vnd.google.colaboratory.intrinsic+json": {
              "type": "dataframe",
              "variable_name": "df"
            }
          },
          "metadata": {},
          "execution_count": 3
        }
      ]
    },
    {
      "cell_type": "code",
      "source": [
        "df.isnull().sum()"
      ],
      "metadata": {
        "colab": {
          "base_uri": "https://localhost:8080/"
        },
        "id": "FunU-y2pacC1",
        "outputId": "82a7ec38-6db5-49da-88ce-e651d93acf66"
      },
      "execution_count": null,
      "outputs": [
        {
          "output_type": "execute_result",
          "data": {
            "text/plain": [
              "Date_of_journey      0\n",
              "Journey_day          0\n",
              "Airline              0\n",
              "Flight_code          0\n",
              "Class                0\n",
              "Source               0\n",
              "Departure            0\n",
              "Total_stops          0\n",
              "Arrival              0\n",
              "Destination          0\n",
              "Duration_in_hours    0\n",
              "Days_left            0\n",
              "Fare                 0\n",
              "dtype: int64"
            ]
          },
          "metadata": {},
          "execution_count": 4
        }
      ]
    },
    {
      "cell_type": "code",
      "source": [
        "df['Date_of_journey'] = pd.to_datetime(df['Date_of_journey'], format='%Y-%m-%d')\n",
        "df[\"Day\"] = df[\"Date_of_journey\"].dt.day\n",
        "df[\"Month\"] = df[\"Date_of_journey\"].dt.month\n",
        "df[\"Year\"] = df[\"Date_of_journey\"].dt.year\n",
        "df.drop(columns=[\"Date_of_journey\"], inplace=True)"
      ],
      "metadata": {
        "id": "hBnU_0sWad0_"
      },
      "execution_count": null,
      "outputs": []
    },
    {
      "cell_type": "code",
      "source": [
        "encoder = OneHotEncoder(drop='first', sparse_output=False)"
      ],
      "metadata": {
        "id": "NJztkwPMbIJB"
      },
      "execution_count": null,
      "outputs": []
    },
    {
      "cell_type": "code",
      "source": [
        "columns_to_encode = ['Class', 'Source','Airline','Journey_day','Destination']"
      ],
      "metadata": {
        "id": "lrakRlrrbJnt"
      },
      "execution_count": null,
      "outputs": []
    },
    {
      "cell_type": "code",
      "source": [
        "one_hot_encoded_data = encoder.fit_transform(df[columns_to_encode])"
      ],
      "metadata": {
        "id": "XpA2xn63bLC2"
      },
      "execution_count": null,
      "outputs": []
    },
    {
      "cell_type": "code",
      "source": [
        "one_hot_encoded_df = pd.DataFrame(one_hot_encoded_data, columns=encoder.get_feature_names_out(columns_to_encode))\n",
        "\n",
        "one_hot_encoded_df.index = df.index\n",
        "\n",
        "df.drop(columns=columns_to_encode, inplace=True)\n",
        "\n",
        "df = pd.concat([df, one_hot_encoded_df], axis=1)\n"
      ],
      "metadata": {
        "id": "c_DzcxLwbMlj"
      },
      "execution_count": null,
      "outputs": []
    },
    {
      "cell_type": "code",
      "source": [
        "label_encoder = LabelEncoder()\n",
        "df[\"Total_stops_encoded\"] = label_encoder.fit_transform(df[\"Total_stops\"])\n",
        "\n",
        "df[\"Total_stops\"] = df[\"Total_stops_encoded\"]"
      ],
      "metadata": {
        "id": "KxccQjcPbN5a"
      },
      "execution_count": null,
      "outputs": []
    },
    {
      "cell_type": "code",
      "source": [
        "df.drop(columns=[\"Flight_code\"], inplace=True)"
      ],
      "metadata": {
        "id": "L6dBZr7ebPbB"
      },
      "execution_count": null,
      "outputs": []
    },
    {
      "cell_type": "code",
      "source": [
        "df[\"Departure\"].unique()"
      ],
      "metadata": {
        "colab": {
          "base_uri": "https://localhost:8080/"
        },
        "id": "XYu76BgXbRF6",
        "outputId": "76e010b7-2e9a-43df-c09e-fddef08b4cad"
      },
      "execution_count": null,
      "outputs": [
        {
          "output_type": "execute_result",
          "data": {
            "text/plain": [
              "array(['After 6 PM', 'Before 6 AM', '12 PM - 6 PM', '6 AM - 12 PM'],\n",
              "      dtype=object)"
            ]
          },
          "metadata": {},
          "execution_count": 12
        }
      ]
    },
    {
      "cell_type": "code",
      "source": [
        "df[\"Arrival\"].unique()"
      ],
      "metadata": {
        "colab": {
          "base_uri": "https://localhost:8080/"
        },
        "id": "1bt4_leUbSeN",
        "outputId": "8062db5e-7b03-4f3a-83cd-b873276d5f38"
      },
      "execution_count": null,
      "outputs": [
        {
          "output_type": "execute_result",
          "data": {
            "text/plain": [
              "array(['After 6 PM', 'Before 6 AM', '6 AM - 12 PM', '12 PM - 6 PM'],\n",
              "      dtype=object)"
            ]
          },
          "metadata": {},
          "execution_count": 13
        }
      ]
    },
    {
      "cell_type": "code",
      "source": [
        "Time_Slots = ['After 6 PM', 'Before 6 AM', '12 PM - 6 PM', '6 AM - 12 PM']"
      ],
      "metadata": {
        "id": "802vmovibUN_"
      },
      "execution_count": null,
      "outputs": []
    },
    {
      "cell_type": "code",
      "source": [
        "encoder = OneHotEncoder(categories=[Time_Slots,Time_Slots], drop='first', sparse_output=False)"
      ],
      "metadata": {
        "id": "7xRND4ZubViI"
      },
      "execution_count": null,
      "outputs": []
    },
    {
      "cell_type": "code",
      "source": [
        "one_hot_encoded_data = encoder.fit_transform(df[['Arrival', 'Departure']])\n",
        "\n",
        "feature_names = encoder.get_feature_names_out(['Arrival', 'Departure'])"
      ],
      "metadata": {
        "id": "m2Q7OagXbWwZ"
      },
      "execution_count": null,
      "outputs": []
    },
    {
      "cell_type": "code",
      "source": [
        "one_hot_encoded_df = pd.DataFrame(one_hot_encoded_data, columns=feature_names)\n",
        "one_hot_encoded_df.index = df.index"
      ],
      "metadata": {
        "id": "IKqgp4SybX4w"
      },
      "execution_count": null,
      "outputs": []
    },
    {
      "cell_type": "code",
      "source": [
        "df.drop(columns=['Arrival', 'Departure'], inplace=True)"
      ],
      "metadata": {
        "id": "rigGMKKFbZRa"
      },
      "execution_count": null,
      "outputs": []
    },
    {
      "cell_type": "code",
      "source": [
        "df = pd.concat([df, one_hot_encoded_df], axis=1)"
      ],
      "metadata": {
        "id": "_FURf3BEbak5"
      },
      "execution_count": null,
      "outputs": []
    },
    {
      "cell_type": "code",
      "source": [
        "df.info()"
      ],
      "metadata": {
        "colab": {
          "base_uri": "https://localhost:8080/"
        },
        "id": "Ex6GJvyybb3Q",
        "outputId": "7922f561-a6bd-48df-8125-7ca9ce8f370b"
      },
      "execution_count": null,
      "outputs": [
        {
          "output_type": "stream",
          "name": "stdout",
          "text": [
            "<class 'pandas.core.frame.DataFrame'>\n",
            "RangeIndex: 452088 entries, 0 to 452087\n",
            "Data columns (total 43 columns):\n",
            " #   Column                  Non-Null Count   Dtype  \n",
            "---  ------                  --------------   -----  \n",
            " 0   Total_stops             452088 non-null  int64  \n",
            " 1   Duration_in_hours       452088 non-null  float64\n",
            " 2   Days_left               452088 non-null  int64  \n",
            " 3   Fare                    452088 non-null  int64  \n",
            " 4   Day                     452088 non-null  int32  \n",
            " 5   Month                   452088 non-null  int32  \n",
            " 6   Year                    452088 non-null  int32  \n",
            " 7   Class_Economy           452088 non-null  float64\n",
            " 8   Class_First             452088 non-null  float64\n",
            " 9   Class_Premium Economy   452088 non-null  float64\n",
            " 10  Source_Bangalore        452088 non-null  float64\n",
            " 11  Source_Chennai          452088 non-null  float64\n",
            " 12  Source_Delhi            452088 non-null  float64\n",
            " 13  Source_Hyderabad        452088 non-null  float64\n",
            " 14  Source_Kolkata          452088 non-null  float64\n",
            " 15  Source_Mumbai           452088 non-null  float64\n",
            " 16  Airline_AirAsia         452088 non-null  float64\n",
            " 17  Airline_AkasaAir        452088 non-null  float64\n",
            " 18  Airline_AllianceAir     452088 non-null  float64\n",
            " 19  Airline_GO FIRST        452088 non-null  float64\n",
            " 20  Airline_Indigo          452088 non-null  float64\n",
            " 21  Airline_SpiceJet        452088 non-null  float64\n",
            " 22  Airline_StarAir         452088 non-null  float64\n",
            " 23  Airline_Vistara         452088 non-null  float64\n",
            " 24  Journey_day_Monday      452088 non-null  float64\n",
            " 25  Journey_day_Saturday    452088 non-null  float64\n",
            " 26  Journey_day_Sunday      452088 non-null  float64\n",
            " 27  Journey_day_Thursday    452088 non-null  float64\n",
            " 28  Journey_day_Tuesday     452088 non-null  float64\n",
            " 29  Journey_day_Wednesday   452088 non-null  float64\n",
            " 30  Destination_Bangalore   452088 non-null  float64\n",
            " 31  Destination_Chennai     452088 non-null  float64\n",
            " 32  Destination_Delhi       452088 non-null  float64\n",
            " 33  Destination_Hyderabad   452088 non-null  float64\n",
            " 34  Destination_Kolkata     452088 non-null  float64\n",
            " 35  Destination_Mumbai      452088 non-null  float64\n",
            " 36  Total_stops_encoded     452088 non-null  int64  \n",
            " 37  Arrival_Before 6 AM     452088 non-null  float64\n",
            " 38  Arrival_12 PM - 6 PM    452088 non-null  float64\n",
            " 39  Arrival_6 AM - 12 PM    452088 non-null  float64\n",
            " 40  Departure_Before 6 AM   452088 non-null  float64\n",
            " 41  Departure_12 PM - 6 PM  452088 non-null  float64\n",
            " 42  Departure_6 AM - 12 PM  452088 non-null  float64\n",
            "dtypes: float64(36), int32(3), int64(4)\n",
            "memory usage: 143.1 MB\n"
          ]
        }
      ]
    },
    {
      "cell_type": "code",
      "source": [
        "import statsmodels.api as sm\n",
        "from statsmodels.stats.outliers_influence import variance_inflation_factor"
      ],
      "metadata": {
        "id": "FTOJMBagbdIK"
      },
      "execution_count": null,
      "outputs": []
    },
    {
      "cell_type": "code",
      "source": [
        "y = df['Fare']\n",
        "X = df.drop(columns=['Fare'])"
      ],
      "metadata": {
        "id": "XL9EVCrubgzc"
      },
      "execution_count": null,
      "outputs": []
    },
    {
      "cell_type": "code",
      "source": [
        "X = sm.add_constant(X)"
      ],
      "metadata": {
        "id": "GVOu1KXObiby"
      },
      "execution_count": null,
      "outputs": []
    },
    {
      "cell_type": "code",
      "source": [
        "model = sm.OLS(y, X).fit()"
      ],
      "metadata": {
        "id": "wZ6ibFHrbjt2"
      },
      "execution_count": null,
      "outputs": []
    },
    {
      "cell_type": "code",
      "source": [
        "print(model.summary())"
      ],
      "metadata": {
        "colab": {
          "base_uri": "https://localhost:8080/"
        },
        "id": "UA-y_zlpbk-E",
        "outputId": "dc1b0012-c7d6-4827-9d28-b37b01344ac9"
      },
      "execution_count": null,
      "outputs": [
        {
          "output_type": "stream",
          "name": "stdout",
          "text": [
            "                            OLS Regression Results                            \n",
            "==============================================================================\n",
            "Dep. Variable:                   Fare   R-squared:                       0.850\n",
            "Model:                            OLS   Adj. R-squared:                  0.850\n",
            "Method:                 Least Squares   F-statistic:                 6.385e+04\n",
            "Date:                Wed, 29 May 2024   Prob (F-statistic):               0.00\n",
            "Time:                        17:00:10   Log-Likelihood:            -4.6974e+06\n",
            "No. Observations:              452088   AIC:                         9.395e+06\n",
            "Df Residuals:                  452047   BIC:                         9.395e+06\n",
            "Df Model:                          40                                         \n",
            "Covariance Type:            nonrobust                                         \n",
            "==========================================================================================\n",
            "                             coef    std err          t      P>|t|      [0.025      0.975]\n",
            "------------------------------------------------------------------------------------------\n",
            "Total_stops            -1661.0606      9.986   -166.333      0.000   -1680.633   -1641.488\n",
            "Duration_in_hours         68.9319      1.975     34.900      0.000      65.061      72.803\n",
            "Days_left              -1053.8873     16.922    -62.280      0.000   -1087.054   -1020.721\n",
            "Day                      932.5345     17.121     54.469      0.000     898.979     966.090\n",
            "Month                   2.717e+04    508.011     53.489      0.000    2.62e+04    2.82e+04\n",
            "Year                       4.9310      0.377     13.097      0.000       4.193       5.669\n",
            "Class_Economy          -3.965e+04     30.163  -1314.646      0.000   -3.97e+04   -3.96e+04\n",
            "Class_First             1.805e+04    658.106     27.430      0.000    1.68e+04    1.93e+04\n",
            "Class_Premium Economy  -3.679e+04     39.124   -940.269      0.000   -3.69e+04   -3.67e+04\n",
            "Source_Bangalore         831.7001     48.241     17.241      0.000     737.150     926.250\n",
            "Source_Chennai           770.3576     50.985     15.109      0.000     670.428     870.287\n",
            "Source_Delhi           -1200.6166     47.367    -25.347      0.000   -1293.454   -1107.780\n",
            "Source_Hyderabad        -210.3223     50.597     -4.157      0.000    -309.491    -111.154\n",
            "Source_Kolkata          4220.5285     50.745     83.171      0.000    4121.069    4319.988\n",
            "Source_Mumbai           1098.7692     47.470     23.147      0.000    1005.730    1191.808\n",
            "Airline_AirAsia        -1503.2467     69.626    -21.590      0.000   -1639.711   -1366.782\n",
            "Airline_AkasaAir         792.7544    173.176      4.578      0.000     453.335    1132.173\n",
            "Airline_AllianceAir      881.4545    399.640      2.206      0.027      98.171    1664.738\n",
            "Airline_GO FIRST         291.9297     81.797      3.569      0.000     131.610     452.250\n",
            "Airline_Indigo            79.0845     45.042      1.756      0.079      -9.197     167.366\n",
            "Airline_SpiceJet        -197.8752    106.623     -1.856      0.063    -406.853      11.103\n",
            "Airline_StarAir         4984.8934   1001.318      4.978      0.000    3022.340    6947.447\n",
            "Airline_Vistara         4048.7357     30.494    132.770      0.000    3988.968    4108.504\n",
            "Journey_day_Monday        43.5150     42.956      1.013      0.311     -40.676     127.706\n",
            "Journey_day_Saturday     109.8899     44.353      2.478      0.013      22.960     196.820\n",
            "Journey_day_Sunday       563.7660     44.519     12.663      0.000     476.509     651.023\n",
            "Journey_day_Thursday    -337.3919     44.046     -7.660      0.000    -423.721    -251.063\n",
            "Journey_day_Tuesday     -333.8940     44.790     -7.455      0.000    -421.681    -246.107\n",
            "Journey_day_Wednesday     23.6959     44.255      0.535      0.592     -63.043     110.435\n",
            "Destination_Bangalore   1977.5339     48.350     40.900      0.000    1882.769    2072.299\n",
            "Destination_Chennai     2559.9141     50.449     50.742      0.000    2461.035    2658.793\n",
            "Destination_Delhi          3.3814     48.214      0.070      0.944     -91.116      97.879\n",
            "Destination_Hyderabad    809.8314     49.567     16.338      0.000     712.682     906.981\n",
            "Destination_Kolkata     4769.1190     50.907     93.683      0.000    4669.343    4868.895\n",
            "Destination_Mumbai      2439.3835     47.304     51.568      0.000    2346.669    2532.098\n",
            "Total_stops_encoded    -1661.0606      9.986   -166.333      0.000   -1680.633   -1641.488\n",
            "Arrival_Before 6 AM    -1728.4749     50.110    -34.494      0.000   -1826.689   -1630.261\n",
            "Arrival_12 PM - 6 PM      59.3435     31.002      1.914      0.056      -1.419     120.106\n",
            "Arrival_6 AM - 12 PM   -1893.0021     29.588    -63.979      0.000   -1950.993   -1835.011\n",
            "Departure_Before 6 AM   -369.4529     58.063     -6.363      0.000    -483.255    -255.651\n",
            "Departure_12 PM - 6 PM   210.1227     33.101      6.348      0.000     145.246     274.999\n",
            "Departure_6 AM - 12 PM   246.0959     29.932      8.222      0.000     187.429     304.762\n",
            "==============================================================================\n",
            "Omnibus:                   120605.513   Durbin-Watson:                   0.315\n",
            "Prob(Omnibus):                  0.000   Jarque-Bera (JB):           918319.792\n",
            "Skew:                           1.079   Prob(JB):                         0.00\n",
            "Kurtosis:                       9.641   Cond. No.                     1.86e+18\n",
            "==============================================================================\n",
            "\n",
            "Notes:\n",
            "[1] Standard Errors assume that the covariance matrix of the errors is correctly specified.\n",
            "[2] The smallest eigenvalue is 5.38e-25. This might indicate that there are\n",
            "strong multicollinearity problems or that the design matrix is singular.\n"
          ]
        }
      ]
    },
    {
      "cell_type": "code",
      "source": [
        "vif_data = pd.DataFrame()\n",
        "vif_data[\"Feature\"] = X.columns\n",
        "vif_data[\"VIF\"] = [variance_inflation_factor(X.values, i) for i in range(X.shape[1])]\n",
        "print(vif_data)"
      ],
      "metadata": {
        "colab": {
          "base_uri": "https://localhost:8080/"
        },
        "id": "7KlRthACboBs",
        "outputId": "25c82b02-932b-4812-fbd7-07de1be3c6d7"
      },
      "execution_count": null,
      "outputs": [
        {
          "output_type": "stream",
          "name": "stderr",
          "text": [
            "/usr/local/lib/python3.10/dist-packages/statsmodels/stats/outliers_influence.py:197: RuntimeWarning: divide by zero encountered in scalar divide\n",
            "  vif = 1. / (1. - r_squared_i)\n"
          ]
        },
        {
          "output_type": "stream",
          "name": "stdout",
          "text": [
            "                   Feature          VIF\n",
            "0              Total_stops          inf\n",
            "1        Duration_in_hours     1.570360\n",
            "2                Days_left   426.854725\n",
            "3                      Day   176.346354\n",
            "4                    Month   745.900733\n",
            "5                     Year  4228.517933\n",
            "6            Class_Economy     1.635916\n",
            "7              Class_First     1.005208\n",
            "8    Class_Premium Economy     1.511946\n",
            "9         Source_Bangalore     2.306218\n",
            "10          Source_Chennai     2.072468\n",
            "11            Source_Delhi     2.454650\n",
            "12        Source_Hyderabad     2.045468\n",
            "13          Source_Kolkata     2.023243\n",
            "14           Source_Mumbai     2.409069\n",
            "15         Airline_AirAsia     1.189139\n",
            "16        Airline_AkasaAir     1.072930\n",
            "17     Airline_AllianceAir     1.011099\n",
            "18        Airline_GO FIRST     1.135770\n",
            "19          Airline_Indigo     1.835800\n",
            "20        Airline_SpiceJet     1.060705\n",
            "21         Airline_StarAir     1.002113\n",
            "22         Airline_Vistara     1.693526\n",
            "23      Journey_day_Monday     1.805282\n",
            "24    Journey_day_Saturday     1.708611\n",
            "25      Journey_day_Sunday     1.712987\n",
            "26    Journey_day_Thursday     1.722659\n",
            "27     Journey_day_Tuesday     1.763111\n",
            "28   Journey_day_Wednesday     1.727589\n",
            "29   Destination_Bangalore     2.290396\n",
            "30     Destination_Chennai     2.062110\n",
            "31       Destination_Delhi     2.412535\n",
            "32   Destination_Hyderabad     2.134565\n",
            "33     Destination_Kolkata     2.000942\n",
            "34      Destination_Mumbai     2.444540\n",
            "35     Total_stops_encoded          inf\n",
            "36     Arrival_Before 6 AM     1.160752\n",
            "37    Arrival_12 PM - 6 PM     1.218973\n",
            "38    Arrival_6 AM - 12 PM     1.241788\n",
            "39   Departure_Before 6 AM     1.204366\n",
            "40  Departure_12 PM - 6 PM     1.521414\n",
            "41  Departure_6 AM - 12 PM     1.578744\n"
          ]
        }
      ]
    },
    {
      "cell_type": "code",
      "source": [
        "# Extract p-values\n",
        "p_values = model.pvalues"
      ],
      "metadata": {
        "id": "2hiR9_Mobyfg"
      },
      "execution_count": null,
      "outputs": []
    },
    {
      "cell_type": "code",
      "source": [
        "threshold = 0.05"
      ],
      "metadata": {
        "id": "5Dd5yzQTbyU3"
      },
      "execution_count": null,
      "outputs": []
    },
    {
      "cell_type": "code",
      "source": [
        "features_above_threshold = p_values[p_values > threshold]"
      ],
      "metadata": {
        "id": "9XwjbO81bx9I"
      },
      "execution_count": null,
      "outputs": []
    },
    {
      "cell_type": "code",
      "source": [
        "print(\"Features with p-value greater than 0.05:\")\n",
        "print(features_above_threshold)"
      ],
      "metadata": {
        "colab": {
          "base_uri": "https://localhost:8080/"
        },
        "id": "7TZurU_LbulG",
        "outputId": "76246d6f-c9db-4394-bd56-cc4ccf624574"
      },
      "execution_count": null,
      "outputs": [
        {
          "output_type": "stream",
          "name": "stdout",
          "text": [
            "Features with p-value greater than 0.05:\n",
            "Airline_Indigo           0.079127\n",
            "Airline_SpiceJet         0.063478\n",
            "Journey_day_Monday       0.311049\n",
            "Journey_day_Wednesday    0.592350\n",
            "Destination_Delhi        0.944088\n",
            "Arrival_12 PM - 6 PM     0.055597\n",
            "dtype: float64\n"
          ]
        }
      ]
    },
    {
      "cell_type": "code",
      "source": [
        "X = X.drop(columns=['Destination_Delhi'])\n",
        "X = X.drop(columns=['Journey_day_Wednesday'])\n",
        "X = X.drop(columns=['Journey_day_Monday'])\n",
        "X = X.drop(columns=['Airline_Indigo'])\n",
        "X = X.drop(columns=['Airline_SpiceJet'])\n",
        "X = X.drop(columns=['Arrival_12 PM - 6 PM'])"
      ],
      "metadata": {
        "id": "pWp27StWdGna"
      },
      "execution_count": null,
      "outputs": []
    },
    {
      "cell_type": "markdown",
      "source": [
        "In the earlier file we checked the model summary after dropping each value one by one, and we the results.\n",
        "So to make the results simpler let's just drop all 6 values at once and then check the overall effect then head to the VIF values."
      ],
      "metadata": {
        "id": "HAq1GMWUeQbE"
      }
    },
    {
      "cell_type": "code",
      "source": [
        "# Add a constant term to the feature matrix\n",
        "X = sm.add_constant(X)\n",
        "model = sm.OLS(y, X).fit()"
      ],
      "metadata": {
        "id": "6kNt_VzydJwo"
      },
      "execution_count": null,
      "outputs": []
    },
    {
      "cell_type": "code",
      "source": [
        "print(model.summary())"
      ],
      "metadata": {
        "colab": {
          "base_uri": "https://localhost:8080/"
        },
        "id": "ZKKG2HIEed_Q",
        "outputId": "70b6dd4e-a87b-4850-b6e3-cb03f3baa9f8"
      },
      "execution_count": null,
      "outputs": [
        {
          "output_type": "stream",
          "name": "stdout",
          "text": [
            "                            OLS Regression Results                            \n",
            "==============================================================================\n",
            "Dep. Variable:                   Fare   R-squared:                       0.850\n",
            "Model:                            OLS   Adj. R-squared:                  0.850\n",
            "Method:                 Least Squares   F-statistic:                 7.512e+04\n",
            "Date:                Wed, 29 May 2024   Prob (F-statistic):               0.00\n",
            "Time:                        17:02:22   Log-Likelihood:            -4.6974e+06\n",
            "No. Observations:              452088   AIC:                         9.395e+06\n",
            "Df Residuals:                  452053   BIC:                         9.395e+06\n",
            "Df Model:                          34                                         \n",
            "Covariance Type:            nonrobust                                         \n",
            "==========================================================================================\n",
            "                             coef    std err          t      P>|t|      [0.025      0.975]\n",
            "------------------------------------------------------------------------------------------\n",
            "Total_stops            -1662.5697      9.972   -166.731      0.000   -1682.114   -1643.026\n",
            "Duration_in_hours         67.3166      1.826     36.859      0.000      63.737      70.896\n",
            "Days_left              -1054.7209     16.909    -62.375      0.000   -1087.863   -1021.579\n",
            "Day                      933.4877     17.096     54.602      0.000     899.980     966.996\n",
            "Month                    2.72e+04    507.586     53.583      0.000    2.62e+04    2.82e+04\n",
            "Year                       4.9513      0.376     13.178      0.000       4.215       5.688\n",
            "Class_Economy          -3.964e+04     28.623  -1384.954      0.000   -3.97e+04   -3.96e+04\n",
            "Class_First             1.802e+04    657.910     27.385      0.000    1.67e+04    1.93e+04\n",
            "Class_Premium Economy  -3.678e+04     38.561   -953.749      0.000   -3.69e+04   -3.67e+04\n",
            "Source_Bangalore         828.9550     48.162     17.212      0.000     734.560     923.350\n",
            "Source_Chennai           768.1633     50.897     15.092      0.000     668.406     867.920\n",
            "Source_Delhi           -1207.8325     46.694    -25.867      0.000   -1299.351   -1116.314\n",
            "Source_Hyderabad        -208.0324     50.451     -4.123      0.000    -306.915    -109.149\n",
            "Source_Kolkata          4221.3723     50.648     83.347      0.000    4122.103    4320.641\n",
            "Source_Mumbai           1091.7318     47.200     23.130      0.000     999.221    1184.243\n",
            "Airline_AirAsia        -1531.4157     66.247    -23.117      0.000   -1661.258   -1401.573\n",
            "Airline_AkasaAir         767.0708    171.295      4.478      0.000     431.338    1102.804\n",
            "Airline_AllianceAir      845.5545    398.842      2.120      0.034      63.837    1627.272\n",
            "Airline_GO FIRST         260.0002     79.106      3.287      0.001     104.954     415.046\n",
            "Airline_StarAir         4938.2997   1000.997      4.933      0.000    2976.377    6900.223\n",
            "Airline_Vistara         4033.1407     27.802    145.068      0.000    3978.650    4087.631\n",
            "Journey_day_Saturday      87.1856     36.158      2.411      0.016      16.317     158.054\n",
            "Journey_day_Sunday       541.0985     36.359     14.882      0.000     469.835     612.362\n",
            "Journey_day_Thursday    -360.5714     35.788    -10.075      0.000    -430.715    -290.427\n",
            "Journey_day_Tuesday     -357.3894     36.626     -9.758      0.000    -429.176    -285.603\n",
            "Destination_Bangalore   1974.1438     38.114     51.796      0.000    1899.442    2048.845\n",
            "Destination_Chennai     2556.6299     40.895     62.516      0.000    2476.476    2636.784\n",
            "Destination_Hyderabad    816.4452     39.484     20.678      0.000     739.057     893.833\n",
            "Destination_Kolkata     4767.8532     41.197    115.733      0.000    4687.108    4848.598\n",
            "Destination_Mumbai      2434.6935     36.346     66.986      0.000    2363.456    2505.931\n",
            "Total_stops_encoded    -1662.5697      9.972   -166.731      0.000   -1682.114   -1643.026\n",
            "Arrival_Before 6 AM    -1738.0803     48.447    -35.876      0.000   -1833.035   -1643.125\n",
            "Arrival_6 AM - 12 PM   -1913.6386     27.774    -68.900      0.000   -1968.075   -1859.202\n",
            "Departure_Before 6 AM   -355.6881     57.824     -6.151      0.000    -469.022    -242.354\n",
            "Departure_12 PM - 6 PM   205.7338     32.910      6.251      0.000     141.232     270.236\n",
            "Departure_6 AM - 12 PM   244.3389     29.849      8.186      0.000     185.837     302.841\n",
            "==============================================================================\n",
            "Omnibus:                   120695.717   Durbin-Watson:                   0.315\n",
            "Prob(Omnibus):                  0.000   Jarque-Bera (JB):           919749.398\n",
            "Skew:                           1.079   Prob(JB):                         0.00\n",
            "Kurtosis:                       9.646   Cond. No.                     1.61e+18\n",
            "==============================================================================\n",
            "\n",
            "Notes:\n",
            "[1] Standard Errors assume that the covariance matrix of the errors is correctly specified.\n",
            "[2] The smallest eigenvalue is 7.12e-25. This might indicate that there are\n",
            "strong multicollinearity problems or that the design matrix is singular.\n"
          ]
        }
      ]
    },
    {
      "cell_type": "markdown",
      "source": [
        "Just like earlier we didnt see any changes in the R square value."
      ],
      "metadata": {
        "id": "xBLgZPAJiGGR"
      }
    },
    {
      "cell_type": "code",
      "source": [
        "# Set a threshold for VIF\n",
        "vif_threshold = 10\n",
        "\n",
        "# Identify features with VIF greater than the threshold\n",
        "features_above_threshold = vif_data[vif_data[\"VIF\"] > vif_threshold]\n",
        "\n",
        "# Print the features with VIF greater than the threshold\n",
        "print(f\"Features with VIF greater than {vif_threshold}:\")\n",
        "print(features_above_threshold)"
      ],
      "metadata": {
        "colab": {
          "base_uri": "https://localhost:8080/"
        },
        "id": "865aBZDkKyOS",
        "outputId": "cbfe8f9a-2bc3-44ea-b955-18f0e022e7b0"
      },
      "execution_count": null,
      "outputs": [
        {
          "output_type": "stream",
          "name": "stdout",
          "text": [
            "Features with VIF greater than 10:\n",
            "                Feature          VIF\n",
            "0           Total_stops          inf\n",
            "2             Days_left   426.854725\n",
            "3                   Day   176.346354\n",
            "4                 Month   745.900733\n",
            "5                  Year  4228.517933\n",
            "35  Total_stops_encoded          inf\n"
          ]
        }
      ]
    },
    {
      "cell_type": "code",
      "source": [
        "# Check correlation between 'Total_stops' and 'Total_stops_encoded'\n",
        "correlation_matrix = X[['Total_stops', 'Total_stops_encoded']].corr()\n",
        "print(\"\\nCorrelation between 'Total_stops' and 'Total_stops_encoded':\")\n",
        "print(correlation_matrix)"
      ],
      "metadata": {
        "colab": {
          "base_uri": "https://localhost:8080/"
        },
        "id": "ns9fY7TEKy5c",
        "outputId": "3bdf9387-d8ea-4fe5-dce7-0ea1431a53f7"
      },
      "execution_count": null,
      "outputs": [
        {
          "output_type": "stream",
          "name": "stdout",
          "text": [
            "\n",
            "Correlation between 'Total_stops' and 'Total_stops_encoded':\n",
            "                     Total_stops  Total_stops_encoded\n",
            "Total_stops                  1.0                  1.0\n",
            "Total_stops_encoded          1.0                  1.0\n"
          ]
        }
      ]
    },
    {
      "cell_type": "code",
      "source": [
        "# Decide to drop 'Total_stops_encoded' based on correlation\n",
        "X_dropped = X.drop(columns=['Total_stops_encoded'])"
      ],
      "metadata": {
        "id": "NmcViRskL0zO"
      },
      "execution_count": null,
      "outputs": []
    },
    {
      "cell_type": "code",
      "source": [
        "# Decide to drop 'Total_stops' based on correlation\n",
        "X_dropped = X.drop(columns=['Total_stops'])"
      ],
      "metadata": {
        "id": "BEvdUU-4MsuS"
      },
      "execution_count": null,
      "outputs": []
    },
    {
      "cell_type": "code",
      "source": [
        "model_dropped = sm.OLS(y, X_dropped).fit()\n",
        "print(\"\\nModel summary after dropping 'Total_stops_encoded':\")\n",
        "print(model_dropped.summary())"
      ],
      "metadata": {
        "colab": {
          "base_uri": "https://localhost:8080/"
        },
        "id": "SYZGXnkpMWLE",
        "outputId": "063f7d77-d8ca-44d9-b03b-5e2fda179a3a"
      },
      "execution_count": null,
      "outputs": [
        {
          "output_type": "stream",
          "name": "stdout",
          "text": [
            "\n",
            "Model summary after dropping 'Total_stops_encoded':\n",
            "                            OLS Regression Results                            \n",
            "==============================================================================\n",
            "Dep. Variable:                   Fare   R-squared:                       0.850\n",
            "Model:                            OLS   Adj. R-squared:                  0.850\n",
            "Method:                 Least Squares   F-statistic:                 7.512e+04\n",
            "Date:                Wed, 29 May 2024   Prob (F-statistic):               0.00\n",
            "Time:                        17:02:37   Log-Likelihood:            -4.6974e+06\n",
            "No. Observations:              452088   AIC:                         9.395e+06\n",
            "Df Residuals:                  452053   BIC:                         9.395e+06\n",
            "Df Model:                          34                                         \n",
            "Covariance Type:            nonrobust                                         \n",
            "==========================================================================================\n",
            "                             coef    std err          t      P>|t|      [0.025      0.975]\n",
            "------------------------------------------------------------------------------------------\n",
            "Duration_in_hours         67.3166      1.826     36.859      0.000      63.737      70.896\n",
            "Days_left              -1054.7209     16.909    -62.375      0.000   -1087.863   -1021.579\n",
            "Day                      933.4877     17.096     54.602      0.000     899.980     966.996\n",
            "Month                    2.72e+04    507.586     53.583      0.000    2.62e+04    2.82e+04\n",
            "Year                       4.9513      0.376     13.178      0.000       4.215       5.688\n",
            "Class_Economy          -3.964e+04     28.623  -1384.954      0.000   -3.97e+04   -3.96e+04\n",
            "Class_First             1.802e+04    657.910     27.385      0.000    1.67e+04    1.93e+04\n",
            "Class_Premium Economy  -3.678e+04     38.561   -953.749      0.000   -3.69e+04   -3.67e+04\n",
            "Source_Bangalore         828.9550     48.162     17.212      0.000     734.560     923.350\n",
            "Source_Chennai           768.1633     50.897     15.092      0.000     668.406     867.920\n",
            "Source_Delhi           -1207.8325     46.694    -25.867      0.000   -1299.351   -1116.314\n",
            "Source_Hyderabad        -208.0324     50.451     -4.123      0.000    -306.915    -109.149\n",
            "Source_Kolkata          4221.3723     50.648     83.347      0.000    4122.103    4320.641\n",
            "Source_Mumbai           1091.7318     47.200     23.130      0.000     999.221    1184.243\n",
            "Airline_AirAsia        -1531.4157     66.247    -23.117      0.000   -1661.258   -1401.573\n",
            "Airline_AkasaAir         767.0708    171.295      4.478      0.000     431.338    1102.804\n",
            "Airline_AllianceAir      845.5545    398.842      2.120      0.034      63.837    1627.272\n",
            "Airline_GO FIRST         260.0002     79.106      3.287      0.001     104.954     415.046\n",
            "Airline_StarAir         4938.2997   1000.997      4.933      0.000    2976.377    6900.223\n",
            "Airline_Vistara         4033.1407     27.802    145.068      0.000    3978.650    4087.631\n",
            "Journey_day_Saturday      87.1856     36.158      2.411      0.016      16.317     158.054\n",
            "Journey_day_Sunday       541.0985     36.359     14.882      0.000     469.835     612.362\n",
            "Journey_day_Thursday    -360.5714     35.788    -10.075      0.000    -430.715    -290.427\n",
            "Journey_day_Tuesday     -357.3894     36.626     -9.758      0.000    -429.176    -285.603\n",
            "Destination_Bangalore   1974.1438     38.114     51.796      0.000    1899.442    2048.845\n",
            "Destination_Chennai     2556.6299     40.895     62.516      0.000    2476.476    2636.784\n",
            "Destination_Hyderabad    816.4452     39.484     20.678      0.000     739.057     893.833\n",
            "Destination_Kolkata     4767.8532     41.197    115.733      0.000    4687.108    4848.598\n",
            "Destination_Mumbai      2434.6935     36.346     66.986      0.000    2363.456    2505.931\n",
            "Total_stops_encoded    -3325.1395     19.943   -166.731      0.000   -3364.227   -3286.052\n",
            "Arrival_Before 6 AM    -1738.0803     48.447    -35.876      0.000   -1833.035   -1643.125\n",
            "Arrival_6 AM - 12 PM   -1913.6386     27.774    -68.900      0.000   -1968.075   -1859.202\n",
            "Departure_Before 6 AM   -355.6881     57.824     -6.151      0.000    -469.022    -242.354\n",
            "Departure_12 PM - 6 PM   205.7338     32.910      6.251      0.000     141.232     270.236\n",
            "Departure_6 AM - 12 PM   244.3389     29.849      8.186      0.000     185.837     302.841\n",
            "==============================================================================\n",
            "Omnibus:                   120695.717   Durbin-Watson:                   0.315\n",
            "Prob(Omnibus):                  0.000   Jarque-Bera (JB):           919749.398\n",
            "Skew:                           1.079   Prob(JB):                         0.00\n",
            "Kurtosis:                       9.646   Cond. No.                     1.73e+05\n",
            "==============================================================================\n",
            "\n",
            "Notes:\n",
            "[1] Standard Errors assume that the covariance matrix of the errors is correctly specified.\n",
            "[2] The condition number is large, 1.73e+05. This might indicate that there are\n",
            "strong multicollinearity or other numerical problems.\n"
          ]
        }
      ]
    },
    {
      "cell_type": "code",
      "source": [
        "# Identify features with high VIF\n",
        "high_vif_features = vif_data[vif_data[\"VIF\"] > 10][\"Feature\"].tolist()"
      ],
      "metadata": {
        "id": "UXA8dOalMXCU"
      },
      "execution_count": null,
      "outputs": []
    },
    {
      "cell_type": "code",
      "source": [
        "# Print features with high VIF values\n",
        "print(\"\\nFeatures with VIF greater than 10:\")\n",
        "print(vif_data[vif_data[\"VIF\"] > 10])"
      ],
      "metadata": {
        "colab": {
          "base_uri": "https://localhost:8080/"
        },
        "id": "6jnWSnXGNbpi",
        "outputId": "3ab20fe5-c5f1-4878-87d3-0626aff79205"
      },
      "execution_count": null,
      "outputs": [
        {
          "output_type": "stream",
          "name": "stdout",
          "text": [
            "\n",
            "Features with VIF greater than 10:\n",
            "                Feature          VIF\n",
            "0           Total_stops          inf\n",
            "2             Days_left   426.854725\n",
            "3                   Day   176.346354\n",
            "4                 Month   745.900733\n",
            "5                  Year  4228.517933\n",
            "35  Total_stops_encoded          inf\n"
          ]
        }
      ]
    },
    {
      "cell_type": "code",
      "source": [
        "# Drop features with high VIF values\n",
        "X_dropped = X.drop(columns=high_vif_features)\n",
        "\n",
        "# Recalculate VIF after dropping the features\n",
        "vif_data_dropped = pd.DataFrame()\n",
        "vif_data_dropped[\"Feature\"] = X_dropped.columns\n",
        "vif_data_dropped[\"VIF\"] = [variance_inflation_factor(X_dropped.values, i) for i in range(X_dropped.shape[1])]\n",
        "\n",
        "# Print the VIF data after dropping the features\n",
        "print(\"\\nVIF data after dropping high VIF features:\")\n",
        "print(vif_data_dropped)"
      ],
      "metadata": {
        "colab": {
          "base_uri": "https://localhost:8080/"
        },
        "id": "E8unVsuCNewo",
        "outputId": "5ad928ea-9a9a-4195-c46d-4ab11a7881da"
      },
      "execution_count": null,
      "outputs": [
        {
          "output_type": "stream",
          "name": "stdout",
          "text": [
            "\n",
            "VIF data after dropping high VIF features:\n",
            "                   Feature       VIF\n",
            "0        Duration_in_hours  3.696286\n",
            "1            Class_Economy  2.885569\n",
            "2              Class_First  1.002638\n",
            "3    Class_Premium Economy  1.714656\n",
            "4         Source_Bangalore  1.908759\n",
            "5           Source_Chennai  1.722220\n",
            "6             Source_Delhi  2.135923\n",
            "7         Source_Hyderabad  1.758137\n",
            "8           Source_Kolkata  1.779886\n",
            "9            Source_Mumbai  1.961719\n",
            "10         Airline_AirAsia  1.114748\n",
            "11        Airline_AkasaAir  1.028002\n",
            "12     Airline_AllianceAir  1.005363\n",
            "13        Airline_GO FIRST  1.079727\n",
            "14         Airline_StarAir  1.001462\n",
            "15         Airline_Vistara  2.657961\n",
            "16    Journey_day_Saturday  1.290306\n",
            "17      Journey_day_Sunday  1.290045\n",
            "18    Journey_day_Thursday  1.294593\n",
            "19     Journey_day_Tuesday  1.293097\n",
            "20   Destination_Bangalore  1.577419\n",
            "21     Destination_Chennai  1.459558\n",
            "22   Destination_Hyderabad  1.485337\n",
            "23     Destination_Kolkata  1.430448\n",
            "24      Destination_Mumbai  1.641935\n",
            "25     Arrival_Before 6 AM  1.126600\n",
            "26    Arrival_6 AM - 12 PM  1.456050\n",
            "27   Departure_Before 6 AM  1.154909\n",
            "28  Departure_12 PM - 6 PM  1.796972\n",
            "29  Departure_6 AM - 12 PM  2.272537\n"
          ]
        }
      ]
    },
    {
      "cell_type": "code",
      "source": [
        "# Refit the model with the remaining features\n",
        "model_dropped = sm.OLS(y, X_dropped).fit()\n",
        "\n",
        "# Print the updated model summary\n",
        "print(\"\\nModel summary after dropping high VIF features:\")\n",
        "print(model_dropped.summary())\n"
      ],
      "metadata": {
        "colab": {
          "base_uri": "https://localhost:8080/"
        },
        "id": "TLl_f_m3Njc_",
        "outputId": "930580b3-9244-4639-bc17-a20a3d28be67"
      },
      "execution_count": null,
      "outputs": [
        {
          "output_type": "stream",
          "name": "stdout",
          "text": [
            "\n",
            "Model summary after dropping high VIF features:\n",
            "                                 OLS Regression Results                                \n",
            "=======================================================================================\n",
            "Dep. Variable:                   Fare   R-squared (uncentered):                   0.850\n",
            "Model:                            OLS   Adj. R-squared (uncentered):              0.850\n",
            "Method:                 Least Squares   F-statistic:                          8.544e+04\n",
            "Date:                Wed, 29 May 2024   Prob (F-statistic):                        0.00\n",
            "Time:                        17:04:09   Log-Likelihood:                     -4.8815e+06\n",
            "No. Observations:              452088   AIC:                                  9.763e+06\n",
            "Df Residuals:                  452058   BIC:                                  9.763e+06\n",
            "Df Model:                          30                                                  \n",
            "Covariance Type:            nonrobust                                                  \n",
            "==========================================================================================\n",
            "                             coef    std err          t      P>|t|      [0.025      0.975]\n",
            "------------------------------------------------------------------------------------------\n",
            "Duration_in_hours        654.5084      2.348    278.778      0.000     649.907     659.110\n",
            "Class_Economy          -3.264e+04     40.043   -815.092      0.000   -3.27e+04   -3.26e+04\n",
            "Class_First             2.941e+04    987.475     29.782      0.000    2.75e+04    3.13e+04\n",
            "Class_Premium Economy  -3.439e+04     57.324   -599.896      0.000   -3.45e+04   -3.43e+04\n",
            "Source_Bangalore        1.968e+04     60.358    326.092      0.000    1.96e+04    1.98e+04\n",
            "Source_Chennai          1.952e+04     65.328    298.864      0.000    1.94e+04    1.97e+04\n",
            "Source_Delhi            1.531e+04     59.978    255.308      0.000    1.52e+04    1.54e+04\n",
            "Source_Hyderabad        1.761e+04     65.923    267.108      0.000    1.75e+04    1.77e+04\n",
            "Source_Kolkata          2.107e+04     66.981    314.552      0.000    2.09e+04    2.12e+04\n",
            "Source_Mumbai           1.975e+04     58.338    338.504      0.000    1.96e+04    1.99e+04\n",
            "Airline_AirAsia         -975.8181     99.515     -9.806      0.000   -1170.865    -780.771\n",
            "Airline_AkasaAir        2147.7832    254.085      8.453      0.000    1649.784    2645.783\n",
            "Airline_AllianceAir     5400.2082    598.550      9.022      0.000    4227.069    6573.348\n",
            "Airline_GO FIRST        5220.6181    118.403     44.092      0.000    4988.552    5452.684\n",
            "Airline_StarAir         5347.6888   1504.031      3.556      0.000    2399.835    8295.542\n",
            "Airline_Vistara         9643.3268     40.100    240.482      0.000    9564.732    9721.921\n",
            "Journey_day_Saturday    3253.9945     53.763     60.525      0.000    3148.621    3359.368\n",
            "Journey_day_Sunday      3472.5480     53.916     64.407      0.000    3366.874    3578.222\n",
            "Journey_day_Thursday    3257.4338     53.147     61.291      0.000    3153.267    3361.600\n",
            "Journey_day_Tuesday     3409.9680     53.444     63.804      0.000    3305.219    3514.717\n",
            "Destination_Bangalore   9203.4076     55.260    166.549      0.000    9095.100    9311.715\n",
            "Destination_Chennai     9681.9309     59.577    162.512      0.000    9565.162    9798.699\n",
            "Destination_Hyderabad   7378.1291     57.673    127.930      0.000    7265.092    7491.166\n",
            "Destination_Kolkata     1.067e+04     60.657    175.832      0.000    1.05e+04    1.08e+04\n",
            "Destination_Mumbai      9121.8520     52.637    173.299      0.000    9018.686    9225.018\n",
            "Arrival_Before 6 AM     4670.5131     71.613     65.219      0.000    4530.154    4810.872\n",
            "Arrival_6 AM - 12 PM     373.9321     41.284      9.058      0.000     293.017     454.847\n",
            "Departure_Before 6 AM   1.178e+04     83.201    141.620      0.000    1.16e+04    1.19e+04\n",
            "Departure_12 PM - 6 PM  8191.0814     46.623    175.688      0.000    8099.702    8282.461\n",
            "Departure_6 AM - 12 PM  8450.4171     41.479    203.728      0.000    8369.120    8531.715\n",
            "==============================================================================\n",
            "Omnibus:                    59050.701   Durbin-Watson:                   0.443\n",
            "Prob(Omnibus):                  0.000   Jarque-Bera (JB):           121918.948\n",
            "Skew:                           0.812   Prob(JB):                         0.00\n",
            "Kurtosis:                       4.959   Cond. No.                     1.23e+03\n",
            "==============================================================================\n",
            "\n",
            "Notes:\n",
            "[1] R² is computed without centering (uncentered) since the model does not contain a constant.\n",
            "[2] Standard Errors assume that the covariance matrix of the errors is correctly specified.\n",
            "[3] The condition number is large, 1.23e+03. This might indicate that there are\n",
            "strong multicollinearity or other numerical problems.\n"
          ]
        }
      ]
    },
    {
      "cell_type": "code",
      "source": [
        "from sklearn.ensemble import RandomForestRegressor\n",
        "from sklearn.metrics import mean_squared_error, r2_score\n",
        "from sklearn.model_selection import train_test_split"
      ],
      "metadata": {
        "id": "mH5xjbidN6sF"
      },
      "execution_count": null,
      "outputs": []
    },
    {
      "cell_type": "code",
      "source": [
        "X_train, X_test, y_train, y_test = train_test_split(X_dropped, y, test_size=0.2, random_state=42)"
      ],
      "metadata": {
        "id": "VtM8_FsSOXNS"
      },
      "execution_count": null,
      "outputs": []
    },
    {
      "cell_type": "code",
      "source": [
        "# Train the Random Forest model\n",
        "rf_model = RandomForestRegressor(n_estimators=10, random_state=42)\n",
        "rf_model.fit(X_train, y_train)\n"
      ],
      "metadata": {
        "colab": {
          "base_uri": "https://localhost:8080/",
          "height": 74
        },
        "id": "2j6VtIMMOrI3",
        "outputId": "14fb0848-5e0c-4e85-89c8-7e0195308f2a"
      },
      "execution_count": null,
      "outputs": [
        {
          "output_type": "execute_result",
          "data": {
            "text/plain": [
              "RandomForestRegressor(n_estimators=10, random_state=42)"
            ],
            "text/html": [
              "<style>#sk-container-id-1 {color: black;background-color: white;}#sk-container-id-1 pre{padding: 0;}#sk-container-id-1 div.sk-toggleable {background-color: white;}#sk-container-id-1 label.sk-toggleable__label {cursor: pointer;display: block;width: 100%;margin-bottom: 0;padding: 0.3em;box-sizing: border-box;text-align: center;}#sk-container-id-1 label.sk-toggleable__label-arrow:before {content: \"▸\";float: left;margin-right: 0.25em;color: #696969;}#sk-container-id-1 label.sk-toggleable__label-arrow:hover:before {color: black;}#sk-container-id-1 div.sk-estimator:hover label.sk-toggleable__label-arrow:before {color: black;}#sk-container-id-1 div.sk-toggleable__content {max-height: 0;max-width: 0;overflow: hidden;text-align: left;background-color: #f0f8ff;}#sk-container-id-1 div.sk-toggleable__content pre {margin: 0.2em;color: black;border-radius: 0.25em;background-color: #f0f8ff;}#sk-container-id-1 input.sk-toggleable__control:checked~div.sk-toggleable__content {max-height: 200px;max-width: 100%;overflow: auto;}#sk-container-id-1 input.sk-toggleable__control:checked~label.sk-toggleable__label-arrow:before {content: \"▾\";}#sk-container-id-1 div.sk-estimator input.sk-toggleable__control:checked~label.sk-toggleable__label {background-color: #d4ebff;}#sk-container-id-1 div.sk-label input.sk-toggleable__control:checked~label.sk-toggleable__label {background-color: #d4ebff;}#sk-container-id-1 input.sk-hidden--visually {border: 0;clip: rect(1px 1px 1px 1px);clip: rect(1px, 1px, 1px, 1px);height: 1px;margin: -1px;overflow: hidden;padding: 0;position: absolute;width: 1px;}#sk-container-id-1 div.sk-estimator {font-family: monospace;background-color: #f0f8ff;border: 1px dotted black;border-radius: 0.25em;box-sizing: border-box;margin-bottom: 0.5em;}#sk-container-id-1 div.sk-estimator:hover {background-color: #d4ebff;}#sk-container-id-1 div.sk-parallel-item::after {content: \"\";width: 100%;border-bottom: 1px solid gray;flex-grow: 1;}#sk-container-id-1 div.sk-label:hover label.sk-toggleable__label {background-color: #d4ebff;}#sk-container-id-1 div.sk-serial::before {content: \"\";position: absolute;border-left: 1px solid gray;box-sizing: border-box;top: 0;bottom: 0;left: 50%;z-index: 0;}#sk-container-id-1 div.sk-serial {display: flex;flex-direction: column;align-items: center;background-color: white;padding-right: 0.2em;padding-left: 0.2em;position: relative;}#sk-container-id-1 div.sk-item {position: relative;z-index: 1;}#sk-container-id-1 div.sk-parallel {display: flex;align-items: stretch;justify-content: center;background-color: white;position: relative;}#sk-container-id-1 div.sk-item::before, #sk-container-id-1 div.sk-parallel-item::before {content: \"\";position: absolute;border-left: 1px solid gray;box-sizing: border-box;top: 0;bottom: 0;left: 50%;z-index: -1;}#sk-container-id-1 div.sk-parallel-item {display: flex;flex-direction: column;z-index: 1;position: relative;background-color: white;}#sk-container-id-1 div.sk-parallel-item:first-child::after {align-self: flex-end;width: 50%;}#sk-container-id-1 div.sk-parallel-item:last-child::after {align-self: flex-start;width: 50%;}#sk-container-id-1 div.sk-parallel-item:only-child::after {width: 0;}#sk-container-id-1 div.sk-dashed-wrapped {border: 1px dashed gray;margin: 0 0.4em 0.5em 0.4em;box-sizing: border-box;padding-bottom: 0.4em;background-color: white;}#sk-container-id-1 div.sk-label label {font-family: monospace;font-weight: bold;display: inline-block;line-height: 1.2em;}#sk-container-id-1 div.sk-label-container {text-align: center;}#sk-container-id-1 div.sk-container {/* jupyter's `normalize.less` sets `[hidden] { display: none; }` but bootstrap.min.css set `[hidden] { display: none !important; }` so we also need the `!important` here to be able to override the default hidden behavior on the sphinx rendered scikit-learn.org. See: https://github.com/scikit-learn/scikit-learn/issues/21755 */display: inline-block !important;position: relative;}#sk-container-id-1 div.sk-text-repr-fallback {display: none;}</style><div id=\"sk-container-id-1\" class=\"sk-top-container\"><div class=\"sk-text-repr-fallback\"><pre>RandomForestRegressor(n_estimators=10, random_state=42)</pre><b>In a Jupyter environment, please rerun this cell to show the HTML representation or trust the notebook. <br />On GitHub, the HTML representation is unable to render, please try loading this page with nbviewer.org.</b></div><div class=\"sk-container\" hidden><div class=\"sk-item\"><div class=\"sk-estimator sk-toggleable\"><input class=\"sk-toggleable__control sk-hidden--visually\" id=\"sk-estimator-id-1\" type=\"checkbox\" checked><label for=\"sk-estimator-id-1\" class=\"sk-toggleable__label sk-toggleable__label-arrow\">RandomForestRegressor</label><div class=\"sk-toggleable__content\"><pre>RandomForestRegressor(n_estimators=10, random_state=42)</pre></div></div></div></div></div>"
            ]
          },
          "metadata": {},
          "execution_count": 45
        }
      ]
    },
    {
      "cell_type": "code",
      "source": [
        "# Make predictions\n",
        "y_pred_rf = rf_model.predict(X_test)\n",
        "\n",
        "# Evaluate the model\n",
        "mse_rf = mean_squared_error(y_test, y_pred_rf)\n",
        "r2_rf = r2_score(y_test, y_pred_rf)\n",
        "\n",
        "print(\"Random Forest Regression Model with 10 Estimators\")\n",
        "print(f\"Mean Squared Error: {mse_rf}\")\n",
        "print(f\"R-squared: {r2_rf}\")"
      ],
      "metadata": {
        "colab": {
          "base_uri": "https://localhost:8080/"
        },
        "id": "8PZ3hxl6PGsH",
        "outputId": "c7692e65-0ea6-42a5-8f6c-c4f5c100db97"
      },
      "execution_count": null,
      "outputs": [
        {
          "output_type": "stream",
          "name": "stdout",
          "text": [
            "Random Forest Regression Model with 10 Estimators\n",
            "Mean Squared Error: 36189166.51799265\n",
            "R-squared: 0.9123041977135148\n"
          ]
        }
      ]
    },
    {
      "cell_type": "code",
      "source": [
        "from sklearn.ensemble import GradientBoostingRegressor\n",
        "\n",
        "# Train the Gradient Boosting model with 10 estimators\n",
        "gb_model = GradientBoostingRegressor(n_estimators=10, random_state=42)\n",
        "gb_model.fit(X_train, y_train)\n",
        "\n",
        "# Make predictions\n",
        "y_pred_gb = gb_model.predict(X_test)\n",
        "\n",
        "# Evaluate the model\n",
        "mse_gb = mean_squared_error(y_test, y_pred_gb)\n",
        "r2_gb = r2_score(y_test, y_pred_gb)\n",
        "\n",
        "print(\"\\nGradient Boosting Regression Model with 10 Estimators\")\n",
        "print(f\"Mean Squared Error: {mse_gb}\")\n",
        "print(f\"R-squared: {r2_gb}\")"
      ],
      "metadata": {
        "colab": {
          "base_uri": "https://localhost:8080/"
        },
        "id": "Wzk7ux_2Px2m",
        "outputId": "24e1dc20-9e77-4f4d-a1b6-b90a9afb0c55"
      },
      "execution_count": null,
      "outputs": [
        {
          "output_type": "stream",
          "name": "stdout",
          "text": [
            "\n",
            "Gradient Boosting Regression Model with 10 Estimators\n",
            "Mean Squared Error: 106809503.56314184\n",
            "R-squared: 0.741172676576181\n"
          ]
        }
      ]
    },
    {
      "cell_type": "code",
      "source": [
        "# Print the results for comparison\n",
        "print(\"\\nSummary of Model Performance\")\n",
        "print(\"Random Forest Regression with 10 Estimators\")\n",
        "print(f\"Mean Squared Error: {mse_rf}\")\n",
        "print(f\"R-squared: {r2_rf}\")\n",
        "\n",
        "print(\"\\nGradient Boosting Regression with 10 Estimators\")\n",
        "print(f\"Mean Squared Error: {mse_gb}\")\n",
        "print(f\"R-squared: {r2_gb}\")\n"
      ],
      "metadata": {
        "id": "uoeLeBfhUdUC",
        "outputId": "e9f23518-76f2-4955-f66e-9420caeba8e5",
        "colab": {
          "base_uri": "https://localhost:8080/"
        }
      },
      "execution_count": null,
      "outputs": [
        {
          "output_type": "stream",
          "name": "stdout",
          "text": [
            "\n",
            "Summary of Model Performance\n",
            "Random Forest Regression with 10 Estimators\n",
            "Mean Squared Error: 36189166.51799265\n",
            "R-squared: 0.9123041977135148\n",
            "\n",
            "Gradient Boosting Regression with 10 Estimators\n",
            "Mean Squared Error: 106809503.56314184\n",
            "R-squared: 0.741172676576181\n"
          ]
        }
      ]
    },
    {
      "cell_type": "code",
      "source": [],
      "metadata": {
        "id": "O87UV2jdUhbG"
      },
      "execution_count": null,
      "outputs": []
    }
  ]
}