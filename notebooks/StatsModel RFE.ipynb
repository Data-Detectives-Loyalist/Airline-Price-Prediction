{
 "cells": [
  {
   "cell_type": "code",
   "execution_count": 49,
   "metadata": {
    "id": "z7ykHjcuZ1om"
   },
   "outputs": [],
   "source": [
    "import pandas as pd\n",
    "import numpy as np\n",
    "import matplotlib.pyplot as plt\n",
    "import seaborn as sns\n",
    "%matplotlib inline\n",
    "from sklearn.preprocessing import OneHotEncoder\n",
    "from sklearn.preprocessing import LabelEncoder\n",
    "from sklearn.feature_selection import RFE\n",
    "from sklearn.linear_model import LinearRegression\n",
    "from sklearn.model_selection import train_test_split\n",
    "from sklearn.metrics import mean_squared_error, r2_score"
   ]
  },
  {
   "cell_type": "code",
   "execution_count": 2,
   "metadata": {},
   "outputs": [
    {
     "name": "stdout",
     "output_type": "stream",
     "text": [
      "C:\\Users\\37789\n"
     ]
    }
   ],
   "source": [
    "cd"
   ]
  },
  {
   "cell_type": "code",
   "execution_count": 3,
   "metadata": {
    "id": "xQ491w8jZ9kb"
   },
   "outputs": [],
   "source": [
    "df = pd.read_csv(\"flightPrice.csv\")"
   ]
  },
  {
   "cell_type": "code",
   "execution_count": 4,
   "metadata": {
    "colab": {
     "base_uri": "https://localhost:8080/",
     "height": 617
    },
    "id": "6lAswA5vaaBA",
    "outputId": "c5dbb62a-2571-4edc-b7a3-4de4d8e5e1db"
   },
   "outputs": [
    {
     "data": {
      "text/html": [
       "<div>\n",
       "<style scoped>\n",
       "    .dataframe tbody tr th:only-of-type {\n",
       "        vertical-align: middle;\n",
       "    }\n",
       "\n",
       "    .dataframe tbody tr th {\n",
       "        vertical-align: top;\n",
       "    }\n",
       "\n",
       "    .dataframe thead th {\n",
       "        text-align: right;\n",
       "    }\n",
       "</style>\n",
       "<table border=\"1\" class=\"dataframe\">\n",
       "  <thead>\n",
       "    <tr style=\"text-align: right;\">\n",
       "      <th></th>\n",
       "      <th>Date_of_journey</th>\n",
       "      <th>Journey_day</th>\n",
       "      <th>Airline</th>\n",
       "      <th>Flight_code</th>\n",
       "      <th>Class</th>\n",
       "      <th>Source</th>\n",
       "      <th>Departure</th>\n",
       "      <th>Total_stops</th>\n",
       "      <th>Arrival</th>\n",
       "      <th>Destination</th>\n",
       "      <th>Duration_in_hours</th>\n",
       "      <th>Days_left</th>\n",
       "      <th>Fare</th>\n",
       "    </tr>\n",
       "  </thead>\n",
       "  <tbody>\n",
       "    <tr>\n",
       "      <th>0</th>\n",
       "      <td>2023-01-16</td>\n",
       "      <td>Monday</td>\n",
       "      <td>SpiceJet</td>\n",
       "      <td>SG-8169</td>\n",
       "      <td>Economy</td>\n",
       "      <td>Delhi</td>\n",
       "      <td>After 6 PM</td>\n",
       "      <td>non-stop</td>\n",
       "      <td>After 6 PM</td>\n",
       "      <td>Mumbai</td>\n",
       "      <td>2.0833</td>\n",
       "      <td>1</td>\n",
       "      <td>5335</td>\n",
       "    </tr>\n",
       "    <tr>\n",
       "      <th>1</th>\n",
       "      <td>2023-01-16</td>\n",
       "      <td>Monday</td>\n",
       "      <td>Indigo</td>\n",
       "      <td>6E-2519</td>\n",
       "      <td>Economy</td>\n",
       "      <td>Delhi</td>\n",
       "      <td>After 6 PM</td>\n",
       "      <td>non-stop</td>\n",
       "      <td>Before 6 AM</td>\n",
       "      <td>Mumbai</td>\n",
       "      <td>2.3333</td>\n",
       "      <td>1</td>\n",
       "      <td>5899</td>\n",
       "    </tr>\n",
       "    <tr>\n",
       "      <th>2</th>\n",
       "      <td>2023-01-16</td>\n",
       "      <td>Monday</td>\n",
       "      <td>GO FIRST</td>\n",
       "      <td>G8-354</td>\n",
       "      <td>Economy</td>\n",
       "      <td>Delhi</td>\n",
       "      <td>After 6 PM</td>\n",
       "      <td>non-stop</td>\n",
       "      <td>Before 6 AM</td>\n",
       "      <td>Mumbai</td>\n",
       "      <td>2.1667</td>\n",
       "      <td>1</td>\n",
       "      <td>5801</td>\n",
       "    </tr>\n",
       "    <tr>\n",
       "      <th>3</th>\n",
       "      <td>2023-01-16</td>\n",
       "      <td>Monday</td>\n",
       "      <td>SpiceJet</td>\n",
       "      <td>SG-8709</td>\n",
       "      <td>Economy</td>\n",
       "      <td>Delhi</td>\n",
       "      <td>After 6 PM</td>\n",
       "      <td>non-stop</td>\n",
       "      <td>After 6 PM</td>\n",
       "      <td>Mumbai</td>\n",
       "      <td>2.0833</td>\n",
       "      <td>1</td>\n",
       "      <td>5794</td>\n",
       "    </tr>\n",
       "    <tr>\n",
       "      <th>4</th>\n",
       "      <td>2023-01-16</td>\n",
       "      <td>Monday</td>\n",
       "      <td>Air India</td>\n",
       "      <td>AI-805</td>\n",
       "      <td>Economy</td>\n",
       "      <td>Delhi</td>\n",
       "      <td>After 6 PM</td>\n",
       "      <td>non-stop</td>\n",
       "      <td>After 6 PM</td>\n",
       "      <td>Mumbai</td>\n",
       "      <td>2.1667</td>\n",
       "      <td>1</td>\n",
       "      <td>5955</td>\n",
       "    </tr>\n",
       "    <tr>\n",
       "      <th>...</th>\n",
       "      <td>...</td>\n",
       "      <td>...</td>\n",
       "      <td>...</td>\n",
       "      <td>...</td>\n",
       "      <td>...</td>\n",
       "      <td>...</td>\n",
       "      <td>...</td>\n",
       "      <td>...</td>\n",
       "      <td>...</td>\n",
       "      <td>...</td>\n",
       "      <td>...</td>\n",
       "      <td>...</td>\n",
       "      <td>...</td>\n",
       "    </tr>\n",
       "    <tr>\n",
       "      <th>452083</th>\n",
       "      <td>2023-03-06</td>\n",
       "      <td>Monday</td>\n",
       "      <td>Vistara</td>\n",
       "      <td>UK-926</td>\n",
       "      <td>Business</td>\n",
       "      <td>Ahmedabad</td>\n",
       "      <td>6 AM - 12 PM</td>\n",
       "      <td>1-stop</td>\n",
       "      <td>After 6 PM</td>\n",
       "      <td>Chennai</td>\n",
       "      <td>13.0833</td>\n",
       "      <td>50</td>\n",
       "      <td>65028</td>\n",
       "    </tr>\n",
       "    <tr>\n",
       "      <th>452084</th>\n",
       "      <td>2023-03-06</td>\n",
       "      <td>Monday</td>\n",
       "      <td>Vistara</td>\n",
       "      <td>UK-918</td>\n",
       "      <td>Business</td>\n",
       "      <td>Ahmedabad</td>\n",
       "      <td>Before 6 AM</td>\n",
       "      <td>1-stop</td>\n",
       "      <td>12 PM - 6 PM</td>\n",
       "      <td>Chennai</td>\n",
       "      <td>11.2500</td>\n",
       "      <td>50</td>\n",
       "      <td>69254</td>\n",
       "    </tr>\n",
       "    <tr>\n",
       "      <th>452085</th>\n",
       "      <td>2023-03-06</td>\n",
       "      <td>Monday</td>\n",
       "      <td>Vistara</td>\n",
       "      <td>UK-918</td>\n",
       "      <td>Business</td>\n",
       "      <td>Ahmedabad</td>\n",
       "      <td>Before 6 AM</td>\n",
       "      <td>1-stop</td>\n",
       "      <td>12 PM - 6 PM</td>\n",
       "      <td>Chennai</td>\n",
       "      <td>11.2500</td>\n",
       "      <td>50</td>\n",
       "      <td>69254</td>\n",
       "    </tr>\n",
       "    <tr>\n",
       "      <th>452086</th>\n",
       "      <td>2023-03-06</td>\n",
       "      <td>Monday</td>\n",
       "      <td>Vistara</td>\n",
       "      <td>UK-946</td>\n",
       "      <td>Business</td>\n",
       "      <td>Ahmedabad</td>\n",
       "      <td>6 AM - 12 PM</td>\n",
       "      <td>1-stop</td>\n",
       "      <td>After 6 PM</td>\n",
       "      <td>Chennai</td>\n",
       "      <td>11.1667</td>\n",
       "      <td>50</td>\n",
       "      <td>72980</td>\n",
       "    </tr>\n",
       "    <tr>\n",
       "      <th>452087</th>\n",
       "      <td>2023-03-06</td>\n",
       "      <td>Monday</td>\n",
       "      <td>Vistara</td>\n",
       "      <td>UK-946</td>\n",
       "      <td>Business</td>\n",
       "      <td>Ahmedabad</td>\n",
       "      <td>6 AM - 12 PM</td>\n",
       "      <td>1-stop</td>\n",
       "      <td>After 6 PM</td>\n",
       "      <td>Chennai</td>\n",
       "      <td>11.1667</td>\n",
       "      <td>50</td>\n",
       "      <td>72980</td>\n",
       "    </tr>\n",
       "  </tbody>\n",
       "</table>\n",
       "<p>452088 rows × 13 columns</p>\n",
       "</div>"
      ],
      "text/plain": [
       "       Date_of_journey Journey_day    Airline Flight_code     Class  \\\n",
       "0           2023-01-16      Monday   SpiceJet     SG-8169   Economy   \n",
       "1           2023-01-16      Monday     Indigo     6E-2519   Economy   \n",
       "2           2023-01-16      Monday   GO FIRST      G8-354   Economy   \n",
       "3           2023-01-16      Monday   SpiceJet     SG-8709   Economy   \n",
       "4           2023-01-16      Monday  Air India      AI-805   Economy   \n",
       "...                ...         ...        ...         ...       ...   \n",
       "452083      2023-03-06      Monday    Vistara      UK-926  Business   \n",
       "452084      2023-03-06      Monday    Vistara      UK-918  Business   \n",
       "452085      2023-03-06      Monday    Vistara      UK-918  Business   \n",
       "452086      2023-03-06      Monday    Vistara      UK-946  Business   \n",
       "452087      2023-03-06      Monday    Vistara      UK-946  Business   \n",
       "\n",
       "           Source     Departure Total_stops       Arrival Destination  \\\n",
       "0           Delhi    After 6 PM    non-stop    After 6 PM      Mumbai   \n",
       "1           Delhi    After 6 PM    non-stop   Before 6 AM      Mumbai   \n",
       "2           Delhi    After 6 PM    non-stop   Before 6 AM      Mumbai   \n",
       "3           Delhi    After 6 PM    non-stop    After 6 PM      Mumbai   \n",
       "4           Delhi    After 6 PM    non-stop    After 6 PM      Mumbai   \n",
       "...           ...           ...         ...           ...         ...   \n",
       "452083  Ahmedabad  6 AM - 12 PM      1-stop    After 6 PM     Chennai   \n",
       "452084  Ahmedabad   Before 6 AM      1-stop  12 PM - 6 PM     Chennai   \n",
       "452085  Ahmedabad   Before 6 AM      1-stop  12 PM - 6 PM     Chennai   \n",
       "452086  Ahmedabad  6 AM - 12 PM      1-stop    After 6 PM     Chennai   \n",
       "452087  Ahmedabad  6 AM - 12 PM      1-stop    After 6 PM     Chennai   \n",
       "\n",
       "        Duration_in_hours  Days_left   Fare  \n",
       "0                  2.0833          1   5335  \n",
       "1                  2.3333          1   5899  \n",
       "2                  2.1667          1   5801  \n",
       "3                  2.0833          1   5794  \n",
       "4                  2.1667          1   5955  \n",
       "...                   ...        ...    ...  \n",
       "452083            13.0833         50  65028  \n",
       "452084            11.2500         50  69254  \n",
       "452085            11.2500         50  69254  \n",
       "452086            11.1667         50  72980  \n",
       "452087            11.1667         50  72980  \n",
       "\n",
       "[452088 rows x 13 columns]"
      ]
     },
     "execution_count": 4,
     "metadata": {},
     "output_type": "execute_result"
    }
   ],
   "source": [
    "df"
   ]
  },
  {
   "cell_type": "code",
   "execution_count": 5,
   "metadata": {
    "colab": {
     "base_uri": "https://localhost:8080/"
    },
    "id": "FunU-y2pacC1",
    "outputId": "82a7ec38-6db5-49da-88ce-e651d93acf66"
   },
   "outputs": [
    {
     "data": {
      "text/plain": [
       "Date_of_journey      0\n",
       "Journey_day          0\n",
       "Airline              0\n",
       "Flight_code          0\n",
       "Class                0\n",
       "Source               0\n",
       "Departure            0\n",
       "Total_stops          0\n",
       "Arrival              0\n",
       "Destination          0\n",
       "Duration_in_hours    0\n",
       "Days_left            0\n",
       "Fare                 0\n",
       "dtype: int64"
      ]
     },
     "execution_count": 5,
     "metadata": {},
     "output_type": "execute_result"
    }
   ],
   "source": [
    "df.isnull().sum()"
   ]
  },
  {
   "cell_type": "code",
   "execution_count": 6,
   "metadata": {
    "id": "hBnU_0sWad0_"
   },
   "outputs": [],
   "source": [
    "df['Date_of_journey'] = pd.to_datetime(df['Date_of_journey'], format='%Y-%m-%d')\n",
    "df[\"Day\"] = df[\"Date_of_journey\"].dt.day\n",
    "df[\"Month\"] = df[\"Date_of_journey\"].dt.month\n",
    "df[\"Year\"] = df[\"Date_of_journey\"].dt.year\n",
    "df.drop(columns=[\"Date_of_journey\"], inplace=True)"
   ]
  },
  {
   "cell_type": "code",
   "execution_count": 7,
   "metadata": {
    "id": "NJztkwPMbIJB"
   },
   "outputs": [],
   "source": [
    "encoder = OneHotEncoder(drop='first', sparse_output=False)"
   ]
  },
  {
   "cell_type": "code",
   "execution_count": 8,
   "metadata": {
    "id": "lrakRlrrbJnt"
   },
   "outputs": [],
   "source": [
    "columns_to_encode = ['Class', 'Source','Airline','Journey_day','Destination']"
   ]
  },
  {
   "cell_type": "code",
   "execution_count": 9,
   "metadata": {
    "id": "XpA2xn63bLC2"
   },
   "outputs": [],
   "source": [
    "one_hot_encoded_data = encoder.fit_transform(df[columns_to_encode])"
   ]
  },
  {
   "cell_type": "code",
   "execution_count": 10,
   "metadata": {
    "id": "c_DzcxLwbMlj"
   },
   "outputs": [],
   "source": [
    "one_hot_encoded_df = pd.DataFrame(one_hot_encoded_data, columns=encoder.get_feature_names_out(columns_to_encode))\n",
    "\n",
    "one_hot_encoded_df.index = df.index\n",
    "\n",
    "df.drop(columns=columns_to_encode, inplace=True)\n",
    "\n",
    "df = pd.concat([df, one_hot_encoded_df], axis=1)\n"
   ]
  },
  {
   "cell_type": "code",
   "execution_count": 11,
   "metadata": {
    "id": "KxccQjcPbN5a"
   },
   "outputs": [],
   "source": [
    "label_encoder = LabelEncoder()\n",
    "df[\"Total_stops_encoded\"] = label_encoder.fit_transform(df[\"Total_stops\"])\n",
    "\n",
    "df[\"Total_stops\"] = df[\"Total_stops_encoded\"]"
   ]
  },
  {
   "cell_type": "code",
   "execution_count": 12,
   "metadata": {
    "id": "L6dBZr7ebPbB"
   },
   "outputs": [],
   "source": [
    "df.drop(columns=[\"Flight_code\"], inplace=True)"
   ]
  },
  {
   "cell_type": "code",
   "execution_count": 13,
   "metadata": {
    "colab": {
     "base_uri": "https://localhost:8080/"
    },
    "id": "XYu76BgXbRF6",
    "outputId": "76e010b7-2e9a-43df-c09e-fddef08b4cad"
   },
   "outputs": [
    {
     "data": {
      "text/plain": [
       "array(['After 6 PM', 'Before 6 AM', '12 PM - 6 PM', '6 AM - 12 PM'],\n",
       "      dtype=object)"
      ]
     },
     "execution_count": 13,
     "metadata": {},
     "output_type": "execute_result"
    }
   ],
   "source": [
    "df[\"Departure\"].unique()"
   ]
  },
  {
   "cell_type": "code",
   "execution_count": 14,
   "metadata": {
    "colab": {
     "base_uri": "https://localhost:8080/"
    },
    "id": "1bt4_leUbSeN",
    "outputId": "8062db5e-7b03-4f3a-83cd-b873276d5f38"
   },
   "outputs": [
    {
     "data": {
      "text/plain": [
       "array(['After 6 PM', 'Before 6 AM', '6 AM - 12 PM', '12 PM - 6 PM'],\n",
       "      dtype=object)"
      ]
     },
     "execution_count": 14,
     "metadata": {},
     "output_type": "execute_result"
    }
   ],
   "source": [
    "df[\"Arrival\"].unique()"
   ]
  },
  {
   "cell_type": "code",
   "execution_count": 15,
   "metadata": {
    "id": "802vmovibUN_"
   },
   "outputs": [],
   "source": [
    "Time_Slots = ['After 6 PM', 'Before 6 AM', '12 PM - 6 PM', '6 AM - 12 PM']"
   ]
  },
  {
   "cell_type": "markdown",
   "metadata": {
    "id": "5Tm0hn4doFjJ"
   },
   "source": []
  },
  {
   "cell_type": "code",
   "execution_count": 16,
   "metadata": {
    "id": "7xRND4ZubViI"
   },
   "outputs": [],
   "source": [
    "encoder = OneHotEncoder(categories=[Time_Slots,Time_Slots], drop='first', sparse_output=False)"
   ]
  },
  {
   "cell_type": "code",
   "execution_count": 17,
   "metadata": {
    "id": "m2Q7OagXbWwZ"
   },
   "outputs": [],
   "source": [
    "one_hot_encoded_data = encoder.fit_transform(df[['Arrival', 'Departure']])\n",
    "\n",
    "feature_names = encoder.get_feature_names_out(['Arrival', 'Departure'])"
   ]
  },
  {
   "cell_type": "code",
   "execution_count": 18,
   "metadata": {
    "id": "IKqgp4SybX4w"
   },
   "outputs": [],
   "source": [
    "one_hot_encoded_df = pd.DataFrame(one_hot_encoded_data, columns=feature_names)\n",
    "one_hot_encoded_df.index = df.index"
   ]
  },
  {
   "cell_type": "code",
   "execution_count": 19,
   "metadata": {
    "id": "rigGMKKFbZRa"
   },
   "outputs": [],
   "source": [
    "df.drop(columns=['Arrival', 'Departure'], inplace=True)"
   ]
  },
  {
   "cell_type": "code",
   "execution_count": 20,
   "metadata": {
    "id": "_FURf3BEbak5"
   },
   "outputs": [],
   "source": [
    "df = pd.concat([df, one_hot_encoded_df], axis=1)"
   ]
  },
  {
   "cell_type": "code",
   "execution_count": 21,
   "metadata": {
    "colab": {
     "base_uri": "https://localhost:8080/"
    },
    "id": "Ex6GJvyybb3Q",
    "outputId": "7922f561-a6bd-48df-8125-7ca9ce8f370b"
   },
   "outputs": [
    {
     "name": "stdout",
     "output_type": "stream",
     "text": [
      "<class 'pandas.core.frame.DataFrame'>\n",
      "RangeIndex: 452088 entries, 0 to 452087\n",
      "Data columns (total 43 columns):\n",
      " #   Column                  Non-Null Count   Dtype  \n",
      "---  ------                  --------------   -----  \n",
      " 0   Total_stops             452088 non-null  int32  \n",
      " 1   Duration_in_hours       452088 non-null  float64\n",
      " 2   Days_left               452088 non-null  int64  \n",
      " 3   Fare                    452088 non-null  int64  \n",
      " 4   Day                     452088 non-null  int32  \n",
      " 5   Month                   452088 non-null  int32  \n",
      " 6   Year                    452088 non-null  int32  \n",
      " 7   Class_Economy           452088 non-null  float64\n",
      " 8   Class_First             452088 non-null  float64\n",
      " 9   Class_Premium Economy   452088 non-null  float64\n",
      " 10  Source_Bangalore        452088 non-null  float64\n",
      " 11  Source_Chennai          452088 non-null  float64\n",
      " 12  Source_Delhi            452088 non-null  float64\n",
      " 13  Source_Hyderabad        452088 non-null  float64\n",
      " 14  Source_Kolkata          452088 non-null  float64\n",
      " 15  Source_Mumbai           452088 non-null  float64\n",
      " 16  Airline_AirAsia         452088 non-null  float64\n",
      " 17  Airline_AkasaAir        452088 non-null  float64\n",
      " 18  Airline_AllianceAir     452088 non-null  float64\n",
      " 19  Airline_GO FIRST        452088 non-null  float64\n",
      " 20  Airline_Indigo          452088 non-null  float64\n",
      " 21  Airline_SpiceJet        452088 non-null  float64\n",
      " 22  Airline_StarAir         452088 non-null  float64\n",
      " 23  Airline_Vistara         452088 non-null  float64\n",
      " 24  Journey_day_Monday      452088 non-null  float64\n",
      " 25  Journey_day_Saturday    452088 non-null  float64\n",
      " 26  Journey_day_Sunday      452088 non-null  float64\n",
      " 27  Journey_day_Thursday    452088 non-null  float64\n",
      " 28  Journey_day_Tuesday     452088 non-null  float64\n",
      " 29  Journey_day_Wednesday   452088 non-null  float64\n",
      " 30  Destination_Bangalore   452088 non-null  float64\n",
      " 31  Destination_Chennai     452088 non-null  float64\n",
      " 32  Destination_Delhi       452088 non-null  float64\n",
      " 33  Destination_Hyderabad   452088 non-null  float64\n",
      " 34  Destination_Kolkata     452088 non-null  float64\n",
      " 35  Destination_Mumbai      452088 non-null  float64\n",
      " 36  Total_stops_encoded     452088 non-null  int32  \n",
      " 37  Arrival_Before 6 AM     452088 non-null  float64\n",
      " 38  Arrival_12 PM - 6 PM    452088 non-null  float64\n",
      " 39  Arrival_6 AM - 12 PM    452088 non-null  float64\n",
      " 40  Departure_Before 6 AM   452088 non-null  float64\n",
      " 41  Departure_12 PM - 6 PM  452088 non-null  float64\n",
      " 42  Departure_6 AM - 12 PM  452088 non-null  float64\n",
      "dtypes: float64(36), int32(5), int64(2)\n",
      "memory usage: 139.7 MB\n"
     ]
    }
   ],
   "source": [
    "df.info()"
   ]
  },
  {
   "cell_type": "code",
   "execution_count": 22,
   "metadata": {
    "id": "FTOJMBagbdIK"
   },
   "outputs": [],
   "source": [
    "import statsmodels.api as sm\n",
    "from statsmodels.stats.outliers_influence import variance_inflation_factor"
   ]
  },
  {
   "cell_type": "code",
   "execution_count": 23,
   "metadata": {
    "id": "XL9EVCrubgzc"
   },
   "outputs": [],
   "source": [
    "y = df['Fare']\n",
    "X = df.drop(columns=['Fare'])"
   ]
  },
  {
   "cell_type": "code",
   "execution_count": 24,
   "metadata": {
    "id": "GVOu1KXObiby"
   },
   "outputs": [],
   "source": [
    "X = sm.add_constant(X)"
   ]
  },
  {
   "cell_type": "code",
   "execution_count": 25,
   "metadata": {
    "id": "wZ6ibFHrbjt2"
   },
   "outputs": [],
   "source": [
    "model = sm.OLS(y, X).fit()"
   ]
  },
  {
   "cell_type": "code",
   "execution_count": 26,
   "metadata": {
    "colab": {
     "base_uri": "https://localhost:8080/"
    },
    "id": "UA-y_zlpbk-E",
    "outputId": "dc1b0012-c7d6-4827-9d28-b37b01344ac9"
   },
   "outputs": [
    {
     "name": "stdout",
     "output_type": "stream",
     "text": [
      "                            OLS Regression Results                            \n",
      "==============================================================================\n",
      "Dep. Variable:                   Fare   R-squared:                       0.850\n",
      "Model:                            OLS   Adj. R-squared:                  0.850\n",
      "Method:                 Least Squares   F-statistic:                 6.385e+04\n",
      "Date:                Wed, 05 Jun 2024   Prob (F-statistic):               0.00\n",
      "Time:                        15:40:40   Log-Likelihood:            -4.6974e+06\n",
      "No. Observations:              452088   AIC:                         9.395e+06\n",
      "Df Residuals:                  452047   BIC:                         9.395e+06\n",
      "Df Model:                          40                                         \n",
      "Covariance Type:            nonrobust                                         \n",
      "==========================================================================================\n",
      "                             coef    std err          t      P>|t|      [0.025      0.975]\n",
      "------------------------------------------------------------------------------------------\n",
      "Total_stops            -1661.0606      9.986   -166.333      0.000   -1680.633   -1641.488\n",
      "Duration_in_hours         68.9319      1.975     34.900      0.000      65.061      72.803\n",
      "Days_left              -1053.8873     16.922    -62.280      0.000   -1087.054   -1020.721\n",
      "Day                      932.5345     17.121     54.469      0.000     898.979     966.090\n",
      "Month                   2.717e+04    508.011     53.489      0.000    2.62e+04    2.82e+04\n",
      "Year                       4.9310      0.377     13.097      0.000       4.193       5.669\n",
      "Class_Economy          -3.965e+04     30.163  -1314.646      0.000   -3.97e+04   -3.96e+04\n",
      "Class_First             1.805e+04    658.106     27.430      0.000    1.68e+04    1.93e+04\n",
      "Class_Premium Economy  -3.679e+04     39.124   -940.269      0.000   -3.69e+04   -3.67e+04\n",
      "Source_Bangalore         831.7001     48.241     17.241      0.000     737.150     926.250\n",
      "Source_Chennai           770.3576     50.985     15.109      0.000     670.428     870.287\n",
      "Source_Delhi           -1200.6166     47.367    -25.347      0.000   -1293.454   -1107.780\n",
      "Source_Hyderabad        -210.3223     50.597     -4.157      0.000    -309.491    -111.154\n",
      "Source_Kolkata          4220.5285     50.745     83.171      0.000    4121.069    4319.988\n",
      "Source_Mumbai           1098.7692     47.470     23.147      0.000    1005.730    1191.808\n",
      "Airline_AirAsia        -1503.2467     69.626    -21.590      0.000   -1639.711   -1366.782\n",
      "Airline_AkasaAir         792.7544    173.176      4.578      0.000     453.335    1132.173\n",
      "Airline_AllianceAir      881.4545    399.640      2.206      0.027      98.171    1664.738\n",
      "Airline_GO FIRST         291.9297     81.797      3.569      0.000     131.610     452.250\n",
      "Airline_Indigo            79.0845     45.042      1.756      0.079      -9.197     167.366\n",
      "Airline_SpiceJet        -197.8752    106.623     -1.856      0.063    -406.853      11.103\n",
      "Airline_StarAir         4984.8934   1001.318      4.978      0.000    3022.340    6947.447\n",
      "Airline_Vistara         4048.7357     30.494    132.770      0.000    3988.968    4108.504\n",
      "Journey_day_Monday        43.5150     42.956      1.013      0.311     -40.676     127.706\n",
      "Journey_day_Saturday     109.8899     44.353      2.478      0.013      22.960     196.820\n",
      "Journey_day_Sunday       563.7660     44.519     12.663      0.000     476.509     651.023\n",
      "Journey_day_Thursday    -337.3919     44.046     -7.660      0.000    -423.721    -251.063\n",
      "Journey_day_Tuesday     -333.8940     44.790     -7.455      0.000    -421.681    -246.107\n",
      "Journey_day_Wednesday     23.6959     44.255      0.535      0.592     -63.043     110.435\n",
      "Destination_Bangalore   1977.5339     48.350     40.900      0.000    1882.769    2072.299\n",
      "Destination_Chennai     2559.9141     50.449     50.742      0.000    2461.035    2658.793\n",
      "Destination_Delhi          3.3814     48.214      0.070      0.944     -91.116      97.879\n",
      "Destination_Hyderabad    809.8314     49.567     16.338      0.000     712.682     906.981\n",
      "Destination_Kolkata     4769.1190     50.907     93.683      0.000    4669.343    4868.895\n",
      "Destination_Mumbai      2439.3835     47.304     51.568      0.000    2346.669    2532.098\n",
      "Total_stops_encoded    -1661.0606      9.986   -166.333      0.000   -1680.633   -1641.488\n",
      "Arrival_Before 6 AM    -1728.4749     50.110    -34.494      0.000   -1826.689   -1630.261\n",
      "Arrival_12 PM - 6 PM      59.3435     31.002      1.914      0.056      -1.419     120.106\n",
      "Arrival_6 AM - 12 PM   -1893.0021     29.588    -63.979      0.000   -1950.993   -1835.011\n",
      "Departure_Before 6 AM   -369.4529     58.063     -6.363      0.000    -483.255    -255.651\n",
      "Departure_12 PM - 6 PM   210.1227     33.101      6.348      0.000     145.246     274.999\n",
      "Departure_6 AM - 12 PM   246.0959     29.932      8.222      0.000     187.429     304.762\n",
      "==============================================================================\n",
      "Omnibus:                   120605.513   Durbin-Watson:                   0.315\n",
      "Prob(Omnibus):                  0.000   Jarque-Bera (JB):           918319.792\n",
      "Skew:                           1.079   Prob(JB):                         0.00\n",
      "Kurtosis:                       9.641   Cond. No.                     1.86e+18\n",
      "==============================================================================\n",
      "\n",
      "Notes:\n",
      "[1] Standard Errors assume that the covariance matrix of the errors is correctly specified.\n",
      "[2] The smallest eigenvalue is 5.38e-25. This might indicate that there are\n",
      "strong multicollinearity problems or that the design matrix is singular.\n"
     ]
    }
   ],
   "source": [
    "print(model.summary())"
   ]
  },
  {
   "cell_type": "code",
   "execution_count": 27,
   "metadata": {
    "colab": {
     "base_uri": "https://localhost:8080/"
    },
    "id": "7KlRthACboBs",
    "outputId": "25c82b02-932b-4812-fbd7-07de1be3c6d7"
   },
   "outputs": [
    {
     "name": "stderr",
     "output_type": "stream",
     "text": [
      "C:\\Users\\37789\\anaconda3\\Lib\\site-packages\\statsmodels\\stats\\outliers_influence.py:198: RuntimeWarning: divide by zero encountered in scalar divide\n",
      "  vif = 1. / (1. - r_squared_i)\n"
     ]
    },
    {
     "name": "stdout",
     "output_type": "stream",
     "text": [
      "                   Feature          VIF\n",
      "0              Total_stops          inf\n",
      "1        Duration_in_hours     1.570360\n",
      "2                Days_left   426.854725\n",
      "3                      Day   176.346354\n",
      "4                    Month   745.900733\n",
      "5                     Year  4228.517933\n",
      "6            Class_Economy     1.635916\n",
      "7              Class_First     1.005208\n",
      "8    Class_Premium Economy     1.511946\n",
      "9         Source_Bangalore     2.306218\n",
      "10          Source_Chennai     2.072468\n",
      "11            Source_Delhi     2.454650\n",
      "12        Source_Hyderabad     2.045468\n",
      "13          Source_Kolkata     2.023243\n",
      "14           Source_Mumbai     2.409069\n",
      "15         Airline_AirAsia     1.189139\n",
      "16        Airline_AkasaAir     1.072930\n",
      "17     Airline_AllianceAir     1.011099\n",
      "18        Airline_GO FIRST     1.135770\n",
      "19          Airline_Indigo     1.835800\n",
      "20        Airline_SpiceJet     1.060705\n",
      "21         Airline_StarAir     1.002113\n",
      "22         Airline_Vistara     1.693526\n",
      "23      Journey_day_Monday     1.805282\n",
      "24    Journey_day_Saturday     1.708611\n",
      "25      Journey_day_Sunday     1.712987\n",
      "26    Journey_day_Thursday     1.722659\n",
      "27     Journey_day_Tuesday     1.763111\n",
      "28   Journey_day_Wednesday     1.727589\n",
      "29   Destination_Bangalore     2.290396\n",
      "30     Destination_Chennai     2.062110\n",
      "31       Destination_Delhi     2.412535\n",
      "32   Destination_Hyderabad     2.134565\n",
      "33     Destination_Kolkata     2.000942\n",
      "34      Destination_Mumbai     2.444540\n",
      "35     Total_stops_encoded          inf\n",
      "36     Arrival_Before 6 AM     1.160752\n",
      "37    Arrival_12 PM - 6 PM     1.218973\n",
      "38    Arrival_6 AM - 12 PM     1.241788\n",
      "39   Departure_Before 6 AM     1.204366\n",
      "40  Departure_12 PM - 6 PM     1.521414\n",
      "41  Departure_6 AM - 12 PM     1.578744\n"
     ]
    }
   ],
   "source": [
    "vif_data = pd.DataFrame()\n",
    "vif_data[\"Feature\"] = X.columns\n",
    "vif_data[\"VIF\"] = [variance_inflation_factor(X.values, i) for i in range(X.shape[1])]\n",
    "print(vif_data)"
   ]
  },
  {
   "cell_type": "code",
   "execution_count": 28,
   "metadata": {
    "id": "2hiR9_Mobyfg"
   },
   "outputs": [],
   "source": [
    "# Extract p-values\n",
    "p_values = model.pvalues"
   ]
  },
  {
   "cell_type": "code",
   "execution_count": 29,
   "metadata": {
    "id": "5Dd5yzQTbyU3"
   },
   "outputs": [],
   "source": [
    "threshold = 0.05"
   ]
  },
  {
   "cell_type": "code",
   "execution_count": 30,
   "metadata": {
    "id": "9XwjbO81bx9I"
   },
   "outputs": [],
   "source": [
    "features_above_threshold = p_values[p_values > threshold]"
   ]
  },
  {
   "cell_type": "code",
   "execution_count": 31,
   "metadata": {
    "colab": {
     "base_uri": "https://localhost:8080/"
    },
    "id": "7TZurU_LbulG",
    "outputId": "76246d6f-c9db-4394-bd56-cc4ccf624574"
   },
   "outputs": [
    {
     "name": "stdout",
     "output_type": "stream",
     "text": [
      "Features with p-value greater than 0.05:\n",
      "Airline_Indigo           0.079127\n",
      "Airline_SpiceJet         0.063478\n",
      "Journey_day_Monday       0.311049\n",
      "Journey_day_Wednesday    0.592350\n",
      "Destination_Delhi        0.944088\n",
      "Arrival_12 PM - 6 PM     0.055597\n",
      "dtype: float64\n"
     ]
    }
   ],
   "source": [
    "print(\"Features with p-value greater than 0.05:\")\n",
    "print(features_above_threshold)"
   ]
  },
  {
   "cell_type": "code",
   "execution_count": 32,
   "metadata": {
    "id": "pWp27StWdGna"
   },
   "outputs": [],
   "source": [
    "X = X.drop(columns=['Destination_Delhi'])\n",
    "X = X.drop(columns=['Journey_day_Wednesday'])\n",
    "X = X.drop(columns=['Journey_day_Monday'])\n",
    "X = X.drop(columns=['Airline_Indigo'])\n",
    "X = X.drop(columns=['Airline_SpiceJet'])\n",
    "X = X.drop(columns=['Arrival_12 PM - 6 PM'])"
   ]
  },
  {
   "cell_type": "markdown",
   "metadata": {
    "id": "HAq1GMWUeQbE"
   },
   "source": [
    "In the earlier file we checked the model summary after dropping each value one by one, and we the results.\n",
    "So to make the results simpler let's just drop all 6 values at once and then check the overall effect then head to the VIF values."
   ]
  },
  {
   "cell_type": "code",
   "execution_count": 33,
   "metadata": {
    "id": "6kNt_VzydJwo"
   },
   "outputs": [],
   "source": [
    "# Add a constant term to the feature matrix\n",
    "X = sm.add_constant(X)\n",
    "model = sm.OLS(y, X).fit()"
   ]
  },
  {
   "cell_type": "code",
   "execution_count": 34,
   "metadata": {
    "colab": {
     "base_uri": "https://localhost:8080/"
    },
    "id": "ZKKG2HIEed_Q",
    "outputId": "70b6dd4e-a87b-4850-b6e3-cb03f3baa9f8"
   },
   "outputs": [
    {
     "name": "stdout",
     "output_type": "stream",
     "text": [
      "                            OLS Regression Results                            \n",
      "==============================================================================\n",
      "Dep. Variable:                   Fare   R-squared:                       0.850\n",
      "Model:                            OLS   Adj. R-squared:                  0.850\n",
      "Method:                 Least Squares   F-statistic:                 7.512e+04\n",
      "Date:                Wed, 05 Jun 2024   Prob (F-statistic):               0.00\n",
      "Time:                        15:42:37   Log-Likelihood:            -4.6974e+06\n",
      "No. Observations:              452088   AIC:                         9.395e+06\n",
      "Df Residuals:                  452053   BIC:                         9.395e+06\n",
      "Df Model:                          34                                         \n",
      "Covariance Type:            nonrobust                                         \n",
      "==========================================================================================\n",
      "                             coef    std err          t      P>|t|      [0.025      0.975]\n",
      "------------------------------------------------------------------------------------------\n",
      "Total_stops            -1662.5697      9.972   -166.731      0.000   -1682.114   -1643.026\n",
      "Duration_in_hours         67.3166      1.826     36.859      0.000      63.737      70.896\n",
      "Days_left              -1054.7209     16.909    -62.375      0.000   -1087.863   -1021.579\n",
      "Day                      933.4877     17.096     54.602      0.000     899.980     966.996\n",
      "Month                    2.72e+04    507.586     53.583      0.000    2.62e+04    2.82e+04\n",
      "Year                       4.9513      0.376     13.178      0.000       4.215       5.688\n",
      "Class_Economy          -3.964e+04     28.623  -1384.954      0.000   -3.97e+04   -3.96e+04\n",
      "Class_First             1.802e+04    657.910     27.385      0.000    1.67e+04    1.93e+04\n",
      "Class_Premium Economy  -3.678e+04     38.561   -953.749      0.000   -3.69e+04   -3.67e+04\n",
      "Source_Bangalore         828.9550     48.162     17.212      0.000     734.560     923.350\n",
      "Source_Chennai           768.1633     50.897     15.092      0.000     668.406     867.920\n",
      "Source_Delhi           -1207.8325     46.694    -25.867      0.000   -1299.351   -1116.314\n",
      "Source_Hyderabad        -208.0324     50.451     -4.123      0.000    -306.915    -109.149\n",
      "Source_Kolkata          4221.3723     50.648     83.347      0.000    4122.103    4320.641\n",
      "Source_Mumbai           1091.7318     47.200     23.130      0.000     999.221    1184.243\n",
      "Airline_AirAsia        -1531.4157     66.247    -23.117      0.000   -1661.258   -1401.573\n",
      "Airline_AkasaAir         767.0708    171.295      4.478      0.000     431.338    1102.804\n",
      "Airline_AllianceAir      845.5545    398.842      2.120      0.034      63.837    1627.272\n",
      "Airline_GO FIRST         260.0002     79.106      3.287      0.001     104.954     415.046\n",
      "Airline_StarAir         4938.2997   1000.997      4.933      0.000    2976.377    6900.223\n",
      "Airline_Vistara         4033.1407     27.802    145.068      0.000    3978.650    4087.631\n",
      "Journey_day_Saturday      87.1856     36.158      2.411      0.016      16.317     158.054\n",
      "Journey_day_Sunday       541.0985     36.359     14.882      0.000     469.835     612.362\n",
      "Journey_day_Thursday    -360.5714     35.788    -10.075      0.000    -430.715    -290.427\n",
      "Journey_day_Tuesday     -357.3894     36.626     -9.758      0.000    -429.176    -285.603\n",
      "Destination_Bangalore   1974.1438     38.114     51.796      0.000    1899.442    2048.845\n",
      "Destination_Chennai     2556.6299     40.895     62.516      0.000    2476.476    2636.784\n",
      "Destination_Hyderabad    816.4452     39.484     20.678      0.000     739.057     893.833\n",
      "Destination_Kolkata     4767.8532     41.197    115.733      0.000    4687.108    4848.598\n",
      "Destination_Mumbai      2434.6935     36.346     66.986      0.000    2363.456    2505.931\n",
      "Total_stops_encoded    -1662.5697      9.972   -166.731      0.000   -1682.114   -1643.026\n",
      "Arrival_Before 6 AM    -1738.0803     48.447    -35.876      0.000   -1833.035   -1643.125\n",
      "Arrival_6 AM - 12 PM   -1913.6386     27.774    -68.900      0.000   -1968.075   -1859.202\n",
      "Departure_Before 6 AM   -355.6881     57.824     -6.151      0.000    -469.022    -242.354\n",
      "Departure_12 PM - 6 PM   205.7338     32.910      6.251      0.000     141.232     270.236\n",
      "Departure_6 AM - 12 PM   244.3389     29.849      8.186      0.000     185.837     302.841\n",
      "==============================================================================\n",
      "Omnibus:                   120695.717   Durbin-Watson:                   0.315\n",
      "Prob(Omnibus):                  0.000   Jarque-Bera (JB):           919749.398\n",
      "Skew:                           1.079   Prob(JB):                         0.00\n",
      "Kurtosis:                       9.646   Cond. No.                     1.61e+18\n",
      "==============================================================================\n",
      "\n",
      "Notes:\n",
      "[1] Standard Errors assume that the covariance matrix of the errors is correctly specified.\n",
      "[2] The smallest eigenvalue is 7.12e-25. This might indicate that there are\n",
      "strong multicollinearity problems or that the design matrix is singular.\n"
     ]
    }
   ],
   "source": [
    "print(model.summary())"
   ]
  },
  {
   "cell_type": "markdown",
   "metadata": {
    "id": "xBLgZPAJiGGR"
   },
   "source": [
    "Just like earlier we didnt see any changes in the R square value."
   ]
  },
  {
   "cell_type": "code",
   "execution_count": 35,
   "metadata": {
    "colab": {
     "base_uri": "https://localhost:8080/"
    },
    "id": "865aBZDkKyOS",
    "outputId": "cbfe8f9a-2bc3-44ea-b955-18f0e022e7b0"
   },
   "outputs": [
    {
     "name": "stdout",
     "output_type": "stream",
     "text": [
      "Features with VIF greater than 10:\n",
      "                Feature          VIF\n",
      "0           Total_stops          inf\n",
      "2             Days_left   426.854725\n",
      "3                   Day   176.346354\n",
      "4                 Month   745.900733\n",
      "5                  Year  4228.517933\n",
      "35  Total_stops_encoded          inf\n"
     ]
    }
   ],
   "source": [
    "# Set a threshold for VIF\n",
    "vif_threshold = 10\n",
    "\n",
    "# Identify features with VIF greater than the threshold\n",
    "features_above_threshold = vif_data[vif_data[\"VIF\"] > vif_threshold]\n",
    "\n",
    "# Print the features with VIF greater than the threshold\n",
    "print(f\"Features with VIF greater than {vif_threshold}:\")\n",
    "print(features_above_threshold)"
   ]
  },
  {
   "cell_type": "code",
   "execution_count": 36,
   "metadata": {
    "colab": {
     "base_uri": "https://localhost:8080/"
    },
    "id": "ns9fY7TEKy5c",
    "outputId": "3bdf9387-d8ea-4fe5-dce7-0ea1431a53f7"
   },
   "outputs": [
    {
     "name": "stdout",
     "output_type": "stream",
     "text": [
      "\n",
      "Correlation between 'Total_stops' and 'Total_stops_encoded':\n",
      "                     Total_stops  Total_stops_encoded\n",
      "Total_stops                  1.0                  1.0\n",
      "Total_stops_encoded          1.0                  1.0\n"
     ]
    }
   ],
   "source": [
    "# Check correlation between 'Total_stops' and 'Total_stops_encoded'\n",
    "correlation_matrix = X[['Total_stops', 'Total_stops_encoded']].corr()\n",
    "print(\"\\nCorrelation between 'Total_stops' and 'Total_stops_encoded':\")\n",
    "print(correlation_matrix)"
   ]
  },
  {
   "cell_type": "code",
   "execution_count": 37,
   "metadata": {
    "id": "NmcViRskL0zO"
   },
   "outputs": [],
   "source": [
    "# Decide to drop 'Total_stops_encoded' based on correlation\n",
    "X_dropped = X.drop(columns=['Total_stops_encoded'])"
   ]
  },
  {
   "cell_type": "code",
   "execution_count": 38,
   "metadata": {
    "id": "BEvdUU-4MsuS"
   },
   "outputs": [],
   "source": [
    "# Decide to drop 'Total_stops' based on correlation\n",
    "X_dropped = X.drop(columns=['Total_stops'])"
   ]
  },
  {
   "cell_type": "code",
   "execution_count": 39,
   "metadata": {
    "colab": {
     "base_uri": "https://localhost:8080/"
    },
    "id": "SYZGXnkpMWLE",
    "outputId": "063f7d77-d8ca-44d9-b03b-5e2fda179a3a"
   },
   "outputs": [
    {
     "name": "stdout",
     "output_type": "stream",
     "text": [
      "\n",
      "Model summary after dropping 'Total_stops_encoded':\n",
      "                            OLS Regression Results                            \n",
      "==============================================================================\n",
      "Dep. Variable:                   Fare   R-squared:                       0.850\n",
      "Model:                            OLS   Adj. R-squared:                  0.850\n",
      "Method:                 Least Squares   F-statistic:                 7.512e+04\n",
      "Date:                Wed, 05 Jun 2024   Prob (F-statistic):               0.00\n",
      "Time:                        15:42:39   Log-Likelihood:            -4.6974e+06\n",
      "No. Observations:              452088   AIC:                         9.395e+06\n",
      "Df Residuals:                  452053   BIC:                         9.395e+06\n",
      "Df Model:                          34                                         \n",
      "Covariance Type:            nonrobust                                         \n",
      "==========================================================================================\n",
      "                             coef    std err          t      P>|t|      [0.025      0.975]\n",
      "------------------------------------------------------------------------------------------\n",
      "Duration_in_hours         67.3166      1.826     36.859      0.000      63.737      70.896\n",
      "Days_left              -1054.7209     16.909    -62.375      0.000   -1087.863   -1021.579\n",
      "Day                      933.4877     17.096     54.602      0.000     899.980     966.996\n",
      "Month                    2.72e+04    507.586     53.583      0.000    2.62e+04    2.82e+04\n",
      "Year                       4.9513      0.376     13.178      0.000       4.215       5.688\n",
      "Class_Economy          -3.964e+04     28.623  -1384.954      0.000   -3.97e+04   -3.96e+04\n",
      "Class_First             1.802e+04    657.910     27.385      0.000    1.67e+04    1.93e+04\n",
      "Class_Premium Economy  -3.678e+04     38.561   -953.749      0.000   -3.69e+04   -3.67e+04\n",
      "Source_Bangalore         828.9550     48.162     17.212      0.000     734.560     923.350\n",
      "Source_Chennai           768.1633     50.897     15.092      0.000     668.406     867.920\n",
      "Source_Delhi           -1207.8325     46.694    -25.867      0.000   -1299.351   -1116.314\n",
      "Source_Hyderabad        -208.0324     50.451     -4.123      0.000    -306.915    -109.149\n",
      "Source_Kolkata          4221.3723     50.648     83.347      0.000    4122.103    4320.641\n",
      "Source_Mumbai           1091.7318     47.200     23.130      0.000     999.221    1184.243\n",
      "Airline_AirAsia        -1531.4157     66.247    -23.117      0.000   -1661.258   -1401.573\n",
      "Airline_AkasaAir         767.0708    171.295      4.478      0.000     431.338    1102.804\n",
      "Airline_AllianceAir      845.5545    398.842      2.120      0.034      63.837    1627.272\n",
      "Airline_GO FIRST         260.0002     79.106      3.287      0.001     104.954     415.046\n",
      "Airline_StarAir         4938.2997   1000.997      4.933      0.000    2976.377    6900.223\n",
      "Airline_Vistara         4033.1407     27.802    145.068      0.000    3978.650    4087.631\n",
      "Journey_day_Saturday      87.1856     36.158      2.411      0.016      16.317     158.054\n",
      "Journey_day_Sunday       541.0985     36.359     14.882      0.000     469.835     612.362\n",
      "Journey_day_Thursday    -360.5714     35.788    -10.075      0.000    -430.715    -290.427\n",
      "Journey_day_Tuesday     -357.3894     36.626     -9.758      0.000    -429.176    -285.603\n",
      "Destination_Bangalore   1974.1438     38.114     51.796      0.000    1899.442    2048.845\n",
      "Destination_Chennai     2556.6299     40.895     62.516      0.000    2476.476    2636.784\n",
      "Destination_Hyderabad    816.4452     39.484     20.678      0.000     739.057     893.833\n",
      "Destination_Kolkata     4767.8532     41.197    115.733      0.000    4687.108    4848.598\n",
      "Destination_Mumbai      2434.6935     36.346     66.986      0.000    2363.456    2505.931\n",
      "Total_stops_encoded    -3325.1395     19.943   -166.731      0.000   -3364.227   -3286.052\n",
      "Arrival_Before 6 AM    -1738.0803     48.447    -35.876      0.000   -1833.035   -1643.125\n",
      "Arrival_6 AM - 12 PM   -1913.6386     27.774    -68.900      0.000   -1968.075   -1859.202\n",
      "Departure_Before 6 AM   -355.6881     57.824     -6.151      0.000    -469.022    -242.354\n",
      "Departure_12 PM - 6 PM   205.7338     32.910      6.251      0.000     141.232     270.236\n",
      "Departure_6 AM - 12 PM   244.3389     29.849      8.186      0.000     185.837     302.841\n",
      "==============================================================================\n",
      "Omnibus:                   120695.717   Durbin-Watson:                   0.315\n",
      "Prob(Omnibus):                  0.000   Jarque-Bera (JB):           919749.398\n",
      "Skew:                           1.079   Prob(JB):                         0.00\n",
      "Kurtosis:                       9.646   Cond. No.                     1.73e+05\n",
      "==============================================================================\n",
      "\n",
      "Notes:\n",
      "[1] Standard Errors assume that the covariance matrix of the errors is correctly specified.\n",
      "[2] The condition number is large, 1.73e+05. This might indicate that there are\n",
      "strong multicollinearity or other numerical problems.\n"
     ]
    }
   ],
   "source": [
    "model_dropped = sm.OLS(y, X_dropped).fit()\n",
    "print(\"\\nModel summary after dropping 'Total_stops_encoded':\")\n",
    "print(model_dropped.summary())"
   ]
  },
  {
   "cell_type": "code",
   "execution_count": 40,
   "metadata": {
    "id": "UXA8dOalMXCU"
   },
   "outputs": [],
   "source": [
    "# Identify features with high VIF\n",
    "high_vif_features = vif_data[vif_data[\"VIF\"] > 10][\"Feature\"].tolist()"
   ]
  },
  {
   "cell_type": "code",
   "execution_count": 41,
   "metadata": {
    "colab": {
     "base_uri": "https://localhost:8080/"
    },
    "id": "6jnWSnXGNbpi",
    "outputId": "3ab20fe5-c5f1-4878-87d3-0626aff79205"
   },
   "outputs": [
    {
     "name": "stdout",
     "output_type": "stream",
     "text": [
      "\n",
      "Features with VIF greater than 10:\n",
      "                Feature          VIF\n",
      "0           Total_stops          inf\n",
      "2             Days_left   426.854725\n",
      "3                   Day   176.346354\n",
      "4                 Month   745.900733\n",
      "5                  Year  4228.517933\n",
      "35  Total_stops_encoded          inf\n"
     ]
    }
   ],
   "source": [
    "# Print features with high VIF values\n",
    "print(\"\\nFeatures with VIF greater than 10:\")\n",
    "print(vif_data[vif_data[\"VIF\"] > 10])"
   ]
  },
  {
   "cell_type": "code",
   "execution_count": null,
   "metadata": {
    "colab": {
     "base_uri": "https://localhost:8080/"
    },
    "id": "E8unVsuCNewo",
    "outputId": "5ad928ea-9a9a-4195-c46d-4ab11a7881da"
   },
   "outputs": [
    {
     "name": "stderr",
     "output_type": "stream",
     "text": [
      "C:\\Users\\37789\\anaconda3\\Lib\\site-packages\\statsmodels\\stats\\outliers_influence.py:198: RuntimeWarning: divide by zero encountered in scalar divide\n",
      "  vif = 1. / (1. - r_squared_i)\n"
     ]
    }
   ],
   "source": []
  },
  {
   "cell_type": "code",
   "execution_count": 42,
   "metadata": {
    "colab": {
     "base_uri": "https://localhost:8080/"
    },
    "id": "TLl_f_m3Njc_",
    "outputId": "930580b3-9244-4639-bc17-a20a3d28be67"
   },
   "outputs": [
    {
     "name": "stdout",
     "output_type": "stream",
     "text": [
      "\n",
      "Model summary after dropping high VIF features:\n",
      "                            OLS Regression Results                            \n",
      "==============================================================================\n",
      "Dep. Variable:                   Fare   R-squared:                       0.850\n",
      "Model:                            OLS   Adj. R-squared:                  0.850\n",
      "Method:                 Least Squares   F-statistic:                 7.512e+04\n",
      "Date:                Wed, 05 Jun 2024   Prob (F-statistic):               0.00\n",
      "Time:                        15:42:42   Log-Likelihood:            -4.6974e+06\n",
      "No. Observations:              452088   AIC:                         9.395e+06\n",
      "Df Residuals:                  452053   BIC:                         9.395e+06\n",
      "Df Model:                          34                                         \n",
      "Covariance Type:            nonrobust                                         \n",
      "==========================================================================================\n",
      "                             coef    std err          t      P>|t|      [0.025      0.975]\n",
      "------------------------------------------------------------------------------------------\n",
      "Duration_in_hours         67.3166      1.826     36.859      0.000      63.737      70.896\n",
      "Days_left              -1054.7209     16.909    -62.375      0.000   -1087.863   -1021.579\n",
      "Day                      933.4877     17.096     54.602      0.000     899.980     966.996\n",
      "Month                    2.72e+04    507.586     53.583      0.000    2.62e+04    2.82e+04\n",
      "Year                       4.9513      0.376     13.178      0.000       4.215       5.688\n",
      "Class_Economy          -3.964e+04     28.623  -1384.954      0.000   -3.97e+04   -3.96e+04\n",
      "Class_First             1.802e+04    657.910     27.385      0.000    1.67e+04    1.93e+04\n",
      "Class_Premium Economy  -3.678e+04     38.561   -953.749      0.000   -3.69e+04   -3.67e+04\n",
      "Source_Bangalore         828.9550     48.162     17.212      0.000     734.560     923.350\n",
      "Source_Chennai           768.1633     50.897     15.092      0.000     668.406     867.920\n",
      "Source_Delhi           -1207.8325     46.694    -25.867      0.000   -1299.351   -1116.314\n",
      "Source_Hyderabad        -208.0324     50.451     -4.123      0.000    -306.915    -109.149\n",
      "Source_Kolkata          4221.3723     50.648     83.347      0.000    4122.103    4320.641\n",
      "Source_Mumbai           1091.7318     47.200     23.130      0.000     999.221    1184.243\n",
      "Airline_AirAsia        -1531.4157     66.247    -23.117      0.000   -1661.258   -1401.573\n",
      "Airline_AkasaAir         767.0708    171.295      4.478      0.000     431.338    1102.804\n",
      "Airline_AllianceAir      845.5545    398.842      2.120      0.034      63.837    1627.272\n",
      "Airline_GO FIRST         260.0002     79.106      3.287      0.001     104.954     415.046\n",
      "Airline_StarAir         4938.2997   1000.997      4.933      0.000    2976.377    6900.223\n",
      "Airline_Vistara         4033.1407     27.802    145.068      0.000    3978.650    4087.631\n",
      "Journey_day_Saturday      87.1856     36.158      2.411      0.016      16.317     158.054\n",
      "Journey_day_Sunday       541.0985     36.359     14.882      0.000     469.835     612.362\n",
      "Journey_day_Thursday    -360.5714     35.788    -10.075      0.000    -430.715    -290.427\n",
      "Journey_day_Tuesday     -357.3894     36.626     -9.758      0.000    -429.176    -285.603\n",
      "Destination_Bangalore   1974.1438     38.114     51.796      0.000    1899.442    2048.845\n",
      "Destination_Chennai     2556.6299     40.895     62.516      0.000    2476.476    2636.784\n",
      "Destination_Hyderabad    816.4452     39.484     20.678      0.000     739.057     893.833\n",
      "Destination_Kolkata     4767.8532     41.197    115.733      0.000    4687.108    4848.598\n",
      "Destination_Mumbai      2434.6935     36.346     66.986      0.000    2363.456    2505.931\n",
      "Total_stops_encoded    -3325.1395     19.943   -166.731      0.000   -3364.227   -3286.052\n",
      "Arrival_Before 6 AM    -1738.0803     48.447    -35.876      0.000   -1833.035   -1643.125\n",
      "Arrival_6 AM - 12 PM   -1913.6386     27.774    -68.900      0.000   -1968.075   -1859.202\n",
      "Departure_Before 6 AM   -355.6881     57.824     -6.151      0.000    -469.022    -242.354\n",
      "Departure_12 PM - 6 PM   205.7338     32.910      6.251      0.000     141.232     270.236\n",
      "Departure_6 AM - 12 PM   244.3389     29.849      8.186      0.000     185.837     302.841\n",
      "==============================================================================\n",
      "Omnibus:                   120695.717   Durbin-Watson:                   0.315\n",
      "Prob(Omnibus):                  0.000   Jarque-Bera (JB):           919749.398\n",
      "Skew:                           1.079   Prob(JB):                         0.00\n",
      "Kurtosis:                       9.646   Cond. No.                     1.73e+05\n",
      "==============================================================================\n",
      "\n",
      "Notes:\n",
      "[1] Standard Errors assume that the covariance matrix of the errors is correctly specified.\n",
      "[2] The condition number is large, 1.73e+05. This might indicate that there are\n",
      "strong multicollinearity or other numerical problems.\n"
     ]
    }
   ],
   "source": [
    "# Refit the model with the remaining features\n",
    "model_dropped = sm.OLS(y, X_dropped).fit()\n",
    "\n",
    "# Print the updated model summary\n",
    "print(\"\\nModel summary after dropping high VIF features:\")\n",
    "print(model_dropped.summary())\n"
   ]
  },
  {
   "cell_type": "code",
   "execution_count": 43,
   "metadata": {
    "id": "mH5xjbidN6sF"
   },
   "outputs": [],
   "source": [
    "from sklearn.metrics import mean_squared_error, r2_score\n",
    "from sklearn.model_selection import train_test_split"
   ]
  },
  {
   "cell_type": "code",
   "execution_count": 44,
   "metadata": {
    "id": "VtM8_FsSOXNS"
   },
   "outputs": [],
   "source": [
    "X_train, X_test, y_train, y_test = train_test_split(X_dropped, y, test_size=0.2, random_state=42)"
   ]
  },
  {
   "cell_type": "code",
   "execution_count": 50,
   "metadata": {},
   "outputs": [
    {
     "name": "stderr",
     "output_type": "stream",
     "text": [
      "C:\\Users\\37789\\anaconda3\\Lib\\site-packages\\statsmodels\\stats\\outliers_influence.py:198: RuntimeWarning: divide by zero encountered in scalar divide\n",
      "  vif = 1. / (1. - r_squared_i)\n"
     ]
    },
    {
     "name": "stdout",
     "output_type": "stream",
     "text": [
      "\n",
      "VIF data after dropping high VIF features:\n",
      "                   Feature       VIF\n",
      "0        Duration_in_hours  4.305941\n",
      "1            Class_Economy  3.521669\n",
      "2              Class_First  1.003576\n",
      "3    Class_Premium Economy  1.780190\n",
      "4         Source_Bangalore  2.164689\n",
      "5           Source_Chennai  1.915864\n",
      "6             Source_Delhi  2.298035\n",
      "7         Source_Hyderabad  1.925023\n",
      "8           Source_Kolkata  1.948995\n",
      "9            Source_Mumbai  2.203176\n",
      "10         Airline_AirAsia  1.227776\n",
      "11        Airline_AkasaAir  1.046996\n",
      "12     Airline_AllianceAir  1.008643\n",
      "13        Airline_GO FIRST  1.148049\n",
      "14          Airline_Indigo  2.025401\n",
      "15        Airline_SpiceJet  1.069641\n",
      "16         Airline_StarAir  1.002023\n",
      "17         Airline_Vistara  3.141633\n",
      "18      Journey_day_Monday  1.959150\n",
      "19    Journey_day_Saturday  1.832119\n",
      "20      Journey_day_Sunday  1.833667\n",
      "21    Journey_day_Thursday  1.845260\n",
      "22     Journey_day_Tuesday  1.841880\n",
      "23   Journey_day_Wednesday  1.846447\n",
      "24   Destination_Bangalore  2.193964\n",
      "25     Destination_Chennai  1.947329\n",
      "26       Destination_Delhi  2.315137\n",
      "27   Destination_Hyderabad  2.069252\n",
      "28     Destination_Kolkata  1.937495\n",
      "29      Destination_Mumbai  2.363795\n",
      "30     Arrival_Before 6 AM  1.229219\n",
      "31    Arrival_12 PM - 6 PM  1.541164\n",
      "32    Arrival_6 AM - 12 PM  1.641941\n",
      "33   Departure_Before 6 AM  1.223530\n",
      "34  Departure_12 PM - 6 PM  1.881334\n",
      "35  Departure_6 AM - 12 PM  2.403281\n",
      "\n",
      "Model summary after dropping high VIF features:\n",
      "                                 OLS Regression Results                                \n",
      "=======================================================================================\n",
      "Dep. Variable:                   Fare   R-squared (uncentered):                   0.879\n",
      "Model:                            OLS   Adj. R-squared (uncentered):              0.879\n",
      "Method:                 Least Squares   F-statistic:                          9.127e+04\n",
      "Date:                Wed, 05 Jun 2024   Prob (F-statistic):                        0.00\n",
      "Time:                        15:59:15   Log-Likelihood:                     -4.8329e+06\n",
      "No. Observations:              452088   AIC:                                  9.666e+06\n",
      "Df Residuals:                  452052   BIC:                                  9.666e+06\n",
      "Df Model:                          36                                                  \n",
      "Covariance Type:            nonrobust                                                  \n",
      "==========================================================================================\n",
      "                             coef    std err          t      P>|t|      [0.025      0.975]\n",
      "------------------------------------------------------------------------------------------\n",
      "Duration_in_hours        615.5663      2.276    270.460      0.000     611.105     620.027\n",
      "Class_Economy          -3.655e+04     39.732   -919.872      0.000   -3.66e+04   -3.65e+04\n",
      "Class_First             2.469e+04    887.345     27.820      0.000    2.29e+04    2.64e+04\n",
      "Class_Premium Economy  -3.624e+04     52.462   -690.812      0.000   -3.63e+04   -3.61e+04\n",
      "Source_Bangalore        1.318e+04     57.733    228.297      0.000    1.31e+04    1.33e+04\n",
      "Source_Chennai          1.309e+04     61.888    211.466      0.000     1.3e+04    1.32e+04\n",
      "Source_Delhi             1.09e+04     55.878    195.062      0.000    1.08e+04     1.1e+04\n",
      "Source_Hyderabad        1.169e+04     61.957    188.736      0.000    1.16e+04    1.18e+04\n",
      "Source_Kolkata          1.506e+04     62.954    239.149      0.000    1.49e+04    1.52e+04\n",
      "Source_Mumbai           1.384e+04     55.530    249.256      0.000    1.37e+04    1.39e+04\n",
      "Airline_AirAsia          868.3917     93.805      9.257      0.000     684.537    1052.246\n",
      "Airline_AkasaAir        4303.5392    230.313     18.686      0.000    3852.132    4754.946\n",
      "Airline_AllianceAir     6846.9280    538.482     12.715      0.000    5791.519    7902.337\n",
      "Airline_GO FIRST        5636.7116    109.660     51.402      0.000    5421.781    5851.642\n",
      "Airline_Indigo          6295.6007     59.035    106.642      0.000    6179.894    6411.307\n",
      "Airline_SpiceJet        2965.6903    143.568     20.657      0.000    2684.301    3247.079\n",
      "Airline_StarAir         9353.0557   1351.269      6.922      0.000    6704.610     1.2e+04\n",
      "Airline_Vistara         9395.8516     39.157    239.953      0.000    9319.105    9472.598\n",
      "Journey_day_Monday      6886.3261     55.361    124.389      0.000    6777.820    6994.832\n",
      "Journey_day_Saturday    6656.6354     57.541    115.685      0.000    6543.857    6769.414\n",
      "Journey_day_Sunday      6829.6431     57.735    118.293      0.000    6716.484    6942.802\n",
      "Journey_day_Thursday    6630.5080     56.991    116.344      0.000    6518.808    6742.208\n",
      "Journey_day_Tuesday     6787.5882     57.290    118.478      0.000    6675.302    6899.875\n",
      "Journey_day_Wednesday   6911.5580     57.236    120.756      0.000    6799.378    7023.738\n",
      "Destination_Bangalore   1.401e+04     58.535    239.271      0.000    1.39e+04    1.41e+04\n",
      "Destination_Chennai     1.437e+04     61.809    232.440      0.000    1.42e+04    1.45e+04\n",
      "Destination_Delhi         1.2e+04     58.005    206.846      0.000    1.19e+04    1.21e+04\n",
      "Destination_Hyderabad   1.206e+04     61.141    197.188      0.000    1.19e+04    1.22e+04\n",
      "Destination_Kolkata     1.569e+04     63.406    247.408      0.000    1.56e+04    1.58e+04\n",
      "Destination_Mumbai      1.423e+04     56.725    250.840      0.000    1.41e+04    1.43e+04\n",
      "Arrival_Before 6 AM     1654.1773     67.187     24.621      0.000    1522.493    1785.862\n",
      "Arrival_12 PM - 6 PM    2532.6451     41.436     61.122      0.000    2451.432    2613.858\n",
      "Arrival_6 AM - 12 PM     424.6034     39.376     10.783      0.000     347.428     501.779\n",
      "Departure_Before 6 AM   6038.4404     76.917     78.506      0.000    5887.685    6189.196\n",
      "Departure_12 PM - 6 PM  5613.2810     42.848    131.006      0.000    5529.301    5697.261\n",
      "Departure_6 AM - 12 PM  5664.9857     38.312    147.863      0.000    5589.895    5740.077\n",
      "==============================================================================\n",
      "Omnibus:                    71807.596   Durbin-Watson:                   0.389\n",
      "Prob(Omnibus):                  0.000   Jarque-Bera (JB):           183104.619\n",
      "Skew:                           0.888   Prob(JB):                         0.00\n",
      "Kurtosis:                       5.562   Cond. No.                     1.23e+03\n",
      "==============================================================================\n",
      "\n",
      "Notes:\n",
      "[1] R² is computed without centering (uncentered) since the model does not contain a constant.\n",
      "[2] Standard Errors assume that the covariance matrix of the errors is correctly specified.\n",
      "[3] The condition number is large, 1.23e+03. This might indicate that there are\n",
      "strong multicollinearity or other numerical problems.\n",
      "\n",
      "Selected Features:  Index(['Class_Economy', 'Class_First', 'Class_Premium Economy', 'Source_Delhi',\n",
      "       'Source_Kolkata', 'Airline_AirAsia', 'Airline_AkasaAir',\n",
      "       'Airline_AllianceAir', 'Airline_Vistara', 'Destination_Bangalore',\n",
      "       'Destination_Chennai', 'Destination_Kolkata', 'Destination_Mumbai',\n",
      "       'Arrival_Before 6 AM', 'Arrival_6 AM - 12 PM'],\n",
      "      dtype='object')\n",
      "\n",
      "Training Set Metrics\n",
      "Mean Squared Error:  72855032.62\n",
      "R-squared:  0.82\n",
      "\n",
      "Test Set Metrics\n",
      "Mean Squared Error:  73574213.87\n",
      "R-squared:  0.82\n"
     ]
    }
   ],
   "source": [
    "# Assuming df is your DataFrame and 'Fare' is the target column\n",
    "X = df.drop(columns=['Fare'])\n",
    "y = df['Fare']\n",
    "\n",
    "# Calculate VIF for each feature\n",
    "vif_data = pd.DataFrame()\n",
    "vif_data[\"Feature\"] = X.columns\n",
    "vif_data[\"VIF\"] = [variance_inflation_factor(X.values, i) for i in range(X.shape[1])]\n",
    "\n",
    "# Set a threshold for VIF\n",
    "vif_threshold = 10\n",
    "\n",
    "# Identify features with high VIF values\n",
    "high_vif_features = vif_data[vif_data[\"VIF\"] > vif_threshold][\"Feature\"]\n",
    "\n",
    "# Drop features with high VIF values\n",
    "X_dropped = X.drop(columns=high_vif_features)\n",
    "\n",
    "# Recalculate VIF after dropping the features\n",
    "vif_data_dropped = pd.DataFrame()\n",
    "vif_data_dropped[\"Feature\"] = X_dropped.columns\n",
    "vif_data_dropped[\"VIF\"] = [variance_inflation_factor(X_dropped.values, i) for i in range(X_dropped.shape[1])]\n",
    "\n",
    "# Print the VIF data after dropping the features\n",
    "print(\"\\nVIF data after dropping high VIF features:\")\n",
    "print(vif_data_dropped)\n",
    "\n",
    "# Refit the model with the remaining features\n",
    "model_dropped = sm.OLS(y, X_dropped).fit()\n",
    "\n",
    "# Print the updated model summary\n",
    "print(\"\\nModel summary after dropping high VIF features:\")\n",
    "print(model_dropped.summary())\n",
    "\n",
    "# Performing RFE on the reduced set of features\n",
    "model = LinearRegression()\n",
    "\n",
    "# Initialize RFE with the linear regression model and choose the number of features to select\n",
    "rfe = RFE(model, n_features_to_select=15)  # Adjust the number of features to select as needed\n",
    "rfe = rfe.fit(X_dropped, y)\n",
    "\n",
    "# Get the selected features\n",
    "selected_features = X_dropped.columns[rfe.support_]\n",
    "\n",
    "# Display the selected features\n",
    "print(\"\\nSelected Features: \", selected_features)\n",
    "\n",
    "# Create a new feature set with the selected features\n",
    "X_selected = X_dropped[selected_features]\n",
    "\n",
    "# Split the data into training and testing sets\n",
    "X_train, X_test, y_train, y_test = train_test_split(X_selected, y, test_size=0.2, random_state=42)\n",
    "\n",
    "# Fit the linear regression model\n",
    "model.fit(X_train, y_train)\n",
    "\n",
    "# Make predictions on the training set\n",
    "y_train_pred = model.predict(X_train)\n",
    "\n",
    "# Make predictions on the test set\n",
    "y_test_pred = model.predict(X_test)\n",
    "\n",
    "# Evaluate the model on the training set\n",
    "mse_train = mean_squared_error(y_train, y_train_pred)\n",
    "r2_train = r2_score(y_train, y_train_pred)\n",
    "\n",
    "# Evaluate the model on the test set\n",
    "mse_test = mean_squared_error(y_test, y_test_pred)\n",
    "r2_test = r2_score(y_test, y_test_pred)\n"
   ]
  },
  {
   "cell_type": "code",
   "execution_count": null,
   "metadata": {},
   "outputs": [],
   "source": []
  }
 ],
 "metadata": {
  "colab": {
   "provenance": []
  },
  "kernelspec": {
   "display_name": "Python 3 (ipykernel)",
   "language": "python",
   "name": "python3"
  },
  "language_info": {
   "codemirror_mode": {
    "name": "ipython",
    "version": 3
   },
   "file_extension": ".py",
   "mimetype": "text/x-python",
   "name": "python",
   "nbconvert_exporter": "python",
   "pygments_lexer": "ipython3",
   "version": "3.11.5"
  }
 },
 "nbformat": 4,
 "nbformat_minor": 1
}
