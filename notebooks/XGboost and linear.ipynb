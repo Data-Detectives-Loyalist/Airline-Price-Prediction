{
 "cells": [
  {
   "cell_type": "code",
   "execution_count": 1,
   "id": "aef9dacf-c592-41d8-885c-2c9248b68cdf",
   "metadata": {},
   "outputs": [],
   "source": [
    "from sklearn.linear_model import Lasso, Ridge, ElasticNet\n",
    "from sklearn.metrics import mean_absolute_error, mean_squared_error, r2_score\n",
    "import numpy as np\n",
    "import pandas as pd\n",
    "from sklearn.model_selection import train_test_split\n",
    "from sklearn.preprocessing import LabelEncoder\n",
    "from sklearn.ensemble import GradientBoostingRegressor\n",
    "from sklearn.metrics import mean_squared_error, mean_absolute_error, r2_score\n",
    "from sklearn.model_selection import train_test_split\n",
    "from linear_regression_model import train_linear_regression, evaluate_linear\n",
    "from xgboost_model import train_xgboost, evaluate_xgboost\n",
    "from regularized_regression import (train_lasso_regression, train_ridge_regression, train_elastic_net, evaluate_model)"
   ]
  },
  {
   "cell_type": "code",
   "execution_count": 3,
   "id": "a14f77f1-afc1-47ef-a95d-ee2e82dbedea",
   "metadata": {},
   "outputs": [],
   "source": []
  },
  {
   "cell_type": "code",
   "execution_count": 5,
   "id": "d187e29c-b7f2-4f66-b155-c9e4a8688c5a",
   "metadata": {},
   "outputs": [],
   "source": []
  },
  {
   "cell_type": "code",
   "execution_count": null,
   "id": "d29b43e1-10ed-4e27-a7ae-dab91a5b2cfb",
   "metadata": {},
   "outputs": [],
   "source": [
    "# Convert Date to datetime\n",
    "df['Date'] = pd.to_datetime(df['Date'])\n",
    "\n",
    "# Create time-based features\n",
    "df['Month'] = df['Date'].dt.month\n",
    "df['Day_of_Week'] = df['Date'].dt.dayofweek\n",
    "\n",
    "# Convert Departure_24hr and Arrival_24hr to minutes since midnight\n",
    "def time_to_minutes(time_str):\n",
    "    hours, minutes = map(int, time_str.split(':'))\n",
    "    return hours * 60 + minutes\n",
    "\n",
    "df['Departure_Minutes'] = df['Departure_24hr'].apply(time_to_minutes)\n",
    "df['Arrival_Minutes'] = df['Arrival_24hr'].apply(time_to_minutes)\n",
    "\n",
    "# Encode categorical variables\n",
    "le = LabelEncoder()\n",
    "categorical_columns = ['Airline', 'Source', 'Destination', 'Class']\n",
    "for col in categorical_columns:\n",
    "    df[col + '_Encoded'] = le.fit_transform(df[col])\n",
    "\n",
    "# Drop original categorical columns and date column\n",
    "df = df.drop(columns=['Airline', 'Source', 'Destination', 'Class', 'Date', 'Departure_24hr', 'Arrival_24hr'])"
   ]
  },
  {
   "cell_type": "code",
   "execution_count": null,
   "id": "1fd50e2a-e2de-4f55-8e32-e0a835441f7e",
   "metadata": {},
   "outputs": [],
   "source": []
  },
  {
   "cell_type": "code",
   "execution_count": 1,
   "id": "71b04f1f-208f-43c4-af73-7affa0bd3119",
   "metadata": {},
   "outputs": [
    {
     "ename": "NameError",
     "evalue": "name 'plt' is not defined",
     "output_type": "error",
     "traceback": [
      "\u001b[1;31m---------------------------------------------------------------------------\u001b[0m",
      "\u001b[1;31mNameError\u001b[0m                                 Traceback (most recent call last)",
      "Cell \u001b[1;32mIn[1], line 2\u001b[0m\n\u001b[0;32m      1\u001b[0m \u001b[38;5;66;03m# Number of Stops\u001b[39;00m\n\u001b[1;32m----> 2\u001b[0m plt\u001b[38;5;241m.\u001b[39mfigure(figsize\u001b[38;5;241m=\u001b[39m(\u001b[38;5;241m12\u001b[39m, \u001b[38;5;241m8\u001b[39m)) \n\u001b[0;32m      3\u001b[0m plt\u001b[38;5;241m.\u001b[39msubplot(\u001b[38;5;241m2\u001b[39m, \u001b[38;5;241m3\u001b[39m, \u001b[38;5;241m1\u001b[39m)\n\u001b[0;32m      4\u001b[0m sns\u001b[38;5;241m.\u001b[39mcountplot(x\u001b[38;5;241m=\u001b[39m\u001b[38;5;124m'\u001b[39m\u001b[38;5;124mNumber of Stops\u001b[39m\u001b[38;5;124m'\u001b[39m, data\u001b[38;5;241m=\u001b[39mdf)\n",
      "\u001b[1;31mNameError\u001b[0m: name 'plt' is not defined"
     ]
    }
   ],
   "source": [
    "# Number of Stops\n",
    "plt.figure(figsize=(12, 8)) \n",
    "plt.subplot(2, 3, 1)\n",
    "sns.countplot(x='Number of Stops', data=df)\n",
    "plt.title('Number of Stops')\n",
    "plt.tight_layout()\n",
    "plt.show()\n",
    "\n",
    "#Distribution of Travel Classes\n",
    "plt.figure(figsize=(10, 6))\n",
    "sns.countplot(x='Class', data=df, order=df['Class'].value_counts().index)\n",
    "plt.title('Distribution of Travel Classes')\n",
    "plt.xlabel('Travel Class')\n",
    "plt.ylabel('Count')\n",
    "plt.show()\n",
    "\n",
    "#Days Left Distribution\n",
    "plt.figure(figsize=(12, 8)) \n",
    "plt.subplot(2, 3, 4)\n",
    "sns.histplot(df['days_left'], kde=True, bins=30)\n",
    "plt.title('Days Left Distribution')\n",
    "plt.tight_layout()\n",
    "plt.show()\n",
    "\n",
    "#top 10 airline\n",
    "top_10_airlines = df['Airline'].value_counts().head(10)\n",
    "plt.figure(figsize=(12, 10))\n",
    "plt.subplot(3, 2, 1)\n",
    "sns.countplot(y=df[df['Airline'].isin(top_10_airlines.index)]['Airline'], order=top_10_airlines.index, palette='viridis')\n",
    "plt.title('Top 10 Airlines by Count')\n",
    "plt.xlabel('Count')\n",
    "plt.ylabel('Airline')\n",
    "plt.tight_layout()\n",
    "plt.show()\n",
    "\n",
    "#Average Price by Airline\n",
    "average_price_per_airline = df.groupby('Airline')['price in CAD'].mean().sort_values()\n",
    "plt.figure(figsize=(12, 10))\n",
    "sns.barplot(x=average_price_per_airline.values, y=average_price_per_airline.index, palette='viridis')\n",
    "plt.title('Average Price by Airline')\n",
    "plt.xlabel('Average Price in CAD')\n",
    "plt.ylabel('Airline')\n",
    "plt.tight_layout()\n",
    "plt.show()"
   ]
  },
  {
   "cell_type": "code",
   "execution_count": null,
   "id": "4b135792-fd9d-49a9-b5e8-c734225b3056",
   "metadata": {},
   "outputs": [],
   "source": [
    ", 'decision_tree', 'linear_regression', 'xgboost', 'lasso', 'ridge',\n",
    "                       'elastic_net', 'gradient_boosting'"
   ]
  }
 ],
 "metadata": {
  "kernelspec": {
   "display_name": "Python 3 (ipykernel)",
   "language": "python",
   "name": "python3"
  },
  "language_info": {
   "codemirror_mode": {
    "name": "ipython",
    "version": 3
   },
   "file_extension": ".py",
   "mimetype": "text/x-python",
   "name": "python",
   "nbconvert_exporter": "python",
   "pygments_lexer": "ipython3",
   "version": "3.11.7"
  }
 },
 "nbformat": 4,
 "nbformat_minor": 5
}
