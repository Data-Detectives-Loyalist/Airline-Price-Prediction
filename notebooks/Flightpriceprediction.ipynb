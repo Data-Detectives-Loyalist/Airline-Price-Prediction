{
 "cells": [
  {
   "cell_type": "code",
   "execution_count": 13,
   "id": "b2aef45f",
   "metadata": {},
   "outputs": [],
   "source": [
    "import pandas as pd\n",
    "import numpy as np\n",
    "from sklearn.preprocessing import MinMaxScaler, StandardScaler,OneHotEncoder\n",
    "from sklearn.preprocessing import OneHotEncoder\n",
    "from sklearn.model_selection import train_test_split\n",
    "import matplotlib.pyplot as plt\n",
    "import seaborn as sns\n",
    "from sklearn.compose import ColumnTransformer\n",
    "from sklearn.pipeline import Pipeline\n",
    "from sklearn.impute import SimpleImputer\n",
    "import re\n"
   ]
  },
  {
   "cell_type": "code",
   "execution_count": 14,
   "id": "77a5d710",
   "metadata": {},
   "outputs": [],
   "source": [
    "df = pd.read_csv(\"flight_data1.csv\")"
   ]
  },
  {
   "cell_type": "code",
   "execution_count": 15,
   "id": "2370163c",
   "metadata": {},
   "outputs": [
    {
     "data": {
      "text/html": [
       "<div>\n",
       "<style scoped>\n",
       "    .dataframe tbody tr th:only-of-type {\n",
       "        vertical-align: middle;\n",
       "    }\n",
       "\n",
       "    .dataframe tbody tr th {\n",
       "        vertical-align: top;\n",
       "    }\n",
       "\n",
       "    .dataframe thead th {\n",
       "        text-align: right;\n",
       "    }\n",
       "</style>\n",
       "<table border=\"1\" class=\"dataframe\">\n",
       "  <thead>\n",
       "    <tr style=\"text-align: right;\">\n",
       "      <th></th>\n",
       "      <th>Airline</th>\n",
       "      <th>Source</th>\n",
       "      <th>Destination</th>\n",
       "      <th>Departure</th>\n",
       "      <th>Arrival</th>\n",
       "      <th>Number of Stops</th>\n",
       "      <th>Stopover Details</th>\n",
       "      <th>Price</th>\n",
       "      <th>Class</th>\n",
       "    </tr>\n",
       "  </thead>\n",
       "  <tbody>\n",
       "    <tr>\n",
       "      <th>0</th>\n",
       "      <td>Air India</td>\n",
       "      <td>Toronto Pearson Intl</td>\n",
       "      <td>Bengaluru Intl</td>\n",
       "      <td>12:15</td>\n",
       "      <td>16:25+1</td>\n",
       "      <td>1 stop</td>\n",
       "      <td>, 2h 05m stopover &lt;b&gt;New Delhi Indira Gandhi I...</td>\n",
       "      <td>₹ 55,537</td>\n",
       "      <td>Economy</td>\n",
       "    </tr>\n",
       "    <tr>\n",
       "      <th>1</th>\n",
       "      <td>Multiple Airlines</td>\n",
       "      <td>Toronto Pearson Intl</td>\n",
       "      <td>Bengaluru Intl</td>\n",
       "      <td>22:00</td>\n",
       "      <td>09:20+3</td>\n",
       "      <td>3 stops</td>\n",
       "      <td>, 5h 00m stopover &lt;b&gt;Dublin&lt;/b&gt;, , 8h 40m stop...</td>\n",
       "      <td>₹ 54,127</td>\n",
       "      <td>Basic</td>\n",
       "    </tr>\n",
       "    <tr>\n",
       "      <th>2</th>\n",
       "      <td>Air India</td>\n",
       "      <td>Toronto Pearson Intl</td>\n",
       "      <td>Bengaluru Intl</td>\n",
       "      <td>12:15</td>\n",
       "      <td>18:40+1</td>\n",
       "      <td>1 stop</td>\n",
       "      <td>, 4h 20m stopover &lt;b&gt;New Delhi Indira Gandhi I...</td>\n",
       "      <td>₹ 55,537</td>\n",
       "      <td>Economy</td>\n",
       "    </tr>\n",
       "    <tr>\n",
       "      <th>3</th>\n",
       "      <td>Air India</td>\n",
       "      <td>Toronto Pearson Intl</td>\n",
       "      <td>Bengaluru Intl</td>\n",
       "      <td>12:15</td>\n",
       "      <td>20:10+1</td>\n",
       "      <td>1 stop</td>\n",
       "      <td>, 5h 55m stopover &lt;b&gt;New Delhi Indira Gandhi I...</td>\n",
       "      <td>₹ 56,363</td>\n",
       "      <td>Economy</td>\n",
       "    </tr>\n",
       "    <tr>\n",
       "      <th>4</th>\n",
       "      <td>Air India, Vistara</td>\n",
       "      <td>Toronto Pearson Intl</td>\n",
       "      <td>Bengaluru Intl</td>\n",
       "      <td>12:15</td>\n",
       "      <td>18:45+1</td>\n",
       "      <td>1 stop</td>\n",
       "      <td>, 4h 40m stopover &lt;b&gt;New Delhi Indira Gandhi I...</td>\n",
       "      <td>₹ 57,928</td>\n",
       "      <td>Economy</td>\n",
       "    </tr>\n",
       "  </tbody>\n",
       "</table>\n",
       "</div>"
      ],
      "text/plain": [
       "              Airline                Source     Destination Departure  \\\n",
       "0           Air India  Toronto Pearson Intl  Bengaluru Intl     12:15   \n",
       "1   Multiple Airlines  Toronto Pearson Intl  Bengaluru Intl     22:00   \n",
       "2           Air India  Toronto Pearson Intl  Bengaluru Intl     12:15   \n",
       "3           Air India  Toronto Pearson Intl  Bengaluru Intl     12:15   \n",
       "4  Air India, Vistara  Toronto Pearson Intl  Bengaluru Intl     12:15   \n",
       "\n",
       "   Arrival Number of Stops                                   Stopover Details  \\\n",
       "0  16:25+1          1 stop  , 2h 05m stopover <b>New Delhi Indira Gandhi I...   \n",
       "1  09:20+3         3 stops  , 5h 00m stopover <b>Dublin</b>, , 8h 40m stop...   \n",
       "2  18:40+1          1 stop  , 4h 20m stopover <b>New Delhi Indira Gandhi I...   \n",
       "3  20:10+1          1 stop  , 5h 55m stopover <b>New Delhi Indira Gandhi I...   \n",
       "4  18:45+1          1 stop  , 4h 40m stopover <b>New Delhi Indira Gandhi I...   \n",
       "\n",
       "      Price    Class  \n",
       "0  ₹ 55,537  Economy  \n",
       "1  ₹ 54,127    Basic  \n",
       "2  ₹ 55,537  Economy  \n",
       "3  ₹ 56,363  Economy  \n",
       "4  ₹ 57,928  Economy  "
      ]
     },
     "execution_count": 15,
     "metadata": {},
     "output_type": "execute_result"
    }
   ],
   "source": [
    "df.head()"
   ]
  },
  {
   "cell_type": "code",
   "execution_count": 6,
   "id": "71e0135e",
   "metadata": {},
   "outputs": [
    {
     "data": {
      "text/plain": [
       "0     , 2h 05m stopover <b>New Delhi Indira Gandhi I...\n",
       "1     , 5h 00m stopover <b>Dublin</b>, , 8h 40m stop...\n",
       "2     , 4h 20m stopover <b>New Delhi Indira Gandhi I...\n",
       "3     , 5h 55m stopover <b>New Delhi Indira Gandhi I...\n",
       "4     , 4h 40m stopover <b>New Delhi Indira Gandhi I...\n",
       "5     , 6h 15m stopover <b>New Delhi Indira Gandhi I...\n",
       "6     , 2h 30m stopover <b>New Delhi Indira Gandhi I...\n",
       "7     , 7h 45m stopover <b>New Delhi Indira Gandhi I...\n",
       "8     , 8h 25m stopover <b>New Delhi Indira Gandhi I...\n",
       "9      , 2h 35m stopover <b>Paris Charles de Gaulle</b>\n",
       "10     , 2h 35m stopover <b>Paris Charles de Gaulle</b>\n",
       "11    , 9h 45m stopover <b>New Delhi Indira Gandhi I...\n",
       "12    , 1h 40m stopover <b>New Delhi Indira Gandhi I...\n",
       "13    , 9h 25m stopover <b>New Delhi Indira Gandhi I...\n",
       "14              , 1h 55m stopover <b>Hong Kong Intl</b>\n",
       "15    , 4h 30m stopover <b>New Delhi Indira Gandhi I...\n",
       "Name: Stopover Details, dtype: object"
      ]
     },
     "execution_count": 6,
     "metadata": {},
     "output_type": "execute_result"
    }
   ],
   "source": [
    "df['Stopover Details']"
   ]
  },
  {
   "cell_type": "code",
   "execution_count": 16,
   "id": "f7ea3eaa",
   "metadata": {},
   "outputs": [
    {
     "name": "stdout",
     "output_type": "stream",
     "text": [
      "                 Airline                Source     Destination Departure  \\\n",
      "0              Air India  Toronto Pearson Intl  Bengaluru Intl     12:15   \n",
      "1      Multiple Airlines  Toronto Pearson Intl  Bengaluru Intl     22:00   \n",
      "2              Air India  Toronto Pearson Intl  Bengaluru Intl     12:15   \n",
      "3              Air India  Toronto Pearson Intl  Bengaluru Intl     12:15   \n",
      "4     Air India, Vistara  Toronto Pearson Intl  Bengaluru Intl     12:15   \n",
      "5     Air India, Vistara  Toronto Pearson Intl  Bengaluru Intl     12:15   \n",
      "6     Air India, Vistara  Toronto Pearson Intl  Bengaluru Intl     12:15   \n",
      "7              Air India  Toronto Pearson Intl  Bengaluru Intl     12:15   \n",
      "8     Air India, Vistara  Toronto Pearson Intl  Bengaluru Intl     12:15   \n",
      "9             Air France  Toronto Pearson Intl  Bengaluru Intl     18:15   \n",
      "10                 Delta  Toronto Pearson Intl  Bengaluru Intl     18:15   \n",
      "11             Air India  Toronto Pearson Intl  Bengaluru Intl     12:15   \n",
      "12  Air India, Akasa Air  Toronto Pearson Intl  Bengaluru Intl     12:15   \n",
      "13    Air India, Vistara  Toronto Pearson Intl  Bengaluru Intl     12:15   \n",
      "14        Cathay Pacific  Toronto Pearson Intl  Bengaluru Intl     15:35   \n",
      "15  Air India, Akasa Air  Toronto Pearson Intl  Bengaluru Intl     12:15   \n",
      "\n",
      "    Arrival Number of Stops     Price                Class  stopover_duration  \\\n",
      "0   16:25+1          1 stop  ₹ 55,537              Economy                125   \n",
      "1   09:20+3         3 stops  ₹ 54,127                Basic                300   \n",
      "2   18:40+1          1 stop  ₹ 55,537              Economy                260   \n",
      "3   20:10+1          1 stop  ₹ 56,363              Economy                355   \n",
      "4   18:45+1          1 stop  ₹ 57,928              Economy                280   \n",
      "5   20:30+1          1 stop  ₹ 57,928              Economy                375   \n",
      "6   16:45+1          1 stop  ₹ 70,905              Economy                150   \n",
      "7   22:05+1          1 stop  ₹ 57,137              Economy                465   \n",
      "8   22:40+1          1 stop  ₹ 59,597              Economy                505   \n",
      "9   23:55+1          1 stop  ₹ 80,689                Light                155   \n",
      "10  23:55+1          1 stop  ₹ 81,372        Basic Economy                155   \n",
      "11  00:05+2          1 stop  ₹ 57,137              Economy                585   \n",
      "12  19:10+1         2 stops  ₹ 65,006              Economy                100   \n",
      "13  23:30+1          1 stop  ₹ 70,775              Economy                565   \n",
      "14  00:10+2          1 stop  ₹ 72,717  Economy Super Saver                115   \n",
      "15  00:35+2         2 stops  ₹ 62,751              Economy                270   \n",
      "\n",
      "               stopover_location  \n",
      "0   New Delhi Indira Gandhi Intl  \n",
      "1   New Delhi Indira Gandhi Intl  \n",
      "2   New Delhi Indira Gandhi Intl  \n",
      "3   New Delhi Indira Gandhi Intl  \n",
      "4   New Delhi Indira Gandhi Intl  \n",
      "5   New Delhi Indira Gandhi Intl  \n",
      "6   New Delhi Indira Gandhi Intl  \n",
      "7   New Delhi Indira Gandhi Intl  \n",
      "8   New Delhi Indira Gandhi Intl  \n",
      "9        Paris Charles de Gaulle  \n",
      "10       Paris Charles de Gaulle  \n",
      "11  New Delhi Indira Gandhi Intl  \n",
      "12                 Pune Lohegaon  \n",
      "13  New Delhi Indira Gandhi Intl  \n",
      "14                Hong Kong Intl  \n",
      "15                 Pune Lohegaon  \n"
     ]
    }
   ],
   "source": [
    "\n",
    "data =  df['Stopover Details']\n",
    "\n",
    "# Function to extract and convert duration to minutes\n",
    "def extract_duration(duration_str):\n",
    "    hours = re.search(r'(\\d+)h', duration_str)\n",
    "    minutes = re.search(r'(\\d+)m', duration_str)\n",
    "    total_minutes = 0\n",
    "    if hours:\n",
    "        total_minutes += int(hours.group(1)) * 60\n",
    "    if minutes:\n",
    "        total_minutes += int(minutes.group(1))\n",
    "    return total_minutes\n",
    "\n",
    "# Function to extract location\n",
    "def extract_location(location_str):\n",
    "    clean_location = re.sub(r'<.*?>', '', location_str)  # Remove HTML tags\n",
    "    return clean_location.split('stopover')[-1].strip()\n",
    "\n",
    "# Apply functions to DataFrame\n",
    "df['stopover_duration'] = df['Stopover Details'].apply(lambda x: extract_duration(x))\n",
    "df['stopover_location'] = df['Stopover Details'].apply(lambda x: extract_location(x))\n",
    "\n",
    "# Drop the original column if not needed\n",
    "df.drop(columns=['Stopover Details'], inplace=True)\n",
    "\n",
    "print(df)\n"
   ]
  },
  {
   "cell_type": "code",
   "execution_count": 17,
   "id": "03ab21b2",
   "metadata": {},
   "outputs": [
    {
     "data": {
      "text/html": [
       "<div>\n",
       "<style scoped>\n",
       "    .dataframe tbody tr th:only-of-type {\n",
       "        vertical-align: middle;\n",
       "    }\n",
       "\n",
       "    .dataframe tbody tr th {\n",
       "        vertical-align: top;\n",
       "    }\n",
       "\n",
       "    .dataframe thead th {\n",
       "        text-align: right;\n",
       "    }\n",
       "</style>\n",
       "<table border=\"1\" class=\"dataframe\">\n",
       "  <thead>\n",
       "    <tr style=\"text-align: right;\">\n",
       "      <th></th>\n",
       "      <th>Airline</th>\n",
       "      <th>Source</th>\n",
       "      <th>Destination</th>\n",
       "      <th>Departure</th>\n",
       "      <th>Arrival</th>\n",
       "      <th>Number of Stops</th>\n",
       "      <th>Price</th>\n",
       "      <th>Class</th>\n",
       "      <th>stopover_duration</th>\n",
       "      <th>stopover_location</th>\n",
       "    </tr>\n",
       "  </thead>\n",
       "  <tbody>\n",
       "    <tr>\n",
       "      <th>0</th>\n",
       "      <td>Air India</td>\n",
       "      <td>Toronto Pearson Intl</td>\n",
       "      <td>Bengaluru Intl</td>\n",
       "      <td>12:15</td>\n",
       "      <td>16:25+1</td>\n",
       "      <td>1 stop</td>\n",
       "      <td>₹ 55,537</td>\n",
       "      <td>Economy</td>\n",
       "      <td>125</td>\n",
       "      <td>New Delhi Indira Gandhi Intl</td>\n",
       "    </tr>\n",
       "    <tr>\n",
       "      <th>1</th>\n",
       "      <td>Multiple Airlines</td>\n",
       "      <td>Toronto Pearson Intl</td>\n",
       "      <td>Bengaluru Intl</td>\n",
       "      <td>22:00</td>\n",
       "      <td>09:20+3</td>\n",
       "      <td>3 stops</td>\n",
       "      <td>₹ 54,127</td>\n",
       "      <td>Basic</td>\n",
       "      <td>300</td>\n",
       "      <td>New Delhi Indira Gandhi Intl</td>\n",
       "    </tr>\n",
       "    <tr>\n",
       "      <th>2</th>\n",
       "      <td>Air India</td>\n",
       "      <td>Toronto Pearson Intl</td>\n",
       "      <td>Bengaluru Intl</td>\n",
       "      <td>12:15</td>\n",
       "      <td>18:40+1</td>\n",
       "      <td>1 stop</td>\n",
       "      <td>₹ 55,537</td>\n",
       "      <td>Economy</td>\n",
       "      <td>260</td>\n",
       "      <td>New Delhi Indira Gandhi Intl</td>\n",
       "    </tr>\n",
       "    <tr>\n",
       "      <th>3</th>\n",
       "      <td>Air India</td>\n",
       "      <td>Toronto Pearson Intl</td>\n",
       "      <td>Bengaluru Intl</td>\n",
       "      <td>12:15</td>\n",
       "      <td>20:10+1</td>\n",
       "      <td>1 stop</td>\n",
       "      <td>₹ 56,363</td>\n",
       "      <td>Economy</td>\n",
       "      <td>355</td>\n",
       "      <td>New Delhi Indira Gandhi Intl</td>\n",
       "    </tr>\n",
       "    <tr>\n",
       "      <th>4</th>\n",
       "      <td>Air India, Vistara</td>\n",
       "      <td>Toronto Pearson Intl</td>\n",
       "      <td>Bengaluru Intl</td>\n",
       "      <td>12:15</td>\n",
       "      <td>18:45+1</td>\n",
       "      <td>1 stop</td>\n",
       "      <td>₹ 57,928</td>\n",
       "      <td>Economy</td>\n",
       "      <td>280</td>\n",
       "      <td>New Delhi Indira Gandhi Intl</td>\n",
       "    </tr>\n",
       "  </tbody>\n",
       "</table>\n",
       "</div>"
      ],
      "text/plain": [
       "              Airline                Source     Destination Departure  \\\n",
       "0           Air India  Toronto Pearson Intl  Bengaluru Intl     12:15   \n",
       "1   Multiple Airlines  Toronto Pearson Intl  Bengaluru Intl     22:00   \n",
       "2           Air India  Toronto Pearson Intl  Bengaluru Intl     12:15   \n",
       "3           Air India  Toronto Pearson Intl  Bengaluru Intl     12:15   \n",
       "4  Air India, Vistara  Toronto Pearson Intl  Bengaluru Intl     12:15   \n",
       "\n",
       "   Arrival Number of Stops     Price    Class  stopover_duration  \\\n",
       "0  16:25+1          1 stop  ₹ 55,537  Economy                125   \n",
       "1  09:20+3         3 stops  ₹ 54,127    Basic                300   \n",
       "2  18:40+1          1 stop  ₹ 55,537  Economy                260   \n",
       "3  20:10+1          1 stop  ₹ 56,363  Economy                355   \n",
       "4  18:45+1          1 stop  ₹ 57,928  Economy                280   \n",
       "\n",
       "              stopover_location  \n",
       "0  New Delhi Indira Gandhi Intl  \n",
       "1  New Delhi Indira Gandhi Intl  \n",
       "2  New Delhi Indira Gandhi Intl  \n",
       "3  New Delhi Indira Gandhi Intl  \n",
       "4  New Delhi Indira Gandhi Intl  "
      ]
     },
     "execution_count": 17,
     "metadata": {},
     "output_type": "execute_result"
    }
   ],
   "source": [
    "df.head()"
   ]
  },
  {
   "cell_type": "code",
   "execution_count": 18,
   "id": "1e7f36c4",
   "metadata": {},
   "outputs": [
    {
     "data": {
      "text/plain": [
       "Index(['Airline', 'Source', 'Destination', 'Departure', 'Arrival',\n",
       "       'Number of Stops', 'Price', 'Class', 'stopover_duration',\n",
       "       'stopover_location'],\n",
       "      dtype='object')"
      ]
     },
     "execution_count": 18,
     "metadata": {},
     "output_type": "execute_result"
    }
   ],
   "source": [
    "df.columns"
   ]
  },
  {
   "cell_type": "code",
   "execution_count": 19,
   "id": "1d5bae39",
   "metadata": {},
   "outputs": [
    {
     "data": {
      "text/plain": [
       "Airline              object\n",
       "Source               object\n",
       "Destination          object\n",
       "Departure            object\n",
       "Arrival              object\n",
       "Number of Stops      object\n",
       "Price                object\n",
       "Class                object\n",
       "stopover_duration     int64\n",
       "stopover_location    object\n",
       "dtype: object"
      ]
     },
     "execution_count": 19,
     "metadata": {},
     "output_type": "execute_result"
    }
   ],
   "source": [
    "df.dtypes"
   ]
  },
  {
   "cell_type": "code",
   "execution_count": 20,
   "id": "78084d26",
   "metadata": {},
   "outputs": [
    {
     "name": "stdout",
     "output_type": "stream",
     "text": [
      "<class 'pandas.core.frame.DataFrame'>\n",
      "RangeIndex: 16 entries, 0 to 15\n",
      "Data columns (total 10 columns):\n",
      " #   Column             Non-Null Count  Dtype \n",
      "---  ------             --------------  ----- \n",
      " 0   Airline            16 non-null     object\n",
      " 1   Source             16 non-null     object\n",
      " 2   Destination        16 non-null     object\n",
      " 3   Departure          16 non-null     object\n",
      " 4   Arrival            16 non-null     object\n",
      " 5   Number of Stops    16 non-null     object\n",
      " 6   Price              16 non-null     object\n",
      " 7   Class              16 non-null     object\n",
      " 8   stopover_duration  16 non-null     int64 \n",
      " 9   stopover_location  16 non-null     object\n",
      "dtypes: int64(1), object(9)\n",
      "memory usage: 1.4+ KB\n"
     ]
    }
   ],
   "source": [
    "df.info()"
   ]
  },
  {
   "cell_type": "code",
   "execution_count": 22,
   "id": "137700cf",
   "metadata": {},
   "outputs": [
    {
     "name": "stderr",
     "output_type": "stream",
     "text": [
      "C:\\Users\\COMFORT\\anaconda3\\Lib\\site-packages\\seaborn\\_oldcore.py:1119: FutureWarning: use_inf_as_na option is deprecated and will be removed in a future version. Convert inf values to NaN before operating instead.\n",
      "  with pd.option_context('mode.use_inf_as_na', True):\n"
     ]
    },
    {
     "data": {
      "image/png": "[encoded data removed]",
      "text/plain": [
       "<Figure size 1200x600 with 1 Axes>"
      ]
     },
     "metadata": {},
     "output_type": "display_data"
    }
   ],
   "source": [
    "plt.figure(figsize=(12, 6))\n",
    "sns.histplot(df['Price'], kde=True, bins=50)\n",
    "plt.title('Distribution of Price')\n",
    "plt.xlabel('Price')\n",
    "plt.ylabel('Frequency')\n",
    "plt.show()"
   ]
  },
  {
   "cell_type": "code",
   "execution_count": null,
   "id": "248c4303",
   "metadata": {},
   "outputs": [],
   "source": []
  }
 ],
 "metadata": {
  "kernelspec": {
   "display_name": "Python 3 (ipykernel)",
   "language": "python",
   "name": "python3"
  },
  "language_info": {
   "codemirror_mode": {
    "name": "ipython",
    "version": 3
   },
   "file_extension": ".py",
   "mimetype": "text/x-python",
   "name": "python",
   "nbconvert_exporter": "python",
   "pygments_lexer": "ipython3",
   "version": "3.11.5"
  }
 },
 "nbformat": 4,
 "nbformat_minor": 5
}
