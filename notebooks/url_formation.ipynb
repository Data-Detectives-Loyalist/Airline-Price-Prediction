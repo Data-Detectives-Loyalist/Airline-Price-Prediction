{
 "cells": [
  {
   "cell_type": "markdown",
   "id": "8fc70865",
   "metadata": {},
   "source": [
    "## URL Formation"
   ]
  },
  {
   "cell_type": "code",
   "execution_count": 1,
   "id": "b48c42b4",
   "metadata": {},
   "outputs": [],
   "source": [
    "from time import sleep, strftime\n",
    "from random import randint\n",
    "import pandas as pd\n",
    "from selenium import webdriver\n",
    "from selenium.webdriver.common.keys import Keys\n",
    "import smtplib\n",
    "from email.mime.multipart import MIMEMultipart"
   ]
  },
  {
   "cell_type": "markdown",
   "id": "1e567eb1",
   "metadata": {},
   "source": [
    "## Economy class"
   ]
  },
  {
   "cell_type": "code",
   "execution_count": 2,
   "id": "7f9b5401",
   "metadata": {
    "scrolled": true
   },
   "outputs": [
    {
     "name": "stdout",
     "output_type": "stream",
     "text": [
      "https://www.skyscanner.ca/transport/flights/yyz/blr/240520/?adults=1&adultsv2=1&cabinclass=economy&children=0&childrenv2=&destinationentityid=&inboundaltsenabled=false&infants=0&outboundaltsenabled=false&preferdirects=false&ref=home&rtn=0\n",
      "https://www.skyscanner.ca/transport/flights/yyz/bom/240520/?adults=1&adultsv2=1&cabinclass=economy&children=0&childrenv2=&destinationentityid=&inboundaltsenabled=false&infants=0&outboundaltsenabled=false&preferdirects=false&ref=home&rtn=0\n",
      "https://www.skyscanner.ca/transport/flights/yyz/hyd/240520/?adults=1&adultsv2=1&cabinclass=economy&children=0&childrenv2=&destinationentityid=&inboundaltsenabled=false&infants=0&outboundaltsenabled=false&preferdirects=false&ref=home&rtn=0\n",
      "https://www.skyscanner.ca/transport/flights/yyz/maa/240520/?adults=1&adultsv2=1&cabinclass=economy&children=0&childrenv2=&destinationentityid=&inboundaltsenabled=false&infants=0&outboundaltsenabled=false&preferdirects=false&ref=home&rtn=0\n",
      "https://www.skyscanner.ca/transport/flights/yyz/amd/240520/?adults=1&adultsv2=1&cabinclass=economy&children=0&childrenv2=&destinationentityid=&inboundaltsenabled=false&infants=0&outboundaltsenabled=false&preferdirects=false&ref=home&rtn=0\n",
      "https://www.skyscanner.ca/transport/flights/yyz/cok/240520/?adults=1&adultsv2=1&cabinclass=economy&children=0&childrenv2=&destinationentityid=&inboundaltsenabled=false&infants=0&outboundaltsenabled=false&preferdirects=false&ref=home&rtn=0\n",
      "https://www.skyscanner.ca/transport/flights/yyz/cmb/240520/?adults=1&adultsv2=1&cabinclass=economy&children=0&childrenv2=&destinationentityid=&inboundaltsenabled=false&infants=0&outboundaltsenabled=false&preferdirects=false&ref=home&rtn=0\n",
      "https://www.skyscanner.ca/transport/flights/yyz/ktm/240520/?adults=1&adultsv2=1&cabinclass=economy&children=0&childrenv2=&destinationentityid=&inboundaltsenabled=false&infants=0&outboundaltsenabled=false&preferdirects=false&ref=home&rtn=0\n",
      "https://www.skyscanner.ca/transport/flights/yyz/mex/240520/?adults=1&adultsv2=1&cabinclass=economy&children=0&childrenv2=&destinationentityid=&inboundaltsenabled=false&infants=0&outboundaltsenabled=false&preferdirects=false&ref=home&rtn=0\n",
      "https://www.skyscanner.ca/transport/flights/yyz/gru/240520/?adults=1&adultsv2=1&cabinclass=economy&children=0&childrenv2=&destinationentityid=&inboundaltsenabled=false&infants=0&outboundaltsenabled=false&preferdirects=false&ref=home&rtn=0\n",
      "https://www.skyscanner.ca/transport/flights/yyz/kan/240520/?adults=1&adultsv2=1&cabinclass=economy&children=0&childrenv2=&destinationentityid=&inboundaltsenabled=false&infants=0&outboundaltsenabled=false&preferdirects=false&ref=home&rtn=0\n",
      "https://www.skyscanner.ca/transport/flights/blr/yyz/240520/?adults=1&adultsv2=1&cabinclass=economy&children=0&childrenv2=&destinationentityid=&inboundaltsenabled=false&infants=0&outboundaltsenabled=false&preferdirects=false&ref=home&rtn=0\n",
      "https://www.skyscanner.ca/transport/flights/bom/yyz/240520/?adults=1&adultsv2=1&cabinclass=economy&children=0&childrenv2=&destinationentityid=&inboundaltsenabled=false&infants=0&outboundaltsenabled=false&preferdirects=false&ref=home&rtn=0\n",
      "https://www.skyscanner.ca/transport/flights/hyd/yyz/240520/?adults=1&adultsv2=1&cabinclass=economy&children=0&childrenv2=&destinationentityid=&inboundaltsenabled=false&infants=0&outboundaltsenabled=false&preferdirects=false&ref=home&rtn=0\n",
      "https://www.skyscanner.ca/transport/flights/maa/yyz/240520/?adults=1&adultsv2=1&cabinclass=economy&children=0&childrenv2=&destinationentityid=&inboundaltsenabled=false&infants=0&outboundaltsenabled=false&preferdirects=false&ref=home&rtn=0\n",
      "https://www.skyscanner.ca/transport/flights/amd/yyz/240520/?adults=1&adultsv2=1&cabinclass=economy&children=0&childrenv2=&destinationentityid=&inboundaltsenabled=false&infants=0&outboundaltsenabled=false&preferdirects=false&ref=home&rtn=0\n",
      "https://www.skyscanner.ca/transport/flights/cok/yyz/240520/?adults=1&adultsv2=1&cabinclass=economy&children=0&childrenv2=&destinationentityid=&inboundaltsenabled=false&infants=0&outboundaltsenabled=false&preferdirects=false&ref=home&rtn=0\n",
      "https://www.skyscanner.ca/transport/flights/cmb/yyz/240520/?adults=1&adultsv2=1&cabinclass=economy&children=0&childrenv2=&destinationentityid=&inboundaltsenabled=false&infants=0&outboundaltsenabled=false&preferdirects=false&ref=home&rtn=0\n",
      "https://www.skyscanner.ca/transport/flights/ktm/yyz/240520/?adults=1&adultsv2=1&cabinclass=economy&children=0&childrenv2=&destinationentityid=&inboundaltsenabled=false&infants=0&outboundaltsenabled=false&preferdirects=false&ref=home&rtn=0\n",
      "https://www.skyscanner.ca/transport/flights/mex/yyz/240520/?adults=1&adultsv2=1&cabinclass=economy&children=0&childrenv2=&destinationentityid=&inboundaltsenabled=false&infants=0&outboundaltsenabled=false&preferdirects=false&ref=home&rtn=0\n",
      "https://www.skyscanner.ca/transport/flights/gru/yyz/240520/?adults=1&adultsv2=1&cabinclass=economy&children=0&childrenv2=&destinationentityid=&inboundaltsenabled=false&infants=0&outboundaltsenabled=false&preferdirects=false&ref=home&rtn=0\n",
      "https://www.skyscanner.ca/transport/flights/kan/yyz/240520/?adults=1&adultsv2=1&cabinclass=economy&children=0&childrenv2=&destinationentityid=&inboundaltsenabled=false&infants=0&outboundaltsenabled=false&preferdirects=false&ref=home&rtn=0\n"
     ]
    }
   ],
   "source": [
    "import pandas as pd\n",
    "\n",
    "# Airport code mapping\n",
    "airport_codes = {\n",
    "    \"Toronto Pearson International (YYZ)\": \"yyz\",\n",
    "    \"Bengaluru (BLR)\": \"blr\",\n",
    "    \"Indira Gandhi International  (DEL)\": \"del\",\n",
    "    \"Mumbai (BOM)\": \"bom\",\n",
    "    \"Hyderabad (HYD)\": \"hyd\",\n",
    "    \"Chennai (MAA)\": \"maa\",\n",
    "    \"Ahmedabad (AMD)\": \"amd\",\n",
    "    \"Kochi (COK)\": \"cok\",\n",
    "    \"Colombo Bandaranayake (CMB)\": \"cmb\",\n",
    "    \"Kathmandu (KTM)\": \"ktm\",\n",
    "    \"Mexico City Juarez International (MEX)\": \"mex\",\n",
    "    \"Sao Paulo Guarulhos (GRU)\": \"gru\",\n",
    "    \"Aminu Kano Intl (KAN)\": \"kan\"\n",
    "}\n",
    "\n",
    "def generate_flight_url(source, destination, date):\n",
    "    base_url = \"https://www.skyscanner.ca/transport/flights/\"\n",
    "    url_params = f\"?adults=1&adultsv2=1&cabinclass=economy&children=0&childrenv2=&destinationentityid=&inboundaltsenabled=false&infants=0&outboundaltsenabled=false&preferdirects=false&ref=home&rtn=0\"\n",
    "    return f\"{base_url}{source}/{destination}/{date}/{url_params}\"\n",
    "\n",
    "# Read input data from Excel file\n",
    "input_data = pd.read_excel(\"flight_data.xlsx\")\n",
    "\n",
    "# Iterate over rows in the Excel file\n",
    "for index, row in input_data.iterrows():\n",
    "    source = airport_codes.get(row['Source'], \"\")\n",
    "    destination = airport_codes.get(row['Destination'], \"\")\n",
    "    date = row['Airline Date']\n",
    "    \n",
    "    if source and destination:\n",
    "        # Format date as required (e.g., 240514)\n",
    "        formatted_date = date.strftime(\"%y%m%d\")\n",
    "        \n",
    "        # Generate flight URL\n",
    "        flight_url_economy = generate_flight_url(source, destination, formatted_date)\n",
    "        \n",
    "        print(flight_url_economy)\n"
   ]
  },
  {
   "cell_type": "markdown",
   "id": "292e8d60",
   "metadata": {},
   "source": [
    "## Premium Economy Class"
   ]
  },
  {
   "cell_type": "code",
   "execution_count": 3,
   "id": "1a8817ec",
   "metadata": {},
   "outputs": [
    {
     "name": "stdout",
     "output_type": "stream",
     "text": [
      "https://www.skyscanner.ca/transport/flights/yyz/blr/240520/?adults=1&adultsv2=1&cabinclass=premium_economy&children=0&childrenv2=&destinationentityid=&inboundaltsenabled=false&infants=0&outboundaltsenabled=false&preferdirects=false&ref=home&rtn=0\n",
      "https://www.skyscanner.ca/transport/flights/yyz/bom/240520/?adults=1&adultsv2=1&cabinclass=premium_economy&children=0&childrenv2=&destinationentityid=&inboundaltsenabled=false&infants=0&outboundaltsenabled=false&preferdirects=false&ref=home&rtn=0\n",
      "https://www.skyscanner.ca/transport/flights/yyz/hyd/240520/?adults=1&adultsv2=1&cabinclass=premium_economy&children=0&childrenv2=&destinationentityid=&inboundaltsenabled=false&infants=0&outboundaltsenabled=false&preferdirects=false&ref=home&rtn=0\n",
      "https://www.skyscanner.ca/transport/flights/yyz/maa/240520/?adults=1&adultsv2=1&cabinclass=premium_economy&children=0&childrenv2=&destinationentityid=&inboundaltsenabled=false&infants=0&outboundaltsenabled=false&preferdirects=false&ref=home&rtn=0\n",
      "https://www.skyscanner.ca/transport/flights/yyz/amd/240520/?adults=1&adultsv2=1&cabinclass=premium_economy&children=0&childrenv2=&destinationentityid=&inboundaltsenabled=false&infants=0&outboundaltsenabled=false&preferdirects=false&ref=home&rtn=0\n",
      "https://www.skyscanner.ca/transport/flights/yyz/cok/240520/?adults=1&adultsv2=1&cabinclass=premium_economy&children=0&childrenv2=&destinationentityid=&inboundaltsenabled=false&infants=0&outboundaltsenabled=false&preferdirects=false&ref=home&rtn=0\n",
      "https://www.skyscanner.ca/transport/flights/yyz/cmb/240520/?adults=1&adultsv2=1&cabinclass=premium_economy&children=0&childrenv2=&destinationentityid=&inboundaltsenabled=false&infants=0&outboundaltsenabled=false&preferdirects=false&ref=home&rtn=0\n",
      "https://www.skyscanner.ca/transport/flights/yyz/ktm/240520/?adults=1&adultsv2=1&cabinclass=premium_economy&children=0&childrenv2=&destinationentityid=&inboundaltsenabled=false&infants=0&outboundaltsenabled=false&preferdirects=false&ref=home&rtn=0\n",
      "https://www.skyscanner.ca/transport/flights/yyz/mex/240520/?adults=1&adultsv2=1&cabinclass=premium_economy&children=0&childrenv2=&destinationentityid=&inboundaltsenabled=false&infants=0&outboundaltsenabled=false&preferdirects=false&ref=home&rtn=0\n",
      "https://www.skyscanner.ca/transport/flights/yyz/gru/240520/?adults=1&adultsv2=1&cabinclass=premium_economy&children=0&childrenv2=&destinationentityid=&inboundaltsenabled=false&infants=0&outboundaltsenabled=false&preferdirects=false&ref=home&rtn=0\n",
      "https://www.skyscanner.ca/transport/flights/yyz/kan/240520/?adults=1&adultsv2=1&cabinclass=premium_economy&children=0&childrenv2=&destinationentityid=&inboundaltsenabled=false&infants=0&outboundaltsenabled=false&preferdirects=false&ref=home&rtn=0\n",
      "https://www.skyscanner.ca/transport/flights/blr/yyz/240520/?adults=1&adultsv2=1&cabinclass=premium_economy&children=0&childrenv2=&destinationentityid=&inboundaltsenabled=false&infants=0&outboundaltsenabled=false&preferdirects=false&ref=home&rtn=0\n",
      "https://www.skyscanner.ca/transport/flights/bom/yyz/240520/?adults=1&adultsv2=1&cabinclass=premium_economy&children=0&childrenv2=&destinationentityid=&inboundaltsenabled=false&infants=0&outboundaltsenabled=false&preferdirects=false&ref=home&rtn=0\n",
      "https://www.skyscanner.ca/transport/flights/hyd/yyz/240520/?adults=1&adultsv2=1&cabinclass=premium_economy&children=0&childrenv2=&destinationentityid=&inboundaltsenabled=false&infants=0&outboundaltsenabled=false&preferdirects=false&ref=home&rtn=0\n",
      "https://www.skyscanner.ca/transport/flights/maa/yyz/240520/?adults=1&adultsv2=1&cabinclass=premium_economy&children=0&childrenv2=&destinationentityid=&inboundaltsenabled=false&infants=0&outboundaltsenabled=false&preferdirects=false&ref=home&rtn=0\n",
      "https://www.skyscanner.ca/transport/flights/amd/yyz/240520/?adults=1&adultsv2=1&cabinclass=premium_economy&children=0&childrenv2=&destinationentityid=&inboundaltsenabled=false&infants=0&outboundaltsenabled=false&preferdirects=false&ref=home&rtn=0\n",
      "https://www.skyscanner.ca/transport/flights/cok/yyz/240520/?adults=1&adultsv2=1&cabinclass=premium_economy&children=0&childrenv2=&destinationentityid=&inboundaltsenabled=false&infants=0&outboundaltsenabled=false&preferdirects=false&ref=home&rtn=0\n",
      "https://www.skyscanner.ca/transport/flights/cmb/yyz/240520/?adults=1&adultsv2=1&cabinclass=premium_economy&children=0&childrenv2=&destinationentityid=&inboundaltsenabled=false&infants=0&outboundaltsenabled=false&preferdirects=false&ref=home&rtn=0\n",
      "https://www.skyscanner.ca/transport/flights/ktm/yyz/240520/?adults=1&adultsv2=1&cabinclass=premium_economy&children=0&childrenv2=&destinationentityid=&inboundaltsenabled=false&infants=0&outboundaltsenabled=false&preferdirects=false&ref=home&rtn=0\n",
      "https://www.skyscanner.ca/transport/flights/mex/yyz/240520/?adults=1&adultsv2=1&cabinclass=premium_economy&children=0&childrenv2=&destinationentityid=&inboundaltsenabled=false&infants=0&outboundaltsenabled=false&preferdirects=false&ref=home&rtn=0\n",
      "https://www.skyscanner.ca/transport/flights/gru/yyz/240520/?adults=1&adultsv2=1&cabinclass=premium_economy&children=0&childrenv2=&destinationentityid=&inboundaltsenabled=false&infants=0&outboundaltsenabled=false&preferdirects=false&ref=home&rtn=0\n",
      "https://www.skyscanner.ca/transport/flights/kan/yyz/240520/?adults=1&adultsv2=1&cabinclass=premium_economy&children=0&childrenv2=&destinationentityid=&inboundaltsenabled=false&infants=0&outboundaltsenabled=false&preferdirects=false&ref=home&rtn=0\n"
     ]
    }
   ],
   "source": [
    "# Airport code mapping\n",
    "airport_codes = {\n",
    "    \"Toronto Pearson International (YYZ)\": \"yyz\",\n",
    "    \"Bengaluru (BLR)\": \"blr\",\n",
    "    \"Indira Gandhi International  (DEL)\": \"del\",\n",
    "    \"Mumbai (BOM)\": \"bom\",\n",
    "    \"Hyderabad (HYD)\": \"hyd\",\n",
    "    \"Chennai (MAA)\": \"maa\",\n",
    "    \"Ahmedabad (AMD)\": \"amd\",\n",
    "    \"Kochi (COK)\": \"cok\",\n",
    "    \"Colombo Bandaranayake (CMB)\": \"cmb\",\n",
    "    \"Kathmandu (KTM)\": \"ktm\",\n",
    "    \"Mexico City Juarez International (MEX)\": \"mex\",\n",
    "    \"Sao Paulo Guarulhos (GRU)\": \"gru\",\n",
    "    \"Aminu Kano Intl (KAN)\": \"kan\"\n",
    "}\n",
    "\n",
    "def generate_flight_url(source, destination, date):\n",
    "    base_url = \"https://www.skyscanner.ca/transport/flights/\"\n",
    "    url_params = f\"?adults=1&adultsv2=1&cabinclass=premium_economy&children=0&childrenv2=&destinationentityid=&inboundaltsenabled=false&infants=0&outboundaltsenabled=false&preferdirects=false&ref=home&rtn=0\"\n",
    "    return f\"{base_url}{source}/{destination}/{date}/{url_params}\"\n",
    "\n",
    "# Read input data from Excel file\n",
    "input_data = pd.read_excel(\"flight_data.xlsx\")\n",
    "\n",
    "# Iterate over rows in the Excel file\n",
    "for index, row in input_data.iterrows():\n",
    "    source = airport_codes.get(row['Source'], \"\")\n",
    "    destination = airport_codes.get(row['Destination'], \"\")\n",
    "    date = row['Airline Date']\n",
    "    \n",
    "    if source and destination:\n",
    "        # Format date as required (e.g., 240514)\n",
    "        formatted_date = date.strftime(\"%y%m%d\")\n",
    "        \n",
    "        # Generate flight URL\n",
    "        flight_url_prem_economy = generate_flight_url(source, destination, formatted_date)\n",
    "        \n",
    "        print(flight_url_prem_economy)\n"
   ]
  },
  {
   "cell_type": "markdown",
   "id": "d5b68cb6",
   "metadata": {},
   "source": [
    "## Business Class"
   ]
  },
  {
   "cell_type": "code",
   "execution_count": 4,
   "id": "47faf63c",
   "metadata": {},
   "outputs": [
    {
     "name": "stdout",
     "output_type": "stream",
     "text": [
      "https://www.skyscanner.ca/transport/flights/yyz/blr/240520/?adults=1&adultsv2=1&cabinclass=business&children=0&childrenv2=&destinationentityid=&inboundaltsenabled=false&infants=0&outboundaltsenabled=false&preferdirects=false&ref=home&rtn=0\n",
      "https://www.skyscanner.ca/transport/flights/yyz/bom/240520/?adults=1&adultsv2=1&cabinclass=business&children=0&childrenv2=&destinationentityid=&inboundaltsenabled=false&infants=0&outboundaltsenabled=false&preferdirects=false&ref=home&rtn=0\n",
      "https://www.skyscanner.ca/transport/flights/yyz/hyd/240520/?adults=1&adultsv2=1&cabinclass=business&children=0&childrenv2=&destinationentityid=&inboundaltsenabled=false&infants=0&outboundaltsenabled=false&preferdirects=false&ref=home&rtn=0\n",
      "https://www.skyscanner.ca/transport/flights/yyz/maa/240520/?adults=1&adultsv2=1&cabinclass=business&children=0&childrenv2=&destinationentityid=&inboundaltsenabled=false&infants=0&outboundaltsenabled=false&preferdirects=false&ref=home&rtn=0\n",
      "https://www.skyscanner.ca/transport/flights/yyz/amd/240520/?adults=1&adultsv2=1&cabinclass=business&children=0&childrenv2=&destinationentityid=&inboundaltsenabled=false&infants=0&outboundaltsenabled=false&preferdirects=false&ref=home&rtn=0\n",
      "https://www.skyscanner.ca/transport/flights/yyz/cok/240520/?adults=1&adultsv2=1&cabinclass=business&children=0&childrenv2=&destinationentityid=&inboundaltsenabled=false&infants=0&outboundaltsenabled=false&preferdirects=false&ref=home&rtn=0\n",
      "https://www.skyscanner.ca/transport/flights/yyz/cmb/240520/?adults=1&adultsv2=1&cabinclass=business&children=0&childrenv2=&destinationentityid=&inboundaltsenabled=false&infants=0&outboundaltsenabled=false&preferdirects=false&ref=home&rtn=0\n",
      "https://www.skyscanner.ca/transport/flights/yyz/ktm/240520/?adults=1&adultsv2=1&cabinclass=business&children=0&childrenv2=&destinationentityid=&inboundaltsenabled=false&infants=0&outboundaltsenabled=false&preferdirects=false&ref=home&rtn=0\n",
      "https://www.skyscanner.ca/transport/flights/yyz/mex/240520/?adults=1&adultsv2=1&cabinclass=business&children=0&childrenv2=&destinationentityid=&inboundaltsenabled=false&infants=0&outboundaltsenabled=false&preferdirects=false&ref=home&rtn=0\n",
      "https://www.skyscanner.ca/transport/flights/yyz/gru/240520/?adults=1&adultsv2=1&cabinclass=business&children=0&childrenv2=&destinationentityid=&inboundaltsenabled=false&infants=0&outboundaltsenabled=false&preferdirects=false&ref=home&rtn=0\n",
      "https://www.skyscanner.ca/transport/flights/yyz/kan/240520/?adults=1&adultsv2=1&cabinclass=business&children=0&childrenv2=&destinationentityid=&inboundaltsenabled=false&infants=0&outboundaltsenabled=false&preferdirects=false&ref=home&rtn=0\n",
      "https://www.skyscanner.ca/transport/flights/blr/yyz/240520/?adults=1&adultsv2=1&cabinclass=business&children=0&childrenv2=&destinationentityid=&inboundaltsenabled=false&infants=0&outboundaltsenabled=false&preferdirects=false&ref=home&rtn=0\n",
      "https://www.skyscanner.ca/transport/flights/bom/yyz/240520/?adults=1&adultsv2=1&cabinclass=business&children=0&childrenv2=&destinationentityid=&inboundaltsenabled=false&infants=0&outboundaltsenabled=false&preferdirects=false&ref=home&rtn=0\n",
      "https://www.skyscanner.ca/transport/flights/hyd/yyz/240520/?adults=1&adultsv2=1&cabinclass=business&children=0&childrenv2=&destinationentityid=&inboundaltsenabled=false&infants=0&outboundaltsenabled=false&preferdirects=false&ref=home&rtn=0\n",
      "https://www.skyscanner.ca/transport/flights/maa/yyz/240520/?adults=1&adultsv2=1&cabinclass=business&children=0&childrenv2=&destinationentityid=&inboundaltsenabled=false&infants=0&outboundaltsenabled=false&preferdirects=false&ref=home&rtn=0\n",
      "https://www.skyscanner.ca/transport/flights/amd/yyz/240520/?adults=1&adultsv2=1&cabinclass=business&children=0&childrenv2=&destinationentityid=&inboundaltsenabled=false&infants=0&outboundaltsenabled=false&preferdirects=false&ref=home&rtn=0\n",
      "https://www.skyscanner.ca/transport/flights/cok/yyz/240520/?adults=1&adultsv2=1&cabinclass=business&children=0&childrenv2=&destinationentityid=&inboundaltsenabled=false&infants=0&outboundaltsenabled=false&preferdirects=false&ref=home&rtn=0\n",
      "https://www.skyscanner.ca/transport/flights/cmb/yyz/240520/?adults=1&adultsv2=1&cabinclass=business&children=0&childrenv2=&destinationentityid=&inboundaltsenabled=false&infants=0&outboundaltsenabled=false&preferdirects=false&ref=home&rtn=0\n",
      "https://www.skyscanner.ca/transport/flights/ktm/yyz/240520/?adults=1&adultsv2=1&cabinclass=business&children=0&childrenv2=&destinationentityid=&inboundaltsenabled=false&infants=0&outboundaltsenabled=false&preferdirects=false&ref=home&rtn=0\n",
      "https://www.skyscanner.ca/transport/flights/mex/yyz/240520/?adults=1&adultsv2=1&cabinclass=business&children=0&childrenv2=&destinationentityid=&inboundaltsenabled=false&infants=0&outboundaltsenabled=false&preferdirects=false&ref=home&rtn=0\n",
      "https://www.skyscanner.ca/transport/flights/gru/yyz/240520/?adults=1&adultsv2=1&cabinclass=business&children=0&childrenv2=&destinationentityid=&inboundaltsenabled=false&infants=0&outboundaltsenabled=false&preferdirects=false&ref=home&rtn=0\n",
      "https://www.skyscanner.ca/transport/flights/kan/yyz/240520/?adults=1&adultsv2=1&cabinclass=business&children=0&childrenv2=&destinationentityid=&inboundaltsenabled=false&infants=0&outboundaltsenabled=false&preferdirects=false&ref=home&rtn=0\n"
     ]
    }
   ],
   "source": [
    "# Airport code mapping\n",
    "airport_codes = {\n",
    "    \"Toronto Pearson International (YYZ)\": \"yyz\",\n",
    "    \"Bengaluru (BLR)\": \"blr\",\n",
    "    \"Indira Gandhi International  (DEL)\": \"del\",\n",
    "    \"Mumbai (BOM)\": \"bom\",\n",
    "    \"Hyderabad (HYD)\": \"hyd\",\n",
    "    \"Chennai (MAA)\": \"maa\",\n",
    "    \"Ahmedabad (AMD)\": \"amd\",\n",
    "    \"Kochi (COK)\": \"cok\",\n",
    "    \"Colombo Bandaranayake (CMB)\": \"cmb\",\n",
    "    \"Kathmandu (KTM)\": \"ktm\",\n",
    "    \"Mexico City Juarez International (MEX)\": \"mex\",\n",
    "    \"Sao Paulo Guarulhos (GRU)\": \"gru\",\n",
    "    \"Aminu Kano Intl (KAN)\": \"kan\"\n",
    "}\n",
    "\n",
    "def generate_flight_url(source, destination, date):\n",
    "    base_url = \"https://www.skyscanner.ca/transport/flights/\"\n",
    "    url_params = f\"?adults=1&adultsv2=1&cabinclass=business&children=0&childrenv2=&destinationentityid=&inboundaltsenabled=false&infants=0&outboundaltsenabled=false&preferdirects=false&ref=home&rtn=0\"\n",
    "    return f\"{base_url}{source}/{destination}/{date}/{url_params}\"\n",
    "\n",
    "# Read input data from Excel file\n",
    "input_data = pd.read_excel(\"flight_data.xlsx\")\n",
    "\n",
    "# Iterate over rows in the Excel file\n",
    "for index, row in input_data.iterrows():\n",
    "    source = airport_codes.get(row['Source'], \"\")\n",
    "    destination = airport_codes.get(row['Destination'], \"\")\n",
    "    date = row['Airline Date']\n",
    "    \n",
    "    if source and destination:\n",
    "        # Format date as required (e.g., 240514)\n",
    "        formatted_date = date.strftime(\"%y%m%d\")\n",
    "        \n",
    "        # Generate flight URL\n",
    "        flight_url_business = generate_flight_url(source, destination, formatted_date)\n",
    "        \n",
    "        print(flight_url_business)\n"
   ]
  },
  {
   "cell_type": "code",
   "execution_count": null,
   "id": "be915845",
   "metadata": {},
   "outputs": [],
   "source": []
  }
 ],
 "metadata": {
  "kernelspec": {
   "display_name": "Python 3 (ipykernel)",
   "language": "python",
   "name": "python3"
  },
  "language_info": {
   "codemirror_mode": {
    "name": "ipython",
    "version": 3
   },
   "file_extension": ".py",
   "mimetype": "text/x-python",
   "name": "python",
   "nbconvert_exporter": "python",
   "pygments_lexer": "ipython3",
   "version": "3.11.5"
  }
 },
 "nbformat": 4,
 "nbformat_minor": 5
}
