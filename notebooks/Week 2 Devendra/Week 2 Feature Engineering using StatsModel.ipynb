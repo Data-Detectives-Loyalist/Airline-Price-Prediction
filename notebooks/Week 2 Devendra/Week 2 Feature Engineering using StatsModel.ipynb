{
 "cells": [
  {
   "cell_type": "code",
   "execution_count": 1,
   "metadata": {
    "id": "L-ptq7sEm0VN"
   },
   "outputs": [],
   "source": [
    "import pandas as pd\n",
    "import numpy as np\n",
    "import matplotlib.pyplot as plt\n",
    "import seaborn as sns\n",
    "%matplotlib inline\n",
    "from sklearn.preprocessing import OneHotEncoder\n",
    "from sklearn.preprocessing import LabelEncoder"
   ]
  },
  {
   "cell_type": "code",
   "execution_count": 2,
   "metadata": {
    "id": "gekWZjW9nDYs"
   },
   "outputs": [],
   "source": [
    "df = pd.read_csv(\"/content/flightPrice.csv\")"
   ]
  },
  {
   "cell_type": "code",
   "execution_count": 3,
   "metadata": {
    "colab": {
     "base_uri": "https://localhost:8080/",
     "height": 617
    },
    "id": "s6OOGOhInEBQ",
    "outputId": "02154cba-9e8b-4e73-b1c1-de4eb70b8866"
   },
   "outputs": [
    {
     "data": {
      "application/vnd.google.colaboratory.intrinsic+json": {
       "type": "dataframe",
       "variable_name": "df"
      },
      "text/html": [
       "\n",
       "  <div id=\"df-02e5ea5a-61d0-4bf6-8b8a-af23e62e66f7\" class=\"colab-df-container\">\n",
       "    <div>\n",
       "<style scoped>\n",
       "    .dataframe tbody tr th:only-of-type {\n",
       "        vertical-align: middle;\n",
       "    }\n",
       "\n",
       "    .dataframe tbody tr th {\n",
       "        vertical-align: top;\n",
       "    }\n",
       "\n",
       "    .dataframe thead th {\n",
       "        text-align: right;\n",
       "    }\n",
       "</style>\n",
       "<table border=\"1\" class=\"dataframe\">\n",
       "  <thead>\n",
       "    <tr style=\"text-align: right;\">\n",
       "      <th></th>\n",
       "      <th>Date_of_journey</th>\n",
       "      <th>Journey_day</th>\n",
       "      <th>Airline</th>\n",
       "      <th>Flight_code</th>\n",
       "      <th>Class</th>\n",
       "      <th>Source</th>\n",
       "      <th>Departure</th>\n",
       "      <th>Total_stops</th>\n",
       "      <th>Arrival</th>\n",
       "      <th>Destination</th>\n",
       "      <th>Duration_in_hours</th>\n",
       "      <th>Days_left</th>\n",
       "      <th>Fare</th>\n",
       "    </tr>\n",
       "  </thead>\n",
       "  <tbody>\n",
       "    <tr>\n",
       "      <th>0</th>\n",
       "      <td>2023-01-16</td>\n",
       "      <td>Monday</td>\n",
       "      <td>SpiceJet</td>\n",
       "      <td>SG-8169</td>\n",
       "      <td>Economy</td>\n",
       "      <td>Delhi</td>\n",
       "      <td>After 6 PM</td>\n",
       "      <td>non-stop</td>\n",
       "      <td>After 6 PM</td>\n",
       "      <td>Mumbai</td>\n",
       "      <td>2.0833</td>\n",
       "      <td>1</td>\n",
       "      <td>5335</td>\n",
       "    </tr>\n",
       "    <tr>\n",
       "      <th>1</th>\n",
       "      <td>2023-01-16</td>\n",
       "      <td>Monday</td>\n",
       "      <td>Indigo</td>\n",
       "      <td>6E-2519</td>\n",
       "      <td>Economy</td>\n",
       "      <td>Delhi</td>\n",
       "      <td>After 6 PM</td>\n",
       "      <td>non-stop</td>\n",
       "      <td>Before 6 AM</td>\n",
       "      <td>Mumbai</td>\n",
       "      <td>2.3333</td>\n",
       "      <td>1</td>\n",
       "      <td>5899</td>\n",
       "    </tr>\n",
       "    <tr>\n",
       "      <th>2</th>\n",
       "      <td>2023-01-16</td>\n",
       "      <td>Monday</td>\n",
       "      <td>GO FIRST</td>\n",
       "      <td>G8-354</td>\n",
       "      <td>Economy</td>\n",
       "      <td>Delhi</td>\n",
       "      <td>After 6 PM</td>\n",
       "      <td>non-stop</td>\n",
       "      <td>Before 6 AM</td>\n",
       "      <td>Mumbai</td>\n",
       "      <td>2.1667</td>\n",
       "      <td>1</td>\n",
       "      <td>5801</td>\n",
       "    </tr>\n",
       "    <tr>\n",
       "      <th>3</th>\n",
       "      <td>2023-01-16</td>\n",
       "      <td>Monday</td>\n",
       "      <td>SpiceJet</td>\n",
       "      <td>SG-8709</td>\n",
       "      <td>Economy</td>\n",
       "      <td>Delhi</td>\n",
       "      <td>After 6 PM</td>\n",
       "      <td>non-stop</td>\n",
       "      <td>After 6 PM</td>\n",
       "      <td>Mumbai</td>\n",
       "      <td>2.0833</td>\n",
       "      <td>1</td>\n",
       "      <td>5794</td>\n",
       "    </tr>\n",
       "    <tr>\n",
       "      <th>4</th>\n",
       "      <td>2023-01-16</td>\n",
       "      <td>Monday</td>\n",
       "      <td>Air India</td>\n",
       "      <td>AI-805</td>\n",
       "      <td>Economy</td>\n",
       "      <td>Delhi</td>\n",
       "      <td>After 6 PM</td>\n",
       "      <td>non-stop</td>\n",
       "      <td>After 6 PM</td>\n",
       "      <td>Mumbai</td>\n",
       "      <td>2.1667</td>\n",
       "      <td>1</td>\n",
       "      <td>5955</td>\n",
       "    </tr>\n",
       "    <tr>\n",
       "      <th>...</th>\n",
       "      <td>...</td>\n",
       "      <td>...</td>\n",
       "      <td>...</td>\n",
       "      <td>...</td>\n",
       "      <td>...</td>\n",
       "      <td>...</td>\n",
       "      <td>...</td>\n",
       "      <td>...</td>\n",
       "      <td>...</td>\n",
       "      <td>...</td>\n",
       "      <td>...</td>\n",
       "      <td>...</td>\n",
       "      <td>...</td>\n",
       "    </tr>\n",
       "    <tr>\n",
       "      <th>452083</th>\n",
       "      <td>2023-03-06</td>\n",
       "      <td>Monday</td>\n",
       "      <td>Vistara</td>\n",
       "      <td>UK-926</td>\n",
       "      <td>Business</td>\n",
       "      <td>Ahmedabad</td>\n",
       "      <td>6 AM - 12 PM</td>\n",
       "      <td>1-stop</td>\n",
       "      <td>After 6 PM</td>\n",
       "      <td>Chennai</td>\n",
       "      <td>13.0833</td>\n",
       "      <td>50</td>\n",
       "      <td>65028</td>\n",
       "    </tr>\n",
       "    <tr>\n",
       "      <th>452084</th>\n",
       "      <td>2023-03-06</td>\n",
       "      <td>Monday</td>\n",
       "      <td>Vistara</td>\n",
       "      <td>UK-918</td>\n",
       "      <td>Business</td>\n",
       "      <td>Ahmedabad</td>\n",
       "      <td>Before 6 AM</td>\n",
       "      <td>1-stop</td>\n",
       "      <td>12 PM - 6 PM</td>\n",
       "      <td>Chennai</td>\n",
       "      <td>11.2500</td>\n",
       "      <td>50</td>\n",
       "      <td>69254</td>\n",
       "    </tr>\n",
       "    <tr>\n",
       "      <th>452085</th>\n",
       "      <td>2023-03-06</td>\n",
       "      <td>Monday</td>\n",
       "      <td>Vistara</td>\n",
       "      <td>UK-918</td>\n",
       "      <td>Business</td>\n",
       "      <td>Ahmedabad</td>\n",
       "      <td>Before 6 AM</td>\n",
       "      <td>1-stop</td>\n",
       "      <td>12 PM - 6 PM</td>\n",
       "      <td>Chennai</td>\n",
       "      <td>11.2500</td>\n",
       "      <td>50</td>\n",
       "      <td>69254</td>\n",
       "    </tr>\n",
       "    <tr>\n",
       "      <th>452086</th>\n",
       "      <td>2023-03-06</td>\n",
       "      <td>Monday</td>\n",
       "      <td>Vistara</td>\n",
       "      <td>UK-946</td>\n",
       "      <td>Business</td>\n",
       "      <td>Ahmedabad</td>\n",
       "      <td>6 AM - 12 PM</td>\n",
       "      <td>1-stop</td>\n",
       "      <td>After 6 PM</td>\n",
       "      <td>Chennai</td>\n",
       "      <td>11.1667</td>\n",
       "      <td>50</td>\n",
       "      <td>72980</td>\n",
       "    </tr>\n",
       "    <tr>\n",
       "      <th>452087</th>\n",
       "      <td>2023-03-06</td>\n",
       "      <td>Monday</td>\n",
       "      <td>Vistara</td>\n",
       "      <td>UK-946</td>\n",
       "      <td>Business</td>\n",
       "      <td>Ahmedabad</td>\n",
       "      <td>6 AM - 12 PM</td>\n",
       "      <td>1-stop</td>\n",
       "      <td>After 6 PM</td>\n",
       "      <td>Chennai</td>\n",
       "      <td>11.1667</td>\n",
       "      <td>50</td>\n",
       "      <td>72980</td>\n",
       "    </tr>\n",
       "  </tbody>\n",
       "</table>\n",
       "<p>452088 rows × 13 columns</p>\n",
       "</div>\n",
       "    <div class=\"colab-df-buttons\">\n",
       "\n",
       "  <div class=\"colab-df-container\">\n",
       "    <button class=\"colab-df-convert\" onclick=\"convertToInteractive('df-02e5ea5a-61d0-4bf6-8b8a-af23e62e66f7')\"\n",
       "            title=\"Convert this dataframe to an interactive table.\"\n",
       "            style=\"display:none;\">\n",
       "\n",
       "  <svg xmlns=\"http://www.w3.org/2000/svg\" height=\"24px\" viewBox=\"0 -960 960 960\">\n",
       "    <path d=\"M120-120v-720h720v720H120Zm60-500h600v-160H180v160Zm220 220h160v-160H400v160Zm0 220h160v-160H400v160ZM180-400h160v-160H180v160Zm440 0h160v-160H620v160ZM180-180h160v-160H180v160Zm440 0h160v-160H620v160Z\"/>\n",
       "  </svg>\n",
       "    </button>\n",
       "\n",
       "  <style>\n",
       "    .colab-df-container {\n",
       "      display:flex;\n",
       "      gap: 12px;\n",
       "    }\n",
       "\n",
       "    .colab-df-convert {\n",
       "      background-color: #E8F0FE;\n",
       "      border: none;\n",
       "      border-radius: 50%;\n",
       "      cursor: pointer;\n",
       "      display: none;\n",
       "      fill: #1967D2;\n",
       "      height: 32px;\n",
       "      padding: 0 0 0 0;\n",
       "      width: 32px;\n",
       "    }\n",
       "\n",
       "    .colab-df-convert:hover {\n",
       "      background-color: #E2EBFA;\n",
       "      box-shadow: 0px 1px 2px rgba(60, 64, 67, 0.3), 0px 1px 3px 1px rgba(60, 64, 67, 0.15);\n",
       "      fill: #174EA6;\n",
       "    }\n",
       "\n",
       "    .colab-df-buttons div {\n",
       "      margin-bottom: 4px;\n",
       "    }\n",
       "\n",
       "    [theme=dark] .colab-df-convert {\n",
       "      background-color: #3B4455;\n",
       "      fill: #D2E3FC;\n",
       "    }\n",
       "\n",
       "    [theme=dark] .colab-df-convert:hover {\n",
       "      background-color: #434B5C;\n",
       "      box-shadow: 0px 1px 3px 1px rgba(0, 0, 0, 0.15);\n",
       "      filter: drop-shadow(0px 1px 2px rgba(0, 0, 0, 0.3));\n",
       "      fill: #FFFFFF;\n",
       "    }\n",
       "  </style>\n",
       "\n",
       "    <script>\n",
       "      const buttonEl =\n",
       "        document.querySelector('#df-02e5ea5a-61d0-4bf6-8b8a-af23e62e66f7 button.colab-df-convert');\n",
       "      buttonEl.style.display =\n",
       "        google.colab.kernel.accessAllowed ? 'block' : 'none';\n",
       "\n",
       "      async function convertToInteractive(key) {\n",
       "        const element = document.querySelector('#df-02e5ea5a-61d0-4bf6-8b8a-af23e62e66f7');\n",
       "        const dataTable =\n",
       "          await google.colab.kernel.invokeFunction('convertToInteractive',\n",
       "                                                    [key], {});\n",
       "        if (!dataTable) return;\n",
       "\n",
       "        const docLinkHtml = 'Like what you see? Visit the ' +\n",
       "          '<a target=\"_blank\" href=https://colab.research.google.com/notebooks/data_table.ipynb>data table notebook</a>'\n",
       "          + ' to learn more about interactive tables.';\n",
       "        element.innerHTML = '';\n",
       "        dataTable['output_type'] = 'display_data';\n",
       "        await google.colab.output.renderOutput(dataTable, element);\n",
       "        const docLink = document.createElement('div');\n",
       "        docLink.innerHTML = docLinkHtml;\n",
       "        element.appendChild(docLink);\n",
       "      }\n",
       "    </script>\n",
       "  </div>\n",
       "\n",
       "\n",
       "<div id=\"df-c9beeda2-ba99-4317-a6d1-60f71e51c149\">\n",
       "  <button class=\"colab-df-quickchart\" onclick=\"quickchart('df-c9beeda2-ba99-4317-a6d1-60f71e51c149')\"\n",
       "            title=\"Suggest charts\"\n",
       "            style=\"display:none;\">\n",
       "\n",
       "<svg xmlns=\"http://www.w3.org/2000/svg\" height=\"24px\"viewBox=\"0 0 24 24\"\n",
       "     width=\"24px\">\n",
       "    <g>\n",
       "        <path d=\"M19 3H5c-1.1 0-2 .9-2 2v14c0 1.1.9 2 2 2h14c1.1 0 2-.9 2-2V5c0-1.1-.9-2-2-2zM9 17H7v-7h2v7zm4 0h-2V7h2v10zm4 0h-2v-4h2v4z\"/>\n",
       "    </g>\n",
       "</svg>\n",
       "  </button>\n",
       "\n",
       "<style>\n",
       "  .colab-df-quickchart {\n",
       "      --bg-color: #E8F0FE;\n",
       "      --fill-color: #1967D2;\n",
       "      --hover-bg-color: #E2EBFA;\n",
       "      --hover-fill-color: #174EA6;\n",
       "      --disabled-fill-color: #AAA;\n",
       "      --disabled-bg-color: #DDD;\n",
       "  }\n",
       "\n",
       "  [theme=dark] .colab-df-quickchart {\n",
       "      --bg-color: #3B4455;\n",
       "      --fill-color: #D2E3FC;\n",
       "      --hover-bg-color: #434B5C;\n",
       "      --hover-fill-color: #FFFFFF;\n",
       "      --disabled-bg-color: #3B4455;\n",
       "      --disabled-fill-color: #666;\n",
       "  }\n",
       "\n",
       "  .colab-df-quickchart {\n",
       "    background-color: var(--bg-color);\n",
       "    border: none;\n",
       "    border-radius: 50%;\n",
       "    cursor: pointer;\n",
       "    display: none;\n",
       "    fill: var(--fill-color);\n",
       "    height: 32px;\n",
       "    padding: 0;\n",
       "    width: 32px;\n",
       "  }\n",
       "\n",
       "  .colab-df-quickchart:hover {\n",
       "    background-color: var(--hover-bg-color);\n",
       "    box-shadow: 0 1px 2px rgba(60, 64, 67, 0.3), 0 1px 3px 1px rgba(60, 64, 67, 0.15);\n",
       "    fill: var(--button-hover-fill-color);\n",
       "  }\n",
       "\n",
       "  .colab-df-quickchart-complete:disabled,\n",
       "  .colab-df-quickchart-complete:disabled:hover {\n",
       "    background-color: var(--disabled-bg-color);\n",
       "    fill: var(--disabled-fill-color);\n",
       "    box-shadow: none;\n",
       "  }\n",
       "\n",
       "  .colab-df-spinner {\n",
       "    border: 2px solid var(--fill-color);\n",
       "    border-color: transparent;\n",
       "    border-bottom-color: var(--fill-color);\n",
       "    animation:\n",
       "      spin 1s steps(1) infinite;\n",
       "  }\n",
       "\n",
       "  @keyframes spin {\n",
       "    0% {\n",
       "      border-color: transparent;\n",
       "      border-bottom-color: var(--fill-color);\n",
       "      border-left-color: var(--fill-color);\n",
       "    }\n",
       "    20% {\n",
       "      border-color: transparent;\n",
       "      border-left-color: var(--fill-color);\n",
       "      border-top-color: var(--fill-color);\n",
       "    }\n",
       "    30% {\n",
       "      border-color: transparent;\n",
       "      border-left-color: var(--fill-color);\n",
       "      border-top-color: var(--fill-color);\n",
       "      border-right-color: var(--fill-color);\n",
       "    }\n",
       "    40% {\n",
       "      border-color: transparent;\n",
       "      border-right-color: var(--fill-color);\n",
       "      border-top-color: var(--fill-color);\n",
       "    }\n",
       "    60% {\n",
       "      border-color: transparent;\n",
       "      border-right-color: var(--fill-color);\n",
       "    }\n",
       "    80% {\n",
       "      border-color: transparent;\n",
       "      border-right-color: var(--fill-color);\n",
       "      border-bottom-color: var(--fill-color);\n",
       "    }\n",
       "    90% {\n",
       "      border-color: transparent;\n",
       "      border-bottom-color: var(--fill-color);\n",
       "    }\n",
       "  }\n",
       "</style>\n",
       "\n",
       "  <script>\n",
       "    async function quickchart(key) {\n",
       "      const quickchartButtonEl =\n",
       "        document.querySelector('#' + key + ' button');\n",
       "      quickchartButtonEl.disabled = true;  // To prevent multiple clicks.\n",
       "      quickchartButtonEl.classList.add('colab-df-spinner');\n",
       "      try {\n",
       "        const charts = await google.colab.kernel.invokeFunction(\n",
       "            'suggestCharts', [key], {});\n",
       "      } catch (error) {\n",
       "        console.error('Error during call to suggestCharts:', error);\n",
       "      }\n",
       "      quickchartButtonEl.classList.remove('colab-df-spinner');\n",
       "      quickchartButtonEl.classList.add('colab-df-quickchart-complete');\n",
       "    }\n",
       "    (() => {\n",
       "      let quickchartButtonEl =\n",
       "        document.querySelector('#df-c9beeda2-ba99-4317-a6d1-60f71e51c149 button');\n",
       "      quickchartButtonEl.style.display =\n",
       "        google.colab.kernel.accessAllowed ? 'block' : 'none';\n",
       "    })();\n",
       "  </script>\n",
       "</div>\n",
       "\n",
       "  <div id=\"id_818f2ece-5799-4c9c-aaa4-9e5f2c2f311f\">\n",
       "    <style>\n",
       "      .colab-df-generate {\n",
       "        background-color: #E8F0FE;\n",
       "        border: none;\n",
       "        border-radius: 50%;\n",
       "        cursor: pointer;\n",
       "        display: none;\n",
       "        fill: #1967D2;\n",
       "        height: 32px;\n",
       "        padding: 0 0 0 0;\n",
       "        width: 32px;\n",
       "      }\n",
       "\n",
       "      .colab-df-generate:hover {\n",
       "        background-color: #E2EBFA;\n",
       "        box-shadow: 0px 1px 2px rgba(60, 64, 67, 0.3), 0px 1px 3px 1px rgba(60, 64, 67, 0.15);\n",
       "        fill: #174EA6;\n",
       "      }\n",
       "\n",
       "      [theme=dark] .colab-df-generate {\n",
       "        background-color: #3B4455;\n",
       "        fill: #D2E3FC;\n",
       "      }\n",
       "\n",
       "      [theme=dark] .colab-df-generate:hover {\n",
       "        background-color: #434B5C;\n",
       "        box-shadow: 0px 1px 3px 1px rgba(0, 0, 0, 0.15);\n",
       "        filter: drop-shadow(0px 1px 2px rgba(0, 0, 0, 0.3));\n",
       "        fill: #FFFFFF;\n",
       "      }\n",
       "    </style>\n",
       "    <button class=\"colab-df-generate\" onclick=\"generateWithVariable('df')\"\n",
       "            title=\"Generate code using this dataframe.\"\n",
       "            style=\"display:none;\">\n",
       "\n",
       "  <svg xmlns=\"http://www.w3.org/2000/svg\" height=\"24px\"viewBox=\"0 0 24 24\"\n",
       "       width=\"24px\">\n",
       "    <path d=\"M7,19H8.4L18.45,9,17,7.55,7,17.6ZM5,21V16.75L18.45,3.32a2,2,0,0,1,2.83,0l1.4,1.43a1.91,1.91,0,0,1,.58,1.4,1.91,1.91,0,0,1-.58,1.4L9.25,21ZM18.45,9,17,7.55Zm-12,3A5.31,5.31,0,0,0,4.9,8.1,5.31,5.31,0,0,0,1,6.5,5.31,5.31,0,0,0,4.9,4.9,5.31,5.31,0,0,0,6.5,1,5.31,5.31,0,0,0,8.1,4.9,5.31,5.31,0,0,0,12,6.5,5.46,5.46,0,0,0,6.5,12Z\"/>\n",
       "  </svg>\n",
       "    </button>\n",
       "    <script>\n",
       "      (() => {\n",
       "      const buttonEl =\n",
       "        document.querySelector('#id_818f2ece-5799-4c9c-aaa4-9e5f2c2f311f button.colab-df-generate');\n",
       "      buttonEl.style.display =\n",
       "        google.colab.kernel.accessAllowed ? 'block' : 'none';\n",
       "\n",
       "      buttonEl.onclick = () => {\n",
       "        google.colab.notebook.generateWithVariable('df');\n",
       "      }\n",
       "      })();\n",
       "    </script>\n",
       "  </div>\n",
       "\n",
       "    </div>\n",
       "  </div>\n"
      ],
      "text/plain": [
       "       Date_of_journey Journey_day    Airline Flight_code     Class  \\\n",
       "0           2023-01-16      Monday   SpiceJet     SG-8169   Economy   \n",
       "1           2023-01-16      Monday     Indigo     6E-2519   Economy   \n",
       "2           2023-01-16      Monday   GO FIRST      G8-354   Economy   \n",
       "3           2023-01-16      Monday   SpiceJet     SG-8709   Economy   \n",
       "4           2023-01-16      Monday  Air India      AI-805   Economy   \n",
       "...                ...         ...        ...         ...       ...   \n",
       "452083      2023-03-06      Monday    Vistara      UK-926  Business   \n",
       "452084      2023-03-06      Monday    Vistara      UK-918  Business   \n",
       "452085      2023-03-06      Monday    Vistara      UK-918  Business   \n",
       "452086      2023-03-06      Monday    Vistara      UK-946  Business   \n",
       "452087      2023-03-06      Monday    Vistara      UK-946  Business   \n",
       "\n",
       "           Source     Departure Total_stops       Arrival Destination  \\\n",
       "0           Delhi    After 6 PM    non-stop    After 6 PM      Mumbai   \n",
       "1           Delhi    After 6 PM    non-stop   Before 6 AM      Mumbai   \n",
       "2           Delhi    After 6 PM    non-stop   Before 6 AM      Mumbai   \n",
       "3           Delhi    After 6 PM    non-stop    After 6 PM      Mumbai   \n",
       "4           Delhi    After 6 PM    non-stop    After 6 PM      Mumbai   \n",
       "...           ...           ...         ...           ...         ...   \n",
       "452083  Ahmedabad  6 AM - 12 PM      1-stop    After 6 PM     Chennai   \n",
       "452084  Ahmedabad   Before 6 AM      1-stop  12 PM - 6 PM     Chennai   \n",
       "452085  Ahmedabad   Before 6 AM      1-stop  12 PM - 6 PM     Chennai   \n",
       "452086  Ahmedabad  6 AM - 12 PM      1-stop    After 6 PM     Chennai   \n",
       "452087  Ahmedabad  6 AM - 12 PM      1-stop    After 6 PM     Chennai   \n",
       "\n",
       "        Duration_in_hours  Days_left   Fare  \n",
       "0                  2.0833          1   5335  \n",
       "1                  2.3333          1   5899  \n",
       "2                  2.1667          1   5801  \n",
       "3                  2.0833          1   5794  \n",
       "4                  2.1667          1   5955  \n",
       "...                   ...        ...    ...  \n",
       "452083            13.0833         50  65028  \n",
       "452084            11.2500         50  69254  \n",
       "452085            11.2500         50  69254  \n",
       "452086            11.1667         50  72980  \n",
       "452087            11.1667         50  72980  \n",
       "\n",
       "[452088 rows x 13 columns]"
      ]
     },
     "execution_count": 3,
     "metadata": {},
     "output_type": "execute_result"
    }
   ],
   "source": [
    "df"
   ]
  },
  {
   "cell_type": "code",
   "execution_count": 4,
   "metadata": {
    "colab": {
     "base_uri": "https://localhost:8080/"
    },
    "id": "XUYLtFyyngik",
    "outputId": "d4e65d80-1e40-400e-fa2d-29036e3fd756"
   },
   "outputs": [
    {
     "data": {
      "text/plain": [
       "Date_of_journey      0\n",
       "Journey_day          0\n",
       "Airline              0\n",
       "Flight_code          0\n",
       "Class                0\n",
       "Source               0\n",
       "Departure            0\n",
       "Total_stops          0\n",
       "Arrival              0\n",
       "Destination          0\n",
       "Duration_in_hours    0\n",
       "Days_left            0\n",
       "Fare                 0\n",
       "dtype: int64"
      ]
     },
     "execution_count": 4,
     "metadata": {},
     "output_type": "execute_result"
    }
   ],
   "source": [
    "df.isnull().sum()"
   ]
  },
  {
   "cell_type": "code",
   "execution_count": 5,
   "metadata": {
    "id": "LHydBuwZnj2j"
   },
   "outputs": [],
   "source": [
    "df['Date_of_journey'] = pd.to_datetime(df['Date_of_journey'], format='%Y-%m-%d')\n",
    "df[\"Day\"] = df[\"Date_of_journey\"].dt.day\n",
    "df[\"Month\"] = df[\"Date_of_journey\"].dt.month\n",
    "df[\"Year\"] = df[\"Date_of_journey\"].dt.year\n",
    "df.drop(columns=[\"Date_of_journey\"], inplace=True)"
   ]
  },
  {
   "cell_type": "code",
   "execution_count": 6,
   "metadata": {
    "id": "X_IlJ7lxn9sI"
   },
   "outputs": [],
   "source": [
    "encoder = OneHotEncoder(drop='first', sparse_output=False)"
   ]
  },
  {
   "cell_type": "code",
   "execution_count": 7,
   "metadata": {
    "id": "ykk7CCOon9PC"
   },
   "outputs": [],
   "source": [
    "columns_to_encode = ['Class', 'Source','Airline','Journey_day','Destination']"
   ]
  },
  {
   "cell_type": "code",
   "execution_count": 8,
   "metadata": {
    "id": "QJD-KqYeofJb"
   },
   "outputs": [],
   "source": [
    "one_hot_encoded_data = encoder.fit_transform(df[columns_to_encode])"
   ]
  },
  {
   "cell_type": "code",
   "execution_count": 9,
   "metadata": {
    "id": "4q0UFY44nnUC"
   },
   "outputs": [],
   "source": [
    "one_hot_encoded_df = pd.DataFrame(one_hot_encoded_data, columns=encoder.get_feature_names_out(columns_to_encode))\n",
    "\n",
    "one_hot_encoded_df.index = df.index\n",
    "\n",
    "df.drop(columns=columns_to_encode, inplace=True)\n",
    "\n",
    "df = pd.concat([df, one_hot_encoded_df], axis=1)\n"
   ]
  },
  {
   "cell_type": "code",
   "execution_count": 10,
   "metadata": {
    "id": "_pVvDtCkpC5t"
   },
   "outputs": [],
   "source": [
    "label_encoder = LabelEncoder()\n",
    "df[\"Total_stops_encoded\"] = label_encoder.fit_transform(df[\"Total_stops\"])\n",
    "\n",
    "df[\"Total_stops\"] = df[\"Total_stops_encoded\"]"
   ]
  },
  {
   "cell_type": "code",
   "execution_count": 11,
   "metadata": {
    "id": "U2RrYBMbq6BR"
   },
   "outputs": [],
   "source": [
    "df.drop(columns=[\"Flight_code\"], inplace=True)"
   ]
  },
  {
   "cell_type": "code",
   "execution_count": 12,
   "metadata": {
    "colab": {
     "base_uri": "https://localhost:8080/"
    },
    "id": "ATiB2jyeiqPH",
    "outputId": "2e6ace59-2deb-4624-8330-3273114eb449"
   },
   "outputs": [
    {
     "data": {
      "text/plain": [
       "array(['After 6 PM', 'Before 6 AM', '12 PM - 6 PM', '6 AM - 12 PM'],\n",
       "      dtype=object)"
      ]
     },
     "execution_count": 12,
     "metadata": {},
     "output_type": "execute_result"
    }
   ],
   "source": [
    "df[\"Departure\"].unique()"
   ]
  },
  {
   "cell_type": "code",
   "execution_count": 13,
   "metadata": {
    "colab": {
     "base_uri": "https://localhost:8080/"
    },
    "id": "OQ14bT4Gi8RW",
    "outputId": "728e4943-13df-48ac-dd52-55aa98db02e1"
   },
   "outputs": [
    {
     "data": {
      "text/plain": [
       "array(['After 6 PM', 'Before 6 AM', '6 AM - 12 PM', '12 PM - 6 PM'],\n",
       "      dtype=object)"
      ]
     },
     "execution_count": 13,
     "metadata": {},
     "output_type": "execute_result"
    }
   ],
   "source": [
    "df[\"Arrival\"].unique()"
   ]
  },
  {
   "cell_type": "code",
   "execution_count": 14,
   "metadata": {
    "id": "maATzKZbj43g"
   },
   "outputs": [],
   "source": [
    "Time_Slots = ['After 6 PM', 'Before 6 AM', '12 PM - 6 PM', '6 AM - 12 PM']"
   ]
  },
  {
   "cell_type": "code",
   "execution_count": 15,
   "metadata": {
    "id": "0gPRrppEj4rs"
   },
   "outputs": [],
   "source": [
    "encoder = OneHotEncoder(categories=[Time_Slots,Time_Slots], drop='first', sparse_output=False)"
   ]
  },
  {
   "cell_type": "code",
   "execution_count": 16,
   "metadata": {
    "id": "cbS_NEIFj4RY"
   },
   "outputs": [],
   "source": [
    "one_hot_encoded_data = encoder.fit_transform(df[['Arrival', 'Departure']])\n",
    "\n",
    "feature_names = encoder.get_feature_names_out(['Arrival', 'Departure'])"
   ]
  },
  {
   "cell_type": "code",
   "execution_count": 17,
   "metadata": {
    "id": "NlqtlwwEmQiP"
   },
   "outputs": [],
   "source": [
    "one_hot_encoded_df = pd.DataFrame(one_hot_encoded_data, columns=feature_names)\n",
    "one_hot_encoded_df.index = df.index"
   ]
  },
  {
   "cell_type": "code",
   "execution_count": 18,
   "metadata": {
    "id": "jp7dTB_LmWxD"
   },
   "outputs": [],
   "source": [
    "df.drop(columns=['Arrival', 'Departure'], inplace=True)"
   ]
  },
  {
   "cell_type": "code",
   "execution_count": 19,
   "metadata": {
    "id": "Bl-iBbSxmeF7"
   },
   "outputs": [],
   "source": [
    "df = pd.concat([df, one_hot_encoded_df], axis=1)"
   ]
  },
  {
   "cell_type": "code",
   "execution_count": 20,
   "metadata": {
    "colab": {
     "base_uri": "https://localhost:8080/"
    },
    "id": "6y9vHmkSmloh",
    "outputId": "d081e7c1-75fe-4079-9c80-b135ea3645f4"
   },
   "outputs": [
    {
     "name": "stdout",
     "output_type": "stream",
     "text": [
      "<class 'pandas.core.frame.DataFrame'>\n",
      "RangeIndex: 452088 entries, 0 to 452087\n",
      "Data columns (total 43 columns):\n",
      " #   Column                  Non-Null Count   Dtype  \n",
      "---  ------                  --------------   -----  \n",
      " 0   Total_stops             452088 non-null  int64  \n",
      " 1   Duration_in_hours       452088 non-null  float64\n",
      " 2   Days_left               452088 non-null  int64  \n",
      " 3   Fare                    452088 non-null  int64  \n",
      " 4   Day                     452088 non-null  int32  \n",
      " 5   Month                   452088 non-null  int32  \n",
      " 6   Year                    452088 non-null  int32  \n",
      " 7   Class_Economy           452088 non-null  float64\n",
      " 8   Class_First             452088 non-null  float64\n",
      " 9   Class_Premium Economy   452088 non-null  float64\n",
      " 10  Source_Bangalore        452088 non-null  float64\n",
      " 11  Source_Chennai          452088 non-null  float64\n",
      " 12  Source_Delhi            452088 non-null  float64\n",
      " 13  Source_Hyderabad        452088 non-null  float64\n",
      " 14  Source_Kolkata          452088 non-null  float64\n",
      " 15  Source_Mumbai           452088 non-null  float64\n",
      " 16  Airline_AirAsia         452088 non-null  float64\n",
      " 17  Airline_AkasaAir        452088 non-null  float64\n",
      " 18  Airline_AllianceAir     452088 non-null  float64\n",
      " 19  Airline_GO FIRST        452088 non-null  float64\n",
      " 20  Airline_Indigo          452088 non-null  float64\n",
      " 21  Airline_SpiceJet        452088 non-null  float64\n",
      " 22  Airline_StarAir         452088 non-null  float64\n",
      " 23  Airline_Vistara         452088 non-null  float64\n",
      " 24  Journey_day_Monday      452088 non-null  float64\n",
      " 25  Journey_day_Saturday    452088 non-null  float64\n",
      " 26  Journey_day_Sunday      452088 non-null  float64\n",
      " 27  Journey_day_Thursday    452088 non-null  float64\n",
      " 28  Journey_day_Tuesday     452088 non-null  float64\n",
      " 29  Journey_day_Wednesday   452088 non-null  float64\n",
      " 30  Destination_Bangalore   452088 non-null  float64\n",
      " 31  Destination_Chennai     452088 non-null  float64\n",
      " 32  Destination_Delhi       452088 non-null  float64\n",
      " 33  Destination_Hyderabad   452088 non-null  float64\n",
      " 34  Destination_Kolkata     452088 non-null  float64\n",
      " 35  Destination_Mumbai      452088 non-null  float64\n",
      " 36  Total_stops_encoded     452088 non-null  int64  \n",
      " 37  Arrival_Before 6 AM     452088 non-null  float64\n",
      " 38  Arrival_12 PM - 6 PM    452088 non-null  float64\n",
      " 39  Arrival_6 AM - 12 PM    452088 non-null  float64\n",
      " 40  Departure_Before 6 AM   452088 non-null  float64\n",
      " 41  Departure_12 PM - 6 PM  452088 non-null  float64\n",
      " 42  Departure_6 AM - 12 PM  452088 non-null  float64\n",
      "dtypes: float64(36), int32(3), int64(4)\n",
      "memory usage: 143.1 MB\n"
     ]
    }
   ],
   "source": [
    "df.info()"
   ]
  },
  {
   "cell_type": "code",
   "execution_count": 22,
   "metadata": {
    "id": "D38RGqiSntmp"
   },
   "outputs": [],
   "source": [
    "import statsmodels.api as sm\n",
    "from statsmodels.stats.outliers_influence import variance_inflation_factor"
   ]
  },
  {
   "cell_type": "code",
   "execution_count": 23,
   "metadata": {
    "id": "hJwLGFCftYsD"
   },
   "outputs": [],
   "source": [
    "y = df['Fare']\n",
    "X = df.drop(columns=['Fare'])"
   ]
  },
  {
   "cell_type": "code",
   "execution_count": 24,
   "metadata": {
    "id": "rXMnqPmVtkIv"
   },
   "outputs": [],
   "source": [
    "X = sm.add_constant(X)"
   ]
  },
  {
   "cell_type": "code",
   "execution_count": 25,
   "metadata": {
    "id": "TaXxkR8xtplf"
   },
   "outputs": [],
   "source": [
    "model = sm.OLS(y, X).fit()"
   ]
  },
  {
   "cell_type": "code",
   "execution_count": 27,
   "metadata": {
    "colab": {
     "base_uri": "https://localhost:8080/"
    },
    "id": "AhXCOiY4tsUN",
    "outputId": "6f30c309-7a5b-4f73-b7d2-ef061d680a25"
   },
   "outputs": [
    {
     "name": "stdout",
     "output_type": "stream",
     "text": [
      "                            OLS Regression Results                            \n",
      "==============================================================================\n",
      "Dep. Variable:                   Fare   R-squared:                       0.850\n",
      "Model:                            OLS   Adj. R-squared:                  0.850\n",
      "Method:                 Least Squares   F-statistic:                 6.385e+04\n",
      "Date:                Wed, 15 May 2024   Prob (F-statistic):               0.00\n",
      "Time:                        19:47:32   Log-Likelihood:            -4.6974e+06\n",
      "No. Observations:              452088   AIC:                         9.395e+06\n",
      "Df Residuals:                  452047   BIC:                         9.395e+06\n",
      "Df Model:                          40                                         \n",
      "Covariance Type:            nonrobust                                         \n",
      "==========================================================================================\n",
      "                             coef    std err          t      P>|t|      [0.025      0.975]\n",
      "------------------------------------------------------------------------------------------\n",
      "Total_stops            -1661.0606      9.986   -166.333      0.000   -1680.633   -1641.488\n",
      "Duration_in_hours         68.9319      1.975     34.900      0.000      65.061      72.803\n",
      "Days_left              -1053.8873     16.922    -62.280      0.000   -1087.054   -1020.721\n",
      "Day                      932.5345     17.121     54.469      0.000     898.979     966.090\n",
      "Month                   2.717e+04    508.011     53.489      0.000    2.62e+04    2.82e+04\n",
      "Year                       4.9310      0.377     13.097      0.000       4.193       5.669\n",
      "Class_Economy          -3.965e+04     30.163  -1314.646      0.000   -3.97e+04   -3.96e+04\n",
      "Class_First             1.805e+04    658.106     27.430      0.000    1.68e+04    1.93e+04\n",
      "Class_Premium Economy  -3.679e+04     39.124   -940.269      0.000   -3.69e+04   -3.67e+04\n",
      "Source_Bangalore         831.7001     48.241     17.241      0.000     737.150     926.250\n",
      "Source_Chennai           770.3576     50.985     15.109      0.000     670.428     870.287\n",
      "Source_Delhi           -1200.6166     47.367    -25.347      0.000   -1293.454   -1107.780\n",
      "Source_Hyderabad        -210.3223     50.597     -4.157      0.000    -309.491    -111.154\n",
      "Source_Kolkata          4220.5285     50.745     83.171      0.000    4121.069    4319.988\n",
      "Source_Mumbai           1098.7692     47.470     23.147      0.000    1005.730    1191.808\n",
      "Airline_AirAsia        -1503.2467     69.626    -21.590      0.000   -1639.711   -1366.782\n",
      "Airline_AkasaAir         792.7544    173.176      4.578      0.000     453.335    1132.173\n",
      "Airline_AllianceAir      881.4545    399.640      2.206      0.027      98.171    1664.738\n",
      "Airline_GO FIRST         291.9297     81.797      3.569      0.000     131.610     452.250\n",
      "Airline_Indigo            79.0845     45.042      1.756      0.079      -9.197     167.366\n",
      "Airline_SpiceJet        -197.8752    106.623     -1.856      0.063    -406.853      11.103\n",
      "Airline_StarAir         4984.8934   1001.318      4.978      0.000    3022.340    6947.447\n",
      "Airline_Vistara         4048.7357     30.494    132.770      0.000    3988.968    4108.504\n",
      "Journey_day_Monday        43.5150     42.956      1.013      0.311     -40.676     127.706\n",
      "Journey_day_Saturday     109.8899     44.353      2.478      0.013      22.960     196.820\n",
      "Journey_day_Sunday       563.7660     44.519     12.663      0.000     476.509     651.023\n",
      "Journey_day_Thursday    -337.3919     44.046     -7.660      0.000    -423.721    -251.063\n",
      "Journey_day_Tuesday     -333.8940     44.790     -7.455      0.000    -421.681    -246.107\n",
      "Journey_day_Wednesday     23.6959     44.255      0.535      0.592     -63.043     110.435\n",
      "Destination_Bangalore   1977.5339     48.350     40.900      0.000    1882.769    2072.299\n",
      "Destination_Chennai     2559.9141     50.449     50.742      0.000    2461.035    2658.793\n",
      "Destination_Delhi          3.3814     48.214      0.070      0.944     -91.116      97.879\n",
      "Destination_Hyderabad    809.8314     49.567     16.338      0.000     712.682     906.981\n",
      "Destination_Kolkata     4769.1190     50.907     93.683      0.000    4669.343    4868.895\n",
      "Destination_Mumbai      2439.3835     47.304     51.568      0.000    2346.669    2532.098\n",
      "Total_stops_encoded    -1661.0606      9.986   -166.333      0.000   -1680.633   -1641.488\n",
      "Arrival_Before 6 AM    -1728.4749     50.110    -34.494      0.000   -1826.689   -1630.261\n",
      "Arrival_12 PM - 6 PM      59.3435     31.002      1.914      0.056      -1.419     120.106\n",
      "Arrival_6 AM - 12 PM   -1893.0021     29.588    -63.979      0.000   -1950.993   -1835.011\n",
      "Departure_Before 6 AM   -369.4529     58.063     -6.363      0.000    -483.255    -255.651\n",
      "Departure_12 PM - 6 PM   210.1227     33.101      6.348      0.000     145.246     274.999\n",
      "Departure_6 AM - 12 PM   246.0959     29.932      8.222      0.000     187.429     304.762\n",
      "==============================================================================\n",
      "Omnibus:                   120605.513   Durbin-Watson:                   0.315\n",
      "Prob(Omnibus):                  0.000   Jarque-Bera (JB):           918319.792\n",
      "Skew:                           1.079   Prob(JB):                         0.00\n",
      "Kurtosis:                       9.641   Cond. No.                     1.86e+18\n",
      "==============================================================================\n",
      "\n",
      "Notes:\n",
      "[1] Standard Errors assume that the covariance matrix of the errors is correctly specified.\n",
      "[2] The smallest eigenvalue is 5.38e-25. This might indicate that there are\n",
      "strong multicollinearity problems or that the design matrix is singular.\n"
     ]
    }
   ],
   "source": [
    "print(model.summary())"
   ]
  },
  {
   "cell_type": "code",
   "execution_count": null,
   "metadata": {
    "colab": {
     "base_uri": "https://localhost:8080/"
    },
    "id": "eycuj34Btu6N",
    "outputId": "8b39f2e6-dc64-4c8f-b83c-2146b3611b5d"
   },
   "outputs": [
    {
     "name": "stderr",
     "output_type": "stream",
     "text": [
      "/usr/local/lib/python3.10/dist-packages/statsmodels/stats/outliers_influence.py:197: RuntimeWarning: divide by zero encountered in scalar divide\n",
      "  vif = 1. / (1. - r_squared_i)\n"
     ]
    },
    {
     "name": "stdout",
     "output_type": "stream",
     "text": [
      "                   Feature          VIF\n",
      "0              Total_stops          inf\n",
      "1        Duration_in_hours     1.546832\n",
      "2                Days_left   440.772500\n",
      "3                      Day   180.108547\n",
      "4                    Month   762.605719\n",
      "5                     Year  4366.172016\n",
      "6            Class_Economy     1.621059\n",
      "7              Class_First     1.009719\n",
      "8    Class_Premium Economy     1.518138\n",
      "9            Source_Mumbai     2.039708\n",
      "10         Airline_AirAsia     1.211347\n",
      "11        Airline_AkasaAir     1.055716\n",
      "12     Airline_AllianceAir     1.010377\n",
      "13        Airline_GO FIRST     1.184740\n",
      "14          Airline_Indigo     1.671787\n",
      "15        Airline_SpiceJet     1.079709\n",
      "16         Airline_Vistara     1.693823\n",
      "17      Journey_day_Monday     1.844968\n",
      "18    Journey_day_Saturday     1.759478\n",
      "19      Journey_day_Sunday     1.738156\n",
      "20    Journey_day_Thursday     1.737067\n",
      "21     Journey_day_Tuesday     1.797490\n",
      "22   Journey_day_Wednesday     1.747571\n",
      "23   Destination_Bangalore     3.872043\n",
      "24     Destination_Chennai     2.269263\n",
      "25       Destination_Delhi     3.540524\n",
      "26   Destination_Hyderabad     3.347413\n",
      "27     Destination_Kolkata     1.934072\n",
      "28      Destination_Mumbai     2.666638\n",
      "29     Total_stops_encoded          inf\n",
      "30     Arrival_Before 6 AM     1.148855\n",
      "31    Arrival_12 PM - 6 PM     1.243124\n",
      "32    Arrival_6 AM - 12 PM     1.279020\n",
      "33   Departure_Before 6 AM     1.202101\n",
      "34  Departure_12 PM - 6 PM     1.584737\n",
      "35  Departure_6 AM - 12 PM     1.617247\n"
     ]
    }
   ],
   "source": [
    "vif_data = pd.DataFrame()\n",
    "vif_data[\"Feature\"] = X.columns\n",
    "vif_data[\"VIF\"] = [variance_inflation_factor(X.values, i) for i in range(X.shape[1])]\n",
    "\n",
    "print(vif_data)"
   ]
  },
  {
   "cell_type": "code",
   "execution_count": null,
   "metadata": {
    "id": "e9RKGRbhuJT8"
   },
   "outputs": [],
   "source": []
  }
 ],
 "metadata": {
  "colab": {
   "provenance": []
  },
  "kernelspec": {
   "display_name": "Python 3 (ipykernel)",
   "language": "python",
   "name": "python3"
  },
  "language_info": {
   "codemirror_mode": {
    "name": "ipython",
    "version": 3
   },
   "file_extension": ".py",
   "mimetype": "text/x-python",
   "name": "python",
   "nbconvert_exporter": "python",
   "pygments_lexer": "ipython3",
   "version": "3.11.5"
  }
 },
 "nbformat": 4,
 "nbformat_minor": 1
}
