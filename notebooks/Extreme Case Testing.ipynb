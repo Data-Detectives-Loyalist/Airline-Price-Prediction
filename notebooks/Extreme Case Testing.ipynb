{
 "cells": [
  {
   "cell_type": "code",
   "execution_count": 1,
   "id": "60a056be-8cd6-4525-bcce-5e02847cfc53",
   "metadata": {},
   "outputs": [],
   "source": [
    "import warnings\n",
    "warnings.filterwarnings(\"ignore\")\n",
    "import pandas as pd\n",
    "import numpy as np\n",
    "from sklearn.preprocessing import OneHotEncoder\n",
    "from sklearn.preprocessing import LabelEncoder\n",
    "from sklearn.preprocessing import StandardScaler\n",
    "from sklearn.model_selection import train_test_split\n",
    "import matplotlib.pyplot as plt\n",
    "import time\n",
    "from sklearn.ensemble import RandomForestRegressor\n",
    "from sklearn.metrics import mean_absolute_error"
   ]
  },
  {
   "cell_type": "code",
   "execution_count": 2,
   "id": "d0f8e829-6797-4a17-b47a-756e78abeaaa",
   "metadata": {},
   "outputs": [
    {
     "name": "stdout",
     "output_type": "stream",
     "text": [
      "C:\\Users\\37789\n"
     ]
    }
   ],
   "source": [
    "cd"
   ]
  },
  {
   "cell_type": "code",
   "execution_count": 3,
   "id": "cc33f94f-8770-4868-b9d3-84962c662c27",
   "metadata": {},
   "outputs": [],
   "source": [
    "df = pd.read_csv('AirlineData.csv')"
   ]
  },
  {
   "cell_type": "code",
   "execution_count": 4,
   "id": "3cff74e8-1e2a-482c-9a63-95a0b6adf368",
   "metadata": {},
   "outputs": [
    {
     "data": {
      "text/plain": [
       "Airline                0\n",
       "Source                 0\n",
       "Destination            0\n",
       "Number of Stops        0\n",
       "Class                  0\n",
       "Date                   0\n",
       "Total_Stopover_Time    0\n",
       "price in CAD           0\n",
       "days_left              0\n",
       "Departure_24hr         0\n",
       "Arrival_24hr           0\n",
       "Arrival_Day_Offset     0\n",
       "dtype: int64"
      ]
     },
     "execution_count": 4,
     "metadata": {},
     "output_type": "execute_result"
    }
   ],
   "source": [
    "df.isnull().sum()"
   ]
  },
  {
   "cell_type": "code",
   "execution_count": 5,
   "id": "20cb2016-a522-45a1-a8fe-36e36c23e1bd",
   "metadata": {},
   "outputs": [
    {
     "data": {
      "text/plain": [
       "Index(['Airline', 'Source', 'Destination', 'Class', 'Date', 'Departure_24hr',\n",
       "       'Arrival_24hr'],\n",
       "      dtype='object')"
      ]
     },
     "execution_count": 5,
     "metadata": {},
     "output_type": "execute_result"
    }
   ],
   "source": [
    "df.select_dtypes(include = [\"object\"]).columns"
   ]
  },
  {
   "cell_type": "code",
   "execution_count": 6,
   "id": "e6beef1b-632b-47bd-a8d6-d503708c41c8",
   "metadata": {},
   "outputs": [
    {
     "name": "stdout",
     "output_type": "stream",
     "text": [
      "             Airline                Source     Destination  Number of Stops  \\\n",
      "0     Etihad Airways  Toronto Pearson Intl  Bengaluru Intl                1   \n",
      "1              Delta  Toronto Pearson Intl  Bengaluru Intl                1   \n",
      "2  Multiple Airlines  Toronto Pearson Intl  Bengaluru Intl                2   \n",
      "3  Multiple Airlines  Toronto Pearson Intl  Bengaluru Intl                2   \n",
      "4  Multiple Airlines  Toronto Pearson Intl  Bengaluru Intl                2   \n",
      "\n",
      "   Class        Date  Total_Stopover_Time  price in CAD  days_left  \\\n",
      "0      1  2024-06-02                  130        2340.0          1   \n",
      "1      1  2024-06-02                 1335        1347.0          1   \n",
      "2      1  2024-06-02                  420        1934.0          1   \n",
      "3      1  2024-06-02                  380        2291.0          1   \n",
      "4      1  2024-06-02                  175        2661.0          1   \n",
      "\n",
      "  Departure_24hr Arrival_24hr  Arrival_Day_Offset  \n",
      "0          22:10        03:05                   2  \n",
      "1          22:40        23:15                   2  \n",
      "2          21:20        07:45                   2  \n",
      "3          21:20        06:50                   2  \n",
      "4          23:40        06:25                   2  \n"
     ]
    }
   ],
   "source": [
    "class_mapping = {\n",
    "    'First Class': 4,\n",
    "    'Business Class': 3,\n",
    "    'Premium Economy': 2,\n",
    "    'Economy Class': 1,\n",
    "    'Other': 0\n",
    "}\n",
    "df['Class'] = df['Class'].map(class_mapping)\n",
    "print(df.head())"
   ]
  },
  {
   "cell_type": "code",
   "execution_count": 7,
   "id": "032300ae-83b5-41b7-b35b-047339b48c88",
   "metadata": {},
   "outputs": [],
   "source": [
    "df['Date'] = pd.to_datetime(df['Date'])\n",
    "\n",
    "df['Year'] = df['Date'].dt.year\n",
    "df['Month'] = df['Date'].dt.month\n",
    "df['Day'] = df['Date'].dt.day\n",
    "\n",
    "df.drop(columns=['Date'], inplace=True)"
   ]
  },
  {
   "cell_type": "code",
   "execution_count": 8,
   "id": "e2967f74-b57e-45c4-ac83-25cdc52d3ced",
   "metadata": {},
   "outputs": [],
   "source": [
    "encoder = OneHotEncoder(drop='first', sparse_output=False)\n",
    "encoded_array = encoder.fit_transform(df[['Source', 'Destination']])\n",
    "feature_names = encoder.get_feature_names_out(['Source', 'Destination'])\n",
    "encoded_df = pd.DataFrame(encoded_array, columns=feature_names)\n",
    "df = df.join(encoded_df)\n",
    "df.drop(['Source', 'Destination'], axis=1, inplace=True)"
   ]
  },
  {
   "cell_type": "code",
   "execution_count": 9,
   "id": "2c88d12e-2028-4c0c-8248-6e160fa3ae29",
   "metadata": {},
   "outputs": [],
   "source": [
    "def time_to_minutes(time_str):\n",
    "    hours, minutes = map(int, time_str.split(':'))\n",
    "    return hours * 60 + minutes\n",
    "df['Departure_minutes'] = df['Departure_24hr'].apply(time_to_minutes)\n",
    "df['Arrival_minutes'] = df['Arrival_24hr'].apply(time_to_minutes)\n",
    "df.drop(['Departure_24hr', 'Arrival_24hr'], axis=1, inplace=True)"
   ]
  },
  {
   "cell_type": "code",
   "execution_count": 10,
   "id": "2c57607b-e2ad-44fd-92fa-96be175e8aa3",
   "metadata": {},
   "outputs": [],
   "source": [
    "unique_airlines = df['Airline'].unique()\n",
    "for airline in unique_airlines:\n",
    "    df[f'Airline_{airline}'] = (df['Airline'] == airline).astype(int)\n",
    "df.drop(columns=['Airline'], inplace=True)"
   ]
  },
  {
   "cell_type": "code",
   "execution_count": 11,
   "id": "76e3adff-acb1-4f8b-8597-76fe4902989b",
   "metadata": {},
   "outputs": [
    {
     "name": "stdout",
     "output_type": "stream",
     "text": [
      "<class 'pandas.core.frame.DataFrame'>\n",
      "RangeIndex: 384663 entries, 0 to 384662\n",
      "Data columns (total 80 columns):\n",
      " #   Column                                        Non-Null Count   Dtype  \n",
      "---  ------                                        --------------   -----  \n",
      " 0   Number of Stops                               384663 non-null  int64  \n",
      " 1   Class                                         384663 non-null  int64  \n",
      " 2   Total_Stopover_Time                           384663 non-null  int64  \n",
      " 3   price in CAD                                  384663 non-null  float64\n",
      " 4   days_left                                     384663 non-null  int64  \n",
      " 5   Arrival_Day_Offset                            384663 non-null  int64  \n",
      " 6   Year                                          384663 non-null  int32  \n",
      " 7   Month                                         384663 non-null  int32  \n",
      " 8   Day                                           384663 non-null  int32  \n",
      " 9   Source_Bengaluru Intl                         384663 non-null  float64\n",
      " 10  Source_Chennai                                384663 non-null  float64\n",
      " 11  Source_Colombo Bandaranaike Intl              384663 non-null  float64\n",
      " 12  Source_Hyderabad Rajiv Gandhi Intl            384663 non-null  float64\n",
      " 13  Source_Kano Aminu Kano Intl Apt               384663 non-null  float64\n",
      " 14  Source_Kathmandu Tribhuvan                    384663 non-null  float64\n",
      " 15  Source_Kochi                                  384663 non-null  float64\n",
      " 16  Source_Mexico City Benito Juarez              384663 non-null  float64\n",
      " 17  Source_Mexico City Felipe √Ångeles Intl       384663 non-null  float64\n",
      " 18  Source_Mexico City Toluca Intl                384663 non-null  float64\n",
      " 19  Source_Mumbai Chhatrapati Shivaji Intl        384663 non-null  float64\n",
      " 20  Source_Sao Paulo Guarulhos Intl               384663 non-null  float64\n",
      " 21  Source_Toronto Pearson Intl                   384663 non-null  float64\n",
      " 22  Destination_Chennai                           384663 non-null  float64\n",
      " 23  Destination_Colombo Bandaranaike Intl         384663 non-null  float64\n",
      " 24  Destination_Hyderabad Rajiv Gandhi Intl       384663 non-null  float64\n",
      " 25  Destination_Kano Aminu Kano Intl Apt          384663 non-null  float64\n",
      " 26  Destination_Kathmandu Tribhuvan               384663 non-null  float64\n",
      " 27  Destination_Kochi                             384663 non-null  float64\n",
      " 28  Destination_Mexico City Benito Juarez         384663 non-null  float64\n",
      " 29  Destination_Mexico City Felipe √Ångeles Intl  384663 non-null  float64\n",
      " 30  Destination_Mexico City Toluca Intl           384663 non-null  float64\n",
      " 31  Destination_Mumbai Chhatrapati Shivaji Intl   384663 non-null  float64\n",
      " 32  Destination_Sao Paulo Guarulhos Intl          384663 non-null  float64\n",
      " 33  Destination_Toronto Pearson Intl              384663 non-null  float64\n",
      " 34  Departure_minutes                             384663 non-null  int64  \n",
      " 35  Arrival_minutes                               384663 non-null  int64  \n",
      " 36  Airline_Etihad Airways                        384663 non-null  int32  \n",
      " 37  Airline_Delta                                 384663 non-null  int32  \n",
      " 38  Airline_Multiple Airlines                     384663 non-null  int32  \n",
      " 39  Airline_Lufthansa                             384663 non-null  int32  \n",
      " 40  Airline_American Airlines                     384663 non-null  int32  \n",
      " 41  Airline_British Airways                       384663 non-null  int32  \n",
      " 42  Airline_Air Canada                            384663 non-null  int32  \n",
      " 43  Airline_KLM                                   384663 non-null  int32  \n",
      " 44  Airline_Air India                             384663 non-null  int32  \n",
      " 45  Airline_Cathay Pacific                        384663 non-null  int32  \n",
      " 46  Airline_Emirates                              384663 non-null  int32  \n",
      " 47  Airline_LOT                                   384663 non-null  int32  \n",
      " 48  Airline_Ethiopian Air                         384663 non-null  int32  \n",
      " 49  Airline_United Airlines                       384663 non-null  int32  \n",
      " 50  Airline_Qatar Airways                         384663 non-null  int32  \n",
      " 51  Airline_Egypt Air                             384663 non-null  int32  \n",
      " 52  Airline_Turkish Airlines                      384663 non-null  int32  \n",
      " 53  Airline_Air France                            384663 non-null  int32  \n",
      " 54  Airline_SWISS                                 384663 non-null  int32  \n",
      " 55  Airline_Avianca                               384663 non-null  int32  \n",
      " 56  Airline_LATAM Airlines                        384663 non-null  int32  \n",
      " 57  Airline_Arajet                                384663 non-null  int32  \n",
      " 58  Airline_SAUDIA                                384663 non-null  int32  \n",
      " 59  Airline_Copa Airlines                         384663 non-null  int32  \n",
      " 60  Airline_Hahn Air                              384663 non-null  int32  \n",
      " 61  Airline_Aeromexico                            384663 non-null  int32  \n",
      " 62  Airline_WestJet                               384663 non-null  int32  \n",
      " 63  Airline_TAP AIR PORTUGAL                      384663 non-null  int32  \n",
      " 64  Airline_SriLankan Airlines                    384663 non-null  int32  \n",
      " 65  Airline_Iberia                                384663 non-null  int32  \n",
      " 66  Airline_GOL                                   384663 non-null  int32  \n",
      " 67  Airline_Azul                                  384663 non-null  int32  \n",
      " 68  Airline_AeroMexico Connect                    384663 non-null  int32  \n",
      " 69  Airline_WestJet Encore                        384663 non-null  int32  \n",
      " 70  Airline_Thai Airways                          384663 non-null  int32  \n",
      " 71  Airline_China Eastern                         384663 non-null  int32  \n",
      " 72  Airline_Singapore Airlines                    384663 non-null  int32  \n",
      " 73  Airline_Korean Air                            384663 non-null  int32  \n",
      " 74  Airline_Biman Bangladesh                      384663 non-null  int32  \n",
      " 75  Airline_Royal Jordanian                       384663 non-null  int32  \n",
      " 76  Airline_Japan Airlines                        384663 non-null  int32  \n",
      " 77  Airline_Virgin Atlantic                       384663 non-null  int32  \n",
      " 78  Airline_China Southern                        384663 non-null  int32  \n",
      " 79  Airline_EVA Air                               384663 non-null  int32  \n",
      "dtypes: float64(26), int32(47), int64(7)\n",
      "memory usage: 165.8 MB\n"
     ]
    }
   ],
   "source": [
    "df.info()"
   ]
  },
  {
   "cell_type": "code",
   "execution_count": 12,
   "id": "d6dd9d85-be09-498d-b245-9088e3e6f682",
   "metadata": {},
   "outputs": [],
   "source": [
    "features = df.drop(columns=['price in CAD'])\n",
    "target = df['price in CAD']"
   ]
  },
  {
   "cell_type": "code",
   "execution_count": 13,
   "id": "f8625767-e90c-4400-ade5-22f0239eedb2",
   "metadata": {},
   "outputs": [],
   "source": [
    "X_train, X_test, y_train, y_test = train_test_split(features, target, test_size=0.2, random_state=42)"
   ]
  },
  {
   "cell_type": "code",
   "execution_count": 14,
   "id": "30de1ebe-60b0-4f1f-98db-aa7fd1278732",
   "metadata": {},
   "outputs": [],
   "source": [
    "scaler = StandardScaler()\n",
    "X_train_scaled = scaler.fit_transform(X_train)\n",
    "X_test_scaled = scaler.transform(X_test)"
   ]
  },
  {
   "cell_type": "code",
   "execution_count": 15,
   "id": "72eba753-f8d6-4013-acd2-638fedfe87cd",
   "metadata": {},
   "outputs": [
    {
     "name": "stdout",
     "output_type": "stream",
     "text": [
      "Mean Absolute Error: 289.887989496201\n"
     ]
    }
   ],
   "source": [
    "model = RandomForestRegressor(n_estimators=10, n_jobs=-1, random_state=42)\n",
    "model.fit(X_train_scaled, y_train)\n",
    "y_pred = model.predict(X_test_scaled)\n",
    "print(f'Mean Absolute Error: {mean_absolute_error(y_test, y_pred)}')"
   ]
  },
  {
   "cell_type": "code",
   "execution_count": 16,
   "id": "7f06184b-6ec7-4bf8-a93b-641e41fdc962",
   "metadata": {},
   "outputs": [
    {
     "name": "stdout",
     "output_type": "stream",
     "text": [
      "MAE with noise: 1649.3808665387817\n"
     ]
    }
   ],
   "source": [
    "noise = np.random.normal(0, 1, X_test_scaled.shape)\n",
    "X_test_noisy_scaled = X_test_scaled + noise\n",
    "y_pred_noisy = model.predict(X_test_noisy_scaled)\n",
    "print(f'MAE with noise: {mean_absolute_error(y_test, y_pred_noisy)}')"
   ]
  },
  {
   "cell_type": "code",
   "execution_count": 17,
   "id": "6c7a87e3-4b01-4891-9b9f-04c9257e5da3",
   "metadata": {},
   "outputs": [],
   "source": [
    "X_test_missing = X_test.copy()\n",
    "X_test_missing.iloc[:, 0] = np.nan "
   ]
  },
  {
   "cell_type": "code",
   "execution_count": 18,
   "id": "7c88930a-c68c-4ba0-b50e-bbf8bede2eb9",
   "metadata": {},
   "outputs": [
    {
     "name": "stdout",
     "output_type": "stream",
     "text": [
      "MAE with missing data: 413.9980636654436\n"
     ]
    }
   ],
   "source": [
    "X_test_missing_filled = X_test_missing.fillna(X_train.mean())\n",
    "X_test_missing_scaled = scaler.transform(X_test_missing_filled)\n",
    "y_pred_missing = model.predict(X_test_missing_scaled)\n",
    "print(f'MAE with missing data: {mean_absolute_error(y_test, y_pred_missing)}')"
   ]
  },
  {
   "cell_type": "markdown",
   "id": "07bad4fb-60dd-49ab-9d9c-d3062400ef94",
   "metadata": {},
   "source": [
    "### The MAE with missing data being 413.99806366544357 indicates that your model is performing reasonably well even with some missing values in the data. This MAE value suggests that the imputation method or handling of missing data is effective in maintaining model performance."
   ]
  },
  {
   "cell_type": "code",
   "execution_count": 36,
   "id": "687d82de-262b-44c0-89d0-d1bb628d0990",
   "metadata": {},
   "outputs": [],
   "source": [
    "X_test_boundary = X_test.copy()\n",
    "X_test_boundary.iloc[:, 0] = X_test.iloc[:, 0].max()"
   ]
  },
  {
   "cell_type": "code",
   "execution_count": 37,
   "id": "7fa509b1-a9d8-4875-924b-052b855296a6",
   "metadata": {},
   "outputs": [
    {
     "name": "stdout",
     "output_type": "stream",
     "text": [
      "MAE with boundary values: 840.956110185973\n"
     ]
    }
   ],
   "source": [
    "X_test_boundary_scaled = scaler.transform(X_test_boundary)\n",
    "y_pred_boundary = model.predict(X_test_boundary_scaled)\n",
    "print(f'MAE with boundary values: {mean_absolute_error(y_test, y_pred_boundary)}')"
   ]
  },
  {
   "cell_type": "markdown",
   "id": "fb116000-8724-494a-a834-decf867af65b",
   "metadata": {},
   "source": [
    "### The MAE with boundary values of 840.956110185973 indicates that your model is still performing reasonably well when tested with extreme or boundary values in the input data. This error metric suggests that the model is able to generalize to these challenging cases to a certain extent, though the error is higher compared to standard data cases."
   ]
  },
  {
   "cell_type": "code",
   "execution_count": 38,
   "id": "c5b4fed7-2188-4eca-b627-e8cab3e8ee7c",
   "metadata": {},
   "outputs": [
    {
     "name": "stdout",
     "output_type": "stream",
     "text": [
      "MAE with large dataset: 289.8879894962012\n",
      "Time taken for large dataset: 10.46093225479126 seconds\n"
     ]
    }
   ],
   "source": [
    "X_large = pd.concat([X_test]*100, ignore_index=True)\n",
    "y_large = pd.concat([y_test]*100, ignore_index=True)\n",
    "X_large_scaled = scaler.transform(X_large)\n",
    "start_time = time.time()\n",
    "y_pred_large = model.predict(X_large_scaled)\n",
    "end_time = time.time()\n",
    "print(f'MAE with large dataset: {mean_absolute_error(y_large, y_pred_large)}')\n",
    "print(f'Time taken for large dataset: {end_time - start_time} seconds')"
   ]
  },
  {
   "cell_type": "markdown",
   "id": "e235b2db-9985-411c-8016-a0b0ca5d5faa",
   "metadata": {},
   "source": [
    "### The results indicate that when your model was tested on a large dataset, it achieved an MAE of 289.8879894962012 and took 10.46093225479126 seconds to make predictions. This performance suggests that your model scales well with larger amounts of data, maintaining a relatively low error rate and making predictions efficiently within a reasonable time frame."
   ]
  },
  {
   "cell_type": "code",
   "execution_count": 39,
   "id": "457bee4a-fd87-4458-b933-64b2071ba725",
   "metadata": {},
   "outputs": [],
   "source": [
    "def make_new_data():\n",
    "    X_new = X_train.sample(frac=0.1, random_state=42) \n",
    "    y_new = y_train.loc[X_new.index]\n",
    "    return X_new, y_new"
   ]
  },
  {
   "cell_type": "code",
   "execution_count": 40,
   "id": "07d60a89-cd53-4429-98ec-a01721b30f36",
   "metadata": {},
   "outputs": [],
   "source": [
    "X_new, y_new = make_new_data()"
   ]
  },
  {
   "cell_type": "code",
   "execution_count": 41,
   "id": "62424eb0-1312-45ae-b788-490579f7e887",
   "metadata": {},
   "outputs": [],
   "source": [
    "X_new_scaled = scaler.fit_transform(X_new)"
   ]
  },
  {
   "cell_type": "code",
   "execution_count": 42,
   "id": "bff6375e-7da2-480b-9c8b-7ae64c0d139a",
   "metadata": {},
   "outputs": [
    {
     "data": {
      "text/html": [
       "<style>#sk-container-id-1 {\n",
       "  /* Definition of color scheme common for light and dark mode */\n",
       "  --sklearn-color-text: black;\n",
       "  --sklearn-color-line: gray;\n",
       "  /* Definition of color scheme for unfitted estimators */\n",
       "  --sklearn-color-unfitted-level-0: #fff5e6;\n",
       "  --sklearn-color-unfitted-level-1: #f6e4d2;\n",
       "  --sklearn-color-unfitted-level-2: #ffe0b3;\n",
       "  --sklearn-color-unfitted-level-3: chocolate;\n",
       "  /* Definition of color scheme for fitted estimators */\n",
       "  --sklearn-color-fitted-level-0: #f0f8ff;\n",
       "  --sklearn-color-fitted-level-1: #d4ebff;\n",
       "  --sklearn-color-fitted-level-2: #b3dbfd;\n",
       "  --sklearn-color-fitted-level-3: cornflowerblue;\n",
       "\n",
       "  /* Specific color for light theme */\n",
       "  --sklearn-color-text-on-default-background: var(--sg-text-color, var(--theme-code-foreground, var(--jp-content-font-color1, black)));\n",
       "  --sklearn-color-background: var(--sg-background-color, var(--theme-background, var(--jp-layout-color0, white)));\n",
       "  --sklearn-color-border-box: var(--sg-text-color, var(--theme-code-foreground, var(--jp-content-font-color1, black)));\n",
       "  --sklearn-color-icon: #696969;\n",
       "\n",
       "  @media (prefers-color-scheme: dark) {\n",
       "    /* Redefinition of color scheme for dark theme */\n",
       "    --sklearn-color-text-on-default-background: var(--sg-text-color, var(--theme-code-foreground, var(--jp-content-font-color1, white)));\n",
       "    --sklearn-color-background: var(--sg-background-color, var(--theme-background, var(--jp-layout-color0, #111)));\n",
       "    --sklearn-color-border-box: var(--sg-text-color, var(--theme-code-foreground, var(--jp-content-font-color1, white)));\n",
       "    --sklearn-color-icon: #878787;\n",
       "  }\n",
       "}\n",
       "\n",
       "#sk-container-id-1 {\n",
       "  color: var(--sklearn-color-text);\n",
       "}\n",
       "\n",
       "#sk-container-id-1 pre {\n",
       "  padding: 0;\n",
       "}\n",
       "\n",
       "#sk-container-id-1 input.sk-hidden--visually {\n",
       "  border: 0;\n",
       "  clip: rect(1px 1px 1px 1px);\n",
       "  clip: rect(1px, 1px, 1px, 1px);\n",
       "  height: 1px;\n",
       "  margin: -1px;\n",
       "  overflow: hidden;\n",
       "  padding: 0;\n",
       "  position: absolute;\n",
       "  width: 1px;\n",
       "}\n",
       "\n",
       "#sk-container-id-1 div.sk-dashed-wrapped {\n",
       "  border: 1px dashed var(--sklearn-color-line);\n",
       "  margin: 0 0.4em 0.5em 0.4em;\n",
       "  box-sizing: border-box;\n",
       "  padding-bottom: 0.4em;\n",
       "  background-color: var(--sklearn-color-background);\n",
       "}\n",
       "\n",
       "#sk-container-id-1 div.sk-container {\n",
       "  /* jupyter's `normalize.less` sets `[hidden] { display: none; }`\n",
       "     but bootstrap.min.css set `[hidden] { display: none !important; }`\n",
       "     so we also need the `!important` here to be able to override the\n",
       "     default hidden behavior on the sphinx rendered scikit-learn.org.\n",
       "     See: https://github.com/scikit-learn/scikit-learn/issues/21755 */\n",
       "  display: inline-block !important;\n",
       "  position: relative;\n",
       "}\n",
       "\n",
       "#sk-container-id-1 div.sk-text-repr-fallback {\n",
       "  display: none;\n",
       "}\n",
       "\n",
       "div.sk-parallel-item,\n",
       "div.sk-serial,\n",
       "div.sk-item {\n",
       "  /* draw centered vertical line to link estimators */\n",
       "  background-image: linear-gradient(var(--sklearn-color-text-on-default-background), var(--sklearn-color-text-on-default-background));\n",
       "  background-size: 2px 100%;\n",
       "  background-repeat: no-repeat;\n",
       "  background-position: center center;\n",
       "}\n",
       "\n",
       "/* Parallel-specific style estimator block */\n",
       "\n",
       "#sk-container-id-1 div.sk-parallel-item::after {\n",
       "  content: \"\";\n",
       "  width: 100%;\n",
       "  border-bottom: 2px solid var(--sklearn-color-text-on-default-background);\n",
       "  flex-grow: 1;\n",
       "}\n",
       "\n",
       "#sk-container-id-1 div.sk-parallel {\n",
       "  display: flex;\n",
       "  align-items: stretch;\n",
       "  justify-content: center;\n",
       "  background-color: var(--sklearn-color-background);\n",
       "  position: relative;\n",
       "}\n",
       "\n",
       "#sk-container-id-1 div.sk-parallel-item {\n",
       "  display: flex;\n",
       "  flex-direction: column;\n",
       "}\n",
       "\n",
       "#sk-container-id-1 div.sk-parallel-item:first-child::after {\n",
       "  align-self: flex-end;\n",
       "  width: 50%;\n",
       "}\n",
       "\n",
       "#sk-container-id-1 div.sk-parallel-item:last-child::after {\n",
       "  align-self: flex-start;\n",
       "  width: 50%;\n",
       "}\n",
       "\n",
       "#sk-container-id-1 div.sk-parallel-item:only-child::after {\n",
       "  width: 0;\n",
       "}\n",
       "\n",
       "/* Serial-specific style estimator block */\n",
       "\n",
       "#sk-container-id-1 div.sk-serial {\n",
       "  display: flex;\n",
       "  flex-direction: column;\n",
       "  align-items: center;\n",
       "  background-color: var(--sklearn-color-background);\n",
       "  padding-right: 1em;\n",
       "  padding-left: 1em;\n",
       "}\n",
       "\n",
       "\n",
       "/* Toggleable style: style used for estimator/Pipeline/ColumnTransformer box that is\n",
       "clickable and can be expanded/collapsed.\n",
       "- Pipeline and ColumnTransformer use this feature and define the default style\n",
       "- Estimators will overwrite some part of the style using the `sk-estimator` class\n",
       "*/\n",
       "\n",
       "/* Pipeline and ColumnTransformer style (default) */\n",
       "\n",
       "#sk-container-id-1 div.sk-toggleable {\n",
       "  /* Default theme specific background. It is overwritten whether we have a\n",
       "  specific estimator or a Pipeline/ColumnTransformer */\n",
       "  background-color: var(--sklearn-color-background);\n",
       "}\n",
       "\n",
       "/* Toggleable label */\n",
       "#sk-container-id-1 label.sk-toggleable__label {\n",
       "  cursor: pointer;\n",
       "  display: block;\n",
       "  width: 100%;\n",
       "  margin-bottom: 0;\n",
       "  padding: 0.5em;\n",
       "  box-sizing: border-box;\n",
       "  text-align: center;\n",
       "}\n",
       "\n",
       "#sk-container-id-1 label.sk-toggleable__label-arrow:before {\n",
       "  /* Arrow on the left of the label */\n",
       "  content: \"▸\";\n",
       "  float: left;\n",
       "  margin-right: 0.25em;\n",
       "  color: var(--sklearn-color-icon);\n",
       "}\n",
       "\n",
       "#sk-container-id-1 label.sk-toggleable__label-arrow:hover:before {\n",
       "  color: var(--sklearn-color-text);\n",
       "}\n",
       "\n",
       "/* Toggleable content - dropdown */\n",
       "\n",
       "#sk-container-id-1 div.sk-toggleable__content {\n",
       "  max-height: 0;\n",
       "  max-width: 0;\n",
       "  overflow: hidden;\n",
       "  text-align: left;\n",
       "  /* unfitted */\n",
       "  background-color: var(--sklearn-color-unfitted-level-0);\n",
       "}\n",
       "\n",
       "#sk-container-id-1 div.sk-toggleable__content.fitted {\n",
       "  /* fitted */\n",
       "  background-color: var(--sklearn-color-fitted-level-0);\n",
       "}\n",
       "\n",
       "#sk-container-id-1 div.sk-toggleable__content pre {\n",
       "  margin: 0.2em;\n",
       "  border-radius: 0.25em;\n",
       "  color: var(--sklearn-color-text);\n",
       "  /* unfitted */\n",
       "  background-color: var(--sklearn-color-unfitted-level-0);\n",
       "}\n",
       "\n",
       "#sk-container-id-1 div.sk-toggleable__content.fitted pre {\n",
       "  /* unfitted */\n",
       "  background-color: var(--sklearn-color-fitted-level-0);\n",
       "}\n",
       "\n",
       "#sk-container-id-1 input.sk-toggleable__control:checked~div.sk-toggleable__content {\n",
       "  /* Expand drop-down */\n",
       "  max-height: 200px;\n",
       "  max-width: 100%;\n",
       "  overflow: auto;\n",
       "}\n",
       "\n",
       "#sk-container-id-1 input.sk-toggleable__control:checked~label.sk-toggleable__label-arrow:before {\n",
       "  content: \"▾\";\n",
       "}\n",
       "\n",
       "/* Pipeline/ColumnTransformer-specific style */\n",
       "\n",
       "#sk-container-id-1 div.sk-label input.sk-toggleable__control:checked~label.sk-toggleable__label {\n",
       "  color: var(--sklearn-color-text);\n",
       "  background-color: var(--sklearn-color-unfitted-level-2);\n",
       "}\n",
       "\n",
       "#sk-container-id-1 div.sk-label.fitted input.sk-toggleable__control:checked~label.sk-toggleable__label {\n",
       "  background-color: var(--sklearn-color-fitted-level-2);\n",
       "}\n",
       "\n",
       "/* Estimator-specific style */\n",
       "\n",
       "/* Colorize estimator box */\n",
       "#sk-container-id-1 div.sk-estimator input.sk-toggleable__control:checked~label.sk-toggleable__label {\n",
       "  /* unfitted */\n",
       "  background-color: var(--sklearn-color-unfitted-level-2);\n",
       "}\n",
       "\n",
       "#sk-container-id-1 div.sk-estimator.fitted input.sk-toggleable__control:checked~label.sk-toggleable__label {\n",
       "  /* fitted */\n",
       "  background-color: var(--sklearn-color-fitted-level-2);\n",
       "}\n",
       "\n",
       "#sk-container-id-1 div.sk-label label.sk-toggleable__label,\n",
       "#sk-container-id-1 div.sk-label label {\n",
       "  /* The background is the default theme color */\n",
       "  color: var(--sklearn-color-text-on-default-background);\n",
       "}\n",
       "\n",
       "/* On hover, darken the color of the background */\n",
       "#sk-container-id-1 div.sk-label:hover label.sk-toggleable__label {\n",
       "  color: var(--sklearn-color-text);\n",
       "  background-color: var(--sklearn-color-unfitted-level-2);\n",
       "}\n",
       "\n",
       "/* Label box, darken color on hover, fitted */\n",
       "#sk-container-id-1 div.sk-label.fitted:hover label.sk-toggleable__label.fitted {\n",
       "  color: var(--sklearn-color-text);\n",
       "  background-color: var(--sklearn-color-fitted-level-2);\n",
       "}\n",
       "\n",
       "/* Estimator label */\n",
       "\n",
       "#sk-container-id-1 div.sk-label label {\n",
       "  font-family: monospace;\n",
       "  font-weight: bold;\n",
       "  display: inline-block;\n",
       "  line-height: 1.2em;\n",
       "}\n",
       "\n",
       "#sk-container-id-1 div.sk-label-container {\n",
       "  text-align: center;\n",
       "}\n",
       "\n",
       "/* Estimator-specific */\n",
       "#sk-container-id-1 div.sk-estimator {\n",
       "  font-family: monospace;\n",
       "  border: 1px dotted var(--sklearn-color-border-box);\n",
       "  border-radius: 0.25em;\n",
       "  box-sizing: border-box;\n",
       "  margin-bottom: 0.5em;\n",
       "  /* unfitted */\n",
       "  background-color: var(--sklearn-color-unfitted-level-0);\n",
       "}\n",
       "\n",
       "#sk-container-id-1 div.sk-estimator.fitted {\n",
       "  /* fitted */\n",
       "  background-color: var(--sklearn-color-fitted-level-0);\n",
       "}\n",
       "\n",
       "/* on hover */\n",
       "#sk-container-id-1 div.sk-estimator:hover {\n",
       "  /* unfitted */\n",
       "  background-color: var(--sklearn-color-unfitted-level-2);\n",
       "}\n",
       "\n",
       "#sk-container-id-1 div.sk-estimator.fitted:hover {\n",
       "  /* fitted */\n",
       "  background-color: var(--sklearn-color-fitted-level-2);\n",
       "}\n",
       "\n",
       "/* Specification for estimator info (e.g. \"i\" and \"?\") */\n",
       "\n",
       "/* Common style for \"i\" and \"?\" */\n",
       "\n",
       ".sk-estimator-doc-link,\n",
       "a:link.sk-estimator-doc-link,\n",
       "a:visited.sk-estimator-doc-link {\n",
       "  float: right;\n",
       "  font-size: smaller;\n",
       "  line-height: 1em;\n",
       "  font-family: monospace;\n",
       "  background-color: var(--sklearn-color-background);\n",
       "  border-radius: 1em;\n",
       "  height: 1em;\n",
       "  width: 1em;\n",
       "  text-decoration: none !important;\n",
       "  margin-left: 1ex;\n",
       "  /* unfitted */\n",
       "  border: var(--sklearn-color-unfitted-level-1) 1pt solid;\n",
       "  color: var(--sklearn-color-unfitted-level-1);\n",
       "}\n",
       "\n",
       ".sk-estimator-doc-link.fitted,\n",
       "a:link.sk-estimator-doc-link.fitted,\n",
       "a:visited.sk-estimator-doc-link.fitted {\n",
       "  /* fitted */\n",
       "  border: var(--sklearn-color-fitted-level-1) 1pt solid;\n",
       "  color: var(--sklearn-color-fitted-level-1);\n",
       "}\n",
       "\n",
       "/* On hover */\n",
       "div.sk-estimator:hover .sk-estimator-doc-link:hover,\n",
       ".sk-estimator-doc-link:hover,\n",
       "div.sk-label-container:hover .sk-estimator-doc-link:hover,\n",
       ".sk-estimator-doc-link:hover {\n",
       "  /* unfitted */\n",
       "  background-color: var(--sklearn-color-unfitted-level-3);\n",
       "  color: var(--sklearn-color-background);\n",
       "  text-decoration: none;\n",
       "}\n",
       "\n",
       "div.sk-estimator.fitted:hover .sk-estimator-doc-link.fitted:hover,\n",
       ".sk-estimator-doc-link.fitted:hover,\n",
       "div.sk-label-container:hover .sk-estimator-doc-link.fitted:hover,\n",
       ".sk-estimator-doc-link.fitted:hover {\n",
       "  /* fitted */\n",
       "  background-color: var(--sklearn-color-fitted-level-3);\n",
       "  color: var(--sklearn-color-background);\n",
       "  text-decoration: none;\n",
       "}\n",
       "\n",
       "/* Span, style for the box shown on hovering the info icon */\n",
       ".sk-estimator-doc-link span {\n",
       "  display: none;\n",
       "  z-index: 9999;\n",
       "  position: relative;\n",
       "  font-weight: normal;\n",
       "  right: .2ex;\n",
       "  padding: .5ex;\n",
       "  margin: .5ex;\n",
       "  width: min-content;\n",
       "  min-width: 20ex;\n",
       "  max-width: 50ex;\n",
       "  color: var(--sklearn-color-text);\n",
       "  box-shadow: 2pt 2pt 4pt #999;\n",
       "  /* unfitted */\n",
       "  background: var(--sklearn-color-unfitted-level-0);\n",
       "  border: .5pt solid var(--sklearn-color-unfitted-level-3);\n",
       "}\n",
       "\n",
       ".sk-estimator-doc-link.fitted span {\n",
       "  /* fitted */\n",
       "  background: var(--sklearn-color-fitted-level-0);\n",
       "  border: var(--sklearn-color-fitted-level-3);\n",
       "}\n",
       "\n",
       ".sk-estimator-doc-link:hover span {\n",
       "  display: block;\n",
       "}\n",
       "\n",
       "/* \"?\"-specific style due to the `<a>` HTML tag */\n",
       "\n",
       "#sk-container-id-1 a.estimator_doc_link {\n",
       "  float: right;\n",
       "  font-size: 1rem;\n",
       "  line-height: 1em;\n",
       "  font-family: monospace;\n",
       "  background-color: var(--sklearn-color-background);\n",
       "  border-radius: 1rem;\n",
       "  height: 1rem;\n",
       "  width: 1rem;\n",
       "  text-decoration: none;\n",
       "  /* unfitted */\n",
       "  color: var(--sklearn-color-unfitted-level-1);\n",
       "  border: var(--sklearn-color-unfitted-level-1) 1pt solid;\n",
       "}\n",
       "\n",
       "#sk-container-id-1 a.estimator_doc_link.fitted {\n",
       "  /* fitted */\n",
       "  border: var(--sklearn-color-fitted-level-1) 1pt solid;\n",
       "  color: var(--sklearn-color-fitted-level-1);\n",
       "}\n",
       "\n",
       "/* On hover */\n",
       "#sk-container-id-1 a.estimator_doc_link:hover {\n",
       "  /* unfitted */\n",
       "  background-color: var(--sklearn-color-unfitted-level-3);\n",
       "  color: var(--sklearn-color-background);\n",
       "  text-decoration: none;\n",
       "}\n",
       "\n",
       "#sk-container-id-1 a.estimator_doc_link.fitted:hover {\n",
       "  /* fitted */\n",
       "  background-color: var(--sklearn-color-fitted-level-3);\n",
       "}\n",
       "</style><div id=\"sk-container-id-1\" class=\"sk-top-container\"><div class=\"sk-text-repr-fallback\"><pre>RandomForestRegressor(n_estimators=10, n_jobs=-1, random_state=42)</pre><b>In a Jupyter environment, please rerun this cell to show the HTML representation or trust the notebook. <br />On GitHub, the HTML representation is unable to render, please try loading this page with nbviewer.org.</b></div><div class=\"sk-container\" hidden><div class=\"sk-item\"><div class=\"sk-estimator fitted sk-toggleable\"><input class=\"sk-toggleable__control sk-hidden--visually\" id=\"sk-estimator-id-1\" type=\"checkbox\" checked><label for=\"sk-estimator-id-1\" class=\"sk-toggleable__label fitted sk-toggleable__label-arrow fitted\">&nbsp;&nbsp;RandomForestRegressor<a class=\"sk-estimator-doc-link fitted\" rel=\"noreferrer\" target=\"_blank\" href=\"https://scikit-learn.org/1.4/modules/generated/sklearn.ensemble.RandomForestRegressor.html\">?<span>Documentation for RandomForestRegressor</span></a><span class=\"sk-estimator-doc-link fitted\">i<span>Fitted</span></span></label><div class=\"sk-toggleable__content fitted\"><pre>RandomForestRegressor(n_estimators=10, n_jobs=-1, random_state=42)</pre></div> </div></div></div></div>"
      ],
      "text/plain": [
       "RandomForestRegressor(n_estimators=10, n_jobs=-1, random_state=42)"
      ]
     },
     "execution_count": 42,
     "metadata": {},
     "output_type": "execute_result"
    }
   ],
   "source": [
    "model.fit(X_new_scaled, y_new)"
   ]
  },
  {
   "cell_type": "code",
   "execution_count": 44,
   "id": "590642c1-020f-42a1-867b-e5226e856a94",
   "metadata": {},
   "outputs": [
    {
     "name": "stdout",
     "output_type": "stream",
     "text": [
      "MAE after retraining: 535.899605311391\n"
     ]
    }
   ],
   "source": [
    "X_test_scaled = scaler.transform(X_test)  \n",
    "y_pred_new = model.predict(X_test_scaled)\n",
    "print(f'MAE after retraining: {mean_absolute_error(y_test, y_pred_new)}')"
   ]
  },
  {
   "cell_type": "markdown",
   "id": "239a7fe8-db02-4f41-b81e-6218a6b9c3f8",
   "metadata": {},
   "source": [
    "### The MAE after retraining your model is 535.899605311391, which indicates a slight increase in error compared to the initial training phase. This is relatively common when retraining models with new data, as the model may need to adjust to different patterns or distributions in the data."
   ]
  },
  {
   "cell_type": "code",
   "execution_count": 45,
   "id": "6bbae112-c4cc-440b-8de2-041390aa1a0c",
   "metadata": {},
   "outputs": [
    {
     "name": "stdout",
     "output_type": "stream",
     "text": [
      "original_mae: 289.887989496201\n",
      "noise_mae: 1648.881344721643\n",
      "missing_data_mae: 413.99806366544357\n",
      "boundary_values_mae: 840.956110185973\n",
      "large_dataset_mae: 289.8879894962012\n",
      "large_dataset_time: 10.46093225479126\n",
      "retraining_mae: 535.899605311391\n"
     ]
    }
   ],
   "source": [
    "def document_results(**results):\n",
    "    for key, value in results.items():\n",
    "        print(f'{key}: {value}')\n",
    "\n",
    "document_results(\n",
    "    original_mae=mean_absolute_error(y_test, y_pred),\n",
    "    noise_mae=mean_absolute_error(y_test, y_pred_noisy),\n",
    "    missing_data_mae=mean_absolute_error(y_test, y_pred_missing),\n",
    "    boundary_values_mae=mean_absolute_error(y_test, y_pred_boundary),\n",
    "    large_dataset_mae=mean_absolute_error(y_large, y_pred_large),\n",
    "    large_dataset_time=end_time - start_time,\n",
    "    retraining_mae=mean_absolute_error(y_test, y_pred_new)\n",
    ")\n"
   ]
  },
  {
   "cell_type": "code",
   "execution_count": null,
   "id": "eae66bce-76c3-43f1-a047-f4b888839a24",
   "metadata": {},
   "outputs": [],
   "source": []
  }
 ],
 "metadata": {
  "kernelspec": {
   "display_name": "Python 3 (ipykernel)",
   "language": "python",
   "name": "python3"
  },
  "language_info": {
   "codemirror_mode": {
    "name": "ipython",
    "version": 3
   },
   "file_extension": ".py",
   "mimetype": "text/x-python",
   "name": "python",
   "nbconvert_exporter": "python",
   "pygments_lexer": "ipython3",
   "version": "3.12.4"
  }
 },
 "nbformat": 4,
 "nbformat_minor": 5
}
