{
 "cells": [
  {
   "cell_type": "code",
   "execution_count": 1,
   "id": "54a84ac1-3e71-4749-9a4b-37ee2a66cdfd",
   "metadata": {},
   "outputs": [],
   "source": [
    "import pandas as pd\n",
    "import numpy as np\n",
    "import pandas as pd\n",
    "import numpy as np\n",
    "import matplotlib.pyplot as plt\n",
    "import seaborn as sns"
   ]
  },
  {
   "cell_type": "code",
   "execution_count": 2,
   "id": "d548544e-9b62-4daa-aa88-232ebc00ff92",
   "metadata": {},
   "outputs": [],
   "source": [
    "df = pd.read_csv('scraped_flight_data.csv')"
   ]
  },
  {
   "cell_type": "code",
   "execution_count": 3,
   "id": "4247343e-1e26-49bb-98b2-501530159f7e",
   "metadata": {},
   "outputs": [
    {
     "data": {
      "text/html": [
       "<div>\n",
       "<style scoped>\n",
       "    .dataframe tbody tr th:only-of-type {\n",
       "        vertical-align: middle;\n",
       "    }\n",
       "\n",
       "    .dataframe tbody tr th {\n",
       "        vertical-align: top;\n",
       "    }\n",
       "\n",
       "    .dataframe thead th {\n",
       "        text-align: right;\n",
       "    }\n",
       "</style>\n",
       "<table border=\"1\" class=\"dataframe\">\n",
       "  <thead>\n",
       "    <tr style=\"text-align: right;\">\n",
       "      <th></th>\n",
       "      <th>Airline</th>\n",
       "      <th>Source</th>\n",
       "      <th>Destination</th>\n",
       "      <th>Departure</th>\n",
       "      <th>Arrival</th>\n",
       "      <th>Number of Stops</th>\n",
       "      <th>Stopover Details</th>\n",
       "      <th>Price</th>\n",
       "      <th>Class</th>\n",
       "      <th>Date</th>\n",
       "    </tr>\n",
       "  </thead>\n",
       "  <tbody>\n",
       "    <tr>\n",
       "      <th>0</th>\n",
       "      <td>Lufthansa • Operated by Air Canada</td>\n",
       "      <td>Toronto Pearson Intl</td>\n",
       "      <td>Bengaluru Intl</td>\n",
       "      <td>9:20 pm</td>\n",
       "      <td>1:20 am+2</td>\n",
       "      <td>1 stop</td>\n",
       "      <td>, 1h 50m layover, &lt;b&gt;Frankfurt am Main&lt;/b&gt;</td>\n",
       "      <td>C$ 1,934</td>\n",
       "      <td>Economy</td>\n",
       "      <td>2024-07-08</td>\n",
       "    </tr>\n",
       "    <tr>\n",
       "      <th>1</th>\n",
       "      <td>Multiple Airlines • Operated by Turkish Airlines</td>\n",
       "      <td>Toronto Pearson Intl</td>\n",
       "      <td>Bengaluru Intl</td>\n",
       "      <td>11:55 pm</td>\n",
       "      <td>6:30 pm+3</td>\n",
       "      <td>3 stops</td>\n",
       "      <td>, 5h 25m layover, &lt;b&gt;Dublin&lt;/b&gt;, , 19h 50m lay...</td>\n",
       "      <td>C$ 1,130</td>\n",
       "      <td>Economy</td>\n",
       "      <td>2024-07-08</td>\n",
       "    </tr>\n",
       "    <tr>\n",
       "      <th>2</th>\n",
       "      <td>Air Canada • Operated by Lufthansa</td>\n",
       "      <td>Toronto Pearson Intl</td>\n",
       "      <td>Bengaluru Intl</td>\n",
       "      <td>9:20 pm</td>\n",
       "      <td>1:20 am+2</td>\n",
       "      <td>1 stop</td>\n",
       "      <td>, 1h 50m layover, &lt;b&gt;Frankfurt am Main&lt;/b&gt;</td>\n",
       "      <td>C$ 1,937</td>\n",
       "      <td>Standard</td>\n",
       "      <td>2024-07-08</td>\n",
       "    </tr>\n",
       "    <tr>\n",
       "      <th>3</th>\n",
       "      <td>Air Canada • Operated by Lufthansa</td>\n",
       "      <td>Toronto Pearson Intl</td>\n",
       "      <td>Bengaluru Intl</td>\n",
       "      <td>8:25 pm</td>\n",
       "      <td>1:20 am+2</td>\n",
       "      <td>2 stops</td>\n",
       "      <td>, 0h 45m layover, &lt;b&gt;Munich Franz Josef Straus...</td>\n",
       "      <td>C$ 1,948</td>\n",
       "      <td>Economy</td>\n",
       "      <td>2024-07-08</td>\n",
       "    </tr>\n",
       "    <tr>\n",
       "      <th>4</th>\n",
       "      <td>Air Canada, Lufthansa</td>\n",
       "      <td>Toronto Pearson Intl</td>\n",
       "      <td>Bengaluru Intl</td>\n",
       "      <td>9:20 pm</td>\n",
       "      <td>1:20 am+2</td>\n",
       "      <td>1 stop</td>\n",
       "      <td>, 1h 50m layover, &lt;b&gt;Frankfurt am Main&lt;/b&gt;</td>\n",
       "      <td>C$ 2,673</td>\n",
       "      <td>Economy</td>\n",
       "      <td>2024-07-08</td>\n",
       "    </tr>\n",
       "  </tbody>\n",
       "</table>\n",
       "</div>"
      ],
      "text/plain": [
       "                                            Airline                Source  \\\n",
       "0                Lufthansa • Operated by Air Canada  Toronto Pearson Intl   \n",
       "1  Multiple Airlines • Operated by Turkish Airlines  Toronto Pearson Intl   \n",
       "2                Air Canada • Operated by Lufthansa  Toronto Pearson Intl   \n",
       "3                Air Canada • Operated by Lufthansa  Toronto Pearson Intl   \n",
       "4                             Air Canada, Lufthansa  Toronto Pearson Intl   \n",
       "\n",
       "      Destination Departure    Arrival Number of Stops  \\\n",
       "0  Bengaluru Intl   9:20 pm  1:20 am+2          1 stop   \n",
       "1  Bengaluru Intl  11:55 pm  6:30 pm+3         3 stops   \n",
       "2  Bengaluru Intl   9:20 pm  1:20 am+2          1 stop   \n",
       "3  Bengaluru Intl   8:25 pm  1:20 am+2         2 stops   \n",
       "4  Bengaluru Intl   9:20 pm  1:20 am+2          1 stop   \n",
       "\n",
       "                                    Stopover Details     Price     Class  \\\n",
       "0         , 1h 50m layover, <b>Frankfurt am Main</b>  C$ 1,934   Economy   \n",
       "1  , 5h 25m layover, <b>Dublin</b>, , 19h 50m lay...  C$ 1,130   Economy   \n",
       "2         , 1h 50m layover, <b>Frankfurt am Main</b>  C$ 1,937  Standard   \n",
       "3  , 0h 45m layover, <b>Munich Franz Josef Straus...  C$ 1,948   Economy   \n",
       "4         , 1h 50m layover, <b>Frankfurt am Main</b>  C$ 2,673   Economy   \n",
       "\n",
       "         Date  \n",
       "0  2024-07-08  \n",
       "1  2024-07-08  \n",
       "2  2024-07-08  \n",
       "3  2024-07-08  \n",
       "4  2024-07-08  "
      ]
     },
     "execution_count": 3,
     "metadata": {},
     "output_type": "execute_result"
    }
   ],
   "source": [
    "df.head()"
   ]
  },
  {
   "cell_type": "code",
   "execution_count": 4,
   "id": "22b0c012-ff1b-4074-8f46-d15ce0554121",
   "metadata": {},
   "outputs": [
    {
     "name": "stderr",
     "output_type": "stream",
     "text": [
      "C:\\Users\\gaura\\AppData\\Local\\Temp\\ipykernel_20464\\3336648376.py:46: FutureWarning: DataFrame.applymap has been deprecated. Use DataFrame.map instead.\n",
      "  flat_df['Total_Stopover_Time'] = flat_df[[col for col in flat_df.columns if 'Time' in col]].applymap(time_to_minutes).sum(axis=1)\n"
     ]
    }
   ],
   "source": [
    "# Define a function to clean and split the data\n",
    "def clean_split_stopover(details):\n",
    "    if isinstance(details, str):\n",
    "        # Split the details by the delimiter \", , \"\n",
    "        parts = details.split(', , ')\n",
    "        cleaned_parts = []\n",
    "        for part in parts:\n",
    "            # Extract the layover time and airport details\n",
    "            time, airport = part.split(' layover, <b>')\n",
    "            airport = airport.replace('</b>', '')\n",
    "            cleaned_parts.append((time.strip(), airport.strip()))\n",
    "        return cleaned_parts\n",
    "    else:\n",
    "        return []\n",
    "\n",
    "# Apply the function to the 'Stopover Details' column\n",
    "df['Cleaned Stopover Details'] = df['Stopover Details'].apply(clean_split_stopover)\n",
    "\n",
    "# Convert the cleaned details into separate columns\n",
    "stopover_df = df['Cleaned Stopover Details'].apply(pd.Series)\n",
    "\n",
    "# Extract layover time and airport into separate columns\n",
    "flat_df = pd.DataFrame()\n",
    "\n",
    "for col in stopover_df.columns:\n",
    "    temp_list = stopover_df[col].apply(lambda x: x if isinstance(x, tuple) else (np.nan, np.nan))\n",
    "    temp_df = pd.DataFrame(temp_list.tolist(), columns=[f'Stopover_{col+1}_Time', f'Stopover_{col+1}_Airport'])\n",
    "    flat_df = pd.concat([flat_df, temp_df], axis=1)\n",
    "\n",
    "# Remove leading commas in Stopover_1_Time\n",
    "flat_df['Stopover_1_Time'] = flat_df['Stopover_1_Time'].str.replace('^, ', '', regex=True)\n",
    "\n",
    "# Function to convert time string to minutes\n",
    "def time_to_minutes(time_str):\n",
    "    if pd.isna(time_str):\n",
    "        return 0\n",
    "    hours, minutes = 0, 0\n",
    "    if 'h' in time_str:\n",
    "        hours = int(time_str.split('h')[0].strip())\n",
    "        time_str = time_str.split('h')[1].strip()\n",
    "    if 'm' in time_str:\n",
    "        minutes = int(time_str.split('m')[0].strip())\n",
    "    return hours * 60 + minutes\n",
    "\n",
    "# Calculate total stopover time\n",
    "flat_df['Total_Stopover_Time'] = flat_df[[col for col in flat_df.columns if 'Time' in col]].applymap(time_to_minutes).sum(axis=1)\n",
    "\n",
    "# Convert total time back to hours and minutes\n",
    "def minutes_to_time(minutes):\n",
    "    hours = minutes // 60\n",
    "    minutes = minutes % 60\n",
    "    return f'{hours}h {minutes}m'\n",
    "\n",
    "flat_df['Total_Stopover_Time'] = flat_df['Total_Stopover_Time'].apply(minutes_to_time)"
   ]
  },
  {
   "cell_type": "code",
   "execution_count": 5,
   "id": "4f43cfba-d278-400a-bb38-93160d845a5f",
   "metadata": {},
   "outputs": [],
   "source": [
    "# Combine flat_df with the original df\n",
    "df = pd.concat([df, flat_df], axis=1)"
   ]
  },
  {
   "cell_type": "code",
   "execution_count": 6,
   "id": "1ca7d151-b97d-4530-a98f-a5bc1e6a61ca",
   "metadata": {},
   "outputs": [],
   "source": [
    "df = df.drop(columns=['Cleaned Stopover Details','Stopover Details'])"
   ]
  },
  {
   "cell_type": "code",
   "execution_count": 7,
   "id": "eb40d663-ad1a-4c60-8137-3bb619de31f9",
   "metadata": {},
   "outputs": [],
   "source": [
    "# Split the 'Airline' column at '• Operated by', handle missing parts by filling with None\n",
    "split_df = df['Airline'].str.split('• Operated by', n=1, expand=True)\n",
    "\n",
    "# Assign split data to new columns and fill missing values\n",
    "df['Airline'] = split_df[0].str.strip()\n",
    "df['Operated'] = split_df[1].str.strip().fillna('None')\n"
   ]
  },
  {
   "cell_type": "code",
   "execution_count": 8,
   "id": "d312c391-8699-4e05-b8ee-df56f56c8e16",
   "metadata": {},
   "outputs": [],
   "source": [
    "# Remove the 'C$' prefix and commas, and convert to numeric\n",
    "df['price in CAD'] = df['Price'].str.replace('C$', '').str.replace(',', '').astype(int)\n",
    "\n",
    "# Drop the old 'Price' column\n",
    "df = df.drop(columns=['Price'])"
   ]
  },
  {
   "cell_type": "code",
   "execution_count": 9,
   "id": "e87ff099-2154-4c18-8fe4-eb513a1c073d",
   "metadata": {},
   "outputs": [],
   "source": [
    "from datetime import datetime, timedelta\n",
    "\n",
    "# Function to calculate days_left\n",
    "def calculate_days_left(flight_date):\n",
    "    start_date = datetime(2024, 6, 22)\n",
    "    current_date = datetime.strptime(flight_date, '%Y-%m-%d')\n",
    "    return (current_date - start_date).days + 1\n",
    "\n",
    "# Apply the function to create the new column\n",
    "df['days_left'] = df['Date'].apply(calculate_days_left)"
   ]
  },
  {
   "cell_type": "code",
   "execution_count": 10,
   "id": "36ce3c70-505a-4247-a6d3-7e0de11ecaef",
   "metadata": {},
   "outputs": [],
   "source": [
    "df.to_csv('Final3.csv', index=False)"
   ]
  },
  {
   "cell_type": "code",
   "execution_count": 11,
   "id": "55a94333-5db3-4197-8154-a8b10eae073b",
   "metadata": {},
   "outputs": [],
   "source": [
    "df = pd.read_csv('Final3.csv')"
   ]
  },
  {
   "cell_type": "code",
   "execution_count": 12,
   "id": "555c85ea-9035-4679-8a7b-075acc3b9e1a",
   "metadata": {},
   "outputs": [],
   "source": [
    "# 1. Modify the 'Airline' column\n",
    "df['Airline'] = df['Airline'].apply(lambda x: 'Multiple Airlines' if ',' in x else x)\n",
    "\n",
    "# 2. Modify the 'Number of Stops' column\n",
    "df['Number of Stops'] = df['Number of Stops'].str.extract('(\\d+)').fillna(0).astype(int)\n",
    "\n",
    "# 3. Categorize the 'Class' column\n",
    "def categorize_class(class_name):\n",
    "    class_name = class_name.lower()\n",
    "    if 'business' in class_name or any(keyword in class_name for keyword in ['executive','upper class']):\n",
    "        return 'Business Class'\n",
    "    elif 'economy' in class_name or any(keyword in class_name for keyword in ['classic','flex','comfort','latitude','light','basic', 'best', 'eco', 'discount','promotion','best buy', 'plus','saver','best offer', 'eco saver', 'ultrasaver', 'standard']):\n",
    "        return 'Economy Class'\n",
    "    elif 'first' in class_name:\n",
    "        return 'First Class'\n",
    "    elif 'premium' in class_name:\n",
    "        return 'Premium Economy'\n",
    "    else:\n",
    "        return 'Other'\n",
    "\n",
    "df['Class'] = df['Class'].apply(categorize_class)"
   ]
  },
  {
   "cell_type": "code",
   "execution_count": 13,
   "id": "c9fe36e9-9534-4e5d-8825-cec62e7c1cc3",
   "metadata": {},
   "outputs": [],
   "source": [
    "import datetime\n",
    "\n",
    "# Function to convert time to 24-hour format\n",
    "def convert_to_24hr(time_str):\n",
    "    return datetime.datetime.strptime(time_str, '%I:%M %p').strftime('%H:%M')\n",
    "\n",
    "# Function to extract and convert arrival time\n",
    "def extract_arrival_info(arrival_str):\n",
    "    if '+' in arrival_str:\n",
    "        time_part, day_increment = arrival_str.split('+')\n",
    "        day_increment = int(day_increment)\n",
    "    else:\n",
    "        time_part = arrival_str\n",
    "        day_increment = 0\n",
    "    arrival_24hr = datetime.datetime.strptime(time_part.strip(), '%I:%M %p').strftime('%H:%M')\n",
    "    return arrival_24hr, day_increment\n",
    "\n",
    "# Convert departure time to 24-hour format\n",
    "df['Departure_24hr'] = df['Departure'].apply(convert_to_24hr)\n",
    "\n",
    "# Extract and convert arrival time and day offset\n",
    "df['Arrival_24hr'], df['Arrival_Day_Offset'] = zip(*df['Arrival'].apply(extract_arrival_info))\n"
   ]
  },
  {
   "cell_type": "code",
   "execution_count": 14,
   "id": "f0231694-02d2-4fca-b4e2-a91eaeefaeb7",
   "metadata": {},
   "outputs": [],
   "source": [
    "# Function to convert 'xh ym' to minutes\n",
    "def convert_to_minutes(time_str):\n",
    "    if pd.isna(time_str):\n",
    "        return 0\n",
    "    hours, minutes = 0, 0\n",
    "    if 'h' in time_str:\n",
    "        hours = int(time_str.split('h')[0].strip())\n",
    "        time_str = time_str.split('h')[1].strip()\n",
    "    if 'm' in time_str:\n",
    "        minutes = int(time_str.split('m')[0].strip())\n",
    "    return hours * 60 + minutes"
   ]
  },
  {
   "cell_type": "code",
   "execution_count": 15,
   "id": "e5608f76-fca3-4b41-97d0-bd2aa220a42c",
   "metadata": {},
   "outputs": [],
   "source": [
    "df['Total_Stopover_Time'] = df['Total_Stopover_Time'].apply(convert_to_minutes)"
   ]
  },
  {
   "cell_type": "code",
   "execution_count": 16,
   "id": "84284376-920e-4dd0-bf92-dfa9843dbbf3",
   "metadata": {},
   "outputs": [],
   "source": [
    "# Convert columns to appropriate datatypes\n",
    "df['Date'] = pd.to_datetime(df['Date'])  # Convert to datetime\n",
    "df['price in CAD'] = df['price in CAD'].astype(float)  # Convert to float\n",
    "df['days_left'] = df['days_left'].astype(int)  # Convert to integer\n",
    "df['Number of Stops'] = df['Number of Stops'].astype(int)  # Convert to integer\n",
    "df['Arrival_Day_Offset'] = df['Arrival_Day_Offset'].astype(int)  # Convert to integer"
   ]
  },
  {
   "cell_type": "code",
   "execution_count": 17,
   "id": "849824cb-5838-46e6-b2e0-ef535235bc49",
   "metadata": {},
   "outputs": [],
   "source": [
    "df.drop(['Departure','Arrival','Stopover_1_Time','Stopover_1_Airport','Stopover_2_Time','Stopover_2_Airport','Stopover_3_Time',\n",
    "         'Stopover_3_Airport','Operated'],axis=1,inplace=True)"
   ]
  },
  {
   "cell_type": "code",
   "execution_count": 18,
   "id": "874cf81c-476f-46d8-9039-9a2310e0fc7f",
   "metadata": {},
   "outputs": [],
   "source": [
    "df.to_csv('AirlineData.csv',index=False)"
   ]
  },
  {
   "cell_type": "code",
   "execution_count": null,
   "id": "4fe265d4-a66e-4ba8-aa04-903b58b347b8",
   "metadata": {},
   "outputs": [],
   "source": []
  },
  {
   "cell_type": "code",
   "execution_count": null,
   "id": "6d5dbf3b-fb41-4ae5-8906-a0e21aaf4f84",
   "metadata": {},
   "outputs": [],
   "source": []
  }
 ],
 "metadata": {
  "kernelspec": {
   "display_name": "Python 3 (ipykernel)",
   "language": "python",
   "name": "python3"
  },
  "language_info": {
   "codemirror_mode": {
    "name": "ipython",
    "version": 3
   },
   "file_extension": ".py",
   "mimetype": "text/x-python",
   "name": "python",
   "nbconvert_exporter": "python",
   "pygments_lexer": "ipython3",
   "version": "3.11.7"
  }
 },
 "nbformat": 4,
 "nbformat_minor": 5
}
